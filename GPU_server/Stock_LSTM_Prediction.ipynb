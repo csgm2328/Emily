{
 "cells": [
  {
   "cell_type": "markdown",
   "metadata": {
    "colab_type": "text",
    "id": "0ujd0khoBcam"
   },
   "source": [
    "#import"
   ]
  },
  {
   "cell_type": "code",
   "execution_count": null,
   "metadata": {},
   "outputs": [],
   "source": [
    "!python -c 'import keras; print(\"Keras version \"+ keras.__version__)'"
   ]
  },
  {
   "cell_type": "code",
   "execution_count": null,
   "metadata": {
    "colab": {
     "base_uri": "https://localhost:8080/",
     "height": 53
    },
    "colab_type": "code",
    "executionInfo": {
     "elapsed": 4102,
     "status": "ok",
     "timestamp": 1599212130263,
     "user": {
      "displayName": "추승지",
      "photoUrl": "",
      "userId": "13364314121705194664"
     },
     "user_tz": -540
    },
    "id": "wpNMGvX2TL_5",
    "outputId": "9c72c406-1b49-4596-b6f8-0c5a94f19150"
   },
   "outputs": [],
   "source": [
    "get_ipython().run_line_magic('matplotlib', 'inline')\n",
    "import matplotlib.pyplot as plt\n",
    "import pandas as pd\n",
    "import pandas_datareader.data as pdr #data 받아오는 api 라이브러리\n",
    "from pandas import json_normalize\n",
    "import numpy as np\n",
    "import plotly as py\n",
    "import plotly.graph_objs as go\n",
    "import requests\n",
    "from datetime import datetime\n",
    "import traceback\n",
    "import os\n",
    "import time\n",
    "from datetime import timedelta\n",
    "\n",
    "import tensorflow as tf\n",
    "from keras import metrics\n",
    "from keras.layers import *\n",
    "from keras.models import *\n",
    "from keras.callbacks import *\n",
    "from sklearn.preprocessing import MinMaxScaler\n",
    "\n",
    "plt.style.use('bmh')\n",
    "print(\"Tensorflow version \" + tf.__version__)"
   ]
  },
  {
   "cell_type": "code",
   "execution_count": null,
   "metadata": {},
   "outputs": [],
   "source": [
    "!pwd"
   ]
  },
  {
   "cell_type": "code",
   "execution_count": null,
   "metadata": {},
   "outputs": [],
   "source": [
    "#사용할 GPU 설정 재설정하려면 프로세스 재시작해야함\n",
    "os.environ['CUDA_VISIBLE_DEVICES']='0'#tf.debugging.set_log_device_placement(True) #어떤 장치가 할당되었는지 확인 용도인데 에러뜸\n",
    "\n",
    "gpus = tf.config.experimental.list_physical_devices('GPU')\n",
    "if gpus:\n",
    "  # 텐서플로가 첫 번째 GPU만 사용하도록 제한\n",
    "  try:\n",
    "    tf.config.experimental.set_visible_devices(gpus[:], 'GPU')\n",
    "    tf.config.experimental.set_memory_growth(gpus[0], True)\n",
    "  except RuntimeError as e:\n",
    "    # 프로그램 시작시에 접근 가능한 장치가 설정되어야만 합니다\n",
    "    print(e)\n",
    "gpus"
   ]
  },
  {
   "cell_type": "markdown",
   "metadata": {
    "colab_type": "text",
    "id": "qoLdrTqN2oDe"
   },
   "source": [
    "# Request URL API"
   ]
  },
  {
   "cell_type": "code",
   "execution_count": null,
   "metadata": {},
   "outputs": [],
   "source": [
    "# #BTC\n",
    "# start_date = datetime(2014,7,18)\n",
    "# start = int(start_date.timestamp()) #꼭 tuple이었던 변수를 datetime으로 넣을 때는 *을 붙여줘야함\n",
    "# period = 86400\n",
    "# #300, 900, 1800, 7200, 14400, and 86400.\n",
    "# #5분, 15분, 30분, 2시간, 4시간, 1일\n",
    "# ret = requests.get('https://poloniex.com/public?command=returnChartData&currencyPair=USDT_BTC&start={}&end=9999999999&period={}'.format(start, period))"
   ]
  },
  {
   "cell_type": "code",
   "execution_count": null,
   "metadata": {
    "colab": {},
    "colab_type": "code",
    "executionInfo": {
     "elapsed": 8598,
     "status": "ok",
     "timestamp": 1599212134767,
     "user": {
      "displayName": "추승지",
      "photoUrl": "",
      "userId": "13364314121705194664"
     },
     "user_tz": -540
    },
    "id": "Le8U4-yxTmhM"
   },
   "outputs": [],
   "source": [
    "stock_url = pd.read_html('http://kind.krx.co.kr/corpgeneral/corpList.do?method=download&searchType=13', header=0)[0] #[0] 없으면 DataFrame이 아니라 list\n",
    "stock_url.종목코드 = stock_url.종목코드.map('{:06d}'.format)\n",
    "stock_url = stock_url[['회사명', '종목코드']] #필요한 두가지만\n",
    "stock_url = stock_url.rename(columns={'회사명':'name', '종목코드':'code'})"
   ]
  },
  {
   "cell_type": "code",
   "execution_count": null,
   "metadata": {
    "colab": {
     "base_uri": "https://localhost:8080/",
     "height": 35
    },
    "colab_type": "code",
    "executionInfo": {
     "elapsed": 8593,
     "status": "ok",
     "timestamp": 1599212134768,
     "user": {
      "displayName": "추승지",
      "photoUrl": "",
      "userId": "13364314121705194664"
     },
     "user_tz": -540
    },
    "id": "95WvR5uuBesa",
    "outputId": "437be579-3ed1-4e1d-f768-58f8d5590d69"
   },
   "outputs": [],
   "source": [
    "item_name = 'SK하이닉스'\n",
    "code = stock_url.query(\"name=='{}'\".format(item_name))['code'].to_string(index=False).strip() #strip 앞뒤공백제거\n",
    "dr_code = code + '.KS' #DataReader용, 코스닥은 KQ\n",
    "folder_name = code +' '+ item_name\n",
    "print(item_name, dr_code)"
   ]
  },
  {
   "cell_type": "markdown",
   "metadata": {
    "colab_type": "text",
    "id": "OH47RX38VUaU"
   },
   "source": [
    "# DataReader crawling"
   ]
  },
  {
   "cell_type": "code",
   "execution_count": null,
   "metadata": {
    "colab": {},
    "colab_type": "code",
    "executionInfo": {
     "elapsed": 8880,
     "status": "ok",
     "timestamp": 1599212135062,
     "user": {
      "displayName": "추승지",
      "photoUrl": "",
      "userId": "13364314121705194664"
     },
     "user_tz": -540
    },
    "id": "XT6j_bsmVSIF"
   },
   "outputs": [],
   "source": [
    "#URL 없이 상당히 쉬운 DataReader를 이용한 크롤링\n",
    "start = (2012, 1, 1)\n",
    "start_date = datetime(*start)\n",
    "end = datetime.today()\n",
    "df = pdr.DataReader(dr_code, 'yahoo', start_date, end) "
   ]
  },
  {
   "cell_type": "code",
   "execution_count": null,
   "metadata": {
    "colab": {
     "base_uri": "https://localhost:8080/",
     "height": 35
    },
    "colab_type": "code",
    "executionInfo": {
     "elapsed": 8875,
     "status": "ok",
     "timestamp": 1599212135063,
     "user": {
      "displayName": "추승지",
      "photoUrl": "",
      "userId": "13364314121705194664"
     },
     "user_tz": -540
    },
    "id": "DMAeAAAPiQWv",
    "outputId": "890178b4-c823-479a-ef60-1e2e5941a83d",
    "scrolled": true
   },
   "outputs": [],
   "source": [
    "scaler = MinMaxScaler()\n",
    "real_price = df['Close'].tolist()\n",
    "price = scaler.fit_transform(df[['Close']]).reshape(-1).tolist()\n",
    "print('오늘은',datetime.today(), real_price[-1], len(real_price), '개')"
   ]
  },
  {
   "cell_type": "code",
   "execution_count": null,
   "metadata": {},
   "outputs": [],
   "source": [
    "def make_DataSet():\n",
    "    #make Dataset\n",
    "    x = []  \n",
    "    y = []  \n",
    "\n",
    "    for i in range(len(price) - window_size):  \n",
    "        x.append([price[i+j] for j in range(window_size)])\n",
    "        y.append(price[window_size + i])\n",
    "\n",
    "    x = np.asarray(x)\n",
    "    y = np.asarray(y)\n",
    "\n",
    "    x_test = x[:train_test_split, :]\n",
    "    y_test = y[:train_test_split]\n",
    "\n",
    "    x_train = x[train_test_split:, :]\n",
    "    y_train = y[train_test_split:]\n",
    "\n",
    "    xtrain = x_train.reshape((x_train.shape[0], x_train.shape[1], 1)) \n",
    "    xtest =  np.reshape(x_test, (x_test.shape[0], x_test.shape[1], 1)) \n",
    "\n",
    "    return xtrain, xtest, y_train, y_test\n"
   ]
  },
  {
   "cell_type": "code",
   "execution_count": null,
   "metadata": {},
   "outputs": [],
   "source": [
    "def makeplot(TITLE):\n",
    "    split_pt = train_test_split + window_size\n",
    "    \n",
    "    trace = go.Scatter(x=np.arange(0,len(price),1), y=price, \n",
    "    mode = 'lines', name='actual')\n",
    "    trace2 = go.Scatter(x=np.arange(window_size,split_pt,1), y=test_pred.reshape(len(test_pred)), \n",
    "    mode = 'lines', name='train')\n",
    "    trace3 = go.Scatter(x=np.arange(split_pt,split_pt + len(train_pred),1), y=train_pred.reshape(len(train_pred)),  \n",
    "    mode = 'lines', name='prediction')\n",
    "\n",
    "    data = [trace, trace2, trace3]\n",
    "    layout = go.Layout(title=TITLE)\n",
    "    fig = go.Figure(data=data, layout=layout)\n",
    "    #py.offline.iplot(fig) #그래프 출력 \n",
    "    py.offline.plot(fig, show_link = True, filename = TITLE + '.html') #다른이름으로 지정\n",
    "    #os.rename('temp-plot.html', rename)\n",
    "    #files.download(filename=Title +'.html') #다운로드\n"
   ]
  },
  {
   "cell_type": "markdown",
   "metadata": {
    "colab_type": "text",
    "id": "hlaU0ZRFyBtT"
   },
   "source": [
    "# Args"
   ]
  },
  {
   "cell_type": "code",
   "execution_count": null,
   "metadata": {
    "colab": {},
    "colab_type": "code",
    "executionInfo": {
     "elapsed": 9176,
     "status": "ok",
     "timestamp": 1599212135398,
     "user": {
      "displayName": "추승지",
      "photoUrl": "",
      "userId": "13364314121705194664"
     },
     "user_tz": -540
    },
    "id": "e2sP1f7GCgX9"
   },
   "outputs": [],
   "source": [
    "#history Metrics\n",
    "import keras\n",
    "class CustomHistory(keras.callbacks.Callback):\n",
    "  def init(self):\n",
    "    self.losses = []\n",
    "    self.accs = []\n",
    "  def on_epoch_end(self, batch, logs={}):\n",
    "    self.losses.append(logs.get('loss'))\n",
    "    self.accs.append(logs.get('acc'))   "
   ]
  },
  {
   "cell_type": "code",
   "execution_count": null,
   "metadata": {
    "colab": {
     "base_uri": "https://localhost:8080/",
     "height": 35
    },
    "colab_type": "code",
    "executionInfo": {
     "elapsed": 8868,
     "status": "ok",
     "timestamp": 1599212135063,
     "user": {
      "displayName": "추승지",
      "photoUrl": "",
      "userId": "13364314121705194664"
     },
     "user_tz": -540
    },
    "id": "NgkEdg2ORyBR",
    "outputId": "940e8cff-5e96-46f3-8d7e-dc59660ed908"
   },
   "outputs": [],
   "source": [
    "from keras import optimizers\n",
    "#args\n",
    "n_Memcell = 128\n",
    "window_size = 60 \n",
    "train_test_split = int((len(price)-window_size)*0.3)\n",
    "predict_day = 10\n",
    "\n",
    "#return_sequences = 여러 층일때, 각 시퀀스에서 출력할지 말지 결정. many to many 일때\n",
    "b_state = True\n",
    "n_batch = 1\n",
    "n_epoch = 1000 \n",
    "n_drop = 0.2\n",
    "learning_rate = 0.001 #default\n",
    "ac_func = 'relu'\n",
    "loss_func = 'mse'\n",
    "optim_func = optimizers.Adam(lr=learning_rate)\n",
    "#decay_rate = 0.001 #신경망에서는 수학적으로 동일한 L2 놈을 대신사용한다.\n",
    "#optim_func = optimizers.Adadelta(learning_rate = learning_rate) #0.1, 0.001 둘다 과소적합\n",
    "\n",
    "args_str = '['+str(datetime.date(start_date)) + ' ~ ' + str(datetime.date(datetime.today())) + '] ' + str(n_Memcell) + 'cell '+ str(window_size) +'win '+ str(n_batch) +'bat ' + str(n_epoch) + 'ep '+ str(n_drop) + 'drop ' + str(b_state) + ' ' + str(learning_rate) + 'lr'\n",
    "Title = item_name + ': ' + args_str\n",
    "Title"
   ]
  },
  {
   "cell_type": "markdown",
   "metadata": {
    "colab_type": "text",
    "id": "X0bp0asNyMTP"
   },
   "source": [
    "# Iterative Training (in GPU server)"
   ]
  },
  {
   "cell_type": "code",
   "execution_count": null,
   "metadata": {
    "scrolled": true
   },
   "outputs": [],
   "source": [
    "cd /home/oslab/csj/notebooks/Models/New Models"
   ]
  },
  {
   "cell_type": "code",
   "execution_count": null,
   "metadata": {
    "scrolled": true
   },
   "outputs": [],
   "source": [
    "for i in range(0, 200, int(200/8)):\n",
    "    print('kospi_data = stock_data[%d:%d]' %(i,i+ int(200 / 8)))\n"
   ]
  },
  {
   "cell_type": "code",
   "execution_count": null,
   "metadata": {},
   "outputs": [],
   "source": [
    "cd /home/oslab/csj/notebooks/Models/New Models"
   ]
  },
  {
   "cell_type": "code",
   "execution_count": null,
   "metadata": {
    "scrolled": true
   },
   "outputs": [],
   "source": [
    "#KOSPI200 Trainning\n",
    "#load csv\n",
    "stock_data = pd.read_csv('KOSPI200.csv')\n",
    "stock_data.종목코드 = stock_data.종목코드.map('{:06d}'.format) \n",
    "stock_data = stock_data.rename(columns={'회사명':'name', '종목코드':'code'})\n",
    "\n",
    "#종목 전부다 학습하기\n",
    "kospi_data = stock_data[0:25]\n",
    "for idx,it in kospi_data.iterrows():\n",
    "    Training_start = time.time()\n",
    "    #folder_name = it[0] + ' ' + it[1]\n",
    "    item_name = it[1]\n",
    "    dr_code = it[0] + '.KS'\n",
    "    print(item_name, dr_code)\n",
    "    \n",
    "    start = (2012, 1, 1)\n",
    "    start_date = datetime(*start)\n",
    "    end = datetime.today()\n",
    "    df = pdr.DataReader(dr_code, 'yahoo', start_date, end)\n",
    "    \n",
    "    scaler = MinMaxScaler()\n",
    "    real_price = df['Close'].tolist()\n",
    "    price = scaler.fit_transform(df[['Close']]).reshape(-1).tolist()\n",
    "    print('오늘은',datetime.today(), real_price[-1], len(real_price), '개')\n",
    "    \n",
    "    xtrain, xtest, y_train, y_test = make_DataSet(price, window_size) \n",
    "    \n",
    "     #model define\n",
    "    model = Sequential()\n",
    "    model.add(LSTM(n_Memcell, batch_input_shape =(n_batch, window_size, 1), stateful=b_state))\n",
    "    model.add(Dropout(n_drop))\n",
    "    model.add(Activation(ac_func))\n",
    "    model.add(Dense(1))\n",
    "    model.compile(loss=loss_func, optimizer=optim_func, metrics=['mae', 'acc'])\n",
    "\n",
    "    #training\n",
    "    report = CustomHistory()\n",
    "    report.init()\n",
    "    early_stopping = keras.callbacks.EarlyStopping(monitor='loss', min_delta=0.0001, patience=10, mode='auto') \n",
    "\n",
    "    for i in range(n_epoch):\n",
    "        print('[%d] ' %i)\n",
    "        model.fit(xtrain, y_train, epochs=1, batch_size=n_batch, callbacks=[report, early_stopping],verbose=2)\n",
    "        model.reset_states()\n",
    "    \n",
    "    sec = time.time() - Training_start\n",
    "    times = str(timedelta(seconds=sec)).split(\".\")\n",
    "    print('Training Time: %s' %times[0])\n",
    "\n",
    "    #save the model\n",
    "    from keras.models import load_model\n",
    "    args_str = '['+str(datetime.date(start_date)) + ' ~ ' + str(datetime.date(datetime.today())) + '] ' + str(n_Memcell) + 'cell '+ str(window_size) +'win '+ str(n_batch) +'bat ' + str(n_epoch) + 'ep '+ str(n_drop) + 'drop ' + str(b_state) + ' ' + str(learning_rate) + 'lr'\n",
    "    Title = item_name + ': ' + args_str\n",
    "    file = Title + '.h5'\n",
    "    model.save(file) \n",
    "\n",
    "    #move folder\n",
    "    import shutil\n",
    "    src = '/home/oslab/csj/notebooks/Models/New Models/'\n",
    "    des = '/home/oslab/csj/notebooks/Models/' + folder_name + '/'\n",
    "    shutil.move(src + file, des + file)\n",
    "    \n",
    "    #predict\n",
    "    train_pred = model.predict(xtrain,batch_size=n_batch)\n",
    "    model.reset_states()\n",
    "    test_pred = model.predict(xtest,batch_size=n_batch)\n",
    "    model.reset_states()\n",
    "    after_pred = model.predict(xtest,batch_size=n_batch)\n",
    "    model.reset_states()\n",
    "\n",
    "    #evaluate\n",
    "    trainScore = model.evaluate(xtrain, y_train, batch_size=n_batch, verbose=0)\n",
    "    testScore = model.evaluate(xtest, y_test, batch_size=n_batch, verbose=0)\n",
    "    print(\"(%.5f, %.5f)\" %(trainScore[1], testScore[1]))\n",
    "    \n",
    "    makeplot(Title)\n",
    "\n",
    "from numba import cuda\n",
    "cuda.select_device(0)\n",
    "cuda.close()    "
   ]
  },
  {
   "cell_type": "markdown",
   "metadata": {},
   "source": [
    "# Best Args 찾기"
   ]
  },
  {
   "cell_type": "code",
   "execution_count": null,
   "metadata": {
    "colab": {
     "base_uri": "https://localhost:8080/",
     "height": 35
    },
    "colab_type": "code",
    "executionInfo": {
     "elapsed": 9171,
     "status": "ok",
     "timestamp": 1599212135399,
     "user": {
      "displayName": "추승지",
      "photoUrl": "",
      "userId": "13364314121705194664"
     },
     "user_tz": -540
    },
    "id": "bnmHghAXr4nN",
    "outputId": "2c070528-703f-4e2d-f9aa-c0b69d65ed90"
   },
   "outputs": [],
   "source": [
    "#cd /home/oslab/csj/notebooks/Models/$folder_name"
   ]
  },
  {
   "cell_type": "code",
   "execution_count": null,
   "metadata": {
    "colab": {},
    "colab_type": "code",
    "executionInfo": {
     "elapsed": 9166,
     "status": "ok",
     "timestamp": 1599212135401,
     "user": {
      "displayName": "추승지",
      "photoUrl": "",
      "userId": "13364314121705194664"
     },
     "user_tz": -540
    },
    "id": "ohVXBt6D_FIM",
    "scrolled": true
   },
   "outputs": [],
   "source": [
    "# #Best Args 찾기\n",
    "\n",
    "# xaxes = []\n",
    "# train_maes = []\n",
    "# test_maes = []\n",
    "\n",
    "# for w in range(5, 125, 5):\n",
    "#     #Expriment args\n",
    "#     Training_start = time.time()\n",
    "#     window_size = w\n",
    "#     #   if n_epoch > 2000: #하한\n",
    "#     #     n_epoch = n_epoch - 100\n",
    "\n",
    "#     #make Dataset\n",
    "#     xtrain, xtest, y_train, y_test = make_DataSet(price, window_size)\n",
    "\n",
    "#     #model define\n",
    "#     model = Sequential()\n",
    "#     model.add(LSTM(n_Memcell, batch_input_shape =(n_batch, window_size, 1), stateful=b_state))\n",
    "#     model.add(Dropout(n_drop))\n",
    "#     model.add(Activation(ac_func))\n",
    "#     model.add(Dense(1))\n",
    "#     model.compile(loss=loss_func, optimizer=optim_func, metrics=['mae', 'acc'])\n",
    "\n",
    "#     #training\n",
    "#     report = CustomHistory()\n",
    "#     report.init()\n",
    "#     early_stopping = keras.callbacks.EarlyStopping(monitor='loss', min_delta=0.0001, patience=10, mode='auto') \n",
    "\n",
    "\n",
    "#     for i in range(n_epoch):\n",
    "#         print('[%d] ' %i)\n",
    "#         model.fit(xtrain, y_train, epochs=1, batch_size=n_batch, callbacks=[report, early_stopping],verbose=2)\n",
    "#         model.reset_states()\n",
    "\n",
    "#     sec = time.time() - Training_start\n",
    "#     times = str(timedelta(seconds=sec)).split(\".\")\n",
    "#     print('Training Time: %s' %times[0])\n",
    "\n",
    "#     #save the model\n",
    "#     from keras.models import load_model\n",
    "#     args_str = '['+str(datetime.date(start_date)) + ' ~ ' + str(datetime.date(datetime.today())) + '] ' + str(n_Memcell) + 'cell '+ str(window_size) +'win '+ str(n_batch) +'bat ' + str(n_epoch) + 'ep '+ str(n_drop) + 'drop ' + str(b_state) + ' ' + str(learning_rate) + 'lr'\n",
    "#     Title = item_name + ': ' + args_str\n",
    "#     file = Title + '.h5'\n",
    "#     model.save(file)\n",
    "\n",
    "#     #move folder\n",
    "#     import shutil\n",
    "#     src = '/home/oslab/csj/notebooks/Models/New Models/'\n",
    "#     des = '/home/oslab/csj/notebooks/Models/' + folder_name + '/'\n",
    "#     shutil.move(src + file, des + file)\n",
    "\n",
    "#     #evaluate\n",
    "#     trainScore = model.evaluate(xtrain, y_train, batch_size=n_batch, verbose=0)\n",
    "#     testScore = model.evaluate(xtest, y_test, batch_size=n_batch, verbose=0)\n",
    "#     #print('%d epoch' %n_epoch)  #Expriment args\n",
    "#     print('%d win' %window_size) #Expriment args\n",
    "#     print(\"(%.5f, %.5f)\" %(trainScore[1], testScore[1]))\n",
    "#     print(np.average(report.losses))"
   ]
  },
  {
   "cell_type": "markdown",
   "metadata": {},
   "source": [
    "# Model Define"
   ]
  },
  {
   "cell_type": "code",
   "execution_count": null,
   "metadata": {
    "colab": {
     "base_uri": "https://localhost:8080/",
     "height": 269
    },
    "colab_type": "code",
    "executionInfo": {
     "elapsed": 15828,
     "status": "ok",
     "timestamp": 1599212142068,
     "user": {
      "displayName": "추승지",
      "photoUrl": "",
      "userId": "13364314121705194664"
     },
     "user_tz": -540
    },
    "id": "lQgFvHcCT_Rq",
    "outputId": "a6e16bdf-ee5d-4cdf-8b0a-a860c53ee110"
   },
   "outputs": [],
   "source": [
    "#Model Define-GPU 할당 시작\n",
    "\n",
    "model = Sequential()\n",
    "model.add(LSTM(n_Memcell, batch_input_shape =(n_batch, window_size, 1), stateful=b_state))\n",
    "model.add(Dropout(n_drop))\n",
    "model.add(Dense(1))\n",
    "\n",
    "model.compile(loss=loss_func, optimizer=optim_func, metrics=['mae', 'acc'])\n",
    "model.summary()"
   ]
  },
  {
   "cell_type": "markdown",
   "metadata": {},
   "source": [
    "# Triaining"
   ]
  },
  {
   "cell_type": "code",
   "execution_count": null,
   "metadata": {
    "colab": {
     "base_uri": "https://localhost:8080/",
     "height": 1000
    },
    "colab_type": "code",
    "executionInfo": {
     "elapsed": 11418132,
     "status": "ok",
     "timestamp": 1599223544379,
     "user": {
      "displayName": "추승지",
      "photoUrl": "",
      "userId": "13364314121705194664"
     },
     "user_tz": -540
    },
    "id": "bXFu2INEm6X3",
    "outputId": "e3df58db-c398-406a-8e8e-c36ccf8e4008"
   },
   "outputs": [],
   "source": [
    "xtrain, xtest, y_train, y_test = make_DataSet(price, window_size)\n",
    "\n",
    "report = CustomHistory()\n",
    "report.init()\n",
    "early_stopping = keras.callbacks.EarlyStopping(monitor='loss', min_delta=0.0001, patience=10, mode='auto') #loss가 증가하면 훈련 그만하기 loss는 증가안함 acc가 감소하면으로 바꿔주기 \n",
    "Training_start = time.time()\n",
    "for i in range(n_epoch):\n",
    "    print('[%d] ' %i)\n",
    "    model.fit(xtrain, y_train, epochs=1, batch_size=n_batch, callbacks=[report, early_stopping],verbose=2)\n",
    "    model.reset_states()\n",
    "\n",
    "sec = time.time() - Training_start\n",
    "times = str(timedelta(seconds=sec)).split(\".\")\n",
    "print('Training Time: %s' %times[0])"
   ]
  },
  {
   "cell_type": "markdown",
   "metadata": {},
   "source": [
    "# Save Model"
   ]
  },
  {
   "cell_type": "code",
   "execution_count": null,
   "metadata": {
    "colab": {},
    "colab_type": "code",
    "executionInfo": {
     "elapsed": 11418121,
     "status": "ok",
     "timestamp": 1599223544385,
     "user": {
      "displayName": "추승지",
      "photoUrl": "",
      "userId": "13364314121705194664"
     },
     "user_tz": -540
    },
    "id": "eS7n40ag2WjK",
    "scrolled": true
   },
   "outputs": [],
   "source": [
    "from keras.models import load_model\n",
    "model.save(Title + '.h5')"
   ]
  },
  {
   "cell_type": "markdown",
   "metadata": {},
   "source": [
    "# Evaluate"
   ]
  },
  {
   "cell_type": "code",
   "execution_count": null,
   "metadata": {
    "colab": {
     "base_uri": "https://localhost:8080/",
     "height": 35
    },
    "colab_type": "code",
    "executionInfo": {
     "elapsed": 11422554,
     "status": "ok",
     "timestamp": 1599223548828,
     "user": {
      "displayName": "추승지",
      "photoUrl": "",
      "userId": "13364314121705194664"
     },
     "user_tz": -540
    },
    "id": "1ZjBHfB6BNyv",
    "outputId": "7e089d1b-7830-4e8c-c896-c376918f2af1"
   },
   "outputs": [],
   "source": [
    "trainScore = model.evaluate(xtrain, y_train, batch_size=n_batch, verbose=0)\n",
    "testScore = model.evaluate(xtest, y_test, batch_size=n_batch, verbose=0)\n",
    "print(\"mae: (%.5f, %.5f)\" %(trainScore[1], testScore[1]))\n",
    "#trainScore[1]"
   ]
  },
  {
   "cell_type": "code",
   "execution_count": null,
   "metadata": {
    "colab": {
     "base_uri": "https://localhost:8080/",
     "height": 53
    },
    "colab_type": "code",
    "executionInfo": {
     "elapsed": 11422548,
     "status": "ok",
     "timestamp": 1599223548833,
     "user": {
      "displayName": "추승지",
      "photoUrl": "",
      "userId": "13364314121705194664"
     },
     "user_tz": -540
    },
    "id": "yRAn7URqi_ok",
    "outputId": "0f457476-1e67-4653-8c48-cd7564a0d70d"
   },
   "outputs": [],
   "source": [
    "print(trainScore)\n",
    "testScore"
   ]
  },
  {
   "cell_type": "code",
   "execution_count": null,
   "metadata": {
    "colab": {
     "base_uri": "https://localhost:8080/",
     "height": 279
    },
    "colab_type": "code",
    "executionInfo": {
     "elapsed": 11422544,
     "status": "ok",
     "timestamp": 1599223548834,
     "user": {
      "displayName": "추승지",
      "photoUrl": "",
      "userId": "13364314121705194664"
     },
     "user_tz": -540
    },
    "id": "wpqILXFU8LHc",
    "outputId": "890374b2-79aa-482e-9195-b9fd8d55642e"
   },
   "outputs": [],
   "source": [
    "loss_ax = plt.subplot()\n",
    "acc_ax = loss_ax.twinx()\n",
    "\n",
    "loss_ax.plot(report.losses, 'y', label='train_loss')\n",
    "acc_ax.plot(report.accs, 'b', label='train_acc')\n",
    "\n",
    "loss_ax.set_xlabel('epoch')\n",
    "loss_ax.set_ylabel('loss')\n",
    "acc_ax.set_ylabel('accuracy')\n",
    "\n",
    "loss_ax.legend(loc='upper left')\n",
    "acc_ax.legend(loc='lower left')\n",
    "\n",
    "plt.show()\n"
   ]
  },
  {
   "cell_type": "markdown",
   "metadata": {},
   "source": [
    "# Predict"
   ]
  },
  {
   "cell_type": "code",
   "execution_count": null,
   "metadata": {
    "colab": {},
    "colab_type": "code",
    "executionInfo": {
     "elapsed": 11426413,
     "status": "ok",
     "timestamp": 1599223552707,
     "user": {
      "displayName": "추승지",
      "photoUrl": "",
      "userId": "13364314121705194664"
     },
     "user_tz": -540
    },
    "id": "2Sav6GQL2kPs"
   },
   "outputs": [],
   "source": [
    "#train, test prediction\n",
    "train_pred = model.predict(xtrain,batch_size=n_batch) # x[0~window_size-1] 만큼의 특징벡터를 학습해서 학습데이터 수 \n",
    "#model.reset_states()\n",
    "test_pred = model.predict(xtest,batch_size=n_batch)\n",
    "#model.reset_states()\n",
    "real_test_pred = scaler.inverse_transform(test_pred)"
   ]
  },
  {
   "cell_type": "code",
   "execution_count": null,
   "metadata": {
    "colab": {
     "base_uri": "https://localhost:8080/",
     "height": 35
    },
    "colab_type": "code",
    "executionInfo": {
     "elapsed": 11426411,
     "status": "ok",
     "timestamp": 1599223552709,
     "user": {
      "displayName": "추승지",
      "photoUrl": "",
      "userId": "13364314121705194664"
     },
     "user_tz": -540
    },
    "id": "pJRc_zvAFMys",
    "outputId": "0085ff65-6d2a-4d99-90a7-88fffc403d9b"
   },
   "outputs": [],
   "source": [
    "tom_real = xtrain[-1]\n",
    "tom_real = np.vstack((tom_real[1:], price[-1])) #test_pred[-1] 대신에 price[-1]\n",
    "tom_real.shape\n",
    "\n",
    "tom_pred = xtest[-1]\n",
    "tom_pred = np.vstack((tom_pred[1:], test_pred[-1])) #마지막 데이터에 예측값\n",
    "tom_pred.shape"
   ]
  },
  {
   "cell_type": "code",
   "execution_count": null,
   "metadata": {
    "colab": {},
    "colab_type": "code",
    "executionInfo": {
     "elapsed": 11426407,
     "status": "ok",
     "timestamp": 1599223552710,
     "user": {
      "displayName": "추승지",
      "photoUrl": "",
      "userId": "13364314121705194664"
     },
     "user_tz": -540
    },
    "id": "0qUwG-0vzwj-"
   },
   "outputs": [],
   "source": [
    "#학습된 모델로 예측하기\n",
    "seq_in = tom_real #오늘꺼 예측자를 마지막 데이터로 추가해준 Input 샘플 or real 데이터 추가\n",
    "#first_in = xtest[-1]  #test 샘플 마지막. 여기에다가 다음날 pred를 추가해줄거임\n",
    "after_pred = np.zeros((predict_day,1))\n",
    "\n",
    "for i in range(predict_day):\n",
    "  sample_in = seq_in.reshape(1,window_size,1)\n",
    "  after = model.predict(sample_in, batch_size=n_batch)\n",
    "  model.reset_states()\n",
    "  seq_in = np.vstack((seq_in[1:], after))\n",
    "  after_pred[i] = after\n",
    "  \n",
    "#model.reset_states()\n",
    "real_after_pred = scaler.inverse_transform(after_pred)"
   ]
  },
  {
   "cell_type": "code",
   "execution_count": null,
   "metadata": {
    "colab": {
     "base_uri": "https://localhost:8080/",
     "height": 696
    },
    "colab_type": "code",
    "executionInfo": {
     "elapsed": 11427206,
     "status": "ok",
     "timestamp": 1599223553518,
     "user": {
      "displayName": "추승지",
      "photoUrl": "",
      "userId": "13364314121705194664"
     },
     "user_tz": -540
    },
    "id": "krMBJxQnn0wT",
    "outputId": "f8cddc8d-c519-4deb-a91b-d90aaae4ddb0"
   },
   "outputs": [],
   "source": [
    "#학습결과 그래프\n",
    "split_pt = train_test_split + window_size\n",
    "plt.figure(figsize=(20,10))\n",
    "plt.plot(price)\n",
    "\n",
    "plt.plot(np.arange(0, len(price),1), price, color='b')\n",
    "plt.plot(np.arange(window_size, split_pt, 1), test_pred, color='g')\n",
    "plt.plot(np.arange(split_pt, split_pt + len(train_pred), 1), train_pred, color='r')\n",
    "plt.plot(np.arange(len(price), len(price) + len(after_pred), 1), after_pred, color='y')\n",
    "\n",
    "print(\n",
    "    '현재 종가: ', price[-1], #x는 마지막값 누락\n",
    "    '예측 종가: ', test_pred[-1],\n",
    "    '오 차 율: ',  (price[-1] - test_pred[-1]) / price[-1], sep='\\n')"
   ]
  },
  {
   "cell_type": "code",
   "execution_count": null,
   "metadata": {
    "colab": {
     "base_uri": "https://localhost:8080/",
     "height": 542
    },
    "colab_type": "code",
    "executionInfo": {
     "elapsed": 11428381,
     "status": "ok",
     "timestamp": 1599223554704,
     "user": {
      "displayName": "추승지",
      "photoUrl": "",
      "userId": "13364314121705194664"
     },
     "user_tz": -540
    },
    "id": "2bXsbu0UpTNb",
    "outputId": "4886ddc0-d543-412a-dd92-c8d34f09887a"
   },
   "outputs": [],
   "source": [
    "makeplot(Title)"
   ]
  },
  {
   "cell_type": "code",
   "execution_count": null,
   "metadata": {
    "colab": {
     "base_uri": "https://localhost:8080/",
     "height": 233
    },
    "colab_type": "code",
    "executionInfo": {
     "elapsed": 11428376,
     "status": "ok",
     "timestamp": 1599223554704,
     "user": {
      "displayName": "추승지",
      "photoUrl": "",
      "userId": "13364314121705194664"
     },
     "user_tz": -540
    },
    "id": "ZlwRV7FMoZBy",
    "outputId": "e4d13ad1-6917-488d-b745-812834c6c7ff"
   },
   "outputs": [],
   "source": [
    "print('현재 종가: ', real_price[-1], #df, series는 -1 인덱싱 안됨\n",
    "      '\\n다음 예측가격: \\n', real_after_pred)"
   ]
  },
  {
   "cell_type": "code",
   "execution_count": null,
   "metadata": {
    "colab": {
     "base_uri": "https://localhost:8080/",
     "height": 280
    },
    "colab_type": "code",
    "executionInfo": {
     "elapsed": 11428373,
     "status": "ok",
     "timestamp": 1599223554705,
     "user": {
      "displayName": "추승지",
      "photoUrl": "",
      "userId": "13364314121705194664"
     },
     "user_tz": -540
    },
    "id": "ueDwLYSADe-F",
    "outputId": "91347cae-a03d-4694-fbd7-a986946512e5"
   },
   "outputs": [],
   "source": [
    "plt.plot(np.arange(0,len(after_pred), 1), after_pred, color='red')"
   ]
  },
  {
   "cell_type": "code",
   "execution_count": null,
   "metadata": {},
   "outputs": [],
   "source": [
    "#작업후 GPU메모리 반납\n",
    "from numba import cuda\n",
    "cuda.select_device(0)\n",
    "cuda.close()"
   ]
  }
 ],
 "metadata": {
  "accelerator": "GPU",
  "colab": {
   "authorship_tag": "ABX9TyOYI4SAdMSCHaYBNv4IVa47",
   "mount_file_id": "1vwvpW0wXL1w1szzgxVbwBo39tBlWQOnH",
   "name": "Stock_LSTM_Prediction",
   "provenance": [],
   "toc_visible": true
  },
  "kernelspec": {
   "display_name": "Python 3",
   "language": "python",
   "name": "python3"
  },
  "language_info": {
   "codemirror_mode": {
    "name": "ipython",
    "version": 3
   },
   "file_extension": ".py",
   "mimetype": "text/x-python",
   "name": "python",
   "nbconvert_exporter": "python",
   "pygments_lexer": "ipython3",
   "version": "3.6.10"
  }
 },
 "nbformat": 4,
 "nbformat_minor": 1
}
