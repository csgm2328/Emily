{
  "nbformat": 4,
  "nbformat_minor": 0,
  "metadata": {
    "colab": {
      "name": "LSTM_Prediction",
      "provenance": [],
      "mount_file_id": "1MWuzlMPEPkvQkMi4vgW_WnUJiaAm3p7J",
      "authorship_tag": "ABX9TyOeO7ZqyxPCpR6ghwNH77Ik",
      "include_colab_link": true
    },
    "kernelspec": {
      "name": "python3",
      "display_name": "Python 3"
    },
    "accelerator": "GPU"
  },
  "cells": [
    {
      "cell_type": "markdown",
      "metadata": {
        "id": "view-in-github",
        "colab_type": "text"
      },
      "source": [
        "<a href=\"https://colab.research.google.com/github/csgm2328/Emily/blob/master/LSTM_Prediction.ipynb\" target=\"_parent\"><img src=\"https://colab.research.google.com/assets/colab-badge.svg\" alt=\"Open In Colab\"/></a>"
      ]
    },
    {
      "cell_type": "markdown",
      "metadata": {
        "id": "0ujd0khoBcam"
      },
      "source": [
        "#import"
      ]
    },
    {
      "cell_type": "code",
      "metadata": {
        "id": "8ZGefkHWQexV",
        "outputId": "8df45223-9fa2-4e99-e4c5-deb7a36277c6",
        "colab": {
          "base_uri": "https://localhost:8080/"
        }
      },
      "source": [
        "!nvidia-smi "
      ],
      "execution_count": 27,
      "outputs": [
        {
          "output_type": "stream",
          "text": [
            "Tue Nov  3 10:08:04 2020       \n",
            "+-----------------------------------------------------------------------------+\n",
            "| NVIDIA-SMI 455.32.00    Driver Version: 418.67       CUDA Version: 10.1     |\n",
            "|-------------------------------+----------------------+----------------------+\n",
            "| GPU  Name        Persistence-M| Bus-Id        Disp.A | Volatile Uncorr. ECC |\n",
            "| Fan  Temp  Perf  Pwr:Usage/Cap|         Memory-Usage | GPU-Util  Compute M. |\n",
            "|                               |                      |               MIG M. |\n",
            "|===============================+======================+======================|\n",
            "|   0  Tesla T4            Off  | 00000000:00:04.0 Off |                    0 |\n",
            "| N/A   47C    P0    28W /  70W |    617MiB / 15079MiB |      0%      Default |\n",
            "|                               |                      |                 ERR! |\n",
            "+-------------------------------+----------------------+----------------------+\n",
            "                                                                               \n",
            "+-----------------------------------------------------------------------------+\n",
            "| Processes:                                                                  |\n",
            "|  GPU   GI   CI        PID   Type   Process name                  GPU Memory |\n",
            "|        ID   ID                                                   Usage      |\n",
            "|=============================================================================|\n",
            "|  No running processes found                                                 |\n",
            "+-----------------------------------------------------------------------------+\n"
          ],
          "name": "stdout"
        }
      ]
    },
    {
      "cell_type": "code",
      "metadata": {
        "id": "wpNMGvX2TL_5",
        "outputId": "ddbc22f9-8f85-497b-e7dd-7d96c28ca957",
        "colab": {
          "base_uri": "https://localhost:8080/"
        }
      },
      "source": [
        "get_ipython().run_line_magic('matplotlib', 'inline')\n",
        "import matplotlib.pyplot as plt\n",
        "import pandas as pd\n",
        "import pandas_datareader.data as pdr #data 받아오는 api 라이브러리\n",
        "from pandas import json_normalize\n",
        "import numpy as np\n",
        "import plotly as py\n",
        "import plotly.graph_objs as go\n",
        "import requests\n",
        "from datetime import datetime\n",
        "import traceback\n",
        "import os\n",
        "from keras import metrics\n",
        "from keras.layers import *\n",
        "from keras.models import *\n",
        "from keras.callbacks import *\n",
        "from pandas.util.testing import assert_frame_equal\n",
        "from sklearn.preprocessing import MinMaxScaler\n",
        "\n",
        "plt.style.use('bmh')"
      ],
      "execution_count": 1,
      "outputs": [
        {
          "output_type": "stream",
          "text": [
            "/usr/local/lib/python3.6/dist-packages/ipykernel_launcher.py:17: FutureWarning:\n",
            "\n",
            "pandas.util.testing is deprecated. Use the functions in the public API at pandas.testing instead.\n",
            "\n"
          ],
          "name": "stderr"
        }
      ]
    },
    {
      "cell_type": "markdown",
      "metadata": {
        "id": "qoLdrTqN2oDe"
      },
      "source": [
        "#Request URL API"
      ]
    },
    {
      "cell_type": "code",
      "metadata": {
        "id": "Le8U4-yxTmhM"
      },
      "source": [
        "#all stock list from KRX\n",
        "stock_url = pd.read_html('http://kind.krx.co.kr/corpgeneral/corpList.do?method=download&searchType=13', header=0)[0] \n",
        "stock_url.종목코드 = stock_url.종목코드.map('{:06d}'.format)\n",
        "stock_url = stock_url[['회사명', '종목코드']] \n",
        "stock_url = stock_url.rename(columns={'회사명':'name', '종목코드':'code'})"
      ],
      "execution_count": 2,
      "outputs": []
    },
    {
      "cell_type": "code",
      "metadata": {
        "id": "00XiJIzLEfRK"
      },
      "source": [
        "# 원하는 종목 이름 입력 ex) 'BTC' or 'NH투자증권'\n",
        "item_name = 'BTC' \n",
        "\n",
        "# 데이터 범위\n",
        "start = (2012, 1, 1)\n",
        "start_date = datetime(*start)\n",
        "end = datetime.today()"
      ],
      "execution_count": 4,
      "outputs": []
    },
    {
      "cell_type": "code",
      "metadata": {
        "id": "awAz6cQfOrsd",
        "outputId": "ce424f6c-40a8-4468-ef4c-c6ca245899e5",
        "colab": {
          "base_uri": "https://localhost:8080/",
          "height": 455
        }
      },
      "source": [
        "if item_name == 'BTC': #BTC는 poloniex.co.kr\n",
        "  start = int(start_date.timestamp()) #USDT_BTC는 (2015, 2, 19) 부터 data 있음\n",
        "  period = 86400 # 24h\n",
        "  #300, 900, 1800, 7200, 14400, and 86400.\n",
        "  \n",
        "  ret = requests.get('https://poloniex.com/public?command=returnChartData&currencyPair=USDT_BTC&start={}&end=9999999999&period={}'.format(start, period)) #Crawling\n",
        "  print(ret)\n",
        "\n",
        "  js = ret.json()\n",
        "  #print(js[-1])\n",
        "  df = pd.DataFrame(js)\n",
        "  \n",
        "  df.set_index(df['date'],inplace=True) #date를 index로, inplace 는 결과반영여부\n",
        "  df.drop(['date', 'quoteVolume'],axis = 'columns', inplace=True) # quoteVolume은 거래대상통화(xrp) 단위의 해당 tic 거래량 \n",
        "  df.rename(columns={'close':'Close'},inplace=True) #BTC는 columns 소문자\n",
        "  \n",
        "  #int to datetype\n",
        "  as_list = df.index.tolist()\n",
        "  for i in range(len(as_list)):\n",
        "    as_list[i] = datetime.fromtimestamp(as_list[i]).strftime('%Y-%m-%d')\n",
        "  df.index = as_list\n",
        "\n",
        "  item_name += '_USD'\n",
        "  print(item_name)\n",
        "\n",
        "else: # Stock은 finance.naver.com\n",
        "  code = stock_url.query(\"name=='{}'\".format(item_name))['code'].to_string(index=False).strip() #strip 앞뒤공백제거\n",
        "  #DataReader용\n",
        "  df = pdr.DataReader(code, 'naver', start_date, end) #Crawling\n",
        "  print(item_name, code)\n",
        " \n",
        "df"
      ],
      "execution_count": 5,
      "outputs": [
        {
          "output_type": "stream",
          "text": [
            "<Response [200]>\n",
            "BTC_USD\n"
          ],
          "name": "stdout"
        },
        {
          "output_type": "execute_result",
          "data": {
            "text/html": [
              "<div>\n",
              "<style scoped>\n",
              "    .dataframe tbody tr th:only-of-type {\n",
              "        vertical-align: middle;\n",
              "    }\n",
              "\n",
              "    .dataframe tbody tr th {\n",
              "        vertical-align: top;\n",
              "    }\n",
              "\n",
              "    .dataframe thead th {\n",
              "        text-align: right;\n",
              "    }\n",
              "</style>\n",
              "<table border=\"1\" class=\"dataframe\">\n",
              "  <thead>\n",
              "    <tr style=\"text-align: right;\">\n",
              "      <th></th>\n",
              "      <th>high</th>\n",
              "      <th>low</th>\n",
              "      <th>open</th>\n",
              "      <th>Close</th>\n",
              "      <th>volume</th>\n",
              "      <th>weightedAverage</th>\n",
              "    </tr>\n",
              "  </thead>\n",
              "  <tbody>\n",
              "    <tr>\n",
              "      <th>2015-02-19</th>\n",
              "      <td>244.00000</td>\n",
              "      <td>225.000000</td>\n",
              "      <td>225.000000</td>\n",
              "      <td>244.000000</td>\n",
              "      <td>4.627631e+01</td>\n",
              "      <td>239.627778</td>\n",
              "    </tr>\n",
              "    <tr>\n",
              "      <th>2015-02-20</th>\n",
              "      <td>245.00000</td>\n",
              "      <td>240.250000</td>\n",
              "      <td>240.250118</td>\n",
              "      <td>240.250000</td>\n",
              "      <td>5.589490e+01</td>\n",
              "      <td>242.568479</td>\n",
              "    </tr>\n",
              "    <tr>\n",
              "      <th>2015-02-21</th>\n",
              "      <td>245.00000</td>\n",
              "      <td>245.000000</td>\n",
              "      <td>245.000000</td>\n",
              "      <td>245.000000</td>\n",
              "      <td>1.472224e+01</td>\n",
              "      <td>245.000000</td>\n",
              "    </tr>\n",
              "    <tr>\n",
              "      <th>2015-02-22</th>\n",
              "      <td>249.00000</td>\n",
              "      <td>235.000000</td>\n",
              "      <td>245.000000</td>\n",
              "      <td>235.000000</td>\n",
              "      <td>1.291212e+02</td>\n",
              "      <td>239.532608</td>\n",
              "    </tr>\n",
              "    <tr>\n",
              "      <th>2015-02-23</th>\n",
              "      <td>235.00100</td>\n",
              "      <td>235.000000</td>\n",
              "      <td>235.000002</td>\n",
              "      <td>235.000000</td>\n",
              "      <td>9.656756e+01</td>\n",
              "      <td>235.000062</td>\n",
              "    </tr>\n",
              "    <tr>\n",
              "      <th>...</th>\n",
              "      <td>...</td>\n",
              "      <td>...</td>\n",
              "      <td>...</td>\n",
              "      <td>...</td>\n",
              "      <td>...</td>\n",
              "      <td>...</td>\n",
              "    </tr>\n",
              "    <tr>\n",
              "      <th>2020-11-02</th>\n",
              "      <td>13825.00000</td>\n",
              "      <td>13207.512939</td>\n",
              "      <td>13750.000000</td>\n",
              "      <td>13558.843014</td>\n",
              "      <td>1.948272e+07</td>\n",
              "      <td>13507.520272</td>\n",
              "    </tr>\n",
              "    <tr>\n",
              "      <th>2020-11-03</th>\n",
              "      <td>14046.57680</td>\n",
              "      <td>13287.613912</td>\n",
              "      <td>13556.055537</td>\n",
              "      <td>14014.593955</td>\n",
              "      <td>1.743273e+07</td>\n",
              "      <td>13631.217474</td>\n",
              "    </tr>\n",
              "    <tr>\n",
              "      <th>2020-11-04</th>\n",
              "      <td>14240.00000</td>\n",
              "      <td>13532.193982</td>\n",
              "      <td>14014.593955</td>\n",
              "      <td>14133.455221</td>\n",
              "      <td>1.950400e+07</td>\n",
              "      <td>13909.413967</td>\n",
              "    </tr>\n",
              "    <tr>\n",
              "      <th>2020-11-05</th>\n",
              "      <td>15740.00000</td>\n",
              "      <td>14092.323718</td>\n",
              "      <td>14143.701038</td>\n",
              "      <td>15586.953494</td>\n",
              "      <td>3.825392e+07</td>\n",
              "      <td>14820.435737</td>\n",
              "    </tr>\n",
              "    <tr>\n",
              "      <th>2020-11-06</th>\n",
              "      <td>15947.42131</td>\n",
              "      <td>15243.810349</td>\n",
              "      <td>15586.623934</td>\n",
              "      <td>15631.495993</td>\n",
              "      <td>1.967640e+07</td>\n",
              "      <td>15607.023285</td>\n",
              "    </tr>\n",
              "  </tbody>\n",
              "</table>\n",
              "<p>2088 rows × 6 columns</p>\n",
              "</div>"
            ],
            "text/plain": [
              "                   high           low  ...        volume  weightedAverage\n",
              "2015-02-19    244.00000    225.000000  ...  4.627631e+01       239.627778\n",
              "2015-02-20    245.00000    240.250000  ...  5.589490e+01       242.568479\n",
              "2015-02-21    245.00000    245.000000  ...  1.472224e+01       245.000000\n",
              "2015-02-22    249.00000    235.000000  ...  1.291212e+02       239.532608\n",
              "2015-02-23    235.00100    235.000000  ...  9.656756e+01       235.000062\n",
              "...                 ...           ...  ...           ...              ...\n",
              "2020-11-02  13825.00000  13207.512939  ...  1.948272e+07     13507.520272\n",
              "2020-11-03  14046.57680  13287.613912  ...  1.743273e+07     13631.217474\n",
              "2020-11-04  14240.00000  13532.193982  ...  1.950400e+07     13909.413967\n",
              "2020-11-05  15740.00000  14092.323718  ...  3.825392e+07     14820.435737\n",
              "2020-11-06  15947.42131  15243.810349  ...  1.967640e+07     15607.023285\n",
              "\n",
              "[2088 rows x 6 columns]"
            ]
          },
          "metadata": {
            "tags": []
          },
          "execution_count": 5
        }
      ]
    },
    {
      "cell_type": "code",
      "metadata": {
        "id": "DMAeAAAPiQWv",
        "outputId": "1f04ba26-09ed-4e97-a9ff-7337ac564478",
        "colab": {
          "base_uri": "https://localhost:8080/"
        }
      },
      "source": [
        "# 데이터 정규화\n",
        "# 0~1 범위로 정규화함으로써 최적화 알고리즘에서 오차를 줄여 최적값에 빨리 도달하게 해 학습속도를 높인다\n",
        "scaler = MinMaxScaler()\n",
        "real_price = df['Close'].tolist()\n",
        "price = scaler.fit_transform(df[['Close']]).reshape(-1).tolist()\n",
        "print('오늘은', end, real_price[-1], len(real_price), '개')"
      ],
      "execution_count": 6,
      "outputs": [
        {
          "output_type": "stream",
          "text": [
            "오늘은 2020-11-06 14:03:03.456289 15631.49599303 2088 개\n"
          ],
          "name": "stdout"
        }
      ]
    },
    {
      "cell_type": "markdown",
      "metadata": {
        "id": "hlaU0ZRFyBtT"
      },
      "source": [
        "#Hyper Parameter"
      ]
    },
    {
      "cell_type": "code",
      "metadata": {
        "id": "NgkEdg2ORyBR",
        "outputId": "6a184962-0b4c-435b-8ad1-a2783b1fb46c",
        "colab": {
          "base_uri": "https://localhost:8080/",
          "height": 35
        }
      },
      "source": [
        "from keras import optimizers\n",
        "#args\n",
        "n_Memcell = 128\n",
        "window_size = 60 #학습단위 ex) 10일 예측해서 그 다음날 예측\n",
        "b_state = True\n",
        "predict_day = 10\n",
        "#return_sequences = 여러 층일때, 각 시퀀스에서 출력할지 말지 결정. many to many 일때\n",
        "\n",
        "n_batch = 1\n",
        "n_epoch =  10#colab 12시간 제한 특성 때문\n",
        "n_drop = 0.2\n",
        "learning_rate = 0.001 #default\n",
        "ac_func = 'relu'\n",
        "loss_func = 'mse'\n",
        "optim_func = optimizers.Adam(lr=learning_rate)\n",
        "#decay_rate = 0.001 #신경망에서는 수학적으로 동일한 L2 놈을 대신사용한다.\n",
        "#optim_func = optimizers.Adadelta(learning_rate = learning_rate) #0.1, 0.001 둘다 과소적합\n",
        "\n",
        "args_str = '['+str(datetime.date(start_date)) + ' ~ ' + str(datetime.date(datetime.today())) + '] ' + str(n_Memcell) + 'cell '+ str(window_size) +'win '+ str(n_batch) +'bat ' + str(n_epoch) + 'ep '+ str(n_drop) + 'drop ' + str(b_state) + ' ' + str(learning_rate) + 'lr'\n",
        "Title = item_name + ': ' + args_str\n",
        "Title"
      ],
      "execution_count": 7,
      "outputs": [
        {
          "output_type": "execute_result",
          "data": {
            "application/vnd.google.colaboratory.intrinsic+json": {
              "type": "string"
            },
            "text/plain": [
              "'BTC_USD: [2012-01-01 ~ 2020-11-06] 128cell 60win 1bat 10ep 0.2drop True 0.001lr'"
            ]
          },
          "metadata": {
            "tags": []
          },
          "execution_count": 7
        }
      ]
    },
    {
      "cell_type": "markdown",
      "metadata": {
        "id": "X0bp0asNyMTP"
      },
      "source": [
        "#make DataSet"
      ]
    },
    {
      "cell_type": "code",
      "metadata": {
        "id": "tgaxeqAnT5tg"
      },
      "source": [
        "x = []  #window_size 데이터를 하나빼고 겹치게 가지는 훈련집합 (특징벡터 - 훈련집합)\n",
        "y = []  #window_size + 1(다음날)의 데이터를 가지는 목적집합 (결과값 - 훈련집합)\n",
        "\n",
        "for i in range(len(price) - window_size):   \n",
        "    x.append([price[i+j] for j in range(window_size)])\n",
        "    y.append(price[window_size + i])\n",
        "  "
      ],
      "execution_count": 8,
      "outputs": []
    },
    {
      "cell_type": "code",
      "metadata": {
        "id": "pZ5jGkGBT7gf",
        "outputId": "a4e3d3b4-ed8b-4a6f-fcb6-3b1bfa85455e",
        "colab": {
          "base_uri": "https://localhost:8080/"
        }
      },
      "source": [
        "x = np.asarray(x)\n",
        "y = np.asarray(y)\n",
        "print(x.shape)\n",
        "print(type(y))"
      ],
      "execution_count": 9,
      "outputs": [
        {
          "output_type": "stream",
          "text": [
            "(2028, 60)\n",
            "<class 'numpy.ndarray'>\n"
          ],
          "name": "stdout"
        }
      ]
    },
    {
      "cell_type": "code",
      "metadata": {
        "id": "uQhHdimbT96e",
        "outputId": "23df4101-2ac2-4a8f-c965-214455061873",
        "colab": {
          "base_uri": "https://localhost:8080/"
        }
      },
      "source": [
        "train_test_split = int(len(x)*0.3) #train과 test set 스왑\n",
        "#최근의 데이터를 학습하고\n",
        "#예전의 데이터로 일반화 test.\n",
        "#이로써 미래 예측에 좀 더 유리해진다\n",
        "\n",
        "split_pt = train_test_split + window_size\n",
        "\n",
        "x_test = x[:train_test_split, :]\n",
        "y_test = y[:train_test_split]\n",
        "\n",
        "x_train = x[train_test_split:, :]\n",
        "y_train = y[train_test_split:]\n",
        "\n",
        "xtrain = x_train.reshape((x_train.shape[0], x_train.shape[1], 1)) # 2차원 데이터 3차원화, LSTM의 데이터 생성할때 주의해야하는 포인트, [sequence,  time_step , input_dim]\n",
        "xtest =  np.reshape(x_test, (x_test.shape[0], x_test.shape[1], 1))  #test 집합을 늘리면 미래를 예측할 수 있을까?\n",
        "\n",
        "print(xtrain.shape)\n",
        "print(x_test.shape) "
      ],
      "execution_count": 10,
      "outputs": [
        {
          "output_type": "stream",
          "text": [
            "(1420, 60, 1)\n",
            "(608, 60)\n"
          ],
          "name": "stdout"
        }
      ]
    },
    {
      "cell_type": "code",
      "metadata": {
        "id": "e2sP1f7GCgX9"
      },
      "source": [
        "#history Metrics\n",
        "import keras\n",
        "class CustomHistory(keras.callbacks.Callback):\n",
        "  def init(self):\n",
        "    self.losses = []\n",
        "    self.accs = []\n",
        "  def on_epoch_end(self, batch, logs={}):\n",
        "    self.losses.append(logs.get('loss'))\n",
        "    self.accs.append(logs.get('acc'))   "
      ],
      "execution_count": 11,
      "outputs": []
    },
    {
      "cell_type": "markdown",
      "metadata": {
        "id": "kea3sqOc43px"
      },
      "source": [
        "# Model Define & Training"
      ]
    },
    {
      "cell_type": "code",
      "metadata": {
        "id": "lQgFvHcCT_Rq",
        "outputId": "4e2e54cd-96a7-44b7-cfa9-20811ed34c75",
        "colab": {
          "base_uri": "https://localhost:8080/"
        }
      },
      "source": [
        "#Model Define\n",
        "model = Sequential()\n",
        "model.add(LSTM(n_Memcell, batch_input_shape =(n_batch, window_size, 1), stateful=b_state)) # 상태유지\n",
        "model.add(Dropout(n_drop)) # overfitting 방지\n",
        "#model.add(Activation(ac_func))\n",
        "model.add(Dense(1)) # Output layer\n",
        "\n",
        "model.compile(loss=loss_func, optimizer=optim_func, metrics=['mae', 'acc'])\n",
        "model.summary()"
      ],
      "execution_count": 12,
      "outputs": [
        {
          "output_type": "stream",
          "text": [
            "Model: \"sequential\"\n",
            "_________________________________________________________________\n",
            "Layer (type)                 Output Shape              Param #   \n",
            "=================================================================\n",
            "lstm (LSTM)                  (1, 128)                  66560     \n",
            "_________________________________________________________________\n",
            "dropout (Dropout)            (1, 128)                  0         \n",
            "_________________________________________________________________\n",
            "dense (Dense)                (1, 1)                    129       \n",
            "=================================================================\n",
            "Total params: 66,689\n",
            "Trainable params: 66,689\n",
            "Non-trainable params: 0\n",
            "_________________________________________________________________\n"
          ],
          "name": "stdout"
        }
      ]
    },
    {
      "cell_type": "code",
      "metadata": {
        "id": "bXFu2INEm6X3",
        "outputId": "e9c9bed0-2d3e-43e1-8437-178caacf19f8",
        "colab": {
          "base_uri": "https://localhost:8080/"
        }
      },
      "source": [
        "%%time\n",
        "report = CustomHistory()\n",
        "report.init()\n",
        "early_stopping = keras.callbacks.EarlyStopping(monitor='loss', min_delta=0.0001, patience=10, mode='auto') #overfitting을 피하기위한 훈련종료 포인트 지정\n",
        "\n",
        "for i in range(n_epoch):\n",
        "    print('[%d] ' %i)\n",
        "    model.fit(xtrain, y_train, epochs=1, batch_size=n_batch, callbacks=[report, early_stopping],verbose=2)\n",
        "    model.reset_states()\n",
        "\n"
      ],
      "execution_count": 13,
      "outputs": [
        {
          "output_type": "stream",
          "text": [
            "[0] \n",
            "1420/1420 - 5s - loss: 0.0031 - mae: 0.0374 - acc: 7.0423e-04\n",
            "[1] \n",
            "1420/1420 - 5s - loss: 0.0017 - mae: 0.0285 - acc: 7.0423e-04\n",
            "[2] \n",
            "1420/1420 - 5s - loss: 0.0012 - mae: 0.0252 - acc: 7.0423e-04\n",
            "[3] \n",
            "1420/1420 - 5s - loss: 0.0012 - mae: 0.0236 - acc: 7.0423e-04\n",
            "[4] \n",
            "1420/1420 - 5s - loss: 9.4582e-04 - mae: 0.0218 - acc: 7.0423e-04\n",
            "[5] \n",
            "1420/1420 - 5s - loss: 9.2628e-04 - mae: 0.0213 - acc: 7.0423e-04\n",
            "[6] \n",
            "1420/1420 - 5s - loss: 8.2806e-04 - mae: 0.0201 - acc: 7.0423e-04\n",
            "[7] \n",
            "1420/1420 - 5s - loss: 7.8901e-04 - mae: 0.0201 - acc: 7.0423e-04\n",
            "[8] \n",
            "1420/1420 - 5s - loss: 7.3790e-04 - mae: 0.0189 - acc: 7.0423e-04\n",
            "[9] \n",
            "1420/1420 - 5s - loss: 7.5932e-04 - mae: 0.0194 - acc: 7.0423e-04\n",
            "CPU times: user 1min, sys: 5.45 s, total: 1min 5s\n",
            "Wall time: 57.8 s\n"
          ],
          "name": "stdout"
        }
      ]
    },
    {
      "cell_type": "code",
      "metadata": {
        "id": "7v3bRgoIp_H4",
        "outputId": "eea37f62-8bd9-4399-d18d-8522557b136f",
        "colab": {
          "base_uri": "https://localhost:8080/"
        }
      },
      "source": [
        "from google.colab import drive\n",
        "drive.mount('/content/drive')"
      ],
      "execution_count": 14,
      "outputs": [
        {
          "output_type": "stream",
          "text": [
            "Drive already mounted at /content/drive; to attempt to forcibly remount, call drive.mount(\"/content/drive\", force_remount=True).\n"
          ],
          "name": "stdout"
        }
      ]
    },
    {
      "cell_type": "code",
      "metadata": {
        "id": "9oa8NhhOqHpx",
        "outputId": "46b064b7-195a-4878-901e-6a5fece5f764",
        "colab": {
          "base_uri": "https://localhost:8080/"
        }
      },
      "source": [
        "cd /content/drive/My Drive/Colab Notebooks/LSTM_models"
      ],
      "execution_count": 41,
      "outputs": [
        {
          "output_type": "stream",
          "text": [
            "/content/drive/My Drive/Colab Notebooks/LSTM_models\n"
          ],
          "name": "stdout"
        }
      ]
    },
    {
      "cell_type": "code",
      "metadata": {
        "id": "eS7n40ag2WjK"
      },
      "source": [
        "#Model Save\n",
        "from keras.models import load_model\n",
        "model.save(Title + '.h5')"
      ],
      "execution_count": 42,
      "outputs": []
    },
    {
      "cell_type": "markdown",
      "metadata": {
        "id": "2WwC4xZchaea"
      },
      "source": [
        "#Evaluate"
      ]
    },
    {
      "cell_type": "code",
      "metadata": {
        "id": "1ZjBHfB6BNyv",
        "outputId": "d3b5402a-30f6-4c15-c315-ec1ef74f90a9",
        "colab": {
          "base_uri": "https://localhost:8080/"
        }
      },
      "source": [
        "trainScore = model.evaluate(xtrain, y_train, batch_size=n_batch, verbose=0)\n",
        "testScore = model.evaluate(xtest, y_test, batch_size=n_batch, verbose=0)\n",
        "print(\"mae: (%.5f, %.5f)\" %(trainScore[1], testScore[1]))"
      ],
      "execution_count": 43,
      "outputs": [
        {
          "output_type": "stream",
          "text": [
            "mae: (0.01367, 0.00654)\n"
          ],
          "name": "stdout"
        }
      ]
    },
    {
      "cell_type": "code",
      "metadata": {
        "id": "yRAn7URqi_ok",
        "outputId": "8c307a4a-1ea4-420b-cfd9-18c4131e03d0",
        "colab": {
          "base_uri": "https://localhost:8080/"
        }
      },
      "source": [
        "print(trainScore)\n",
        "testScore"
      ],
      "execution_count": 44,
      "outputs": [
        {
          "output_type": "stream",
          "text": [
            "[0.0003524522471707314, 0.013665372505784035, 0.0007052186410874128]\n"
          ],
          "name": "stdout"
        },
        {
          "output_type": "execute_result",
          "data": {
            "text/plain": [
              "[4.373166666482575e-05, 0.0065358709543943405, 0.0016474464209750295]"
            ]
          },
          "metadata": {
            "tags": []
          },
          "execution_count": 44
        }
      ]
    },
    {
      "cell_type": "code",
      "metadata": {
        "id": "wpqILXFU8LHc",
        "outputId": "a43a8ce3-6a72-42e9-9e5e-21a941faf2c0",
        "colab": {
          "base_uri": "https://localhost:8080/",
          "height": 279
        }
      },
      "source": [
        "loss_ax = plt.subplot()\n",
        "acc_ax = loss_ax.twinx()\n",
        "\n",
        "loss_ax.plot(report.losses, 'y', label='train_loss')\n",
        "acc_ax.plot(report.accs, 'b', label='train_acc')\n",
        "\n",
        "loss_ax.set_xlabel('epoch')\n",
        "loss_ax.set_ylabel('loss')\n",
        "acc_ax.set_ylabel('accuracy')\n",
        "\n",
        "loss_ax.legend(loc='upper left')\n",
        "acc_ax.legend(loc='lower left')\n",
        "\n",
        "plt.show()"
      ],
      "execution_count": 45,
      "outputs": [
        {
          "output_type": "display_data",
          "data": {
            "image/png": "[encoded data removed]",
            "text/plain": [
              "<Figure size 432x288 with 2 Axes>"
            ]
          },
          "metadata": {
            "tags": [],
            "needs_background": "light"
          }
        }
      ]
    },
    {
      "cell_type": "markdown",
      "metadata": {
        "id": "MRt11KdP5IuR"
      },
      "source": [
        "# Prediction"
      ]
    },
    {
      "cell_type": "code",
      "metadata": {
        "id": "2Sav6GQL2kPs"
      },
      "source": [
        "#train, test prediction\n",
        "train_pred = model.predict(xtrain,batch_size=n_batch) # x[0~window_size-1] 만큼의 특징벡터를 학습해서 학습데이터 수 \n",
        "model.reset_states() #상태 리셋해주지 않으면 predcit마다 값이 다름\n",
        "test_pred = model.predict(xtest,batch_size=n_batch)\n",
        "model.reset_states()\n",
        "real_test_pred = scaler.inverse_transform(test_pred)"
      ],
      "execution_count": 46,
      "outputs": []
    },
    {
      "cell_type": "code",
      "metadata": {
        "id": "pJRc_zvAFMys",
        "outputId": "57dbeac8-1d0a-4d3a-9e40-eb888e02df5d",
        "colab": {
          "base_uri": "https://localhost:8080/"
        }
      },
      "source": [
        "tom_real = xtrain[-1]\n",
        "tom_real = np.vstack((tom_real[1:], price[-1])) #test_pred[-1] 대신에 price[-1]\n",
        "tom_real.shape\n",
        "\n",
        "tom_pred = xtest[-1]\n",
        "tom_pred = np.vstack((tom_pred[1:], test_pred[-1])) #마지막 데이터에 예측값\n",
        "tom_pred.shape"
      ],
      "execution_count": 47,
      "outputs": [
        {
          "output_type": "execute_result",
          "data": {
            "text/plain": [
              "(60, 1)"
            ]
          },
          "metadata": {
            "tags": []
          },
          "execution_count": 47
        }
      ]
    },
    {
      "cell_type": "code",
      "metadata": {
        "id": "0qUwG-0vzwj-"
      },
      "source": [
        "#학습된 모델로 예측하기\n",
        "seq_in = tom_real #오늘꺼 예측자를 마지막 데이터로 추가해준 input 샘플 or real 데이터 추가\n",
        "after_pred = np.zeros((predict_day,1))\n",
        "\n",
        "for i in range(predict_day):\n",
        "  sample_in = seq_in.reshape(1,window_size,1)\n",
        "  after = model.predict(sample_in, batch_size=n_batch)\n",
        "  model.reset_states()\n",
        "  seq_in = np.vstack((seq_in[1:], after))\n",
        "  after_pred[i] = after\n",
        "  \n",
        "#model.reset_states()\n",
        "real_after_pred = scaler.inverse_transform(after_pred)"
      ],
      "execution_count": 48,
      "outputs": []
    },
    {
      "cell_type": "markdown",
      "metadata": {
        "id": "NSRWCmcL5NFI"
      },
      "source": [
        "# Result"
      ]
    },
    {
      "cell_type": "code",
      "metadata": {
        "id": "2bXsbu0UpTNb",
        "outputId": "45b5e2de-38cf-468a-dabb-39a15c2ed264",
        "colab": {
          "base_uri": "https://localhost:8080/",
          "height": 542
        }
      },
      "source": [
        "trace = go.Scatter(x=np.arange(0,len(price),1), y=price, \n",
        "mode = 'lines', name='actual')\n",
        "trace2 = go.Scatter(x=np.arange(window_size,split_pt,1), y=test_pred.reshape(len(test_pred)),\n",
        "mode = 'lines', name='train')\n",
        "trace3 = go.Scatter(x=np.arange(split_pt,split_pt + len(train_pred),1), y=train_pred.reshape(len(train_pred)), \n",
        "mode = 'lines', name='prediction')\n",
        "trace4 = go.Scatter(x=np.arange(split_pt +len(train_pred), split_pt + len(train_pred) + len(after_pred), 1), y =after_pred.reshape(len(after_pred)),\n",
        "mode = 'lines', name= 'after_pred')\n",
        "\n",
        "data = [trace, trace2, trace3, trace4]\n",
        "layout = go.Layout(title=Title)\n",
        "fig = go.Figure(data=data, layout=layout)\n",
        "py.offline.iplot(fig) #그래프 출력 \n",
        "#py.offline.plot(fig, show_link = True, filename = Title + '.html') #다른이름으로 지정\n",
        "\n",
        "from google.colab import files\n",
        "import os\n",
        "\n",
        "#os.rename('temp-plot.html', rename)\n",
        "#files.download(filename=Title +'.html') #다운로드"
      ],
      "execution_count": 50,
      "outputs": [
        {
          "output_type": "display_data",
          "data": {
            "text/html": [
              "<html>\n",
              "<head><meta charset=\"utf-8\" /></head>\n",
              "<body>\n",
              "    <div>\n",
              "            <script src=\"https://cdnjs.cloudflare.com/ajax/libs/mathjax/2.7.5/MathJax.js?config=TeX-AMS-MML_SVG\"></script><script type=\"text/javascript\">if (window.MathJax) {MathJax.Hub.Config({SVG: {font: \"STIX-Web\"}});}</script>\n",
              "                <script type=\"text/javascript\">window.PlotlyConfig = {MathJaxConfig: 'local'};</script>\n",
              "        <script src=\"https://cdn.plot.ly/plotly-latest.min.js\"></script>    \n",
              "            <div id=\"cdbddfe0-c359-4a3a-8754-5724f9736dcb\" class=\"plotly-graph-div\" style=\"height:525px; width:100%;\"></div>\n",
              "            <script type=\"text/javascript\">\n",
              "                \n",
              "                    window.PLOTLYENV=window.PLOTLYENV || {};\n",
              "                    \n",
              "                if (document.getElementById(\"cdbddfe0-c359-4a3a-8754-5724f9736dcb\")) {\n",
              "                    Plotly.newPlot(\n",
              "                        'cdbddfe0-c359-4a3a-8754-5724f9736dcb',\n",
              "                        [{\"mode\": \"lines\", \"name\": \"actual\", \"type\": \"scatter\", \"x\": [0, 1, 2, 3, 4, 5, 6, 7, 8, 9, 10, 11, 12, 13, 14, 15, 16, 17, 18, 19, 20, 21, 22, 23, 24, 25, 26, 27, 28, 29, 30, 31, 32, 33, 34, 35, 36, 37, 38, 39, 40, 41, 42, 43, 44, 45, 46, 47, 48, 49, 50, 51, 52, 53, 54, 55, 56, 57, 58, 59, 60, 61, 62, 63, 64, 65, 66, 67, 68, 69, 70, 71, 72, 73, 74, 75, 76, 77, 78, 79, 80, 81, 82, 83, 84, 85, 86, 87, 88, 89, 90, 91, 92, 93, 94, 95, 96, 97, 98, 99, 100, 101, 102, 103, 104, 105, 106, 107, 108, 109, 110, 111, 112, 113, 114, 115, 116, 117, 118, 119, 120, 121, 122, 123, 124, 125, 126, 127, 128, 129, 130, 131, 132, 133, 134, 135, 136, 137, 138, 139, 140, 141, 142, 143, 144, 145, 146, 147, 148, 149, 150, 151, 152, 153, 154, 155, 156, 157, 158, 159, 160, 161, 162, 163, 164, 165, 166, 167, 168, 169, 170, 171, 172, 173, 174, 175, 176, 177, 178, 179, 180, 181, 182, 183, 184, 185, 186, 187, 188, 189, 190, 191, 192, 193, 194, 195, 196, 197, 198, 199, 200, 201, 202, 203, 204, 205, 206, 207, 208, 209, 210, 211, 212, 213, 214, 215, 216, 217, 218, 219, 220, 221, 222, 223, 224, 225, 226, 227, 228, 229, 230, 231, 232, 233, 234, 235, 236, 237, 238, 239, 240, 241, 242, 243, 244, 245, 246, 247, 248, 249, 250, 251, 252, 253, 254, 255, 256, 257, 258, 259, 260, 261, 262, 263, 264, 265, 266, 267, 268, 269, 270, 271, 272, 273, 274, 275, 276, 277, 278, 279, 280, 281, 282, 283, 284, 285, 286, 287, 288, 289, 290, 291, 292, 293, 294, 295, 296, 297, 298, 299, 300, 301, 302, 303, 304, 305, 306, 307, 308, 309, 310, 311, 312, 313, 314, 315, 316, 317, 318, 319, 320, 321, 322, 323, 324, 325, 326, 327, 328, 329, 330, 331, 332, 333, 334, 335, 336, 337, 338, 339, 340, 341, 342, 343, 344, 345, 346, 347, 348, 349, 350, 351, 352, 353, 354, 355, 356, 357, 358, 359, 360, 361, 362, 363, 364, 365, 366, 367, 368, 369, 370, 371, 372, 373, 374, 375, 376, 377, 378, 379, 380, 381, 382, 383, 384, 385, 386, 387, 388, 389, 390, 391, 392, 393, 394, 395, 396, 397, 398, 399, 400, 401, 402, 403, 404, 405, 406, 407, 408, 409, 410, 411, 412, 413, 414, 415, 416, 417, 418, 419, 420, 421, 422, 423, 424, 425, 426, 427, 428, 429, 430, 431, 432, 433, 434, 435, 436, 437, 438, 439, 440, 441, 442, 443, 444, 445, 446, 447, 448, 449, 450, 451, 452, 453, 454, 455, 456, 457, 458, 459, 460, 461, 462, 463, 464, 465, 466, 467, 468, 469, 470, 471, 472, 473, 474, 475, 476, 477, 478, 479, 480, 481, 482, 483, 484, 485, 486, 487, 488, 489, 490, 491, 492, 493, 494, 495, 496, 497, 498, 499, 500, 501, 502, 503, 504, 505, 506, 507, 508, 509, 510, 511, 512, 513, 514, 515, 516, 517, 518, 519, 520, 521, 522, 523, 524, 525, 526, 527, 528, 529, 530, 531, 532, 533, 534, 535, 536, 537, 538, 539, 540, 541, 542, 543, 544, 545, 546, 547, 548, 549, 550, 551, 552, 553, 554, 555, 556, 557, 558, 559, 560, 561, 562, 563, 564, 565, 566, 567, 568, 569, 570, 571, 572, 573, 574, 575, 576, 577, 578, 579, 580, 581, 582, 583, 584, 585, 586, 587, 588, 589, 590, 591, 592, 593, 594, 595, 596, 597, 598, 599, 600, 601, 602, 603, 604, 605, 606, 607, 608, 609, 610, 611, 612, 613, 614, 615, 616, 617, 618, 619, 620, 621, 622, 623, 624, 625, 626, 627, 628, 629, 630, 631, 632, 633, 634, 635, 636, 637, 638, 639, 640, 641, 642, 643, 644, 645, 646, 647, 648, 649, 650, 651, 652, 653, 654, 655, 656, 657, 658, 659, 660, 661, 662, 663, 664, 665, 666, 667, 668, 669, 670, 671, 672, 673, 674, 675, 676, 677, 678, 679, 680, 681, 682, 683, 684, 685, 686, 687, 688, 689, 690, 691, 692, 693, 694, 695, 696, 697, 698, 699, 700, 701, 702, 703, 704, 705, 706, 707, 708, 709, 710, 711, 712, 713, 714, 715, 716, 717, 718, 719, 720, 721, 722, 723, 724, 725, 726, 727, 728, 729, 730, 731, 732, 733, 734, 735, 736, 737, 738, 739, 740, 741, 742, 743, 744, 745, 746, 747, 748, 749, 750, 751, 752, 753, 754, 755, 756, 757, 758, 759, 760, 761, 762, 763, 764, 765, 766, 767, 768, 769, 770, 771, 772, 773, 774, 775, 776, 777, 778, 779, 780, 781, 782, 783, 784, 785, 786, 787, 788, 789, 790, 791, 792, 793, 794, 795, 796, 797, 798, 799, 800, 801, 802, 803, 804, 805, 806, 807, 808, 809, 810, 811, 812, 813, 814, 815, 816, 817, 818, 819, 820, 821, 822, 823, 824, 825, 826, 827, 828, 829, 830, 831, 832, 833, 834, 835, 836, 837, 838, 839, 840, 841, 842, 843, 844, 845, 846, 847, 848, 849, 850, 851, 852, 853, 854, 855, 856, 857, 858, 859, 860, 861, 862, 863, 864, 865, 866, 867, 868, 869, 870, 871, 872, 873, 874, 875, 876, 877, 878, 879, 880, 881, 882, 883, 884, 885, 886, 887, 888, 889, 890, 891, 892, 893, 894, 895, 896, 897, 898, 899, 900, 901, 902, 903, 904, 905, 906, 907, 908, 909, 910, 911, 912, 913, 914, 915, 916, 917, 918, 919, 920, 921, 922, 923, 924, 925, 926, 927, 928, 929, 930, 931, 932, 933, 934, 935, 936, 937, 938, 939, 940, 941, 942, 943, 944, 945, 946, 947, 948, 949, 950, 951, 952, 953, 954, 955, 956, 957, 958, 959, 960, 961, 962, 963, 964, 965, 966, 967, 968, 969, 970, 971, 972, 973, 974, 975, 976, 977, 978, 979, 980, 981, 982, 983, 984, 985, 986, 987, 988, 989, 990, 991, 992, 993, 994, 995, 996, 997, 998, 999, 1000, 1001, 1002, 1003, 1004, 1005, 1006, 1007, 1008, 1009, 1010, 1011, 1012, 1013, 1014, 1015, 1016, 1017, 1018, 1019, 1020, 1021, 1022, 1023, 1024, 1025, 1026, 1027, 1028, 1029, 1030, 1031, 1032, 1033, 1034, 1035, 1036, 1037, 1038, 1039, 1040, 1041, 1042, 1043, 1044, 1045, 1046, 1047, 1048, 1049, 1050, 1051, 1052, 1053, 1054, 1055, 1056, 1057, 1058, 1059, 1060, 1061, 1062, 1063, 1064, 1065, 1066, 1067, 1068, 1069, 1070, 1071, 1072, 1073, 1074, 1075, 1076, 1077, 1078, 1079, 1080, 1081, 1082, 1083, 1084, 1085, 1086, 1087, 1088, 1089, 1090, 1091, 1092, 1093, 1094, 1095, 1096, 1097, 1098, 1099, 1100, 1101, 1102, 1103, 1104, 1105, 1106, 1107, 1108, 1109, 1110, 1111, 1112, 1113, 1114, 1115, 1116, 1117, 1118, 1119, 1120, 1121, 1122, 1123, 1124, 1125, 1126, 1127, 1128, 1129, 1130, 1131, 1132, 1133, 1134, 1135, 1136, 1137, 1138, 1139, 1140, 1141, 1142, 1143, 1144, 1145, 1146, 1147, 1148, 1149, 1150, 1151, 1152, 1153, 1154, 1155, 1156, 1157, 1158, 1159, 1160, 1161, 1162, 1163, 1164, 1165, 1166, 1167, 1168, 1169, 1170, 1171, 1172, 1173, 1174, 1175, 1176, 1177, 1178, 1179, 1180, 1181, 1182, 1183, 1184, 1185, 1186, 1187, 1188, 1189, 1190, 1191, 1192, 1193, 1194, 1195, 1196, 1197, 1198, 1199, 1200, 1201, 1202, 1203, 1204, 1205, 1206, 1207, 1208, 1209, 1210, 1211, 1212, 1213, 1214, 1215, 1216, 1217, 1218, 1219, 1220, 1221, 1222, 1223, 1224, 1225, 1226, 1227, 1228, 1229, 1230, 1231, 1232, 1233, 1234, 1235, 1236, 1237, 1238, 1239, 1240, 1241, 1242, 1243, 1244, 1245, 1246, 1247, 1248, 1249, 1250, 1251, 1252, 1253, 1254, 1255, 1256, 1257, 1258, 1259, 1260, 1261, 1262, 1263, 1264, 1265, 1266, 1267, 1268, 1269, 1270, 1271, 1272, 1273, 1274, 1275, 1276, 1277, 1278, 1279, 1280, 1281, 1282, 1283, 1284, 1285, 1286, 1287, 1288, 1289, 1290, 1291, 1292, 1293, 1294, 1295, 1296, 1297, 1298, 1299, 1300, 1301, 1302, 1303, 1304, 1305, 1306, 1307, 1308, 1309, 1310, 1311, 1312, 1313, 1314, 1315, 1316, 1317, 1318, 1319, 1320, 1321, 1322, 1323, 1324, 1325, 1326, 1327, 1328, 1329, 1330, 1331, 1332, 1333, 1334, 1335, 1336, 1337, 1338, 1339, 1340, 1341, 1342, 1343, 1344, 1345, 1346, 1347, 1348, 1349, 1350, 1351, 1352, 1353, 1354, 1355, 1356, 1357, 1358, 1359, 1360, 1361, 1362, 1363, 1364, 1365, 1366, 1367, 1368, 1369, 1370, 1371, 1372, 1373, 1374, 1375, 1376, 1377, 1378, 1379, 1380, 1381, 1382, 1383, 1384, 1385, 1386, 1387, 1388, 1389, 1390, 1391, 1392, 1393, 1394, 1395, 1396, 1397, 1398, 1399, 1400, 1401, 1402, 1403, 1404, 1405, 1406, 1407, 1408, 1409, 1410, 1411, 1412, 1413, 1414, 1415, 1416, 1417, 1418, 1419, 1420, 1421, 1422, 1423, 1424, 1425, 1426, 1427, 1428, 1429, 1430, 1431, 1432, 1433, 1434, 1435, 1436, 1437, 1438, 1439, 1440, 1441, 1442, 1443, 1444, 1445, 1446, 1447, 1448, 1449, 1450, 1451, 1452, 1453, 1454, 1455, 1456, 1457, 1458, 1459, 1460, 1461, 1462, 1463, 1464, 1465, 1466, 1467, 1468, 1469, 1470, 1471, 1472, 1473, 1474, 1475, 1476, 1477, 1478, 1479, 1480, 1481, 1482, 1483, 1484, 1485, 1486, 1487, 1488, 1489, 1490, 1491, 1492, 1493, 1494, 1495, 1496, 1497, 1498, 1499, 1500, 1501, 1502, 1503, 1504, 1505, 1506, 1507, 1508, 1509, 1510, 1511, 1512, 1513, 1514, 1515, 1516, 1517, 1518, 1519, 1520, 1521, 1522, 1523, 1524, 1525, 1526, 1527, 1528, 1529, 1530, 1531, 1532, 1533, 1534, 1535, 1536, 1537, 1538, 1539, 1540, 1541, 1542, 1543, 1544, 1545, 1546, 1547, 1548, 1549, 1550, 1551, 1552, 1553, 1554, 1555, 1556, 1557, 1558, 1559, 1560, 1561, 1562, 1563, 1564, 1565, 1566, 1567, 1568, 1569, 1570, 1571, 1572, 1573, 1574, 1575, 1576, 1577, 1578, 1579, 1580, 1581, 1582, 1583, 1584, 1585, 1586, 1587, 1588, 1589, 1590, 1591, 1592, 1593, 1594, 1595, 1596, 1597, 1598, 1599, 1600, 1601, 1602, 1603, 1604, 1605, 1606, 1607, 1608, 1609, 1610, 1611, 1612, 1613, 1614, 1615, 1616, 1617, 1618, 1619, 1620, 1621, 1622, 1623, 1624, 1625, 1626, 1627, 1628, 1629, 1630, 1631, 1632, 1633, 1634, 1635, 1636, 1637, 1638, 1639, 1640, 1641, 1642, 1643, 1644, 1645, 1646, 1647, 1648, 1649, 1650, 1651, 1652, 1653, 1654, 1655, 1656, 1657, 1658, 1659, 1660, 1661, 1662, 1663, 1664, 1665, 1666, 1667, 1668, 1669, 1670, 1671, 1672, 1673, 1674, 1675, 1676, 1677, 1678, 1679, 1680, 1681, 1682, 1683, 1684, 1685, 1686, 1687, 1688, 1689, 1690, 1691, 1692, 1693, 1694, 1695, 1696, 1697, 1698, 1699, 1700, 1701, 1702, 1703, 1704, 1705, 1706, 1707, 1708, 1709, 1710, 1711, 1712, 1713, 1714, 1715, 1716, 1717, 1718, 1719, 1720, 1721, 1722, 1723, 1724, 1725, 1726, 1727, 1728, 1729, 1730, 1731, 1732, 1733, 1734, 1735, 1736, 1737, 1738, 1739, 1740, 1741, 1742, 1743, 1744, 1745, 1746, 1747, 1748, 1749, 1750, 1751, 1752, 1753, 1754, 1755, 1756, 1757, 1758, 1759, 1760, 1761, 1762, 1763, 1764, 1765, 1766, 1767, 1768, 1769, 1770, 1771, 1772, 1773, 1774, 1775, 1776, 1777, 1778, 1779, 1780, 1781, 1782, 1783, 1784, 1785, 1786, 1787, 1788, 1789, 1790, 1791, 1792, 1793, 1794, 1795, 1796, 1797, 1798, 1799, 1800, 1801, 1802, 1803, 1804, 1805, 1806, 1807, 1808, 1809, 1810, 1811, 1812, 1813, 1814, 1815, 1816, 1817, 1818, 1819, 1820, 1821, 1822, 1823, 1824, 1825, 1826, 1827, 1828, 1829, 1830, 1831, 1832, 1833, 1834, 1835, 1836, 1837, 1838, 1839, 1840, 1841, 1842, 1843, 1844, 1845, 1846, 1847, 1848, 1849, 1850, 1851, 1852, 1853, 1854, 1855, 1856, 1857, 1858, 1859, 1860, 1861, 1862, 1863, 1864, 1865, 1866, 1867, 1868, 1869, 1870, 1871, 1872, 1873, 1874, 1875, 1876, 1877, 1878, 1879, 1880, 1881, 1882, 1883, 1884, 1885, 1886, 1887, 1888, 1889, 1890, 1891, 1892, 1893, 1894, 1895, 1896, 1897, 1898, 1899, 1900, 1901, 1902, 1903, 1904, 1905, 1906, 1907, 1908, 1909, 1910, 1911, 1912, 1913, 1914, 1915, 1916, 1917, 1918, 1919, 1920, 1921, 1922, 1923, 1924, 1925, 1926, 1927, 1928, 1929, 1930, 1931, 1932, 1933, 1934, 1935, 1936, 1937, 1938, 1939, 1940, 1941, 1942, 1943, 1944, 1945, 1946, 1947, 1948, 1949, 1950, 1951, 1952, 1953, 1954, 1955, 1956, 1957, 1958, 1959, 1960, 1961, 1962, 1963, 1964, 1965, 1966, 1967, 1968, 1969, 1970, 1971, 1972, 1973, 1974, 1975, 1976, 1977, 1978, 1979, 1980, 1981, 1982, 1983, 1984, 1985, 1986, 1987, 1988, 1989, 1990, 1991, 1992, 1993, 1994, 1995, 1996, 1997, 1998, 1999, 2000, 2001, 2002, 2003, 2004, 2005, 2006, 2007, 2008, 2009, 2010, 2011, 2012, 2013, 2014, 2015, 2016, 2017, 2018, 2019, 2020, 2021, 2022, 2023, 2024, 2025, 2026, 2027, 2028, 2029, 2030, 2031, 2032, 2033, 2034, 2035, 2036, 2037, 2038, 2039, 2040, 2041, 2042, 2043, 2044, 2045, 2046, 2047, 2048, 2049, 2050, 2051, 2052, 2053, 2054, 2055, 2056, 2057, 2058, 2059, 2060, 2061, 2062, 2063, 2064, 2065, 2066, 2067, 2068, 2069, 2070, 2071, 2072, 2073, 2074, 2075, 2076, 2077, 2078, 2079, 2080, 2081, 2082, 2083, 2084], \"y\": [0.0034278368698297933, 0.0032309273586996947, 0.0034803460727978203, 0.0029552540431175573, 0.0029552540431175573, 0.003204672757215681, 0.003099654351279629, 0.00313903625350565, 0.003690382884669925, 0.003217803221637167, 0.003795401290605977, 0.004740566944030449, 0.004647100562222272, 0.005318168176678739, 0.004110462809518489, 0.004267984117318213, 0.0042679843914162525, 0.004267985745628597, 0.004478021209064372, 0.0058957694093270275, 0.005108131365331727, 0.00510813142361694, 0.005061398178890919, 0.005060873101038725, 0.005428857595438652, 0.005055622161838608, 0.005055622163413884, 0.00437772835204648, 0.0045224602637016775, 0.004454960511881502, 0.004435645089785174, 0.004662687837208973, 0.004303349663071908, 0.003350412436521174, 0.0036103333860821093, 0.0033504120500534394, 0.003918939692428852, 0.00367612641447527, 0.00363626322497196, 0.003971453807632816, 0.0037081588072975617, 0.003690382884669925, 0.004005438102478082, 0.004005438102478082, 0.003975359605978291, 0.003989486952892297, 0.003989486952892297, 0.003906510764086322, 0.0036529454754183396, 0.004740566944030449, 0.003018002540664349, 0.0029485591197391334, 0.002800351894361881, 0.0035328552689396497, 0.002162851597594632, 0.00243695145338106, 0.002670543792886953, 0.002350772151735016, 0.0022463798030492033, 0.0023554885750787964, 0.0023554885750787964, 0.0026796437385789816, 0.002722459742679109, 0.0027743229527528983, 0.0029599588677034928, 0.0023554885750787964, 0.0017563691718718785, 0.0021156318876588177, 0.0025351804193733465, 0.0025351804193733465, 0.003322680574726747, 0.0028589784194756815, 0.0029552540431175573, 0.003186515074829338, 0.0029026555025668775, 0.00274602587297116, 0.0024301620134372943, 0.0024301620134372943, 0.0037183387848551946, 0.003142003023473342, 0.003545982576507853, 0.003280480293540621, 0.0034753283164662453, 0.003186288631516999, 0.003389305617216948, 0.0033917367933143684, 0.00340158226834578, 0.0033917367933143684, 0.003345095095233168, 0.0034278368693047012, 0.002825043525288569, 0.002825320019848084, 0.003034424797568243, 0.0033114466765548703, 0.003375327666861768, 0.0029524776190106225, 0.0029723643643392913, 0.0032082758074503392, 0.0030970288911312278, 0.0030788923247957664, 0.002919893033108814, 0.002850235637706597, 0.0027629556040169537, 0.0028502356266796643, 0.0028502356345560444, 0.0024301620134372943, 0.0026401988253094005, 0.002535180337458991, 0.002692708028277426, 0.002692707975768224, 0.002692708028277426, 0.0030602724490536096, 0.0032177475445539835, 0.002692708028277426, 0.0032177475445539835, 0.003165290854989662, 0.0030602724490536096, 0.0029195477850992996, 0.003742892087637952, 0.003887853111123182, 0.0037428920818619385, 0.003307287554385873, 0.003559109876724767, 0.0034803460727978203, 0.0034278368698297933, 0.003067853389093775, 0.0034413581439711165, 0.0034698442322042156, 0.003742892087637952, 0.0037423669950831795, 0.004040619267941569, 0.004234655213464333, 0.004428536200653496, 0.004005438102478082, 0.004069657408529517, 0.004110456508414136, 0.004635023446064718, 0.004689816256941785, 0.004419816717742862, 0.004793076147523568, 0.004640799458391201, 0.005633223394486896, 0.005843260206884094, 0.006998462671655579, 0.005784916547796497, 0.005784916548321589, 0.0054929143928581885, 0.005393291263419369, 0.0053252529808892005, 0.0050828888782098285, 0.005213149709306917, 0.005419321905276345, 0.0053108434043605286, 0.005213149771267779, 0.005213149770742687, 0.005528204988550844, 0.005524591043181662, 0.005741045792386535, 0.006010833861797437, 0.005919468788547806, 0.0061135141132644035, 0.005560264830033896, 0.005583287142464302, 0.00531003043377613, 0.005656226363577115, 0.005788947013491658, 0.005738241800422948, 0.005715652341306103, 0.00551445676648374, 0.005104061901576612, 0.004425511726222292, 0.004733396132370988, 0.004594555840979172, 0.004754011708587403, 0.0045522256220946605, 0.004425511726222292, 0.004530530132158345, 0.00417750288422386, 0.004098079870311194, 0.00439256494181516, 0.0, 0.0025351803820918128, 0.0029027448401495303, 0.0028570619312344656, 0.002706334328701066, 0.0026114577450354007, 0.0016950331718849267, 0.002167090908142759, 0.002586639437756921, 0.0021676159980720706, 0.002700059316692949, 0.0029552540431175573, 0.0019063827138312336, 0.0024322623820811073, 0.0023747490504949526, 0.0024826712169304134, 0.002745217231770545, 0.002745217231770545, 0.002850235637706597, 0.0030998066279682365, 0.003475095152501018, 0.003212549138711069, 0.003249305549808259, 0.0034189628140031056, 0.003149538094624347, 0.003217800057957689, 0.0025089258178893348, 0.002613944228026124, 0.0028502354239941397, 0.002692709606704067, 0.002823981037272768, 0.0031266440821302866, 0.002927424165544503, 0.002927424165544503, 0.002561434495240239, 0.0025097845008854713, 0.0025876896223413735, 0.0029552540431175573, 0.0031127816520216366, 0.002850235689690707, 0.0028502619311648898, 0.0033858295064051885, 0.003322818463893741, 0.0031127816525467287, 0.003359574905446267, 0.003217800057957689, 0.0033742249735994392, 0.003373699881569759, 0.003059222264994249, 0.003335945764635747, 0.00337532766738686, 0.003338571352381513, 0.0034278368703548855, 0.0033805785871585704, 0.0036526868387136598, 0.003459347647781826, 0.0036626633819666007, 0.003863661829889736, 0.004228245152512012, 0.004587291689485608, 0.004637763468166694, 0.004793076146473384, 0.0044255117382994095, 0.005081876238230592, 0.004598792096541873, 0.005115850215542566, 0.005205910309076356, 0.005318168701770766, 0.005730365428379217, 0.005396931980605686, 0.006237078910938519, 0.006116186758182594, 0.007029968137776638, 0.007779274524515958, 0.006893444266244619, 0.007772682601614799, 0.009993040540770489, 0.011619272532841889, 0.011251708112065707, 0.010731867000581877, 0.010516579270513339, 0.0111466897029791, 0.01009650564729422, 0.010808005346985883, 0.00821668401016104, 0.007057798071009449, 0.008416211151792287, 0.008416838111675724, 0.008478697103324238, 0.007313517889463737, 0.008048646731016105, 0.00815419569151422, 0.008274962036945666, 0.007891119069602822, 0.007812355318185079, 0.007880617280993329, 0.008043395810719299, 0.007705761635634894, 0.007471045498367815, 0.007785575624146293, 0.009261676121260432, 0.009623920434038709, 0.009308867602248735, 0.0103065424607416, 0.010542833871472257, 0.009728941225992944, 0.009815840376302478, 0.009886468833846838, 0.009808230122474663, 0.010592745474624795, 0.011109936979603236, 0.011314736381796461, 0.012593543963958655, 0.012774474992887544, 0.0129412862336022, 0.014386507533982702, 0.013202647103129135, 0.013352076336855347, 0.01388241918023873, 0.015040270767380747, 0.014402260342656483, 0.014428514944140495, 0.014769824710923463, 0.014769824710923463, 0.013619926205994698, 0.013709133560049037, 0.013448893626006635, 0.01401789292232096, 0.014405564470600856, 0.014507278696083332, 0.01259270013949168, 0.012734568004932952, 0.012858256948015276, 0.01303702101350369, 0.012938303711398709, 0.013224644272613984, 0.013456569544168035, 0.013559482331590163, 0.013096881504362147, 0.013299567611195974, 0.013214332699117332, 0.013063276674098324, 0.014711907169268873, 0.014404885750295682, 0.014109258990094898, 0.014282986679488366, 0.014087205072339123, 0.013430642143805568, 0.013388045249057401, 0.013168105116440617, 0.00962392282005689, 0.010908395954085836, 0.010043996443801103, 0.010989162097225575, 0.010490429777225998, 0.012820825369385589, 0.011934327755900968, 0.010620165150829353, 0.011091029951508638, 0.011769337309605856, 0.01115561631316667, 0.01136302762183283, 0.011409235720969784, 0.010464070072796233, 0.0104042095866636, 0.010499251226707695, 0.009904321961280691, 0.010067625585136714, 0.00997520939316391, 0.009441190793728158, 0.011073176821449326, 0.010883565913100857, 0.010445166661535533, 0.01020152400859745, 0.010025853407806741, 0.01039660539449818, 0.01072556589780099, 0.01098653663707717, 0.010831634488321494, 0.01119867381496763, 0.011875983723998031, 0.011820993099926447, 0.012039346161311928, 0.01232814679811466, 0.012569689538713905, 0.012511929169180914, 0.01353638353845545, 0.01377215008662164, 0.013719640651562937, 0.012464670794093493, 0.01211561314843701, 0.01282698414859729, 0.013324771445768473, 0.012959307392585918, 0.013344199848766274, 0.013514854759987639, 0.013404585434279873, 0.012983788891133986, 0.012524531192010663, 0.01204722253650621, 0.01119919890909768, 0.011986836954668258, 0.012139113642225346, 0.012165368244234451, 0.011850313025901203, 0.012490991463706864, 0.012727216715467244, 0.012170619164006163, 0.012185846832866894, 0.012246757508834895, 0.012327621921897805, 0.012569689106563166, 0.012580716038661358, 0.01187761780146783, 0.011842820143794418, 0.012143314378462791, 0.0118484709164209, 0.012406625977482193, 0.012490925302111124, 0.012606445548640783, 0.012496985989930945, 0.012581417125786625, 0.012883967188167395, 0.01295252951306828, 0.012510091161194455, 0.012370154135284663, 0.012511928983298334, 0.012574940026859965, 0.012751529263029297, 0.012879440767799278, 0.012695711601682935, 0.012887894874449034, 0.012800707468043612, 0.012879493400923966, 0.012616952642780146, 0.012695711193686426, 0.012654717481568309, 0.012813994912928107, 0.01292622659471606, 0.012932002607042546, 0.013046471041202459, 0.013226951843622894, 0.013239181444405501, 0.013089530215946624, 0.013210854295753773, 0.013611340420966477, 0.013883575765271338, 0.014286687535464838, 0.014115534785015229, 0.014408036302473764, 0.014817158659881254, 0.015032370725763595, 0.015176771033925666, 0.01387848078418005, 0.014297241884211227, 0.014557162438377864, 0.014018121657134917, 0.01408702398962686, 0.013982186666403069, 0.014289785577389767, 0.014217952987204414, 0.014040996984229101, 0.01482233391389149, 0.014652205304511844, 0.014717315507955436, 0.014939219399698316, 0.014218478079759189, 0.014257133904154971, 0.014477873778187558, 0.014421836663553955, 0.014540360977338174, 0.014725554270688179, 0.01445346290609276, 0.01428223544082334, 0.01413866409124779, 0.013423692914681526, 0.01350960406915605, 0.013475771681859695, 0.013413511999309527, 0.01378632733933233, 0.014136505970882184, 0.013995891597257788, 0.014349751087179254, 0.014769824713548922, 0.016292591596996225, 0.01819342491824424, 0.01868176033204142, 0.018445468393593272, 0.018734269535009444, 0.01880633841608306, 0.020286816683162266, 0.020782128450237376, 0.020944906972086973, 0.021281490969938213, 0.020860892255214508, 0.02123493929310949, 0.02106935379047248, 0.021025246060504432, 0.021963585517543058, 0.02563739190372611, 0.02700446900247358, 0.026006794146081084, 0.026951907290302585, 0.030732622413203445, 0.029839965962746996, 0.030411791183593898, 0.03070211456627902, 0.02889480030879743, 0.025718001406137378, 0.021716582226781467, 0.023941607193348605, 0.025271665304528713, 0.025452830869488303, 0.023696389215487924, 0.025096634627618568, 0.024719543998266855, 0.02409020823774812, 0.026085557951583307, 0.026164321754985162, 0.027634579438089897, 0.025129049932776572, 0.026180074516400656, 0.025766301302840952, 0.026164321754985162, 0.024147968361012954, 0.025639229725829993, 0.024851591675008493, 0.024669437268290628, 0.02464260539375649, 0.02562172665729883, 0.025127264995316458, 0.025245924504020467, 0.025584660690797748, 0.025664133001925438, 0.02658439537872937, 0.02616185382244566, 0.02613806714772514, 0.025651721005700498, 0.025480809732473124, 0.02457618063869444, 0.025095234109508285, 0.025507956630194464, 0.024904100883752528, 0.025013767255734273, 0.025166646898067573, 0.025079534403391474, 0.025166122602602495, 0.025083682630425944, 0.023425704001664986, 0.02264883034375304, 0.01852948364763488, 0.020345724741618706, 0.02112559114790142, 0.020795570807247376, 0.021203934879254812, 0.02222613395568291, 0.02201609466747679, 0.022226132093706566, 0.021842079494397808, 0.021556114377134304, 0.021440909857940258, 0.021256286829762158, 0.020440758928506525, 0.02032529778633573, 0.0208882093924977, 0.020801030929984816, 0.02088562375375355, 0.02086037033211523, 0.021175947472497573, 0.021116874909534435, 0.021511270970653723, 0.021335575175422335, 0.021228456675990694, 0.020849865107828585, 0.02101736957241536, 0.02066965346443201, 0.02076490336857728, 0.02073991132462403, 0.02106882869949299, 0.020745898741627123, 0.020773774644041676, 0.020861417348819467, 0.022668258748851214, 0.022680336138056617, 0.022651456360498992, 0.022895473638245283, 0.02315706003374878, 0.023920486897623078, 0.023538861607634035, 0.023591370164213768, 0.022673178820212136, 0.02275122356153836, 0.02285629448507885, 0.022940234320152242, 0.022782729083844273, 0.022566183180763415, 0.0225936959515841, 0.022769852782868465, 0.022593695957360112, 0.02227864073535122, 0.021989840118501983, 0.021971461902189002, 0.022338763546960037, 0.02232064807882233, 0.0222207091364579, 0.022531026847952197, 0.022438479344115157, 0.02234165177996303, 0.022509681118666303, 0.022725234137305345, 0.022836587251387097, 0.02273371236405749, 0.022803732569697248, 0.022764895957165826, 0.022806829250058537, 0.022856744710012034, 0.02304176344491824, 0.023197026725717336, 0.023013769577428678, 0.02310590761975189, 0.024377433577458134, 0.02401147069419867, 0.024188843063648005, 0.024221481245168187, 0.024273990447611124, 0.024455812075154806, 0.024253133475036638, 0.02406395363626411, 0.023829363855567776, 0.023888029240642324, 0.023847961288876583, 0.02542919291343279, 0.02516664689859266, 0.025040624811469403, 0.025192355686865314, 0.026203832964274046, 0.02678970636180926, 0.026988609276135993, 0.02806236523077396, 0.027482302824045686, 0.027513869223421146, 0.029208280187505507, 0.02988197332459632, 0.02688777029190171, 0.027830963845113202, 0.027846191252478093, 0.028022063750104027, 0.027658366107034413, 0.028062425363788106, 0.02860581707911776, 0.02825943880585855, 0.028354294513965483, 0.027636833642420547, 0.02737755076894132, 0.027757976065064756, 0.027912878213820436, 0.029652327122055816, 0.0294461469404868, 0.03011301381818074, 0.0300458020819643, 0.029052327918751696, 0.029399046508356085, 0.029901600902352277, 0.029436543317593336, 0.029352031309688713, 0.029483186837743883, 0.029131091722678644, 0.028933074486329292, 0.029016098157632238, 0.029010320555852183, 0.029393637737518775, 0.030260039586491205, 0.03134832072559474, 0.030746261039637388, 0.03114208914276695, 0.030172874314815204, 0.030428605861725064, 0.03084233464042195, 0.030969966299495083, 0.03100672045269654, 0.03130917304644458, 0.030942659225075553, 0.03152551137592027, 0.03139423837112567, 0.031415242051787785, 0.03141546674234293, 0.03169459101210277, 0.032314708723755255, 0.032061148917573154, 0.032264773032530954, 0.03272770950908618, 0.03414519551409547, 0.03581551325998329, 0.03886659287351464, 0.03753832269596977, 0.037682448999033634, 0.037978892422791066, 0.039655869402077146, 0.04210086485578113, 0.041798989447392854, 0.040969029266204465, 0.041348601412751575, 0.04309143205700822, 0.04412246920995713, 0.045072885743771406, 0.05026604591730921, 0.04306178327009601, 0.03766383720498291, 0.03825144034597972, 0.03871402126434344, 0.037978892422791066, 0.038246689357928, 0.031667895385823035, 0.032816989880337794, 0.03398819299722107, 0.033540658687059695, 0.03360494118426126, 0.03414572060665024, 0.03801564889952476, 0.03714924703322429, 0.0378860771745281, 0.03761132800201488, 0.039223675587300916, 0.03914036446329289, 0.03851562311730919, 0.037086235976535355, 0.03748886460167596, 0.038614131468492616, 0.03876797189376649, 0.038849810265904276, 0.038661501559534815, 0.038819039670279484, 0.04139838433737641, 0.042232137863201194, 0.04354471025646607, 0.043914698353450216, 0.044854972551454105, 0.043649886343337906, 0.044237989427606726, 0.04585527286957028, 0.045802238572472204, 0.04244217467559839, 0.04287753390685788, 0.043151048927218764, 0.04294101210379464, 0.042868024311669084, 0.04376015594471898, 0.043903815513431164, 0.045198868967258284, 0.04594300039613927, 0.04615910283117118, 0.0461793923499165, 0.048097955490186854, 0.04979346309059697, 0.04974095388762895, 0.05299652447164657, 0.05300232620665632, 0.05115870236776566, 0.05252394164493434, 0.053217063124112285, 0.052838996968285985, 0.05541194780817578, 0.05669474763668467, 0.058244819308825885, 0.05719726069963703, 0.05761748661004659, 0.05752892377915389, 0.05526807259204339, 0.05079113796011678, 0.053254596637807516, 0.049058334249044606, 0.0523144298993624, 0.05490785945968274, 0.055569475417079864, 0.055896247530561924, 0.05651516615203217, 0.05184132200635, 0.04680043852141948, 0.04133948142797242, 0.04391768327847484, 0.045061333722269, 0.04931982995642875, 0.04510439126502713, 0.044962616410712364, 0.0401060402555044, 0.04165195483863297, 0.041184443152258596, 0.045238289733645784, 0.045348373061779884, 0.04522516243237869, 0.04525662014925603, 0.04739709802862041, 0.04815910821730269, 0.0487239810495468, 0.05106472156957386, 0.050681298223225424, 0.05047608272603076, 0.05330737895374238, 0.05350008772653467, 0.053085214523411486, 0.05449521979116756, 0.05465056436461431, 0.05551696616212773, 0.05504438341050365, 0.052891506067810894, 0.054020725879936185, 0.05334043867021743, 0.054282999944363225, 0.05567449382249083, 0.057199786418029294, 0.056928938681396965, 0.059226741415879997, 0.060347812887170255, 0.06129297854059472, 0.06161819789918489, 0.06136643946741871, 0.06262146137621089, 0.06405644990260544, 0.06619634115703064, 0.0648268478992927, 0.06542221589433818, 0.06597101156121049, 0.07095467188618647, 0.07263008302581236, 0.07545050984588414, 0.07483502698295336, 0.0716582952064831, 0.07453610495941185, 0.07568837653427912, 0.08017919220767629, 0.0829537567316429, 0.08513215668650337, 0.08828813162649937, 0.08175614236152022, 0.0862969208550214, 0.08649739596524732, 0.08361455268064716, 0.0844495370620965, 0.088965328501594, 0.09259606154604993, 0.09390119357533756, 0.09955152298424136, 0.09726178257316762, 0.1003598255519568, 0.10849323627991712, 0.11606007724517266, 0.1066609299049694, 0.1025036682861588, 0.09420396164700248, 0.09863227277168327, 0.10650340229606532, 0.10298528569668249, 0.10597831024905702, 0.1121531432117525, 0.11705775209263859, 0.11954148193973367, 0.121024822376873, 0.12899606179205553, 0.14005678299263408, 0.12952891404499783, 0.13701124922048857, 0.13848674400714356, 0.13826202998826181, 0.1448403713830213, 0.1256193846864609, 0.1311708971985293, 0.11594354407616426, 0.11529711467607248, 0.1184755005733004, 0.12751483886781478, 0.12148427790284323, 0.1262493355466094, 0.13071014502237815, 0.12818970312186018, 0.13099245376106045, 0.1308151632702615, 0.12207143783046072, 0.12093355075950281, 0.11639030340877503, 0.12241369079537727, 0.12257121840533154, 0.12023323160705753, 0.11788011907288794, 0.11383066109463948, 0.11848302263004544, 0.12380296401257819, 0.12729704667665465, 0.12708701542393186, 0.1266115762346774, 0.12068088709743242, 0.12447586017338781, 0.12047687511799597, 0.11222690541958019, 0.11054637585980497, 0.1153735194053388, 0.11281853406730302, 0.10644602549890872, 0.0944525402149033, 0.09174306533597713, 0.10736471507805799, 0.1113867581500379, 0.10876129800898786, 0.14052936581934633, 0.1306418319476368, 0.14010929219560214, 0.13509103148425228, 0.13603266861952984, 0.12535420613428194, 0.12327225022318135, 0.13081516316524305, 0.13711528045445903, 0.13338811421727004, 0.13517342711660768, 0.14052936581934633, 0.13430611606395965, 0.13233793015633422, 0.1373730376263128, 0.14094996445635644, 0.1616137355857274, 0.16016780772571249, 0.16909437223342755, 0.1697244826695689, 0.16569891811672555, 0.1699799973471694, 0.1818193002034853, 0.18844427607210984, 0.20196513329193705, 0.21041911496978927, 0.2084762744599723, 0.2206584095480293, 0.21440981439535928, 0.20537823148485873, 0.20787875328725253, 0.20458267143937253, 0.20033734800150355, 0.20404017097114635, 0.20779365482138795, 0.21750785737047285, 0.21913564271026503, 0.21929054481123728, 0.21754296640771986, 0.22060642538510683, 0.23163283296939696, 0.23076104675271425, 0.2382046078326055, 0.24785817671067129, 0.2274846059343978, 0.23238004155256703, 0.21162682663595356, 0.2209187467054865, 0.23158077877337524, 0.2328757563839598, 0.21646161714817458, 0.2175112052553862, 0.2127295199003824, 0.21116527074449004, 0.20820263734101196, 0.19351115161355975, 0.1599577709274928, 0.18468960551545643, 0.184174813312439, 0.183744269245454, 0.20474812104924245, 0.1954014829209338, 0.19413903666189597, 0.17964872203105098, 0.17912363000084564, 0.18936292457908566, 0.18277065653703756, 0.19676446430079958, 0.19438957807053692, 0.2112592622172777, 0.21062959221887917, 0.20947751360430583, 0.21981826230421653, 0.2223278601758426, 0.2217085936079149, 0.21687144583050033, 0.21185263859496456, 0.21730125838337733, 0.22016672593006276, 0.22375645252366794, 0.23273552624117716, 0.24201167337998464, 0.24108448950311662, 0.243709949652043, 0.2763472862991534, 0.2871155871268451, 0.29688735848138864, 0.2907056863079014, 0.2933311464563027, 0.2851600327900281, 0.28272428744258393, 0.28974239820314035, 0.30525073553004467, 0.30616117390493064, 0.30376390279245613, 0.30041988885646115, 0.27987618828777566, 0.29040690894353843, 0.29936970479815084, 0.2928854369748429, 0.2909157231197735, 0.31380973561383296, 0.3122344595247922, 0.32930108618102144, 0.34451665537603937, 0.3594927421960158, 0.3647100565934672, 0.37739838040758766, 0.37808982878918196, 0.3545028147569409, 0.3626366490545877, 0.3797087853381808, 0.35923019618117563, 0.3341940296662097, 0.32142357006572553, 0.29700679066353947, 0.3306535661456182, 0.3348091249371846, 0.3726263020350161, 0.40323296077968496, 0.3942806202755932, 0.39861209840719536, 0.413839767267923, 0.42376400662940505, 0.4163076998074202, 0.42190757342984575, 0.4106892150898414, 0.4211348708362709, 0.447918239994172, 0.47812870564266624, 0.5005324613749604, 0.5094048762113426, 0.5000598785414221, 0.5108598044469985, 0.5524582287009521, 0.5627446447391582, 0.577405934509124, 0.5997223457747359, 0.6031427299162464, 0.7037381088736382, 0.8603521650625745, 0.8227645336462908, 0.7619873264903536, 0.7733185534886851, 0.8559126466876172, 0.8427349371055104, 0.8258794829580249, 0.8518468066078276, 0.9116270114048118, 1.0, 0.9861480722397066, 0.9846428460602367, 0.8995498947216406, 0.8554421642290237, 0.7936388323356568, 0.6862083736676705, 0.7168178683934344, 0.700382487869168, 0.7067361014088708, 0.815014580345252, 0.7976825660567496, 0.7418829187060626, 0.7417877915316774, 0.6392055907777116, 0.7136327642991741, 0.6917047858124833, 0.7644962246889274, 0.786130016311229, 0.7870556502487488, 0.8792813423765077, 0.8916067010194344, 0.8399222066543593, 0.7742004880009727, 0.7461212873320291, 0.7705872922326933, 0.6885508872916837, 0.7159003931016809, 0.7365088193956498, 0.7026403835920674, 0.7036905676514279, 0.5736094131216054, 0.5701132109072733, 0.5687419207494286, 0.5897739127607048, 0.6601171119748022, 0.5949965175076135, 0.5559821797023701, 0.5581229791092366, 0.5886324021078887, 0.5771677987898277, 0.5723813195346761, 0.5934507194964909, 0.6128496412458686, 0.5801364130676621, 0.5252401075970016, 0.5294259995436753, 0.4736776796978723, 0.4564772400826861, 0.47456195257204037, 0.4195112862831249, 0.3560796440030941, 0.3961966750097555, 0.3880262053877586, 0.42381651583184793, 0.4465169482694855, 0.4401164955902722, 0.41436485929760325, 0.4584725897907453, 0.4369762858148905, 0.4878777425559828, 0.515917657837766, 0.5241616029736434, 0.5707897749393535, 0.535608608951301, 0.5764082596490558, 0.5796199895181785, 0.5388673563478742, 0.5075969488317278, 0.5235440944784174, 0.49995486013548607, 0.49256144776300304, 0.5334582960451864, 0.5466446960463599, 0.53261911806245, 0.5648974283681514, 0.5693848285132297, 0.5913733825369507, 0.5945032040491448, 0.5910583272267264, 0.5542506727832537, 0.5109610063144582, 0.47800305709393576, 0.4753011942798797, 0.45063699849440686, 0.49068861886464465, 0.4685179048734812, 0.4695524075377341, 0.4205609446555265, 0.424332282227081, 0.4242714414434877, 0.40281283464463746, 0.4211910556834466, 0.4427723381033054, 0.4572590284155882, 0.45824685097967943, 0.44807614586939754, 0.4583518186239188, 0.4386931033873946, 0.4345711592096067, 0.41680774736953424, 0.399279842857021, 0.4077268462366544, 0.3624018973943197, 0.34965909827619474, 0.354708061900382, 0.3488869544340988, 0.3612724968780735, 0.37982799901273506, 0.34610001206431756, 0.34636544145348414, 0.33788760156394854, 0.35240399979533227, 0.3597552882108559, 0.34565855125159606, 0.3494634844291228, 0.35641885673556767, 0.4070135708059412, 0.4041255647188381, 0.41047917826851765, 0.42938249134645873, 0.413839767267923, 0.4049709628866233, 0.41931073355011955, 0.4257593562319206, 0.455847129642344, 0.4596277921751777, 0.45227650379273476, 0.45978415324645483, 0.49646987430278067, 0.4558483937436453, 0.47821605010672313, 0.4589982069171811, 0.4805664280529681, 0.48545181808458365, 0.474687060468689, 0.4669251701355444, 0.47606317278503407, 0.5023746344995683, 0.5010050441397118, 0.5093208192366389, 0.4983795840254416, 0.48367700721539786, 0.4737527678544409, 0.47897218262998786, 0.4642486021172282, 0.43091741232928094, 0.43546056230326713, 0.44753036941395896, 0.445922890281387, 0.4343047041287733, 0.4283745150104137, 0.4133146752382427, 0.42329142380216767, 0.42221498514132316, 0.4382565466485803, 0.430707969525142, 0.4099137180226461, 0.3849071964215136, 0.38837280389459183, 0.38180915355614425, 0.37560030091737745, 0.3764257087181729, 0.36343093241861774, 0.3821501173387387, 0.37818601845315825, 0.3839095215756229, 0.38600988968646754, 0.39200791787006684, 0.3954615462291138, 0.3838011174655451, 0.3908790694350555, 0.39231099416497717, 0.39462630947373234, 0.3902432683161428, 0.383909521576148, 0.3457832824010145, 0.3515951521285306, 0.33402577875704814, 0.32101929343294866, 0.33859033236326846, 0.32542221025747525, 0.3310768421560002, 0.3288798768656565, 0.34318786881511615, 0.3448426745679365, 0.34521023898871267, 0.34309058769852263, 0.3078586838592562, 0.31430030378142626, 0.3136424570454126, 0.31827301795328045, 0.30978753065913084, 0.3129102833619428, 0.2990021403379927, 0.3160413767772556, 0.326176896756054, 0.32398601914956154, 0.33792359370884745, 0.33180250808409534, 0.336420363259782, 0.33361701485791545, 0.33743887694944474, 0.34557780340948885, 0.34261189361500266, 0.34003808249688716, 0.32131855163826073, 0.3253092512722922, 0.31853556388095533, 0.3171515019522052, 0.31898801808552163, 0.3236886296023828, 0.34426507333528816, 0.37500984299436535, 0.37775439280423595, 0.38313177423073513, 0.3760634836678706, 0.3797828548330148, 0.3794462393238658, 0.39598663825879404, 0.43221798830673214, 0.4197751456119416, 0.4074337521491648, 0.4204284332070024, 0.4221362213368711, 0.4223016841858863, 0.4200387159600354, 0.3965932098909577, 0.3905265943570965, 0.3863701750258085, 0.37977259107649874, 0.35844255813665526, 0.3599758268638467, 0.3544256041096013, 0.34305736166702355, 0.32030213504066746, 0.3333086868261902, 0.3133896619900887, 0.31722283380675464, 0.32199028772270083, 0.3186930661441922, 0.3156331302602263, 0.319620399610853, 0.32210075595431964, 0.3360736376722761, 0.32604437990538304, 0.3312672347483746, 0.31879810989579543, 0.3302946449239578, 0.3242993731637101, 0.3335330743302457, 0.341667032621024, 0.3437972742508183, 0.3431178312693623, 0.35319163783985263, 0.36218075080027884, 0.35986635653549937, 0.35776597704486024, 0.35957320992410413, 0.36878687112135644, 0.3739327730116979, 0.37222359845561376, 0.3770352853023712, 0.34242725123193235, 0.33245050267010773, 0.32608317932984676, 0.3152212543181148, 0.31868181605900836, 0.32209745716288557, 0.32095901902517054, 0.3234402996555813, 0.331315033160136, 0.3310893657437331, 0.3327961100715109, 0.3319296747137906, 0.31897013020119613, 0.32332411480637074, 0.325831031516086, 0.33150724505514356, 0.345443068236126, 0.344055036420498, 0.34305476676723134, 0.33666395965631296, 0.328821591650362, 0.33009046997590885, 0.342034417751227, 0.33932973892375057, 0.3370382159785629, 0.33822651499396517, 0.33758590271775524, 0.33410982333537925, 0.33213195989710703, 0.3372083392829378, 0.33942956784883294, 0.33718573311434236, 0.337593195969324, 0.3410653581672589, 0.3400600399641636, 0.338762108864239, 0.3188130482389478, 0.3216394229449943, 0.3229584794209099, 0.32364848638287536, 0.3450527113798086, 0.3455124255503599, 0.3445145058335772, 0.3377014229642849, 0.3334028653729902, 0.33680550283004745, 0.3367691638623881, 0.33620779082733204, 0.3348740354160987, 0.33515336042749133, 0.33397326955355505, 0.33402577875652306, 0.3320452375967429, 0.33166286462296185, 0.32404903019259806, 0.32311625648580955, 0.3254301219724133, 0.3269510631355527, 0.3285337137210266, 0.32599711636181483, 0.33098024498437756, 0.33042305113788245, 0.33291113229345487, 0.3358846045415912, 0.33088722081617344, 0.3277089216399946, 0.32863954119348776, 0.32968342414849217, 0.3294879334360262, 0.33022710880216327, 0.30091489712559405, 0.29227034293573395, 0.2872237078904375, 0.2862629121806783, 0.2877827683088752, 0.2492521221116874, 0.23060104070732967, 0.2356760415974099, 0.21956304964379875, 0.2227587776693758, 0.19714354814011403, 0.20595259608016636, 0.192787624439911, 0.1943539615806768, 0.21474809803997225, 0.2159369865284128, 0.20279811303322032, 0.2107898719501059, 0.20919295751269368, 0.19489484837650944, 0.19831964458804663, 0.18856529632684244, 0.17485543466263304, 0.1692302110446932, 0.16963264425053387, 0.1769713213538247, 0.17131393624183583, 0.1680966973775601, 0.17155810878614475, 0.16395144446434212, 0.15978224301468513, 0.15949278818410084, 0.15989185958326313, 0.1746812605888295, 0.18231655610857267, 0.1832017146496912, 0.20331225427124705, 0.19206925189045682, 0.19796731574979315, 0.1969295007273033, 0.20119157445494357, 0.18703563348118185, 0.18909571574754708, 0.1778251375040284, 0.19227254376393466, 0.18446643168181354, 0.19005814642690738, 0.18470127831075112, 0.18991740838990928, 0.19324334495319329, 0.1881477340870032, 0.1898829016878299, 0.18888021535310612, 0.20002229278212008, 0.19933401317392235, 0.19825491409177698, 0.19883926043977557, 0.17892819344847205, 0.17964874201762893, 0.17871691524657907, 0.17307385133760517, 0.1811189797136306, 0.1772281877884394, 0.17909224103269245, 0.18059956077771394, 0.1794911944216218, 0.1832870847136321, 0.17625436164271513, 0.17599684296293533, 0.1781279200388282, 0.177080060036791, 0.17794946078663754, 0.17790186847927386, 0.1780117961727558, 0.17719256357815116, 0.17128514075205076, 0.16957255676764188, 0.17233838585377653, 0.1707311966281898, 0.17271869551518337, 0.17480454169503268, 0.1720354126963925, 0.1724795993910127, 0.17284367955995028, 0.16954070045918085, 0.1691144832445119, 0.18279927420860748, 0.18329861226217026, 0.18368142882004557, 0.18140995263568155, 0.1814237225156945, 0.18013051081218479, 0.1791839019821735, 0.17992754584157616, 0.1807098369301432, 0.18330708238360183, 0.1955240929600482, 0.19617441839072347, 0.19911629899463484, 0.19750626548834832, 0.19888286268465027, 0.20653935545708174, 0.18757463959847448, 0.1915673869554229, 0.19074326131699432, 0.19100226134177534, 0.19124212917899946, 0.1915760195051473, 0.19140342800621202, 0.19052217296353585, 0.18590894193782082, 0.1932516805381705, 0.19340309397443078, 0.19422063082160712, 0.19331214173483602, 0.19751730866469358, 0.19650980359244402, 0.19405567203573593, 0.19441980231525613, 0.19361966689087112, 0.1942105391928839, 0.19660335162921339, 0.20094384466627813, 0.19993827805212028, 0.20004887810809313, 0.201472107101341, 0.2027887107752439, 0.19973122832602652, 0.20002460840384, 0.2008519381884898, 0.20020660008506297, 0.19771188773443138, 0.19783561533951477, 0.20303999667616746, 0.20214968803242178, 0.20614507354571882, 0.2061816222902696, 0.20615322648951062, 0.2082662376481002, 0.24588487146923643, 0.25000580308738424, 0.2474035748755029, 0.25345034714218057, 0.255842999442244, 0.26234734927790376, 0.265775355928365, 0.26125460487230073, 0.2694108149769939, 0.254322059571356, 0.2559564064343714, 0.25576640474623336, 0.2598140522596727, 0.25488152251851753, 0.26243076637073426, 0.2638307209937251, 0.2668567181891889, 0.26685911009207813, 0.2683826528231535, 0.2667593395955612, 0.27232411561671904, 0.27912452779007063, 0.27463958156387575, 0.2652152302510008, 0.26958182409114423, 0.26872146788505474, 0.26966542986476866, 0.2658908871671712, 0.27003793874007925, 0.27393424687991386, 0.2794410084016989, 0.2936724562755949, 0.29741636244721514, 0.2939294001171762, 0.2922433666257105, 0.2975843918967128, 0.3047729017987884, 0.31484416691177797, 0.32573457558109203, 0.36947371774972954, 0.3571608915838187, 0.4008156116051259, 0.4106892150898414, 0.41960983163071747, 0.40406969741529125, 0.3766855119331742, 0.37223315603161183, 0.4192487595554401, 0.4067441278338384, 0.40560428143500604, 0.391197987332227, 0.4026670724252315, 0.4093916576648335, 0.41260435659969846, 0.4433820920950968, 0.45007539147099124, 0.4486108129832194, 0.44497772462796253, 0.42514235733640915, 0.4395686270321886, 0.4391891630020904, 0.44873164983538316, 0.41690844732357657, 0.3944895567592175, 0.3987956296062652, 0.39938984446980835, 0.41037415987203324, 0.4051757487781986, 0.39181744961718185, 0.41009792079814406, 0.40478536023992845, 0.4175154114756848, 0.4217161477131269, 0.4460384105258163, 0.4531833225097754, 0.4615665826349421, 0.4794983954470766, 0.46721060722813923, 0.4763257188024997, 0.49051287496940804, 0.5250148814705659, 0.5540058158255918, 0.5629636721720367, 0.5707702793187999, 0.6110039787266709, 0.6785642032624553, 0.5843643548398525, 0.642324158297512, 0.6163875539350165, 0.5597438240073198, 0.5484716768455264, 0.5596148044638507, 0.6172079103630886, 0.5766679209705383, 0.5664578539698127, 0.5821535471621629, 0.5900173102350469, 0.6343843735347697, 0.6501634706201869, 0.6268659359140734, 0.5859221822472942, 0.60786935396139, 0.5884050908940375, 0.525564860117797, 0.5596526442322213, 0.48439219150581536, 0.4982168055177695, 0.5484074838807167, 0.5426005365612211, 0.5550922368786895, 0.5462750625030662, 0.5337800963137584, 0.5088224234854026, 0.5031988786953757, 0.5094685416014876, 0.5064949252140138, 0.4878609419240634, 0.4910358112941461, 0.4901352179658164, 0.49360124498952673, 0.519645249394248, 0.5352935537329677, 0.5432227576135382, 0.5584687515633425, 0.5649070426971462, 0.6110759919080824, 0.5939642543613922, 0.6183113316901957, 0.6199451648635548, 0.6140073888821169, 0.5849147505377524, 0.5965331994290898, 0.5885417392559631, 0.5622198754546687, 0.5184474441941297, 0.5320586590109825, 0.5340670545407282, 0.5269514513770475, 0.5322480199566214, 0.5637936084699392, 0.554939079717342, 0.5227631633566785, 0.5211483108597719, 0.535858075804261, 0.5220097755661164, 0.5229003059199949, 0.5353184359681004, 0.5252708144054968, 0.5020603210230856, 0.48871736560724854, 0.49364763188617533, 0.4942418588530898, 0.5012532145404507, 0.5338858350425161, 0.5455331633795528, 0.5450287600477796, 0.5455037972727843, 0.5315475164160096, 0.5400921623777133, 0.5364359026852323, 0.5319619960757838, 0.5217448128215108, 0.5240111346305738, 0.5364060607327151, 0.533812466233112, 0.5333822187643599, 0.5312440898752637, 0.529265497231188, 0.5255692416684247, 0.5243377813436777, 0.528515665820681, 0.5242793283373255, 0.5148952864403112, 0.5171928310190739, 0.4998077818579726, 0.4370243725210795, 0.4334432377757402, 0.4126536668375283, 0.4194379624294749, 0.42150085998200815, 0.41328031504681634, 0.42541652209987146, 0.4264367250594274, 0.4294822473268065, 0.4219399676504584, 0.417817652994514, 0.4171848821449482, 0.40344294508025375, 0.42061187917418424, 0.419526478310314, 0.43997097215121583, 0.4399022767947743, 0.423073510636105, 0.42653562845834847, 0.4254901718986229, 0.4288095963388168, 0.41925638937682247, 0.4106908142040584, 0.4145071464190999, 0.40804933300844576, 0.4081824508568749, 0.4222999057516911, 0.42114085396169676, 0.4118521664663424, 0.3826035703938424, 0.37997133135354605, 0.4451872355129087, 0.4753079377448658, 0.49078788863287703, 0.4743332456961299, 0.48469705275236324, 0.47144520824107916, 0.470649220726048, 0.47486363099162865, 0.4783884459752715, 0.47357509552774485, 0.4837174095378918, 0.4794536512546347, 0.4811723183939761, 0.4744191349180355, 0.4514363565930298, 0.4531058734139443, 0.46498184475784754, 0.4493255245968187, 0.4541413089824268, 0.45141062709407725, 0.44501678746904366, 0.43542104968883194, 0.4364608464060163, 0.4370593368203842, 0.4206816044414069, 0.41748443104698385, 0.41577210594029684, 0.39128286632485076, 0.3721316497499244, 0.3745063046750476, 0.3523520156854441, 0.3638349789733953, 0.3663136876489602, 0.38490217970486423, 0.3801477622802444, 0.39711408201224035, 0.38661285096909226, 0.3788605000169818, 0.3741897357880979, 0.3734864447869948, 0.36804649137473494, 0.3786253259417047, 0.38588394292432104, 0.3838192614540564, 0.38490908524213063, 0.3761605664225484, 0.3699449587930256, 0.369221253397891, 0.36854554522223665, 0.3715644441296518, 0.3615269634252496, 0.36438913550538377, 0.3527034602015078, 0.3381910712851123, 0.3726990049080056, 0.3661744391048164, 0.3680989201740361, 0.365237244379908, 0.38417206759098815, 0.37495047041482016, 0.37193093274450295, 0.3689301692623984, 0.3688866386064706, 0.37145621790552596, 0.37458384794140837, 0.37855353863073016, 0.37116553800110547, 0.3683529846535192, 0.3687639332941332, 0.3563929019033473, 0.3762872923902865, 0.37668814757065633, 0.377065903893305, 0.39789548394252, 0.4186036845924323, 0.41343771111544114, 0.40131761294856727, 0.42088397945379213, 0.41187448050051223, 0.42028269205586394, 0.4163616676089279, 0.45352663068650756, 0.45405173576367447, 0.448733578006922, 0.4586205168317413, 0.45881610800218886, 0.4476651666474237, 0.4444504007712735, 0.4493239310995111, 0.44657657217697944, 0.43199184639091665, 0.4338587472123972, 0.42867619699012594, 0.4429678275046165, 0.4585034683993759, 0.4833181490331361, 0.47917563659622464, 0.49014107025826203, 0.4816324696600594, 0.4834345178803698, 0.48076647802243233, 0.47875952198732785, 0.47341451252174, 0.49520841670224414, 0.5036630121622702, 0.5060051717855149, 0.5101065559481242, 0.5238730440461535, 0.5077700841028417, 0.5274011562848112, 0.5329921276828481, 0.5278681051633708, 0.5336180610539009, 0.5108495838147156, 0.5114856760330975, 0.499606299856475, 0.5241043682081048, 0.49466718340185667, 0.4945957567797479, 0.4988627936966811, 0.4975103640705568, 0.5123973213404152, 0.49780880901123303, 0.4799096469775764, 0.4521311105786021, 0.4536939475761441, 0.4471831111526196, 0.43837046186153045, 0.4386004819274957, 0.4584200202463016, 0.45025988933088185, 0.45018496867499497, 0.46618252730318566, 0.4701501619117007, 0.45750209039025436, 0.41237044929003963, 0.4070293236440201, 0.4049793470609915, 0.4071996751980239, 0.24218874448313288, 0.28309423495888075, 0.26294643482685226, 0.27229070882648954, 0.25442101001064654, 0.2698590466088456, 0.27364843959113694, 0.3144321985571449, 0.31663185410871925, 0.3154739770997717, 0.2965556925248926, 0.3303817983789628, 0.3449166358827854, 0.3414064200165659, 0.344356327006063, 0.3247955573895707, 0.3181108494098381, 0.2993685942600136, 0.3263550920366049, 0.3272511573934446, 0.3394865492511661, 0.3473609441721793, 0.34438863465107705, 0.35078047274238905, 0.3461466343093143, 0.37563301276983446, 0.3687626755201908, 0.377051794907284, 0.3731602776556693, 0.3508643486758628, 0.35175139631169644, 0.3530831538265207, 0.34964407861151464, 0.35126314372591605, 0.33828671415448014, 0.36358688882562185, 0.35964886551612374, 0.37127475222999284, 0.36461633123574494, 0.3492078417550891, 0.34993273077907106, 0.36470923410558975, 0.38722077740432903, 0.3845867624466034, 0.38646754474748124, 0.3946542855348261, 0.39878226724124993, 0.3971282127354961, 0.4514986935355208, 0.4435053170857651, 0.45389106250275124, 0.4617129210042263, 0.45751404667223394, 0.456409638057116, 0.4643134094444385, 0.47111937881639143, 0.5145969935788892, 0.5052736574354273, 0.49165011679835335, 0.44890793876879526, 0.4400835066330987, 0.4534329501044328, 0.4792137249636408, 0.5047895650183244, 0.4799057023276716, 0.48312477058002296, 0.4987135425767968, 0.5016919571234397, 0.5037051338251023, 0.4900492605880156, 0.46679143967064574, 0.47200173668990403, 0.47266387513644964, 0.44845106788914524, 0.45787946752346986, 0.4550198582563293, 0.4737406913416141, 0.49339120976395756, 0.4851971095771007, 0.49969547517886537, 0.4869354548542593, 0.5251243330300238, 0.4907133628467216, 0.4982293061164482, 0.5049312660924831, 0.49589687762261936, 0.4985815111784332, 0.5023685163141712, 0.5041030871699601, 0.5038568901700872, 0.5095474711638409, 0.4777111001625485, 0.4875470015800774, 0.4881176292450609, 0.48104849677274003, 0.4854610104485733, 0.490688456745631, 0.48754085441800177, 0.48346831291734493, 0.47929119579618146, 0.4820564261860362, 0.4787857621571825, 0.4990486805987957, 0.49596231086845555, 0.4787912711182046, 0.47641592275339645, 0.4718371334034141, 0.46377021152219877, 0.46914192632039253, 0.47311852538457816, 0.47032597004932164, 0.4752948841859481, 0.46768875220559575, 0.4664559798622744, 0.4702193246635848, 0.46708410284818747, 0.48129622492626895, 0.4765801423829702, 0.4861556445908165, 0.47576649578878977, 0.4780468977515956, 0.47544351672536755, 0.47875543267246856, 0.4759026122198873, 0.4766024208663093, 0.47364532451837715, 0.47023068507532995, 0.47139818263036193, 0.4721512467983047, 0.4741343725329925, 0.4716163456115832, 0.4833619519975897, 0.4902522831270888, 0.494905574906083, 0.49152955465018533, 0.49996673162665495, 0.5119791745276964, 0.5694796406870066, 0.5633418221997627, 0.5735225639254011, 0.5734094414764438, 0.5858777120158427, 0.61051595901553, 0.5718398209131625, 0.57992637625579, 0.5782154232602595, 0.6071364084146903, 0.608274637465485, 0.5994180233146178, 0.6081481828190997, 0.6039955058328847, 0.6149500146349384, 0.5889863141358933, 0.5979200662918185, 0.608906363068957, 0.6078987316737425, 0.6129187394387379, 0.6158830564537172, 0.6355743084428849, 0.6181005668135451, 0.6075987262199398, 0.6132026872794956, 0.595914190614662, 0.6032598903328887, 0.6022023699922429, 0.6075606859078961, 0.5851905742354913, 0.5924078138012898, 0.5854781079449473, 0.595600068784693, 0.5928072534117863, 0.6057395550519136, 0.6023478059231372, 0.6166010561794288, 0.5884769379531337, 0.5239456586065402, 0.5395535585665054, 0.5244241487185862, 0.5286879727354891, 0.5351929192815306, 0.5223574330223701, 0.5272905169235996, 0.5335381662579268, 0.5360347389928166, 0.5387948742970868, 0.5330325495944253, 0.5512742202424546, 0.5569160209784899, 0.5657874707650336, 0.5649645359129819, 0.5647426058343743, 0.5723523846639377, 0.5639002994562433, 0.5373856027404238, 0.5434574732152114, 0.5281151956913468, 0.5543610128273058, 0.551655188439629, 0.5536760093838016, 0.5562641192793016, 0.5522492068436649, 0.559852604905585, 0.5566556852293296, 0.5483276375517872, 0.5455309391322476, 0.5441336745194935, 0.5507012919555301, 0.5572921040995868, 0.5472944978720662, 0.5508512434704683, 0.5640464590306412, 0.5709998117512255, 0.5835670089243427, 0.5874589526877346, 0.5960502432980117, 0.5902565896467913, 0.5900065740674092, 0.5944519290770929, 0.584803429377096, 0.5869739078655344, 0.5945879751448082, 0.6075305588928928, 0.6159268551460222, 0.6620404115118669, 0.6716153356280445, 0.669139185963807, 0.6789300368144976, 0.6746930175600522, 0.6759681632806223, 0.706399784673411, 0.687617460015448, 0.6967120945769772, 0.7025281056433704, 0.7147962346456568, 0.7124731365147288, 0.7025796312029913, 0.7016714980052197]}, {\"mode\": \"lines\", \"name\": \"train\", \"type\": \"scatter\", \"x\": [60, 61, 62, 63, 64, 65, 66, 67, 68, 69, 70, 71, 72, 73, 74, 75, 76, 77, 78, 79, 80, 81, 82, 83, 84, 85, 86, 87, 88, 89, 90, 91, 92, 93, 94, 95, 96, 97, 98, 99, 100, 101, 102, 103, 104, 105, 106, 107, 108, 109, 110, 111, 112, 113, 114, 115, 116, 117, 118, 119, 120, 121, 122, 123, 124, 125, 126, 127, 128, 129, 130, 131, 132, 133, 134, 135, 136, 137, 138, 139, 140, 141, 142, 143, 144, 145, 146, 147, 148, 149, 150, 151, 152, 153, 154, 155, 156, 157, 158, 159, 160, 161, 162, 163, 164, 165, 166, 167, 168, 169, 170, 171, 172, 173, 174, 175, 176, 177, 178, 179, 180, 181, 182, 183, 184, 185, 186, 187, 188, 189, 190, 191, 192, 193, 194, 195, 196, 197, 198, 199, 200, 201, 202, 203, 204, 205, 206, 207, 208, 209, 210, 211, 212, 213, 214, 215, 216, 217, 218, 219, 220, 221, 222, 223, 224, 225, 226, 227, 228, 229, 230, 231, 232, 233, 234, 235, 236, 237, 238, 239, 240, 241, 242, 243, 244, 245, 246, 247, 248, 249, 250, 251, 252, 253, 254, 255, 256, 257, 258, 259, 260, 261, 262, 263, 264, 265, 266, 267, 268, 269, 270, 271, 272, 273, 274, 275, 276, 277, 278, 279, 280, 281, 282, 283, 284, 285, 286, 287, 288, 289, 290, 291, 292, 293, 294, 295, 296, 297, 298, 299, 300, 301, 302, 303, 304, 305, 306, 307, 308, 309, 310, 311, 312, 313, 314, 315, 316, 317, 318, 319, 320, 321, 322, 323, 324, 325, 326, 327, 328, 329, 330, 331, 332, 333, 334, 335, 336, 337, 338, 339, 340, 341, 342, 343, 344, 345, 346, 347, 348, 349, 350, 351, 352, 353, 354, 355, 356, 357, 358, 359, 360, 361, 362, 363, 364, 365, 366, 367, 368, 369, 370, 371, 372, 373, 374, 375, 376, 377, 378, 379, 380, 381, 382, 383, 384, 385, 386, 387, 388, 389, 390, 391, 392, 393, 394, 395, 396, 397, 398, 399, 400, 401, 402, 403, 404, 405, 406, 407, 408, 409, 410, 411, 412, 413, 414, 415, 416, 417, 418, 419, 420, 421, 422, 423, 424, 425, 426, 427, 428, 429, 430, 431, 432, 433, 434, 435, 436, 437, 438, 439, 440, 441, 442, 443, 444, 445, 446, 447, 448, 449, 450, 451, 452, 453, 454, 455, 456, 457, 458, 459, 460, 461, 462, 463, 464, 465, 466, 467, 468, 469, 470, 471, 472, 473, 474, 475, 476, 477, 478, 479, 480, 481, 482, 483, 484, 485, 486, 487, 488, 489, 490, 491, 492, 493, 494, 495, 496, 497, 498, 499, 500, 501, 502, 503, 504, 505, 506, 507, 508, 509, 510, 511, 512, 513, 514, 515, 516, 517, 518, 519, 520, 521, 522, 523, 524, 525, 526, 527, 528, 529, 530, 531, 532, 533, 534, 535, 536, 537, 538, 539, 540, 541, 542, 543, 544, 545, 546, 547, 548, 549, 550, 551, 552, 553, 554, 555, 556, 557, 558, 559, 560, 561, 562, 563, 564, 565, 566, 567, 568, 569, 570, 571, 572, 573, 574, 575, 576, 577, 578, 579, 580, 581, 582, 583, 584, 585, 586, 587, 588, 589, 590, 591, 592, 593, 594, 595, 596, 597, 598, 599, 600, 601, 602, 603, 604, 605, 606, 607, 608, 609, 610, 611, 612, 613, 614, 615, 616, 617, 618, 619, 620, 621, 622, 623, 624, 625, 626, 627, 628, 629, 630, 631, 632, 633, 634, 635, 636, 637, 638, 639, 640, 641, 642, 643, 644, 645, 646, 647, 648, 649, 650, 651, 652, 653, 654, 655, 656, 657, 658, 659, 660, 661, 662, 663, 664, 665, 666], \"y\": [0.007988572120666504, 0.008014261722564697, 0.008288741111755371, 0.008397072553634644, 0.00846526026725769, 0.008624792098999023, 0.008173495531082153, 0.0075432658195495605, 0.007668673992156982, 0.008088767528533936, 0.008214861154556274, 0.008872449398040771, 0.008666753768920898, 0.008673131465911865, 0.008847564458847046, 0.008690029382705688, 0.00849771499633789, 0.008185476064682007, 0.00811108946800232, 0.009163916110992432, 0.008999019861221313, 0.009250551462173462, 0.009069889783859253, 0.009208381175994873, 0.008988559246063232, 0.009110093116760254, 0.009138435125350952, 0.009167015552520752, 0.009152710437774658, 0.009115010499954224, 0.009170204401016235, 0.008690834045410156, 0.00855305790901184, 0.008696705102920532, 0.008989959955215454, 0.009112745523452759, 0.008786320686340332, 0.008698731660842896, 0.008879929780960083, 0.008855164051055908, 0.0088215172290802, 0.008676022291183472, 0.008583664894104004, 0.008487552404403687, 0.008540153503417969, 0.008557021617889404, 0.008215755224227905, 0.008286893367767334, 0.008231252431869507, 0.008355766534805298, 0.008380204439163208, 0.008391737937927246, 0.008689552545547485, 0.00890842080116272, 0.008527606725692749, 0.008836299180984497, 0.00889238715171814, 0.008830547332763672, 0.008671462535858154, 0.009320110082626343, 0.00962856411933899, 0.009583741426467896, 0.009174495935440063, 0.009276330471038818, 0.009254813194274902, 0.009215623140335083, 0.008893370628356934, 0.0091189444065094, 0.009213835000991821, 0.009471625089645386, 0.00952446460723877, 0.00978502631187439, 0.010007798671722412, 0.01022985577583313, 0.009926944971084595, 0.009887009859085083, 0.009914159774780273, 0.010372430086135864, 0.010539203882217407, 0.010352164506912231, 0.010585427284240723, 0.010539263486862183, 0.011344939470291138, 0.011737436056137085, 0.012789279222488403, 0.012044161558151245, 0.011806488037109375, 0.011489450931549072, 0.011377304792404175, 0.011276483535766602, 0.011067628860473633, 0.011111646890640259, 0.011304348707199097, 0.011272042989730835, 0.011168986558914185, 0.011136621236801147, 0.011395633220672607, 0.011468678712844849, 0.011659324169158936, 0.011925578117370605, 0.01192513108253479, 0.012069344520568848, 0.01165086030960083, 0.011550843715667725, 0.01130339503288269, 0.011540710926055908, 0.01171615719795227, 0.011727720499038696, 0.011690646409988403, 0.011516720056533813, 0.011129945516586304, 0.010465383529663086, 0.010546565055847168, 0.010484009981155396, 0.010609298944473267, 0.01046183705329895, 0.010321110486984253, 0.010362058877944946, 0.010096579790115356, 0.009952545166015625, 0.010159313678741455, 0.0066089928150177, 0.007681101560592651, 0.008369982242584229, 0.008645832538604736, 0.008429646492004395, 0.008329838514328003, 0.007531523704528809, 0.007712900638580322, 0.008127361536026001, 0.00792628526687622, 0.00826755166053772, 0.008580058813095093, 0.007808268070220947, 0.007992178201675415, 0.00802004337310791, 0.00814598798751831, 0.008367002010345459, 0.008440971374511719, 0.008533507585525513, 0.008760988712310791, 0.00913575291633606, 0.009016752243041992, 0.008997172117233276, 0.009127408266067505, 0.008956074714660645, 0.008953958749771118, 0.008370250463485718, 0.008299857378005981, 0.008484512567520142, 0.008432835340499878, 0.008505851030349731, 0.008775681257247925, 0.008691459894180298, 0.0086536705493927, 0.008336246013641357, 0.008213818073272705, 0.008248209953308105, 0.008577853441238403, 0.008796364068984985, 0.00863143801689148, 0.008566945791244507, 0.008996576070785522, 0.009078145027160645, 0.008912503719329834, 0.00905182957649231, 0.008988738059997559, 0.009099841117858887, 0.00912398099899292, 0.008876293897628784, 0.00902530550956726, 0.009111136198043823, 0.009109199047088623, 0.009167522192001343, 0.009149163961410522, 0.009366780519485474, 0.009267538785934448, 0.009403377771377563, 0.009602099657058716, 0.009966671466827393, 0.010351479053497314, 0.010491520166397095, 0.010638952255249023, 0.010369062423706055, 0.010832458734512329, 0.010570704936981201, 0.010922163724899292, 0.011080443859100342, 0.011233419179916382, 0.011586695909500122, 0.011417418718338013, 0.012045055627822876, 0.0121232271194458, 0.01289394497871399, 0.013702690601348877, 0.013195455074310303, 0.013716548681259155, 0.015716463327407837, 0.01764652132987976, 0.0177861750125885, 0.01728200912475586, 0.01694542169570923, 0.017416328191757202, 0.01670593023300171, 0.01707136631011963, 0.015051037073135376, 0.013533234596252441, 0.014258503913879395, 0.01459774374961853, 0.014707386493682861, 0.013723105192184448, 0.014057666063308716, 0.01426813006401062, 0.014449656009674072, 0.014139503240585327, 0.013992220163345337, 0.014009624719619751, 0.014169156551361084, 0.013930469751358032, 0.01366230845451355, 0.013849198818206787, 0.015142589807510376, 0.015807539224624634, 0.015680253505706787, 0.01640978455543518, 0.016831934452056885, 0.016261905431747437, 0.01612800359725952, 0.01618054509162903, 0.016155600547790527, 0.01678258180618286, 0.017392754554748535, 0.017713069915771484, 0.01881694793701172, 0.01927068829536438, 0.019491463899612427, 0.0207044780254364, 0.020082801580429077, 0.019966959953308105, 0.020376503467559814, 0.02149730920791626, 0.02125418186187744, 0.021151036024093628, 0.021395236253738403, 0.021498143672943115, 0.02055579423904419, 0.020350784063339233, 0.02012169361114502, 0.020556360483169556, 0.020994454622268677, 0.021194040775299072, 0.019634664058685303, 0.01929423213005066, 0.01936662197113037, 0.019590556621551514, 0.01954159140586853, 0.019758909940719604, 0.020007610321044922, 0.020160317420959473, 0.019802749156951904, 0.019860446453094482, 0.019822627305984497, 0.019695758819580078, 0.021011024713516235, 0.02114969491958618, 0.020885050296783447, 0.020913153886795044, 0.020800024271011353, 0.0202215313911438, 0.020022541284561157, 0.019814789295196533, 0.01685360074043274, 0.01706191897392273, 0.016531705856323242, 0.01722732186317444, 0.016957908868789673, 0.01882380247116089, 0.01859310269355774, 0.017396628856658936, 0.017384439706802368, 0.01804792881011963, 0.017740875482559204, 0.01777780055999756, 0.01783081889152527, 0.017085939645767212, 0.016805946826934814, 0.016838759183883667, 0.016388386487960815, 0.016381651163101196, 0.016320377588272095, 0.01587560772895813, 0.017084866762161255, 0.017299920320510864, 0.016960620880126953, 0.016609370708465576, 0.016405880451202393, 0.0166684091091156, 0.017028719186782837, 0.017337441444396973, 0.01727411150932312, 0.0175437331199646, 0.018180370330810547, 0.018314599990844727, 0.01849609613418579, 0.018773019313812256, 0.019053637981414795, 0.019068926572799683, 0.019905120134353638, 0.02033841609954834, 0.020387381315231323, 0.01932540535926819, 0.018739312887191772, 0.01920449733734131, 0.019801825284957886, 0.019642382860183716, 0.01987132430076599, 0.020082473754882812, 0.020053833723068237, 0.019675731658935547, 0.019192785024642944, 0.018678992986679077, 0.017860472202301025, 0.018300145864486694, 0.01859143376350403, 0.018690645694732666, 0.018417954444885254, 0.018872708082199097, 0.019207149744033813, 0.018833965063095093, 0.018705666065216064, 0.01874089241027832, 0.018835514783859253, 0.01905462145805359, 0.019123435020446777, 0.018551945686340332, 0.018351882696151733, 0.018569201231002808, 0.01841181516647339, 0.018809229135513306, 0.018995195627212524, 0.01913583278656006, 0.019061565399169922, 0.019110918045043945, 0.01937425136566162, 0.019510239362716675, 0.01916903257369995, 0.018945306539535522, 0.019014686346054077, 0.01910609006881714, 0.01927235722541809, 0.019418269395828247, 0.01930147409439087, 0.01941657066345215, 0.01938265562057495, 0.019437819719314575, 0.019232332706451416, 0.01924079656600952, 0.019214540719985962, 0.019345492124557495, 0.019470930099487305, 0.019509226083755493, 0.019604146480560303, 0.019779235124588013, 0.019836127758026123, 0.019719421863555908, 0.01978123188018799, 0.020136654376983643, 0.020464181900024414, 0.020871073007583618, 0.020826667547225952, 0.02103579044342041, 0.021431028842926025, 0.021721869707107544, 0.021897882223129272, 0.02086251974105835, 0.02090051770210266, 0.02117389440536499, 0.02083316445350647, 0.020753473043441772, 0.020664095878601074, 0.02090469002723694, 0.020911455154418945, 0.02075996994972229, 0.021351724863052368, 0.021395474672317505, 0.021434903144836426, 0.021611422300338745, 0.02107986807823181, 0.020944178104400635, 0.021110951900482178, 0.02113458514213562, 0.02122136950492859, 0.021396517753601074, 0.021220684051513672, 0.02101743221282959, 0.02084675431251526, 0.020224452018737793, 0.020123004913330078, 0.020095407962799072, 0.020052552223205566, 0.020337700843811035, 0.020714163780212402, 0.020692527294158936, 0.020953387022018433, 0.021374136209487915, 0.022746771574020386, 0.02468457818031311, 0.025579094886779785, 0.0255204439163208, 0.025685667991638184, 0.025810331106185913, 0.027067571878433228, 0.027829885482788086, 0.028119415044784546, 0.02841857075691223, 0.028154700994491577, 0.028369128704071045, 0.028309643268585205, 0.02825203537940979, 0.029002666473388672, 0.032263606786727905, 0.034292757511138916, 0.03384208679199219, 0.03433677554130554, 0.03766220808029175, 0.037876516580581665, 0.03816065192222595, 0.03847140073776245, 0.03708779811859131, 0.034035950899124146, 0.029964298009872437, 0.030816465616226196, 0.03241086006164551, 0.03298342227935791, 0.03153449296951294, 0.03224793076515198, 0.03223332762718201, 0.031683772802352905, 0.03313779830932617, 0.03368303179740906, 0.03495630621910095, 0.03320956230163574, 0.033502936363220215, 0.03334999084472656, 0.03364953398704529, 0.032050251960754395, 0.03281605243682861, 0.032476961612701416, 0.032203853130340576, 0.03208732604980469, 0.032904744148254395, 0.03272855281829834, 0.03272584080696106, 0.03300505876541138, 0.03316718339920044, 0.03394657373428345, 0.033816248178482056, 0.03370937705039978, 0.033281534910202026, 0.0330355167388916, 0.03224119544029236, 0.032459110021591187, 0.032908231019973755, 0.03253406286239624, 0.032472074031829834, 0.03260764479637146, 0.03258523344993591, 0.032634615898132324, 0.032583415508270264, 0.03120100498199463, 0.030161529779434204, 0.026555925607681274, 0.027082473039627075, 0.028065741062164307, 0.028100401163101196, 0.028315037488937378, 0.029239505529403687, 0.029321759939193726, 0.02945992350578308, 0.029171645641326904, 0.028858840465545654, 0.028684943914413452, 0.028510242700576782, 0.027796268463134766, 0.027504414319992065, 0.027924835681915283, 0.0279996395111084, 0.028059184551239014, 0.028044521808624268, 0.028303414583206177, 0.028327524662017822, 0.028647303581237793, 0.028589457273483276, 0.028471171855926514, 0.028122246265411377, 0.028173714876174927, 0.027920246124267578, 0.027927160263061523, 0.02791610360145569, 0.028190910816192627, 0.02799844741821289, 0.027952611446380615, 0.02801695466041565, 0.029536813497543335, 0.02997937798500061, 0.029994845390319824, 0.03015485405921936, 0.03043729066848755, 0.031136006116867065, 0.031008362770080566, 0.030971229076385498, 0.03020837903022766, 0.030064910650253296, 0.030150026082992554, 0.03026413917541504, 0.030149996280670166, 0.02993336319923401, 0.029897600412368774, 0.03004792332649231, 0.029947996139526367, 0.02964797616004944, 0.0293271541595459, 0.029239922761917114, 0.029537200927734375, 0.029613763093948364, 0.029533177614212036, 0.029756903648376465, 0.02975425124168396, 0.029660433530807495, 0.029768139123916626, 0.029987305402755737, 0.0301358699798584, 0.030079126358032227, 0.030111104249954224, 0.030092865228652954, 0.030122458934783936, 0.03017154335975647, 0.030338197946548462, 0.030510514974594116, 0.030399680137634277, 0.03043144941329956, 0.031496405601501465, 0.0315055251121521, 0.031585365533828735, 0.03162536025047302, 0.031691908836364746, 0.031851112842559814, 0.03173068165779114, 0.0315282940864563, 0.03128370642662048, 0.031276583671569824, 0.03125593066215515, 0.03255462646484375, 0.03271371126174927, 0.03257444500923157, 0.03263530135154724, 0.03351485729217529, 0.03424513339996338, 0.034565091133117676, 0.03548923134803772, 0.03526651859283447, 0.03516799211502075, 0.03654921054840088, 0.03752785921096802, 0.03524342179298401, 0.035283029079437256, 0.035474568605422974, 0.03569144010543823, 0.03540876507759094, 0.03565827012062073, 0.036191582679748535, 0.03604936599731445, 0.03604152798652649, 0.03546065092086792, 0.03508329391479492, 0.03532245755195618, 0.03555023670196533, 0.037028491497039795, 0.03727036714553833, 0.0377887487411499, 0.037862300872802734, 0.03704538941383362, 0.03708204627037048, 0.03757360577583313, 0.037332355976104736, 0.03714898228645325, 0.037223219871520996, 0.03697192668914795, 0.036725908517837524, 0.036739498376846313, 0.036757469177246094, 0.037074774503707886, 0.03787824511528015, 0.03898799419403076, 0.03875589370727539, 0.03893497586250305, 0.038211703300476074, 0.038208454847335815, 0.03859475255012512, 0.03882041573524475, 0.03887835144996643, 0.03913164138793945, 0.038900673389434814, 0.03929626941680908, 0.03931981325149536, 0.03931814432144165, 0.03931185603141785]}, {\"mode\": \"lines\", \"name\": \"prediction\", \"type\": \"scatter\", \"x\": [667, 668, 669, 670, 671, 672, 673, 674, 675, 676, 677, 678, 679, 680, 681, 682, 683, 684, 685, 686, 687, 688, 689, 690, 691, 692, 693, 694, 695, 696, 697, 698, 699, 700, 701, 702, 703, 704, 705, 706, 707, 708, 709, 710, 711, 712, 713, 714, 715, 716, 717, 718, 719, 720, 721, 722, 723, 724, 725, 726, 727, 728, 729, 730, 731, 732, 733, 734, 735, 736, 737, 738, 739, 740, 741, 742, 743, 744, 745, 746, 747, 748, 749, 750, 751, 752, 753, 754, 755, 756, 757, 758, 759, 760, 761, 762, 763, 764, 765, 766, 767, 768, 769, 770, 771, 772, 773, 774, 775, 776, 777, 778, 779, 780, 781, 782, 783, 784, 785, 786, 787, 788, 789, 790, 791, 792, 793, 794, 795, 796, 797, 798, 799, 800, 801, 802, 803, 804, 805, 806, 807, 808, 809, 810, 811, 812, 813, 814, 815, 816, 817, 818, 819, 820, 821, 822, 823, 824, 825, 826, 827, 828, 829, 830, 831, 832, 833, 834, 835, 836, 837, 838, 839, 840, 841, 842, 843, 844, 845, 846, 847, 848, 849, 850, 851, 852, 853, 854, 855, 856, 857, 858, 859, 860, 861, 862, 863, 864, 865, 866, 867, 868, 869, 870, 871, 872, 873, 874, 875, 876, 877, 878, 879, 880, 881, 882, 883, 884, 885, 886, 887, 888, 889, 890, 891, 892, 893, 894, 895, 896, 897, 898, 899, 900, 901, 902, 903, 904, 905, 906, 907, 908, 909, 910, 911, 912, 913, 914, 915, 916, 917, 918, 919, 920, 921, 922, 923, 924, 925, 926, 927, 928, 929, 930, 931, 932, 933, 934, 935, 936, 937, 938, 939, 940, 941, 942, 943, 944, 945, 946, 947, 948, 949, 950, 951, 952, 953, 954, 955, 956, 957, 958, 959, 960, 961, 962, 963, 964, 965, 966, 967, 968, 969, 970, 971, 972, 973, 974, 975, 976, 977, 978, 979, 980, 981, 982, 983, 984, 985, 986, 987, 988, 989, 990, 991, 992, 993, 994, 995, 996, 997, 998, 999, 1000, 1001, 1002, 1003, 1004, 1005, 1006, 1007, 1008, 1009, 1010, 1011, 1012, 1013, 1014, 1015, 1016, 1017, 1018, 1019, 1020, 1021, 1022, 1023, 1024, 1025, 1026, 1027, 1028, 1029, 1030, 1031, 1032, 1033, 1034, 1035, 1036, 1037, 1038, 1039, 1040, 1041, 1042, 1043, 1044, 1045, 1046, 1047, 1048, 1049, 1050, 1051, 1052, 1053, 1054, 1055, 1056, 1057, 1058, 1059, 1060, 1061, 1062, 1063, 1064, 1065, 1066, 1067, 1068, 1069, 1070, 1071, 1072, 1073, 1074, 1075, 1076, 1077, 1078, 1079, 1080, 1081, 1082, 1083, 1084, 1085, 1086, 1087, 1088, 1089, 1090, 1091, 1092, 1093, 1094, 1095, 1096, 1097, 1098, 1099, 1100, 1101, 1102, 1103, 1104, 1105, 1106, 1107, 1108, 1109, 1110, 1111, 1112, 1113, 1114, 1115, 1116, 1117, 1118, 1119, 1120, 1121, 1122, 1123, 1124, 1125, 1126, 1127, 1128, 1129, 1130, 1131, 1132, 1133, 1134, 1135, 1136, 1137, 1138, 1139, 1140, 1141, 1142, 1143, 1144, 1145, 1146, 1147, 1148, 1149, 1150, 1151, 1152, 1153, 1154, 1155, 1156, 1157, 1158, 1159, 1160, 1161, 1162, 1163, 1164, 1165, 1166, 1167, 1168, 1169, 1170, 1171, 1172, 1173, 1174, 1175, 1176, 1177, 1178, 1179, 1180, 1181, 1182, 1183, 1184, 1185, 1186, 1187, 1188, 1189, 1190, 1191, 1192, 1193, 1194, 1195, 1196, 1197, 1198, 1199, 1200, 1201, 1202, 1203, 1204, 1205, 1206, 1207, 1208, 1209, 1210, 1211, 1212, 1213, 1214, 1215, 1216, 1217, 1218, 1219, 1220, 1221, 1222, 1223, 1224, 1225, 1226, 1227, 1228, 1229, 1230, 1231, 1232, 1233, 1234, 1235, 1236, 1237, 1238, 1239, 1240, 1241, 1242, 1243, 1244, 1245, 1246, 1247, 1248, 1249, 1250, 1251, 1252, 1253, 1254, 1255, 1256, 1257, 1258, 1259, 1260, 1261, 1262, 1263, 1264, 1265, 1266, 1267, 1268, 1269, 1270, 1271, 1272, 1273, 1274, 1275, 1276, 1277, 1278, 1279, 1280, 1281, 1282, 1283, 1284, 1285, 1286, 1287, 1288, 1289, 1290, 1291, 1292, 1293, 1294, 1295, 1296, 1297, 1298, 1299, 1300, 1301, 1302, 1303, 1304, 1305, 1306, 1307, 1308, 1309, 1310, 1311, 1312, 1313, 1314, 1315, 1316, 1317, 1318, 1319, 1320, 1321, 1322, 1323, 1324, 1325, 1326, 1327, 1328, 1329, 1330, 1331, 1332, 1333, 1334, 1335, 1336, 1337, 1338, 1339, 1340, 1341, 1342, 1343, 1344, 1345, 1346, 1347, 1348, 1349, 1350, 1351, 1352, 1353, 1354, 1355, 1356, 1357, 1358, 1359, 1360, 1361, 1362, 1363, 1364, 1365, 1366, 1367, 1368, 1369, 1370, 1371, 1372, 1373, 1374, 1375, 1376, 1377, 1378, 1379, 1380, 1381, 1382, 1383, 1384, 1385, 1386, 1387, 1388, 1389, 1390, 1391, 1392, 1393, 1394, 1395, 1396, 1397, 1398, 1399, 1400, 1401, 1402, 1403, 1404, 1405, 1406, 1407, 1408, 1409, 1410, 1411, 1412, 1413, 1414, 1415, 1416, 1417, 1418, 1419, 1420, 1421, 1422, 1423, 1424, 1425, 1426, 1427, 1428, 1429, 1430, 1431, 1432, 1433, 1434, 1435, 1436, 1437, 1438, 1439, 1440, 1441, 1442, 1443, 1444, 1445, 1446, 1447, 1448, 1449, 1450, 1451, 1452, 1453, 1454, 1455, 1456, 1457, 1458, 1459, 1460, 1461, 1462, 1463, 1464, 1465, 1466, 1467, 1468, 1469, 1470, 1471, 1472, 1473, 1474, 1475, 1476, 1477, 1478, 1479, 1480, 1481, 1482, 1483, 1484, 1485, 1486, 1487, 1488, 1489, 1490, 1491, 1492, 1493, 1494, 1495, 1496, 1497, 1498, 1499, 1500, 1501, 1502, 1503, 1504, 1505, 1506, 1507, 1508, 1509, 1510, 1511, 1512, 1513, 1514, 1515, 1516, 1517, 1518, 1519, 1520, 1521, 1522, 1523, 1524, 1525, 1526, 1527, 1528, 1529, 1530, 1531, 1532, 1533, 1534, 1535, 1536, 1537, 1538, 1539, 1540, 1541, 1542, 1543, 1544, 1545, 1546, 1547, 1548, 1549, 1550, 1551, 1552, 1553, 1554, 1555, 1556, 1557, 1558, 1559, 1560, 1561, 1562, 1563, 1564, 1565, 1566, 1567, 1568, 1569, 1570, 1571, 1572, 1573, 1574, 1575, 1576, 1577, 1578, 1579, 1580, 1581, 1582, 1583, 1584, 1585, 1586, 1587, 1588, 1589, 1590, 1591, 1592, 1593, 1594, 1595, 1596, 1597, 1598, 1599, 1600, 1601, 1602, 1603, 1604, 1605, 1606, 1607, 1608, 1609, 1610, 1611, 1612, 1613, 1614, 1615, 1616, 1617, 1618, 1619, 1620, 1621, 1622, 1623, 1624, 1625, 1626, 1627, 1628, 1629, 1630, 1631, 1632, 1633, 1634, 1635, 1636, 1637, 1638, 1639, 1640, 1641, 1642, 1643, 1644, 1645, 1646, 1647, 1648, 1649, 1650, 1651, 1652, 1653, 1654, 1655, 1656, 1657, 1658, 1659, 1660, 1661, 1662, 1663, 1664, 1665, 1666, 1667, 1668, 1669, 1670, 1671, 1672, 1673, 1674, 1675, 1676, 1677, 1678, 1679, 1680, 1681, 1682, 1683, 1684, 1685, 1686, 1687, 1688, 1689, 1690, 1691, 1692, 1693, 1694, 1695, 1696, 1697, 1698, 1699, 1700, 1701, 1702, 1703, 1704, 1705, 1706, 1707, 1708, 1709, 1710, 1711, 1712, 1713, 1714, 1715, 1716, 1717, 1718, 1719, 1720, 1721, 1722, 1723, 1724, 1725, 1726, 1727, 1728, 1729, 1730, 1731, 1732, 1733, 1734, 1735, 1736, 1737, 1738, 1739, 1740, 1741, 1742, 1743, 1744, 1745, 1746, 1747, 1748, 1749, 1750, 1751, 1752, 1753, 1754, 1755, 1756, 1757, 1758, 1759, 1760, 1761, 1762, 1763, 1764, 1765, 1766, 1767, 1768, 1769, 1770, 1771, 1772, 1773, 1774, 1775, 1776, 1777, 1778, 1779, 1780, 1781, 1782, 1783, 1784, 1785, 1786, 1787, 1788, 1789, 1790, 1791, 1792, 1793, 1794, 1795, 1796, 1797, 1798, 1799, 1800, 1801, 1802, 1803, 1804, 1805, 1806, 1807, 1808, 1809, 1810, 1811, 1812, 1813, 1814, 1815, 1816, 1817, 1818, 1819, 1820, 1821, 1822, 1823, 1824, 1825, 1826, 1827, 1828, 1829, 1830, 1831, 1832, 1833, 1834, 1835, 1836, 1837, 1838, 1839, 1840, 1841, 1842, 1843, 1844, 1845, 1846, 1847, 1848, 1849, 1850, 1851, 1852, 1853, 1854, 1855, 1856, 1857, 1858, 1859, 1860, 1861, 1862, 1863, 1864, 1865, 1866, 1867, 1868, 1869, 1870, 1871, 1872, 1873, 1874, 1875, 1876, 1877, 1878, 1879, 1880, 1881, 1882, 1883, 1884, 1885, 1886, 1887, 1888, 1889, 1890, 1891, 1892, 1893, 1894, 1895, 1896, 1897, 1898, 1899, 1900, 1901, 1902, 1903, 1904, 1905, 1906, 1907, 1908, 1909, 1910, 1911, 1912, 1913, 1914, 1915, 1916, 1917, 1918, 1919, 1920, 1921, 1922, 1923, 1924, 1925, 1926, 1927, 1928, 1929, 1930, 1931, 1932, 1933, 1934, 1935, 1936, 1937, 1938, 1939, 1940, 1941, 1942, 1943, 1944, 1945, 1946, 1947, 1948, 1949, 1950, 1951, 1952, 1953, 1954, 1955, 1956, 1957, 1958, 1959, 1960, 1961, 1962, 1963, 1964, 1965, 1966, 1967, 1968, 1969, 1970, 1971, 1972, 1973, 1974, 1975, 1976, 1977, 1978, 1979, 1980, 1981, 1982, 1983, 1984, 1985, 1986, 1987, 1988, 1989, 1990, 1991, 1992, 1993, 1994, 1995, 1996, 1997, 1998, 1999, 2000, 2001, 2002, 2003, 2004, 2005, 2006, 2007, 2008, 2009, 2010, 2011, 2012, 2013, 2014, 2015, 2016, 2017, 2018, 2019, 2020, 2021, 2022, 2023, 2024, 2025, 2026, 2027, 2028, 2029, 2030, 2031, 2032, 2033, 2034, 2035, 2036, 2037, 2038, 2039, 2040, 2041, 2042, 2043, 2044, 2045, 2046, 2047, 2048, 2049, 2050, 2051, 2052, 2053, 2054, 2055, 2056, 2057, 2058, 2059, 2060, 2061, 2062, 2063, 2064, 2065, 2066, 2067, 2068, 2069, 2070, 2071, 2072, 2073, 2074, 2075, 2076, 2077, 2078, 2079, 2080, 2081, 2082, 2083, 2084], \"y\": [0.03954610228538513, 0.040123701095581055, 0.04006677865982056, 0.04017418622970581, 0.040593892335891724, 0.04188200831413269, 0.04360198974609375, 0.046526312828063965, 0.0461525022983551, 0.04593449831008911, 0.04617869853973389, 0.04766327142715454, 0.05008929967880249, 0.05042693018913269, 0.049639880657196045, 0.049728840589523315, 0.051270991563797, 0.05255666375160217, 0.053576141595840454, 0.05807122588157654, 0.05336964130401611, 0.047133177518844604, 0.04632684588432312, 0.04691052436828613, 0.04649752378463745, 0.04650604724884033, 0.04114249348640442, 0.040513426065444946, 0.041694432497024536, 0.041711241006851196, 0.04162609577178955, 0.04206132888793945, 0.045390427112579346, 0.04561126232147217, 0.046010732650756836, 0.04590901732444763, 0.04719921946525574, 0.04751500487327576, 0.04699069261550903, 0.04564383625984192, 0.04563868045806885, 0.04667171835899353, 0.04709097743034363, 0.04718664288520813, 0.04703447222709656, 0.04711839556694031, 0.04928526282310486, 0.050599128007888794, 0.05187559127807617, 0.05246126651763916, 0.05331540107727051, 0.05253693461418152, 0.05272671580314636, 0.054204851388931274, 0.05456539988517761, 0.0517650842666626, 0.05129691958427429, 0.05164554715156555, 0.05157729983329773, 0.0514543354511261, 0.05216372013092041, 0.052498310804367065, 0.053596049547195435, 0.05450931191444397, 0.0548568069934845, 0.0549064576625824, 0.056488096714019775, 0.058353960514068604, 0.05870246887207031, 0.061340659856796265, 0.06212055683135986, 0.06055369973182678, 0.061214327812194824, 0.06214645504951477, 0.06200435757637024, 0.06401631236076355, 0.06569689512252808, 0.0672457218170166, 0.0667075514793396, 0.06675639748573303, 0.06680464744567871, 0.06491434574127197, 0.06068447232246399, 0.06167769432067871, 0.058891355991363525, 0.06056618690490723, 0.06352308392524719, 0.06467589735984802, 0.06502601504325867, 0.06557413935661316, 0.0618625283241272, 0.056580185890197754, 0.050952523946762085, 0.051838189363479614, 0.053470999002456665, 0.057308346033096313, 0.054795801639556885, 0.053595274686813354, 0.04955962300300598, 0.04971027374267578, 0.04971536993980408, 0.05300113558769226, 0.0540449321269989, 0.053946226835250854, 0.05389404296875, 0.05567619204521179, 0.05683243274688721, 0.0574665367603302, 0.05950918793678284, 0.059749722480773926, 0.059456706047058105, 0.06173655390739441, 0.06259134411811829, 0.062257081270217896, 0.06329596042633057, 0.06377214193344116, 0.06451040506362915, 0.06431600451469421, 0.06240609288215637, 0.06282550096511841, 0.06257492303848267, 0.06318780779838562, 0.06456604599952698, 0.0661456286907196, 0.06625616550445557, 0.06804513931274414, 0.06952613592147827, 0.07052841782569885, 0.07098793983459473, 0.07082560658454895, 0.07179668545722961, 0.07329562306404114, 0.07538467645645142, 0.07471984624862671, 0.07480594515800476, 0.07544362545013428, 0.07969716191291809, 0.08228257298469543, 0.08483612537384033, 0.08493396639823914, 0.0820205807685852, 0.0836867094039917, 0.08545473217964172, 0.08936485648155212, 0.092713862657547, 0.09496557712554932, 0.0980021059513092, 0.09320482611656189, 0.09525135159492493, 0.09687501192092896, 0.09422656893730164, 0.09429091215133667, 0.09835469722747803, 0.10244959592819214, 0.10415294766426086, 0.10899308323860168, 0.10836327075958252, 0.1100223958492279, 0.11784788966178894, 0.1259191930294037, 0.11923074722290039, 0.11294448375701904, 0.10591733455657959, 0.10768070816993713, 0.11597582697868347, 0.11446568369865417, 0.11563822627067566, 0.12188667058944702, 0.12720662355422974, 0.130050927400589, 0.13151101768016815, 0.13849423825740814, 0.14976361393928528, 0.1426001489162445, 0.14545199275016785, 0.14988182485103607, 0.14878739416599274, 0.15464471280574799, 0.13971683382987976, 0.1391967236995697, 0.12986548244953156, 0.12439924478530884, 0.128840833902359, 0.13672120869159698, 0.13373805582523346, 0.135374516248703, 0.14115944504737854, 0.1393449455499649, 0.1409240961074829, 0.14168912172317505, 0.13387908041477203, 0.13100385665893555, 0.12765437364578247, 0.13158226013183594, 0.13361836969852448, 0.1309632509946823, 0.12863606214523315, 0.1247788667678833, 0.12795698642730713, 0.13387525081634521, 0.13762685656547546, 0.13788923621177673, 0.13715976476669312, 0.13213245570659637, 0.13395340740680695, 0.13203078508377075, 0.12361013889312744, 0.12080365419387817, 0.12496525049209595, 0.12403631210327148, 0.11766213178634644, 0.10647174715995789, 0.1017325222492218, 0.1149376630783081, 0.12215861678123474, 0.11972957849502563, 0.14615583419799805, 0.14548000693321228, 0.14771738648414612, 0.1478213369846344, 0.14556187391281128, 0.13807541131973267, 0.13308903574943542, 0.14036300778388977, 0.14733149111270905, 0.14497901499271393, 0.14507021009922028, 0.15062576532363892, 0.14622442424297333, 0.14260344207286835, 0.14721542596817017, 0.15143266320228577, 0.16970421373844147, 0.17296497523784637, 0.17772440612316132, 0.18144378066062927, 0.17637765407562256, 0.17975705862045288, 0.19139927625656128, 0.19932273030281067, 0.21127814054489136, 0.22139956057071686, 0.21949446201324463, 0.22933587431907654, 0.22701400518417358, 0.21497458219528198, 0.21728657186031342, 0.21550077199935913, 0.21035058796405792, 0.2133757770061493, 0.21801723539829254, 0.22691690921783447, 0.2301490753889084, 0.22904564440250397, 0.22789226472377777, 0.23005637526512146, 0.24117186665534973, 0.2420722395181656, 0.24683381617069244, 0.2582094967365265, 0.2400434911251068, 0.23871150612831116, 0.22548256814479828, 0.22630906105041504, 0.24280297756195068, 0.24297544360160828, 0.22798921167850494, 0.22493118047714233, 0.22418397665023804, 0.22017695009708405, 0.2185850888490677, 0.20449116826057434, 0.17299751937389374, 0.18879230320453644, 0.19786500930786133, 0.1924937218427658, 0.21289654076099396, 0.20889480412006378, 0.2024552971124649, 0.19229274988174438, 0.18738621473312378, 0.19904688000679016, 0.1945738047361374, 0.20427612960338593, 0.20678958296775818, 0.21866922080516815, 0.22330349683761597, 0.2185409665107727, 0.2292037308216095, 0.23336561024188995, 0.23169490694999695, 0.22725406289100647, 0.22169092297554016, 0.2263714075088501, 0.23064416646957397, 0.23335525393486023, 0.2422381192445755, 0.2521727681159973, 0.2519586682319641, 0.25282949209213257, 0.28464221954345703, 0.3013143241405487, 0.30620506405830383, 0.30237463116645813, 0.3015185594558716, 0.29690757393836975, 0.2905931770801544, 0.2993291914463043, 0.3151315450668335, 0.31805384159088135, 0.3125818371772766, 0.3101504445075989, 0.29016780853271484, 0.2964227497577667, 0.31094563007354736, 0.3031664490699768, 0.2992309331893921, 0.3222573399543762, 0.32618021965026855, 0.33689194917678833, 0.35683658719062805, 0.3716284930706024, 0.37739163637161255, 0.38800525665283203, 0.39156803488731384, 0.36506617069244385, 0.36937442421913147, 0.39253002405166626, 0.37287041544914246, 0.340448260307312, 0.32816416025161743, 0.3065378963947296, 0.3353152275085449, 0.34986746311187744, 0.3812868595123291, 0.41776275634765625, 0.4092821478843689, 0.4079759418964386, 0.4260926842689514, 0.439686119556427, 0.42987942695617676, 0.4320182502269745, 0.4243977963924408, 0.4315296411514282, 0.46138495206832886, 0.4970850646495819, 0.5179877281188965, 0.526555061340332, 0.5146108865737915, 0.5254533886909485, 0.5694804787635803, 0.5857590436935425, 0.5963132977485657, 0.6173343062400818, 0.6225926280021667, 0.7247511148452759, 0.8565404415130615, 0.7906990051269531, 0.7896378040313721, 0.8454697132110596, 0.8500386476516724, 0.8241342902183533, 0.857690155506134, 0.8952153921127319, 1.0080821514129639, 0.9813077449798584, 0.9758621454238892, 0.9175388813018799, 0.8417439460754395, 0.7962775230407715, 0.6861328482627869, 0.7124929428100586, 0.7239706516265869, 0.7190794944763184, 0.8301079273223877, 0.8244469165802002, 0.7776493430137634, 0.7641568183898926, 0.6458579301834106, 0.7403982877731323, 0.7007681727409363, 0.7727649211883545, 0.7855274081230164, 0.7998706102371216, 0.8603760004043579, 0.9018560647964478, 0.868442177772522, 0.7911601066589355, 0.7535372376441956, 0.7860473394393921, 0.7022465467453003, 0.7269136905670166, 0.7550351619720459, 0.7196983098983765, 0.7236851453781128, 0.5972230434417725, 0.5843334794044495, 0.5931377410888672, 0.6099578142166138, 0.672910749912262, 0.6048949956893921, 0.6002541780471802, 0.5818407535552979, 0.4656982719898224, 0.633324146270752, 0.671478271484375, 0.5691799521446228, 0.5608766078948975, 0.5960593223571777, 0.5679681301116943, 0.5380087494850159, 0.5079916715621948, 0.46568843722343445, 0.48059529066085815, 0.5071646571159363, 0.43645888566970825, 0.38564878702163696, 0.38176798820495605, 0.41881343722343445, 0.4658353328704834, 0.4466622471809387, 0.4534792900085449, 0.4320758581161499, 0.46903228759765625, 0.4571107029914856, 0.5002220869064331, 0.5208303928375244, 0.5420064330101013, 0.578558087348938, 0.5526942610740662, 0.5821166634559631, 0.5847482085227966, 0.5505630373954773, 0.5219290852546692, 0.5377251505851746, 0.5107218027114868, 0.5040650367736816, 0.5384542942047119, 0.5644888877868652, 0.5460667014122009, 0.5700721144676208, 0.5748876333236694, 0.6049014925956726, 0.6023107171058655, 0.6003456711769104, 0.5607943534851074, 0.5200284719467163, 0.4835204780101776, 0.48125872015953064, 0.4634249210357666, 0.49841898679733276, 0.4783810079097748, 0.477550745010376, 0.4290871024131775, 0.426819384098053, 0.43368658423423767, 0.4158357083797455, 0.42983904480934143, 0.4538203775882721, 0.4739283621311188, 0.4713216722011566, 0.45858150720596313, 0.46884238719940186, 0.45394009351730347, 0.4447328746318817, 0.4281131625175476, 0.4085194170475006, 0.41729727387428284, 0.3760553002357483, 0.3538627028465271, 0.36254072189331055, 0.36101892590522766, 0.37129703164100647, 0.3906709849834442, 0.36136743426322937, 0.35072949528694153, 0.3500531315803528, 0.36177563667297363, 0.3731688857078552, 0.3563458323478699, 0.3583759367465973, 0.3679306209087372, 0.4197766184806824, 0.42347055673599243, 0.41877466440200806, 0.44062352180480957, 0.43048715591430664, 0.4155561327934265, 0.4290284812450409, 0.4416416585445404, 0.47026148438453674, 0.4757876396179199, 0.4647880494594574, 0.47097718715667725, 0.5132668018341064, 0.4749886095523834, 0.48446619510650635, 0.47048020362854004, 0.49309664964675903, 0.49619951844215393, 0.4911065697669983, 0.47613537311553955, 0.48801887035369873, 0.5146976709365845, 0.518417239189148, 0.5207914113998413, 0.5095356702804565, 0.4946501851081848, 0.48383766412734985, 0.49014467000961304, 0.4765779972076416, 0.43972551822662354, 0.440199077129364, 0.45791131258010864, 0.4602919816970825, 0.44379061460494995, 0.4348961114883423, 0.42361605167388916, 0.43238958716392517, 0.434208482503891, 0.4491235911846161, 0.44354724884033203, 0.4192434549331665, 0.3942544758319855, 0.3954451084136963, 0.3951961398124695, 0.3851359784603119, 0.3860315680503845, 0.3744789659976959, 0.39105528593063354, 0.39218926429748535, 0.39352449774742126, 0.39767393469810486, 0.40325430035591125, 0.40821564197540283, 0.39512088894844055, 0.40033262968063354, 0.4050099551677704, 0.4063030481338501, 0.4017121493816376, 0.3938737213611603, 0.3575586974620819, 0.35502389073371887, 0.3474905788898468, 0.3265928328037262, 0.34646663069725037, 0.33857929706573486, 0.33861276507377625, 0.3398086726665497, 0.35243868827819824, 0.3581085503101349, 0.3545783758163452, 0.35421955585479736, 0.3189462423324585, 0.31909504532814026, 0.3261758089065552, 0.32722777128219604, 0.32120341062545776, 0.32021617889404297, 0.3114483058452606, 0.3223254084587097, 0.3393186628818512, 0.3345285952091217, 0.3471478819847107, 0.3445419371128082, 0.3452102541923523, 0.3450935184955597, 0.34662479162216187, 0.3567464351654053, 0.35379454493522644, 0.349717378616333, 0.3316599726676941, 0.3320835828781128, 0.33031612634658813, 0.3249254822731018, 0.32888585329055786, 0.333128422498703, 0.3545449674129486, 0.38789302110671997, 0.3929881751537323, 0.39292794466018677, 0.3881705403327942, 0.3897489607334137, 0.39189621806144714, 0.40671417117118835, 0.4464123547077179, 0.4376288056373596, 0.41561159491539, 0.4296453297138214, 0.4382036626338959, 0.4350453317165375, 0.4307018220424652, 0.40785250067710876, 0.3980560004711151, 0.39644655585289, 0.38959911465644836, 0.3680700659751892, 0.36530300974845886, 0.3654380738735199, 0.35150519013404846, 0.3295888304710388, 0.33841225504875183, 0.32772067189216614, 0.3220440447330475, 0.3331230580806732, 0.3288882374763489, 0.3260427415370941, 0.32859790325164795, 0.3335520029067993, 0.34612637758255005, 0.3390740156173706, 0.3388698399066925, 0.33142006397247314, 0.3374500572681427, 0.3376530110836029, 0.3410857915878296, 0.3537570536136627, 0.3545459806919098, 0.3540218472480774, 0.36273273825645447, 0.3746647834777832, 0.37152183055877686, 0.36757761240005493, 0.36978426575660706, 0.37990713119506836, 0.3860377371311188, 0.38323381543159485, 0.387133926153183, 0.3549080789089203, 0.33634984493255615, 0.3361673057079315, 0.3235873579978943, 0.3269352316856384, 0.33160555362701416, 0.3312780559062958, 0.33248841762542725, 0.34128016233444214, 0.3424530625343323, 0.3423553705215454, 0.3424029052257538, 0.32932138442993164, 0.33120277523994446, 0.3369986414909363, 0.341459721326828, 0.35590749979019165, 0.35623663663864136, 0.3526144027709961, 0.34701982140541077, 0.33814263343811035, 0.3393065929412842, 0.35204851627349854, 0.3514527678489685, 0.34578418731689453, 0.3479765057563782, 0.3479635715484619, 0.3442450761795044, 0.3413023352622986, 0.3468918800354004, 0.35030025243759155, 0.347286581993103, 0.3470248878002167, 0.3511844277381897, 0.3508032560348511, 0.3484208881855011, 0.32935911417007446, 0.3279504179954529, 0.3341796398162842, 0.33304423093795776, 0.35432177782058716, 0.35890281200408936, 0.3538789749145508, 0.347939133644104, 0.3424336910247803, 0.34687539935112, 0.34722065925598145, 0.34612080454826355, 0.34462425112724304, 0.3449094593524933, 0.34412309527397156, 0.34364017844200134, 0.342105895280838, 0.3411700427532196, 0.3342688977718353, 0.33156293630599976, 0.33541518449783325, 0.33699801564216614, 0.33849287033081055, 0.3359732925891876, 0.3402952253818512, 0.34138837456703186, 0.3423811197280884, 0.3463084399700165, 0.3413250744342804, 0.33695465326309204, 0.3381608724594116, 0.3399185836315155, 0.33949169516563416, 0.33987605571746826, 0.31225472688674927, 0.29731446504592896, 0.29732540249824524, 0.29468002915382385, 0.29738858342170715, 0.2612107992172241, 0.23630546033382416, 0.24426884949207306, 0.2314429134130478, 0.22983331978321075, 0.21100862324237823, 0.21123294532299042, 0.2069428563117981, 0.20157787203788757, 0.22393254935741425, 0.22816868126392365, 0.2137208729982376, 0.2187352329492569, 0.22107712924480438, 0.20588454604148865, 0.2066907435655594, 0.20068828761577606, 0.18523015081882477, 0.1792888045310974, 0.17941686511039734, 0.18647485971450806, 0.18299709260463715, 0.17788676917552948, 0.1814037710428238, 0.17561690509319305, 0.16979768872261047, 0.16975732147693634, 0.17016062140464783, 0.1832413375377655, 0.19330015778541565, 0.19372907280921936, 0.2114172726869583, 0.2060544192790985, 0.20528458058834076, 0.20884652435779572, 0.21017980575561523, 0.19979123771190643, 0.19694781303405762, 0.1904403269290924, 0.19913122057914734, 0.1978352963924408, 0.19775433838367462, 0.19688533246517181, 0.19834278523921967, 0.20415058732032776, 0.19887371361255646, 0.1993391215801239, 0.1995772272348404, 0.20874665677547455, 0.211009681224823, 0.20783783495426178, 0.20906004309654236, 0.1914699226617813, 0.18756631016731262, 0.18985161185264587, 0.18348519504070282, 0.1899215281009674, 0.18888527154922485, 0.1883147954940796, 0.19116617739200592, 0.18983034789562225, 0.19301728904247284, 0.18781599402427673, 0.1853528618812561, 0.1884472519159317, 0.18757040798664093, 0.18797537684440613, 0.18829450011253357, 0.1882128119468689, 0.18761098384857178, 0.18220050632953644, 0.17949658632278442, 0.1823047250509262, 0.181509867310524, 0.1825050264596939, 0.1851421296596527, 0.18280696868896484, 0.18242187798023224, 0.18327245116233826, 0.18026317656040192, 0.1791653335094452, 0.19152209162712097, 0.19505539536476135, 0.1934330016374588, 0.19220639765262604, 0.1913551688194275, 0.19075293838977814, 0.18935732543468475, 0.19007651507854462, 0.1909642368555069, 0.19331718981266022, 0.20467138290405273, 0.20768097043037415, 0.20857012271881104, 0.2084069848060608, 0.2085207998752594, 0.21625058352947235, 0.20068976283073425, 0.1987229585647583, 0.20235919952392578, 0.20046019554138184, 0.20167388021945953, 0.20150646567344666, 0.2017025202512741, 0.2007230520248413, 0.19653776288032532, 0.2020876705646515, 0.2045886516571045, 0.2039024382829666, 0.20381267368793488, 0.20698080956935883, 0.20738153159618378, 0.20410265028476715, 0.2043631672859192, 0.20393139123916626, 0.20415610074996948, 0.20656485855579376, 0.21081943809986115, 0.21059530973434448, 0.2098402976989746, 0.21154490113258362, 0.21286886930465698, 0.21027162671089172, 0.2096373736858368, 0.21103091537952423, 0.21037091314792633, 0.20796966552734375, 0.20760707557201385, 0.2126714438199997, 0.21290279924869537, 0.2154359072446823, 0.21684160828590393, 0.21596355736255646, 0.21819770336151123, 0.2530234456062317, 0.2648627460002899, 0.25587430596351624, 0.26304224133491516, 0.26648038625717163, 0.27207642793655396, 0.2760925889015198, 0.27146586775779724, 0.2778950333595276, 0.2666238248348236, 0.26256248354911804, 0.266676127910614, 0.26849377155303955, 0.26573532819747925, 0.2701883316040039, 0.27496886253356934, 0.2758285105228424, 0.27711158990859985, 0.2775845527648926, 0.27693963050842285, 0.28114527463912964, 0.289356529712677, 0.28518539667129517, 0.27448612451553345, 0.2777601480484009, 0.279492050409317, 0.2785980701446533, 0.27592363953590393, 0.27851712703704834, 0.2842274010181427, 0.2888893783092499, 0.3032921850681305, 0.3088892698287964, 0.30371731519699097, 0.30149900913238525, 0.3070022463798523, 0.3152058720588684, 0.3249548375606537, 0.3364716172218323, 0.3804172873497009, 0.37518310546875, 0.4075238108634949, 0.4281104505062103, 0.4320630431175232, 0.4179682433605194, 0.38359707593917847, 0.3817802369594574, 0.43160364031791687, 0.4266965985298157, 0.4108757972717285, 0.4019991457462311, 0.41173022985458374, 0.42308688163757324, 0.42394328117370605, 0.45476722717285156, 0.4675650894641876, 0.46161726117134094, 0.4560297429561615, 0.4369855523109436, 0.44951707124710083, 0.45364415645599365, 0.46111586689949036, 0.4299437403678894, 0.3981857895851135, 0.4063536822795868, 0.41166943311691284, 0.4217008948326111, 0.41571903228759766, 0.4011574685573578, 0.4181826114654541, 0.4190608561038971, 0.4276919960975647, 0.4334391951560974, 0.4587748944759369, 0.46812912821769714, 0.4747525453567505, 0.4918074607849121, 0.4835599660873413, 0.48782920837402344, 0.504348635673523, 0.5431691408157349, 0.5717090964317322, 0.5826285481452942, 0.58499675989151, 0.6307366490364075, 0.6926644444465637, 0.6044213771820068, 0.6618820428848267, 0.607954740524292, 0.5637034177780151, 0.5629181861877441, 0.6169710755348206, 0.6207236051559448, 0.5771576762199402, 0.5678970813751221, 0.580990195274353, 0.6166325807571411, 0.641716480255127, 0.6543316841125488, 0.6188459396362305, 0.5927918553352356, 0.6129896640777588, 0.5880509614944458, 0.5391402244567871, 0.5616902112960815, 0.4952819347381592, 0.5081636905670166, 0.5281170010566711, 0.5726501941680908, 0.5743412971496582, 0.546196699142456, 0.5329031944274902, 0.516804039478302, 0.5168413519859314, 0.5179483890533447, 0.5190630555152893, 0.5007127523422241, 0.49870648980140686, 0.5004163980484009, 0.5065865516662598, 0.5298834443092346, 0.5469898581504822, 0.5552981495857239, 0.5676342248916626, 0.575158417224884, 0.6211711168289185, 0.604861855506897, 0.630306601524353, 0.6219062209129333, 0.6322225332260132, 0.5950661897659302, 0.6173388361930847, 0.5886169672012329, 0.5807101130485535, 0.5285601615905762, 0.5374171733856201, 0.5402193665504456, 0.5434511303901672, 0.5387846827507019, 0.5668138265609741, 0.5625335574150085, 0.5339797139167786, 0.5218194723129272, 0.5395933389663696, 0.5358664989471436, 0.5329320430755615, 0.5382120609283447, 0.5356367230415344, 0.5136336088180542, 0.49534523487091064, 0.5010166168212891, 0.5071601271629333, 0.5137556791305542, 0.542773962020874, 0.5582535862922668, 0.5579515099525452, 0.5547581911087036, 0.5421562194824219, 0.5509247183799744, 0.5493894815444946, 0.5451094508171082, 0.5322939157485962, 0.5355104804039001, 0.5467610359191895, 0.5485354661941528, 0.5440580248832703, 0.5406270623207092, 0.5395220518112183, 0.5363136529922485, 0.5350191593170166, 0.5377016067504883, 0.5352373123168945, 0.5249881744384766, 0.5255692005157471, 0.5099677443504333, 0.44788846373558044, 0.434695839881897, 0.4213677644729614, 0.43010541796684265, 0.431133896112442, 0.42300495505332947, 0.43469080328941345, 0.43846845626831055, 0.4416559636592865, 0.433005690574646, 0.42805254459381104, 0.42871779203414917, 0.41554540395736694, 0.43023115396499634, 0.43371668457984924, 0.45209789276123047, 0.45369160175323486, 0.43414291739463806, 0.4359053373336792, 0.4384458661079407, 0.44161248207092285, 0.4310573637485504, 0.4203004837036133, 0.42472171783447266, 0.42034122347831726, 0.41847628355026245, 0.43266838788986206, 0.43486905097961426, 0.4228439927101135, 0.392173171043396, 0.386000394821167, 0.4559730291366577, 0.4984179735183716, 0.5072509050369263, 0.48562532663345337, 0.4951835870742798, 0.48638856410980225, 0.4831259250640869, 0.4864153265953064, 0.49420586228370667, 0.48679032921791077, 0.49619060754776, 0.4921322762966156, 0.4940432906150818, 0.4857383072376251, 0.46208712458610535, 0.4611038863658905, 0.4760178327560425, 0.4631035625934601, 0.46234190464019775, 0.4605780243873596, 0.45623767375946045, 0.4453538954257965, 0.44497543573379517, 0.4480207562446594, 0.4319641888141632, 0.4256470501422882, 0.4255372881889343, 0.40302789211273193, 0.3797058165073395, 0.38170358538627625, 0.3652026951313019, 0.37056705355644226, 0.37829291820526123, 0.39583200216293335, 0.39415258169174194, 0.405977338552475, 0.40122920274734497, 0.3871968388557434, 0.38518863916397095, 0.38377442955970764, 0.38020533323287964, 0.3877772390842438, 0.3988008499145508, 0.39568743109703064, 0.39531010389328003, 0.38729551434516907, 0.3797856271266937, 0.37918663024902344, 0.37924402952194214, 0.38210922479629517, 0.3725336492061615, 0.3728519678115845, 0.3643386960029602, 0.3463181257247925, 0.38020357489585876, 0.3831811249256134, 0.37582239508628845, 0.37562763690948486, 0.3945220112800598, 0.3902055621147156, 0.37901294231414795, 0.3799887001514435, 0.37900927662849426, 0.3828931748867035, 0.3849470317363739, 0.38992565870285034, 0.38234254717826843, 0.3776467442512512, 0.37906983494758606, 0.367337703704834, 0.38430550694465637, 0.39075878262519836, 0.3868327736854553, 0.4079386591911316, 0.4337882995605469, 0.42850351333618164, 0.4105493426322937, 0.4304324686527252, 0.428292453289032, 0.4302840232849121, 0.42849448323249817, 0.466368168592453, 0.47124427556991577, 0.45958900451660156, 0.4685938060283661, 0.47517091035842896, 0.4611332416534424, 0.45425739884376526, 0.461006760597229, 0.4604036211967468, 0.4433597922325134, 0.44221556186676025, 0.4401666522026062, 0.45407283306121826, 0.470869779586792, 0.4979042708873749, 0.4933738112449646, 0.5014355182647705, 0.4934098720550537, 0.4959540069103241, 0.49243098497390747, 0.49192824959754944, 0.48488202691078186, 0.5077943801879883, 0.517261803150177, 0.5210185050964355, 0.5206520557403564, 0.5374147891998291, 0.5211801528930664, 0.5397350788116455, 0.5433186888694763, 0.5437353253364563, 0.5437709093093872, 0.5244823098182678, 0.5204510688781738, 0.509874701499939, 0.5365524888038635, 0.5068430304527283, 0.5024309754371643, 0.5020042657852173, 0.5136546492576599, 0.5223988890647888, 0.5090186595916748, 0.48778611421585083, 0.459652304649353, 0.4616979956626892, 0.45843958854675293, 0.44899141788482666, 0.4474235773086548, 0.4686230719089508, 0.4648110270500183, 0.45992767810821533, 0.4748317003250122, 0.4850269556045532, 0.47081172466278076, 0.42210525274276733, 0.41149240732192993, 0.41645288467407227, 0.4196033179759979, 0.2730228304862976, 0.26345062255859375, 0.2832257151603699, 0.2741507887840271, 0.271025687456131, 0.2745259404182434, 0.28965848684310913, 0.3234887421131134, 0.3344625234603882, 0.32450175285339355, 0.3099394142627716, 0.337169885635376, 0.36215123534202576, 0.35267168283462524, 0.3544366657733917, 0.3367343842983246, 0.32644811272621155, 0.31046828627586365, 0.3324316740036011, 0.3425672650337219, 0.347334623336792, 0.35941317677497864, 0.3551906645298004, 0.3611103594303131, 0.35755306482315063, 0.3852478563785553, 0.38483932614326477, 0.3847781717777252, 0.38573944568634033, 0.35998407006263733, 0.3599168062210083, 0.3637629747390747, 0.36057329177856445, 0.3602117896080017, 0.34883391857147217, 0.37111330032348633, 0.37463220953941345, 0.37930840253829956, 0.37723997235298157, 0.35721540451049805, 0.35909706354141235, 0.3751147985458374, 0.4005512297153473, 0.39830952882766724, 0.39572784304618835, 0.40596848726272583, 0.41195547580718994, 0.40917885303497314, 0.46319887042045593, 0.4644763767719269, 0.4632492661476135, 0.4729788303375244, 0.47411230206489563, 0.4696621000766754, 0.47798341512680054, 0.48535504937171936, 0.5322301983833313, 0.5233344435691833, 0.5032646059989929, 0.4598526060581207, 0.44568586349487305, 0.4632442593574524, 0.4972453713417053, 0.5185583829879761, 0.49392780661582947, 0.48950257897377014, 0.5075268745422363, 0.5184234976768494, 0.5165545344352722, 0.5005946159362793, 0.4758419990539551, 0.4803968667984009, 0.4849671721458435, 0.4608817994594574, 0.46419864892959595, 0.4653191566467285, 0.4863091707229614, 0.5043939352035522, 0.49900364875793457, 0.5089064836502075, 0.49910297989845276, 0.5369573831558228, 0.5053673982620239, 0.5052868127822876, 0.5094643831253052, 0.51575767993927, 0.5097607970237732, 0.5151591897010803, 0.5146584510803223, 0.5171974301338196, 0.5213572382926941, 0.4906100034713745, 0.49543413519859314, 0.49768775701522827, 0.4951759874820709, 0.49493205547332764, 0.5018998980522156, 0.49899670481681824, 0.49419930577278137, 0.48884400725364685, 0.49242961406707764, 0.49040988087654114, 0.5099474787712097, 0.5084218382835388, 0.4900966286659241, 0.4839945435523987, 0.48291629552841187, 0.47599267959594727, 0.47896599769592285, 0.48430928587913513, 0.48269790410995483, 0.485787570476532, 0.4790090322494507, 0.47705644369125366, 0.480804443359375, 0.47949305176734924, 0.49238479137420654, 0.48948636651039124, 0.4976200461387634, 0.4875434637069702, 0.4889446198940277, 0.4863393008708954, 0.49144625663757324, 0.487534761428833, 0.48828405141830444, 0.48474156856536865, 0.481849730014801, 0.4822404384613037, 0.4839143753051758, 0.4857860207557678, 0.4831756353378296, 0.49434399604797363, 0.5028592944145203, 0.5081294775009155, 0.5030557513237, 0.511294960975647, 0.5241749286651611, 0.5857431292533875, 0.5780293941497803, 0.5875519514083862, 0.5797353982925415, 0.6065794229507446, 0.6194579601287842, 0.5948650240898132, 0.5878322720527649, 0.5878278017044067, 0.6239444017410278, 0.619646430015564, 0.6206066608428955, 0.6098254919052124, 0.6218827962875366, 0.6204953193664551, 0.6001942157745361, 0.6050875782966614, 0.6076366901397705, 0.6264263987541199, 0.6190948486328125, 0.6257915496826172, 0.6320633888244629, 0.6237500905990601, 0.613999605178833, 0.6125022768974304, 0.6077485680580139, 0.6100295782089233, 0.6095566749572754, 0.6106563806533813, 0.5916721820831299, 0.6003400087356567, 0.5868289470672607, 0.6099768280982971, 0.5967438220977783, 0.6182888746261597, 0.6026519536972046, 0.6267832517623901, 0.5922205448150635, 0.5366384983062744, 0.5415771007537842, 0.5302407741546631, 0.5458828210830688, 0.5409270524978638, 0.5330399870872498, 0.5336439609527588, 0.5411431789398193, 0.5461039543151855, 0.5473266839981079, 0.541702151298523, 0.5584681034088135, 0.567338764667511, 0.5767582654953003, 0.5736019611358643, 0.574484646320343, 0.5807497501373291, 0.5769790410995483, 0.5482639670372009, 0.5519932508468628, 0.5377861857414246, 0.5680175423622131, 0.5601978898048401, 0.5665386915206909, 0.56084144115448, 0.5653790235519409, 0.5669732689857483, 0.5674450397491455, 0.5565974712371826, 0.5536471009254456, 0.5536490082740784, 0.560049295425415, 0.5679382681846619, 0.5568414926528931, 0.5595856308937073, 0.571273922920227, 0.5826230049133301, 0.5939056873321533, 0.5961812734603882, 0.6047993898391724, 0.5991483330726624, 0.6012176275253296, 0.602035641670227, 0.5970749855041504, 0.5965731739997864, 0.6043811440467834, 0.6172604560852051, 0.6257457733154297, 0.671953022480011, 0.6717449426651001, 0.680828332901001, 0.6819925904273987, 0.6858086585998535, 0.6779934167861938, 0.7164020538330078, 0.687140166759491, 0.7118746042251587, 0.7056756019592285, 0.7186385989189148, 0.7168577909469604, 0.712354838848114]}, {\"mode\": \"lines\", \"name\": \"after_pred\", \"type\": \"scatter\", \"x\": [2085, 2086, 2087, 2088, 2089, 2090, 2091, 2092, 2093, 2094], \"y\": [0.7065398097038269, 0.7119193077087402, 0.7111499309539795, 0.7192409634590149, 0.7185612916946411, 0.7179172039031982, 0.7154831886291504, 0.7121846079826355, 0.7168867588043213, 0.7106732130050659]}],\n",
              "                        {\"template\": {\"data\": {\"bar\": [{\"error_x\": {\"color\": \"#2a3f5f\"}, \"error_y\": {\"color\": \"#2a3f5f\"}, \"marker\": {\"line\": {\"color\": \"#E5ECF6\", \"width\": 0.5}}, \"type\": \"bar\"}], \"barpolar\": [{\"marker\": {\"line\": {\"color\": \"#E5ECF6\", \"width\": 0.5}}, \"type\": \"barpolar\"}], \"carpet\": [{\"aaxis\": {\"endlinecolor\": \"#2a3f5f\", \"gridcolor\": \"white\", \"linecolor\": \"white\", \"minorgridcolor\": \"white\", \"startlinecolor\": \"#2a3f5f\"}, \"baxis\": {\"endlinecolor\": \"#2a3f5f\", \"gridcolor\": \"white\", \"linecolor\": \"white\", \"minorgridcolor\": \"white\", \"startlinecolor\": \"#2a3f5f\"}, \"type\": \"carpet\"}], \"choropleth\": [{\"colorbar\": {\"outlinewidth\": 0, \"ticks\": \"\"}, \"type\": \"choropleth\"}], \"contour\": [{\"colorbar\": {\"outlinewidth\": 0, \"ticks\": \"\"}, \"colorscale\": [[0.0, \"#0d0887\"], [0.1111111111111111, \"#46039f\"], [0.2222222222222222, \"#7201a8\"], [0.3333333333333333, \"#9c179e\"], [0.4444444444444444, \"#bd3786\"], [0.5555555555555556, \"#d8576b\"], [0.6666666666666666, \"#ed7953\"], [0.7777777777777778, \"#fb9f3a\"], [0.8888888888888888, \"#fdca26\"], [1.0, \"#f0f921\"]], \"type\": \"contour\"}], \"contourcarpet\": [{\"colorbar\": {\"outlinewidth\": 0, \"ticks\": \"\"}, \"type\": \"contourcarpet\"}], \"heatmap\": [{\"colorbar\": {\"outlinewidth\": 0, \"ticks\": \"\"}, \"colorscale\": [[0.0, \"#0d0887\"], [0.1111111111111111, \"#46039f\"], [0.2222222222222222, \"#7201a8\"], [0.3333333333333333, \"#9c179e\"], [0.4444444444444444, \"#bd3786\"], [0.5555555555555556, \"#d8576b\"], [0.6666666666666666, \"#ed7953\"], [0.7777777777777778, \"#fb9f3a\"], [0.8888888888888888, \"#fdca26\"], [1.0, \"#f0f921\"]], \"type\": \"heatmap\"}], \"heatmapgl\": [{\"colorbar\": {\"outlinewidth\": 0, \"ticks\": \"\"}, \"colorscale\": [[0.0, \"#0d0887\"], [0.1111111111111111, \"#46039f\"], [0.2222222222222222, \"#7201a8\"], [0.3333333333333333, \"#9c179e\"], [0.4444444444444444, \"#bd3786\"], [0.5555555555555556, \"#d8576b\"], [0.6666666666666666, \"#ed7953\"], [0.7777777777777778, \"#fb9f3a\"], [0.8888888888888888, \"#fdca26\"], [1.0, \"#f0f921\"]], \"type\": \"heatmapgl\"}], \"histogram\": [{\"marker\": {\"colorbar\": {\"outlinewidth\": 0, \"ticks\": \"\"}}, \"type\": \"histogram\"}], \"histogram2d\": [{\"colorbar\": {\"outlinewidth\": 0, \"ticks\": \"\"}, \"colorscale\": [[0.0, \"#0d0887\"], [0.1111111111111111, \"#46039f\"], [0.2222222222222222, \"#7201a8\"], [0.3333333333333333, \"#9c179e\"], [0.4444444444444444, \"#bd3786\"], [0.5555555555555556, \"#d8576b\"], [0.6666666666666666, \"#ed7953\"], [0.7777777777777778, \"#fb9f3a\"], [0.8888888888888888, \"#fdca26\"], [1.0, \"#f0f921\"]], \"type\": \"histogram2d\"}], \"histogram2dcontour\": [{\"colorbar\": {\"outlinewidth\": 0, \"ticks\": \"\"}, \"colorscale\": [[0.0, \"#0d0887\"], [0.1111111111111111, \"#46039f\"], [0.2222222222222222, \"#7201a8\"], [0.3333333333333333, \"#9c179e\"], [0.4444444444444444, \"#bd3786\"], [0.5555555555555556, \"#d8576b\"], [0.6666666666666666, \"#ed7953\"], [0.7777777777777778, \"#fb9f3a\"], [0.8888888888888888, \"#fdca26\"], [1.0, \"#f0f921\"]], \"type\": \"histogram2dcontour\"}], \"mesh3d\": [{\"colorbar\": {\"outlinewidth\": 0, \"ticks\": \"\"}, \"type\": \"mesh3d\"}], \"parcoords\": [{\"line\": {\"colorbar\": {\"outlinewidth\": 0, \"ticks\": \"\"}}, \"type\": \"parcoords\"}], \"pie\": [{\"automargin\": true, \"type\": \"pie\"}], \"scatter\": [{\"marker\": {\"colorbar\": {\"outlinewidth\": 0, \"ticks\": \"\"}}, \"type\": \"scatter\"}], \"scatter3d\": [{\"line\": {\"colorbar\": {\"outlinewidth\": 0, \"ticks\": \"\"}}, \"marker\": {\"colorbar\": {\"outlinewidth\": 0, \"ticks\": \"\"}}, \"type\": \"scatter3d\"}], \"scattercarpet\": [{\"marker\": {\"colorbar\": {\"outlinewidth\": 0, \"ticks\": \"\"}}, \"type\": \"scattercarpet\"}], \"scattergeo\": [{\"marker\": {\"colorbar\": {\"outlinewidth\": 0, \"ticks\": \"\"}}, \"type\": \"scattergeo\"}], \"scattergl\": [{\"marker\": {\"colorbar\": {\"outlinewidth\": 0, \"ticks\": \"\"}}, \"type\": \"scattergl\"}], \"scattermapbox\": [{\"marker\": {\"colorbar\": {\"outlinewidth\": 0, \"ticks\": \"\"}}, \"type\": \"scattermapbox\"}], \"scatterpolar\": [{\"marker\": {\"colorbar\": {\"outlinewidth\": 0, \"ticks\": \"\"}}, \"type\": \"scatterpolar\"}], \"scatterpolargl\": [{\"marker\": {\"colorbar\": {\"outlinewidth\": 0, \"ticks\": \"\"}}, \"type\": \"scatterpolargl\"}], \"scatterternary\": [{\"marker\": {\"colorbar\": {\"outlinewidth\": 0, \"ticks\": \"\"}}, \"type\": \"scatterternary\"}], \"surface\": [{\"colorbar\": {\"outlinewidth\": 0, \"ticks\": \"\"}, \"colorscale\": [[0.0, \"#0d0887\"], [0.1111111111111111, \"#46039f\"], [0.2222222222222222, \"#7201a8\"], [0.3333333333333333, \"#9c179e\"], [0.4444444444444444, \"#bd3786\"], [0.5555555555555556, \"#d8576b\"], [0.6666666666666666, \"#ed7953\"], [0.7777777777777778, \"#fb9f3a\"], [0.8888888888888888, \"#fdca26\"], [1.0, \"#f0f921\"]], \"type\": \"surface\"}], \"table\": [{\"cells\": {\"fill\": {\"color\": \"#EBF0F8\"}, \"line\": {\"color\": \"white\"}}, \"header\": {\"fill\": {\"color\": \"#C8D4E3\"}, \"line\": {\"color\": \"white\"}}, \"type\": \"table\"}]}, \"layout\": {\"annotationdefaults\": {\"arrowcolor\": \"#2a3f5f\", \"arrowhead\": 0, \"arrowwidth\": 1}, \"coloraxis\": {\"colorbar\": {\"outlinewidth\": 0, \"ticks\": \"\"}}, \"colorscale\": {\"diverging\": [[0, \"#8e0152\"], [0.1, \"#c51b7d\"], [0.2, \"#de77ae\"], [0.3, \"#f1b6da\"], [0.4, \"#fde0ef\"], [0.5, \"#f7f7f7\"], [0.6, \"#e6f5d0\"], [0.7, \"#b8e186\"], [0.8, \"#7fbc41\"], [0.9, \"#4d9221\"], [1, \"#276419\"]], \"sequential\": [[0.0, \"#0d0887\"], [0.1111111111111111, \"#46039f\"], [0.2222222222222222, \"#7201a8\"], [0.3333333333333333, \"#9c179e\"], [0.4444444444444444, \"#bd3786\"], [0.5555555555555556, \"#d8576b\"], [0.6666666666666666, \"#ed7953\"], [0.7777777777777778, \"#fb9f3a\"], [0.8888888888888888, \"#fdca26\"], [1.0, \"#f0f921\"]], \"sequentialminus\": [[0.0, \"#0d0887\"], [0.1111111111111111, \"#46039f\"], [0.2222222222222222, \"#7201a8\"], [0.3333333333333333, \"#9c179e\"], [0.4444444444444444, \"#bd3786\"], [0.5555555555555556, \"#d8576b\"], [0.6666666666666666, \"#ed7953\"], [0.7777777777777778, \"#fb9f3a\"], [0.8888888888888888, \"#fdca26\"], [1.0, \"#f0f921\"]]}, \"colorway\": [\"#636efa\", \"#EF553B\", \"#00cc96\", \"#ab63fa\", \"#FFA15A\", \"#19d3f3\", \"#FF6692\", \"#B6E880\", \"#FF97FF\", \"#FECB52\"], \"font\": {\"color\": \"#2a3f5f\"}, \"geo\": {\"bgcolor\": \"white\", \"lakecolor\": \"white\", \"landcolor\": \"#E5ECF6\", \"showlakes\": true, \"showland\": true, \"subunitcolor\": \"white\"}, \"hoverlabel\": {\"align\": \"left\"}, \"hovermode\": \"closest\", \"mapbox\": {\"style\": \"light\"}, \"paper_bgcolor\": \"white\", \"plot_bgcolor\": \"#E5ECF6\", \"polar\": {\"angularaxis\": {\"gridcolor\": \"white\", \"linecolor\": \"white\", \"ticks\": \"\"}, \"bgcolor\": \"#E5ECF6\", \"radialaxis\": {\"gridcolor\": \"white\", \"linecolor\": \"white\", \"ticks\": \"\"}}, \"scene\": {\"xaxis\": {\"backgroundcolor\": \"#E5ECF6\", \"gridcolor\": \"white\", \"gridwidth\": 2, \"linecolor\": \"white\", \"showbackground\": true, \"ticks\": \"\", \"zerolinecolor\": \"white\"}, \"yaxis\": {\"backgroundcolor\": \"#E5ECF6\", \"gridcolor\": \"white\", \"gridwidth\": 2, \"linecolor\": \"white\", \"showbackground\": true, \"ticks\": \"\", \"zerolinecolor\": \"white\"}, \"zaxis\": {\"backgroundcolor\": \"#E5ECF6\", \"gridcolor\": \"white\", \"gridwidth\": 2, \"linecolor\": \"white\", \"showbackground\": true, \"ticks\": \"\", \"zerolinecolor\": \"white\"}}, \"shapedefaults\": {\"line\": {\"color\": \"#2a3f5f\"}}, \"ternary\": {\"aaxis\": {\"gridcolor\": \"white\", \"linecolor\": \"white\", \"ticks\": \"\"}, \"baxis\": {\"gridcolor\": \"white\", \"linecolor\": \"white\", \"ticks\": \"\"}, \"bgcolor\": \"#E5ECF6\", \"caxis\": {\"gridcolor\": \"white\", \"linecolor\": \"white\", \"ticks\": \"\"}}, \"title\": {\"x\": 0.05}, \"xaxis\": {\"automargin\": true, \"gridcolor\": \"white\", \"linecolor\": \"white\", \"ticks\": \"\", \"title\": {\"standoff\": 15}, \"zerolinecolor\": \"white\", \"zerolinewidth\": 2}, \"yaxis\": {\"automargin\": true, \"gridcolor\": \"white\", \"linecolor\": \"white\", \"ticks\": \"\", \"title\": {\"standoff\": 15}, \"zerolinecolor\": \"white\", \"zerolinewidth\": 2}}}, \"title\": {\"text\": \"BTC_USD: [2012-01-01 ~ 2020-11-03] 128cell 60win 1bat 2000ep 0.2drop True 0.001lr\"}},\n",
              "                        {\"responsive\": true}\n",
              "                    ).then(function(){\n",
              "                            \n",
              "var gd = document.getElementById('cdbddfe0-c359-4a3a-8754-5724f9736dcb');\n",
              "var x = new MutationObserver(function (mutations, observer) {{\n",
              "        var display = window.getComputedStyle(gd).display;\n",
              "        if (!display || display === 'none') {{\n",
              "            console.log([gd, 'removed!']);\n",
              "            Plotly.purge(gd);\n",
              "            observer.disconnect();\n",
              "        }}\n",
              "}});\n",
              "\n",
              "// Listen for the removal of the full notebook cells\n",
              "var notebookContainer = gd.closest('#notebook-container');\n",
              "if (notebookContainer) {{\n",
              "    x.observe(notebookContainer, {childList: true});\n",
              "}}\n",
              "\n",
              "// Listen for the clearing of the current output cell\n",
              "var outputEl = gd.closest('.output');\n",
              "if (outputEl) {{\n",
              "    x.observe(outputEl, {childList: true});\n",
              "}}\n",
              "\n",
              "                        })\n",
              "                };\n",
              "                \n",
              "            </script>\n",
              "        </div>\n",
              "</body>\n",
              "</html>"
            ]
          },
          "metadata": {
            "tags": []
          }
        }
      ]
    },
    {
      "cell_type": "code",
      "metadata": {
        "id": "ZlwRV7FMoZBy",
        "outputId": "9f2fd839-6c2e-4101-91b4-4f91606c3e6a",
        "colab": {
          "base_uri": "https://localhost:8080/"
        }
      },
      "source": [
        "print('현재 종가: ', real_price[-1], \n",
        "      '\\n다음 예측가격: \\n', real_after_pred.astype(int))"
      ],
      "execution_count": 51,
      "outputs": [
        {
          "output_type": "stream",
          "text": [
            "현재 종가:  13541.54827093 \n",
            "다음 예측가격: \n",
            " [[13634]\n",
            " [13736]\n",
            " [13722]\n",
            " [13876]\n",
            " [13863]\n",
            " [13850]\n",
            " [13804]\n",
            " [13741]\n",
            " [13831]\n",
            " [13712]]\n"
          ],
          "name": "stdout"
        }
      ]
    },
    {
      "cell_type": "code",
      "metadata": {
        "id": "ueDwLYSADe-F",
        "outputId": "28e16b7b-266d-4dcb-9802-eac69679053b",
        "colab": {
          "base_uri": "https://localhost:8080/",
          "height": 280
        }
      },
      "source": [
        "plt.plot(np.arange(0,len(after_pred), 1), after_pred, color='red')"
      ],
      "execution_count": 52,
      "outputs": [
        {
          "output_type": "execute_result",
          "data": {
            "text/plain": [
              "[<matplotlib.lines.Line2D at 0x7fa69eb83fd0>]"
            ]
          },
          "metadata": {
            "tags": []
          },
          "execution_count": 52
        },
        {
          "output_type": "display_data",
          "data": {
            "image/png": "[encoded data removed]",
            "text/plain": [
              "<Figure size 432x288 with 1 Axes>"
            ]
          },
          "metadata": {
            "tags": [],
            "needs_background": "light"
          }
        }
      ]
    },
    {
      "cell_type": "code",
      "metadata": {
        "id": "-AGIDKrrPm-X"
      },
      "source": [
        ""
      ],
      "execution_count": 52,
      "outputs": []
    }
  ]
}