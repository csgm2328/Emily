{
  "nbformat": 4,
  "nbformat_minor": 0,
  "metadata": {
    "colab": {
      "name": "Max Mcc",
      "provenance": [],
      "collapsed_sections": [],
      "mount_file_id": "1ZCsCKTKU6iYCLrEXrMd-F1JkgdSxsWKj",
      "authorship_tag": "ABX9TyOreW7Tk+N70ej9vIGLTHgx",
      "include_colab_link": true
    },
    "kernelspec": {
      "name": "python3",
      "display_name": "Python 3"
    }
  },
  "cells": [
    {
      "cell_type": "markdown",
      "metadata": {
        "id": "view-in-github",
        "colab_type": "text"
      },
      "source": [
        "<a href=\"https://colab.research.google.com/github/csgm2328/Emily/blob/master/Max_Mcc.ipynb\" target=\"_parent\"><img src=\"https://colab.research.google.com/assets/colab-badge.svg\" alt=\"Open In Colab\"/></a>"
      ]
    },
    {
      "cell_type": "code",
      "metadata": {
        "id": "tUlwLc5Rc4_o"
      },
      "source": [
        "get_ipython().run_line_magic('matplotlib', 'inline')\n",
        "import matplotlib.pyplot as plt\n",
        "import pandas as pd\n",
        "from pandas import json_normalize\n",
        "import numpy as np\n",
        "import plotly as py\n",
        "import plotly.graph_objs as go\n",
        "import requests\n",
        "from keras import metrics\n",
        "from keras.layers import *\n",
        "from keras.models import *\n",
        "from keras.utils.np_utils import to_categorical\n",
        "from keras.callbacks import *\n",
        "from datetime import datetime\n",
        "from sklearn.preprocessing import MinMaxScaler\n",
        "plt.style.use('bmh')\n",
        "import os\n",
        "from keras.models import load_model"
      ],
      "execution_count": null,
      "outputs": []
    },
    {
      "cell_type": "code",
      "metadata": {
        "id": "Le8U4-yxTmhM"
      },
      "source": [
        "start_date = datetime(2017,5,1)\n",
        "start = int(start_date.timestamp()) \n",
        "ret = requests.get('https://poloniex.com/public?command=returnChartData&currencyPair=USDT_BTC&start={}&end=9999999999&period=86400'.format(start))\n",
        "print(ret)"
      ],
      "execution_count": null,
      "outputs": []
    },
    {
      "cell_type": "code",
      "metadata": {
        "id": "XDYbzmO6TxKH"
      },
      "source": [
        "js = ret.json()\n",
        "print(js[-1])\n",
        "df = pd.DataFrame(js)"
      ],
      "execution_count": null,
      "outputs": []
    },
    {
      "cell_type": "code",
      "metadata": {
        "id": "1jBcMIjHTzy-"
      },
      "source": [
        "scaler = MinMaxScaler()\n",
        "real_price = df['close'].tolist()\n",
        "price = scaler.fit_transform(df[['close']]).reshape(-1).tolist()  \n",
        "\n",
        "print('오늘은',datetime.today(), real_price[-1], len(real_price), '개') # GMT +0 기준"
      ],
      "execution_count": null,
      "outputs": []
    },
    {
      "cell_type": "code",
      "metadata": {
        "id": "izIkr82CTk1R"
      },
      "source": [
        "def make_DataSet(w):\n",
        "  y = []  \n",
        "\n",
        "  for i in range(len(price) - w):   \n",
        "    x.append([price[i+j] for j in range(w)])\n",
        "    y.append(price[w + i])\n",
        "  \n",
        "  x = np.asarray(x)\n",
        "  y = np.asarray(y)\n",
        "\n",
        "  train_test_split = int(len(x)*0.7) \n",
        "\n",
        "  x_train = x[:train_test_split, :]\n",
        "  y_train = y[:train_test_split]\n",
        "\n",
        "  x_test = x[train_test_split:, :]\n",
        "  y_test = y[train_test_split:]\n",
        "\n",
        "  xtrain = x_train.reshape((x_train.shape[0], x_train.shape[1], 1)) \n",
        "  xtest =  np.reshape(x_test, (x_test.shape[0], x_test.shape[1], 1))  \n",
        "\n",
        "  return xtrain, xtest, y_train, y_test"
      ],
      "execution_count": null,
      "outputs": []
    },
    {
      "cell_type": "code",
      "metadata": {
        "id": "ErywitKbzPwL"
      },
      "source": [
        "def make_Prediction(window_size, n_batch):\n",
        "  x = []  \n",
        "  for i in range(len(price) - window_size): \n",
        "    x.append([price[i+j] for j in range(window_size)])\n",
        "  x = np.asarray(x)\n",
        "  train_test_split = int(len(x)*0.7)\n",
        "\n",
        "  x_test = x[train_test_split:, :]\n",
        "  xtest =  np.reshape(x_test, (x_test.shape[0], x_test.shape[1], 1))\n",
        "\n",
        "  testing = model.predict(xtest,batch_size=n_batch)\n",
        "  model.reset_states()\n",
        "  real_testing = scaler.inverse_transform(testing)\n",
        "  return testing, real_testing"
      ],
      "execution_count": null,
      "outputs": []
    },
    {
      "cell_type": "code",
      "metadata": {
        "id": "ar5HxyO3g7gw"
      },
      "source": [
        "#F1 score는 지나치게 긍정적으로 평가되는 경향이 있다. 분류문제인 양수인지 음수인지를 판별할 때는 MCC를 사용한다\n",
        "#MCC는 -1 ~ +1 사이 값을 나타내며 0은 임의 예측과 같은성능\n",
        "#방향 정확성 평가, MCC는 상승하락에 대해 균형있게 예측했는지 평가\n",
        "#Matthews correlation coefficient, confusion Matrix \n",
        "def MCC(actual, target, t): \n",
        "  TP, TN, FP, FN = 0,0,0,0\n",
        "  ACC_List = [] \n",
        "  MCC_List = []\n",
        "\n",
        "  for i in range(len(target)):\n",
        "    if actual[i+t] - actual[i+t-1] > 0: #상승\n",
        "      if target[i] - actual[i+t-1] > 0: #상승예측\n",
        "        TP += 1\n",
        "      else:\n",
        "        FN += 1\n",
        "    elif actual[i+t] - actual[i+t-1] < 0: # 하락\n",
        "      if target[i] - actual[i+t-1] < 0:\n",
        "        TN += 1\n",
        "      else:\n",
        "        FP += 1\n",
        "    else: #그대로\n",
        "      if target[i] == actual[i+t-1]:\n",
        "        TP += 1\n",
        "      elif target[i] - actual[i+t-1] > 0:\n",
        "        FP += 1\n",
        "      else:\n",
        "        FN += 1\n",
        "    N = TP + TN + FP + FN\n",
        "    S = (TP + FN) / N\n",
        "    P = (TP + FP) / N\n",
        "    ACC = (TP + TN) / N\n",
        "    if P == 0 or ACC == 0:\n",
        "      MCC = np.nan\n",
        "    else:\n",
        "      MCC = (TP / N - S * P) / np.sqrt(P*S*(1-S)*(1-P))\n",
        "    ACC_List.append(ACC)\n",
        "    MCC_List.append(MCC)\n",
        "\n",
        "  N = TP + TN + FP + FN\n",
        "  S = (TP + FN) / N\n",
        "  P = (TP + FP) / N\n",
        "  ACC = (TP + TN) / N\n",
        "  MCC = (TP / N - S * P) / np.sqrt(P*S*(1-S)*(1-P))\n",
        "  #MCC = (TP * TN - FP * FN) / np.sqrt((TP+FP)*(TP+FN)*(TN+FP)*(TN+FN))\n",
        "  #두개가 0이되면 측정안됨\n",
        "  print(TP,FN,TN,FP)\n",
        "  print('방향 정확도: %.3f%%\\nMCC: %.2f' %(ACC*100,MCC))\n",
        "  return ACC, MCC, ACC_List, MCC_List"
      ],
      "execution_count": null,
      "outputs": []
    },
    {
      "cell_type": "code",
      "metadata": {
        "id": "m6y9_VYZ0GU2"
      },
      "source": [
        "#keras 라이브러리 내에서 mape 평가는 값이 너무 큼 mae,mse 전부다\n",
        "def MAPE(actual, target, t): #Mean absolute percentage error\n",
        "  scores = []\n",
        "  for i in range(len(target)):\n",
        "    scores.append(np.abs((actual[i+t] - target[i]) / actual[i+t]))\n",
        "  print('값 오차율: %.2f%%\\n' %(np.average(scores)*100))\n",
        "  return scores"
      ],
      "execution_count": null,
      "outputs": []
    },
    {
      "cell_type": "code",
      "metadata": {
        "id": "mV5aEfxUTpqd"
      },
      "source": [
        "#모델마다 돌면서 max mcc, acc list 만들기\n",
        "def find_max(verif_date, temp, sec):\n",
        "  max_list = []\n",
        "  sec_max_pt = np.zeros((len(temp),1))\n",
        "  max_pt = np.zeros((len(temp),1))\n",
        "  date = 0 #구간표현용\n",
        "\n",
        "  for i in range(verif_date): #  검증 날짜수\n",
        "    max = -9999\n",
        "    for j in range(len(temp)): #  모델 수   \n",
        "      if  max < temp[j][i]:\n",
        "        max = temp[j][i]\n",
        "      if j == len(temp)-1: # 모델 다 돈 후에 max 값과 같은 값을 가진 모델들에게 sec_max_pt + 1\n",
        "        for k in range(len(temp)):\n",
        "          if max == temp[k][i]:\n",
        "            sec_max_pt[k]+=1\n",
        "\n",
        "    if max == -9999:\n",
        "      max = np.nan\n",
        "\n",
        "    max_list.append(max) #그 날의 가장 우수한 metric값들 저장\n",
        "\n",
        "    if sec != 0: #구간 평가일때\n",
        "      if (i+1) % sec == 0: #구간마다 평가\n",
        "        print('\\n<<<<<[%d ~ %d]일 구간 우수모델>>>>>' %(verif_date-date, verif_date-(i+1)))\n",
        "        date = i+1\n",
        "        max_rank = sorted(sec_max_pt,reverse=True)\n",
        "        rank = 5 # 몇위까지?\n",
        "        for y in range(rank):\n",
        "          for z in range(len(sec_max_pt)):\n",
        "            if max_rank[y-1] != max_rank[y] and max_rank[y] == sec_max_pt[z]:\n",
        "              #z번째의 모델 이름\n",
        "              print('%d위: [%d점] %s' %(y+1, max_rank[y], model_list[z]))\n",
        "\n",
        "        max_pt += sec_max_pt\n",
        "        sec_max_pt = np.zeros((len(temp),1))\n",
        "\n",
        "  max_pt += sec_max_pt\n",
        "  print('\\n<<<<<%d일 누적 우수모델>>>>>' %verif_date)\n",
        "  max_rank = sorted(max_pt,reverse=True) \n",
        "  rank = 10 \n",
        "  for y in range(rank):\n",
        "    for z in range(len(max_pt)):\n",
        "      if max_rank[y-1] != max_rank[y] and max_rank[y] == max_pt[z]:\n",
        "        print('%d위: [%d점] %s' %(y+1, max_rank[y], model_list[z]))\n",
        "        \n",
        "  return max_list,max_pt"
      ],
      "execution_count": null,
      "outputs": []
    },
    {
      "cell_type": "code",
      "metadata": {
        "id": "fRmOiZmsnvzl"
      },
      "source": [
        "#구간별 평가\n",
        "#mcc가 초기화될때마다 TP가 0일때 평가가 안되는 문제는 감수해야함\n",
        "def sec_metrics(sec, verif_date):\n",
        "  acc, mcc = [],[]\n",
        "  ACC_List, MCC_List = [],[]\n",
        "  MAPE_List = []\n",
        "\n",
        "  for i in range(-verif_date,0,sec): #검증하는 기간을 구간별로 나눠서 반복\n",
        "    if i+sec == 0:\n",
        "      sec_acc, sec_mcc, sec_ACC_List, sec_MCC_List = MCC(real_price[i:],real_testing[i:],0)\n",
        "      sec_MAPE_List = MAPE(real_price[i:], real_testing[i:], 0)\n",
        "    else:\n",
        "      sec_acc, sec_mcc, sec_ACC_List, sec_MCC_List = MCC(real_price[i:i+sec],real_testing[i:i+sec],0)\n",
        "      sec_MAPE_List= MAPE(real_price[i:i+sec], real_testing[i:i+sec], 0)\n",
        "\n",
        "    acc.append(sec_acc)\n",
        "    mcc.append(sec_mcc)\n",
        "    MAPE_List.append(sec_MAPE_List)  \n",
        "    ACC_List.append(sec_ACC_List)\n",
        "    MCC_List.append(sec_MCC_List)\n",
        "\n",
        "  #sec_MCCs = sum(sec_MCCs,[]) #sum(iterable, start) np.flatten() 보다 1000배 느림 %timeit으로 검사\n",
        "  #1차원으로\n",
        "  acc = np.asarray(acc).flatten()\n",
        "  mcc = np.asarray(mcc).flatten()\n",
        "  MAPE_List = np.asarray(MAPE_List).flatten()\n",
        "  ACC_List = np.asarray(ACC_List).flatten()\n",
        "  MCC_List = np.asarray(MCC_List).flatten()\n",
        "\n",
        "  return acc, mcc, MAPE_List, ACC_List, MCC_List\n",
        "  "
      ],
      "execution_count": null,
      "outputs": []
    },
    {
      "cell_type": "code",
      "metadata": {
        "id": "ra_6Zts9d0xV"
      },
      "source": [
        "cd /content/drive/My Drive/Colab Notebooks/LSTM_models/"
      ],
      "execution_count": null,
      "outputs": []
    },
    {
      "cell_type": "code",
      "metadata": {
        "id": "TYPnFzJFuv60"
      },
      "source": [
        "#모델 저장된 폴더에서 모델들 불러오기\n",
        "model_list = !ls\n",
        "#model_list = model_list[:10]\n",
        "len(model_list)"
      ],
      "execution_count": null,
      "outputs": []
    },
    {
      "cell_type": "code",
      "metadata": {
        "id": "kzNLHGDbU72A"
      },
      "source": [
        "#따옴표 없애기\n",
        "for i in range(len(model_list)):\n",
        "  s = model_list[i]\n",
        "  s = s[1:]\n",
        "  s = s[:-1]\n",
        "  model_list[i] = s"
      ],
      "execution_count": null,
      "outputs": []
    },
    {
      "cell_type": "code",
      "metadata": {
        "id": "4w3OG8M4YahB"
      },
      "source": [
        "#epoch 종류 list\n",
        "ep_list = []\n",
        "for i in range(len(model_list)):\n",
        "  ep = model_list[i].split(' ')[7][:-2]\n",
        "  if ep not in ep_list:\n",
        "  #if (np.any(ep == ep_list)):\n",
        "    ep_list.append(ep)\n",
        "print(ep_list)"
      ],
      "execution_count": null,
      "outputs": []
    },
    {
      "cell_type": "markdown",
      "metadata": {
        "id": "yxqu2JOnAnE9"
      },
      "source": [
        "#Argument별 평가"
      ]
    },
    {
      "cell_type": "code",
      "metadata": {
        "id": "m9D6Z83s7Mun"
      },
      "source": [
        "#Argument별 평가\n",
        "%%time\n",
        "ep_list = []\n",
        "#epoch 종류별로 window_size에 따른 mae값 비교\n",
        "for i in range(len(ep_list)):\n",
        "  train_maes, test_maes = [],[]\n",
        "  xaxes = []\n",
        "  for j in range(len(model_list)):\n",
        "    if ep_list[i] == model_list[j].split(' ')[7][:-2]: #같은 종류의 ep찾으면\n",
        "      #evaluate\n",
        "      n_batch = int(model_list[j].split(' ')[6][:-3])\n",
        "      window_size = int(model_list[j].split(' ')[5][:-3])\n",
        "\n",
        "      xtrain, xtest, y_train, y_test = make_DataSet(window_size)\n",
        "      model = load_model(model_list[j])\n",
        "      trainScore = model.evaluate(xtrain, y_train, batch_size = n_batch, verbose=0)\n",
        "      testScore = model.evaluate(xtest, y_test, batch_size = n_batch, verbose=0)\n",
        "\n",
        "      print(model_list[j])\n",
        "      print('mae: (%.5f, %.5f)\\n' %(trainScore[1],testScore[1]))\n",
        "      xaxes.append(window_size)\n",
        "      train_maes.append(trainScore[1])\n",
        "      test_maes.append(testScore[1])\n",
        "    \n",
        "  #graph\n",
        "  #min 값은?\n",
        "  print(xaxes)\n",
        "  \n",
        "  print('train MIN : %f' %(np.min(train_maes)))\n",
        "  print('test MIN : %f' %(np.min(test_maes)))\n",
        "\n",
        "  train_ax = plt.subplot()\n",
        "  test_ax = train_ax.twinx()\n",
        "\n",
        "  train_ax.plot(xaxes, train_maes, 'yo', label='train_mae')\n",
        "  test_ax.plot(xaxes, test_maes, 'bo', label='test_mae')\n",
        "\n",
        "  train_ax.set_xlabel(ep_list[i]+'ep: window_size')\n",
        "  #train_ax.set_ylabel('train_mae')\n",
        "  #test_ax.set_ylabel('test_mae')\n",
        "\n",
        "  train_ax.legend(loc='best')\n",
        "  test_ax.legend(loc='best')\n",
        "   \n",
        "  plt.show()\n",
        "\n",
        "  \n",
        "  "
      ],
      "execution_count": null,
      "outputs": []
    },
    {
      "cell_type": "markdown",
      "metadata": {
        "id": "yWpDtmNZCMpD"
      },
      "source": [
        "#학습한 모델들 MCC 평가"
      ]
    },
    {
      "cell_type": "code",
      "metadata": {
        "id": "tYGekh_zjV7D"
      },
      "source": [
        "#ACC, MCC 평가\n",
        "%%time\n",
        "MCCs, ACCs = [],[]\n",
        "ACC_Lists, MCC_Lists = [],[]\n",
        "ACC_data, MCC_data = [],[]\n",
        "MAPE_Lists = []\n",
        "verif_date = 270\n",
        "sec = 0  #구간별 \n",
        "\n",
        "for i in range(len(model_list)):\n",
        "  model_name = model_list[i]\n",
        "  model = load_model(model_name)\n",
        "  window_size = int(model_name.split(' ')[5][:-3])\n",
        "  n_batch = int(model_name.split(' ')[6][:-3])\n",
        "  n_epoch = int(model_name.split(' ')[7][:-2])\n",
        "  name = model_name.split(' ')[1] + ' ~ ' + model_name.split(' ')[3]+ ' ' + str(window_size) + 'win ' + str(n_epoch) + 'ep'\n",
        "\n",
        "\n",
        "  xtrain, xtest, y_train, y_test = make_DataSet(window_size)\n",
        "  testing = model.predict(xtest,batch_size=n_batch)\n",
        "  model.reset_states()\n",
        "  real_testing = scaler.inverse_transform(testing)\n",
        "  #testing, real_testing = make_Prediction(window_size, n_batch)\n",
        "  \n",
        "  #출력\n",
        "  print(name)\n",
        "  if sec != 0: #구간 평가일때\n",
        "    acc, mcc, MAPE_List, ACC_List, MCC_List = sec_metrics(sec, verif_date)\n",
        "\n",
        "  else: #누적 평가일때\n",
        "    acc, mcc, ACC_List,MCC_List = MCC(real_price[-verif_date:], real_testing[-verif_date:], 0)\n",
        "    MAPE_List = MAPE(real_price[-verif_date:], real_testing[-verif_date:], 0)\n",
        "\n",
        "  ACCs.append(acc)\n",
        "  MCCs.append(mcc)\n",
        "  MAPE_Lists.append(MAPE_List)\n",
        "  ACC_Lists.append(ACC_List) \n",
        "  MCC_Lists.append(MCC_List)\n",
        "\n",
        "  #make go.scatter data\n",
        "  x1 = np.arange(0,verif_date,1)\n",
        "  if acc > 0.5: #50% 이상만 그리기위해\n",
        "    go_acc = go.Scatter(x=x1, y = ACC_List, line=dict(color='black'), name = name+'[acc]', yaxis='y')\n",
        "    ACC_data.append(go_acc)\n",
        "  if mcc > 0.0: \n",
        "    go_mcc = go.Scatter(x=x1, y = MCC_List, mode='lines+markers',line=dict(color='blue'), name = name+'[MCC]', yaxis='y2')\n",
        "    MCC_data.append(go_mcc)\n",
        "\n",
        "  #go_mape = go.Scatter(x=x1, y = MAPE_List, line=dict(color='yellow'), name = name+'[MAPE]', yaxis='y3')\n",
        "  #MCC_data.append(go_mcc)\n",
        "  \n",
        "#Max찾기\n",
        "#평균 Max찾기\n",
        "rank = 10\n",
        "print('\\n<<<<<%d일 누적평균 정확성 우수모델>>>>>' %verif_date)\n",
        "max_ACCs = sorted(ACCs,reverse=True)\n",
        "for i in range(rank):\n",
        "  for j in range(len(ACCs)):\n",
        "    if max_ACCs[i-1] != max_ACCs[i] and max_ACCs[i] == ACCs[j]:\n",
        "      print('%d위는 ACC:%.3f%% 의 %s' % (i+1, max_ACCs[i]*100, model_list[j])) # 정확도\n",
        "\n",
        "print('\\n\\n<<<<<%d일 누적평균 MCC 우수모델>>>>>' %verif_date)\n",
        "max_MCCs = sorted(MCCs,reverse=True)\n",
        "for i in range(rank):\n",
        "  for j in range(len(MCCs)):\n",
        "    if max_MCCs[i-1] != max_MCCs[i] and max_MCCs[i] == MCCs[j]:\n",
        "      print('%d위는 MCC:%.2f 의 %s' % (i+1, max_MCCs[i], model_list[j])) # 정확도\n",
        "            \n",
        "acc_max_list,acc_max_pt = find_max(verif_date, ACC_Lists, sec)\n",
        "mcc_max_list,mcc_max_pt = find_max(verif_date, MCC_Lists, sec)\n",
        "#mape_max_list = find_max(verif_date, MAPE_Lists)\n",
        "\n",
        "go_am = go.Scatter(x=x1, y = acc_max_list, line=dict(color='red',width=6),name = 'Max Accuracies', yaxis='y')\n",
        "go_mm = go.Scatter(x=x1, y = mcc_max_list, mode='lines+markers',line=dict(color='lime',width=6), name = 'Max MCCs', yaxis='y2')\n",
        "#go_mp = go.Scatter(x=x1, y = mcc_max_list,line=dict(color='magenta',width=6), name = 'Max MAPEs', yaxis='y3')"
      ],
      "execution_count": null,
      "outputs": []
    },
    {
      "cell_type": "code",
      "metadata": {
        "id": "Bn_z0dd31h0_"
      },
      "source": [
        "cd /content/"
      ],
      "execution_count": null,
      "outputs": []
    },
    {
      "cell_type": "code",
      "metadata": {
        "id": "q0y0PCWP1g6a"
      },
      "source": [
        "#합쳐서 acc, mcc\n",
        "Title = '정확도, MCC의 MAX 찾기' + ' 최근' + str(verif_date) + '일 '+ '[' + str(datetime.date(datetime.today())) + ']'\n",
        "fig = go.Figure()\n",
        "fig.add_traces(go_am)\n",
        "fig.add_traces(go_mm)\n",
        "fig.add_traces(ACC_data)\n",
        "fig.add_traces(MCC_data)\n",
        "\n",
        "layout = go.Layout(title=Title,\n",
        "                   yaxis=dict(\n",
        "                       title='정확도',zeroline=True, showline=True),\n",
        "                   yaxis2=dict(\n",
        "                       title = 'MCC', overlaying='y', side='right', position=1)\n",
        ")\n",
        "fig.update_layout(layout)\n",
        "py.offline.plot(fig)\n",
        "\n",
        "\n",
        "os.rename('temp-plot.html', '합친 ' + Title + '.html')"
      ],
      "execution_count": null,
      "outputs": []
    },
    {
      "cell_type": "code",
      "metadata": {
        "id": "yg-xyyrZGlDU"
      },
      "source": [
        "#모델별로 acc & mcc \n",
        "from plotly.subplots import make_subplots\n",
        "rows = 4\n",
        "cols = 5\n",
        "fig = make_subplots(rows=rows, cols=cols)\n",
        "k = 0\n",
        "\n",
        "for i in range(rows):\n",
        "  for j in range(cols):\n",
        "    fig.add_trace(ACC_data[k],row=i+1, col=j+1)\n",
        "    fig.add_trace(MCC_data[k],row=i+1, col=j+1 )\n",
        "    k+=1\n",
        "\n",
        "fig.update_layout(go.Layout(title=Title))\n",
        "py.offline.plot(fig)\n",
        "\n",
        "os.rename('temp-plot.html', '모델별 ' + Title + '.html')"
      ],
      "execution_count": null,
      "outputs": []
    }
  ]
}