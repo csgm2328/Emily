{
  "nbformat": 4,
  "nbformat_minor": 0,
  "metadata": {
    "colab": {
      "name": "Max Mcc",
      "provenance": [],
      "collapsed_sections": [],
      "mount_file_id": "1ZCsCKTKU6iYCLrEXrMd-F1JkgdSxsWKj",
      "authorship_tag": "ABX9TyMeEKNMSxTzoDrerKPOqHj1",
      "include_colab_link": true
    },
    "kernelspec": {
      "name": "python3",
      "display_name": "Python 3"
    }
  },
  "cells": [
    {
      "cell_type": "markdown",
      "metadata": {
        "id": "view-in-github",
        "colab_type": "text"
      },
      "source": [
        "<a href=\"https://colab.research.google.com/github/csgm2328/Emily/blob/master/Max_Mcc.ipynb\" target=\"_parent\"><img src=\"https://colab.research.google.com/assets/colab-badge.svg\" alt=\"Open In Colab\"/></a>"
      ]
    },
    {
      "cell_type": "code",
      "metadata": {
        "id": "tUlwLc5Rc4_o"
      },
      "source": [
        "get_ipython().run_line_magic('matplotlib', 'inline')\n",
        "import matplotlib.pyplot as plt\n",
        "import pandas as pd\n",
        "from pandas import json_normalize\n",
        "import numpy as np\n",
        "import plotly as py\n",
        "import plotly.graph_objs as go\n",
        "import requests\n",
        "from keras import metrics\n",
        "from keras.layers import *\n",
        "from keras.models import *\n",
        "from keras.utils.np_utils import to_categorical\n",
        "from keras.callbacks import *\n",
        "from datetime import datetime\n",
        "from sklearn.preprocessing import MinMaxScaler\n",
        "plt.style.use('bmh')\n",
        "import os\n",
        "from keras.models import load_model"
      ],
      "execution_count": 31,
      "outputs": []
    },
    {
      "cell_type": "code",
      "metadata": {
        "id": "Le8U4-yxTmhM",
        "outputId": "59732500-f654-4fa4-a251-8961af56fc81",
        "colab": {
          "base_uri": "https://localhost:8080/"
        }
      },
      "source": [
        "start_date = datetime(2017,5,1)\n",
        "start = int(start_date.timestamp()) #꼭 tuple이었던 변수를 datetime으로 넣을 때는 *을 붙여줘야함\n",
        "ret = requests.get('https://poloniex.com/public?command=returnChartData&currencyPair=USDT_BTC&start={}&end=9999999999&period=86400'.format(start))\n",
        "print(ret)"
      ],
      "execution_count": 32,
      "outputs": [
        {
          "output_type": "stream",
          "text": [
            "<Response [200]>\n"
          ],
          "name": "stdout"
        }
      ]
    },
    {
      "cell_type": "code",
      "metadata": {
        "id": "XDYbzmO6TxKH",
        "outputId": "625d4371-2add-4de1-de09-cddf56c08e96",
        "colab": {
          "base_uri": "https://localhost:8080/"
        }
      },
      "source": [
        "js = ret.json()\n",
        "print(js[-1])\n",
        "df = pd.DataFrame(js)"
      ],
      "execution_count": 33,
      "outputs": [
        {
          "output_type": "stream",
          "text": [
            "{'date': 1604448000, 'high': 14034.99999998, 'low': 13532.19398223, 'open': 14014.59395478, 'close': 14022.91059739, 'volume': 11859822.33752275, 'quoteVolume': 859.33529154, 'weightedAverage': 13801.15823739}\n"
          ],
          "name": "stdout"
        }
      ]
    },
    {
      "cell_type": "code",
      "metadata": {
        "id": "1jBcMIjHTzy-",
        "outputId": "2f18b487-8f3d-48c8-bee2-92a16efd5c4f",
        "colab": {
          "base_uri": "https://localhost:8080/"
        }
      },
      "source": [
        "scaler = MinMaxScaler()\n",
        "real_price = df['close'].tolist()\n",
        "#df['close'] series라서 .iloc[]으로 인덱싱\n",
        "#df[['close']] dateframe 열이름까지 나옴\n",
        "price = scaler.fit_transform(df[['close']]).reshape(-1).tolist()  #tolist로 만들어줌\n",
        "\n",
        "print('오늘은',datetime.today(), real_price[-1], len(real_price), '개') # GMT +0 기준"
      ],
      "execution_count": 34,
      "outputs": [
        {
          "output_type": "stream",
          "text": [
            "오늘은 2020-11-04 16:24:44.477439 14022.91059739 1284 개\n"
          ],
          "name": "stdout"
        }
      ]
    },
    {
      "cell_type": "code",
      "metadata": {
        "id": "izIkr82CTk1R"
      },
      "source": [
        "def make_DataSet(w):\n",
        "  #make Dataset\n",
        "  x = []  #5일의 데이터를 넣고 다음날을 예측하는 방식 (특징벡터 - 훈련집합)\n",
        "  y = []  #5+1일의 데이터를 넣고 (결과값 - 훈련집합)\n",
        "\n",
        "  for i in range(len(price) - w):   #1916-5 = 1911 Range는 마지막 1910까지임\n",
        "    x.append([price[i+j] for j in range(w)])\n",
        "    y.append(price[w + i])\n",
        "  \n",
        "  x = np.asarray(x)\n",
        "  y = np.asarray(y)\n",
        "\n",
        "  train_test_split = int(len(x)*0.7) #1200개에서 1357개로 증가후에 acc: 0.0017 --> 0.0015\n",
        "\n",
        "  x_train = x[:train_test_split, :]\n",
        "  y_train = y[:train_test_split]\n",
        "\n",
        "  x_test = x[train_test_split:, :]\n",
        "  y_test = y[train_test_split:]\n",
        "\n",
        "  xtrain = x_train.reshape((x_train.shape[0], x_train.shape[1], 1)) # 2차원 데이터 3차원화, LSTM의 데이터 생성할때 주의해야하는 포인트, [sequence,  batch, input_dim]\n",
        "  xtest =  np.reshape(x_test, (x_test.shape[0], x_test.shape[1], 1))  #test 집합을 늘리면 미래를 예측할 수 있을까?\n",
        "\n",
        "  return xtrain, xtest, y_train, y_test"
      ],
      "execution_count": 35,
      "outputs": []
    },
    {
      "cell_type": "code",
      "metadata": {
        "id": "ErywitKbzPwL"
      },
      "source": [
        "def make_Prediction(window_size, n_batch):\n",
        "  x = []  \n",
        "  for i in range(len(price) - window_size): \n",
        "    x.append([price[i+j] for j in range(window_size)])\n",
        "  x = np.asarray(x)\n",
        "  train_test_split = int(len(x)*0.7)\n",
        "\n",
        "  x_test = x[train_test_split:, :]\n",
        "  xtest =  np.reshape(x_test, (x_test.shape[0], x_test.shape[1], 1))\n",
        "\n",
        "  testing = model.predict(xtest,batch_size=n_batch)\n",
        "  model.reset_states()\n",
        "  real_testing = scaler.inverse_transform(testing)\n",
        "  return testing, real_testing"
      ],
      "execution_count": 36,
      "outputs": []
    },
    {
      "cell_type": "code",
      "metadata": {
        "id": "ar5HxyO3g7gw"
      },
      "source": [
        "#F1 score는 지나치게 긍정적으로 평가되는 경향이 있다. 분류문제인 양수인지 음수인지를 판별할 때는 MCC를 사용한다\n",
        "#MCC는 -1 ~ +1 사이 값을 나타내며 0은 임의 예측과 같은성능\n",
        "#방향 정확성 평가, MCC는 상승하락에 대해 균형있게 예측했는지 평가\n",
        "#Matthews correlation coefficient, confusion Matrix \n",
        "def MCC(actual, target, t): \n",
        "  TP, TN, FP, FN = 0,0,0,0\n",
        "  ACC_List = [] \n",
        "  MCC_List = []\n",
        "\n",
        "  for i in range(len(target)):\n",
        "    if actual[i+t] - actual[i+t-1] > 0: #상승\n",
        "      if target[i] - actual[i+t-1] > 0: #상승예측\n",
        "        TP += 1\n",
        "      else:\n",
        "        FN += 1\n",
        "    elif actual[i+t] - actual[i+t-1] < 0: # 하락\n",
        "      if target[i] - actual[i+t-1] < 0:\n",
        "        TN += 1\n",
        "      else:\n",
        "        FP += 1\n",
        "    else: #그대로\n",
        "      if target[i] == actual[i+t-1]:\n",
        "        TP += 1\n",
        "      elif target[i] - actual[i+t-1] > 0:\n",
        "        FP += 1\n",
        "      else:\n",
        "        FN += 1\n",
        "    N = TP + TN + FP + FN\n",
        "    S = (TP + FN) / N\n",
        "    P = (TP + FP) / N\n",
        "    ACC = (TP + TN) / N\n",
        "    if P == 0 or ACC == 0:\n",
        "      MCC = np.nan\n",
        "    else:\n",
        "      MCC = (TP / N - S * P) / np.sqrt(P*S*(1-S)*(1-P))\n",
        "    ACC_List.append(ACC)\n",
        "    MCC_List.append(MCC)\n",
        "\n",
        "  N = TP + TN + FP + FN\n",
        "  S = (TP + FN) / N\n",
        "  P = (TP + FP) / N\n",
        "  ACC = (TP + TN) / N\n",
        "  MCC = (TP / N - S * P) / np.sqrt(P*S*(1-S)*(1-P))\n",
        "  #MCC = (TP * TN - FP * FN) / np.sqrt((TP+FP)*(TP+FN)*(TN+FP)*(TN+FN))\n",
        "  #두개가 0이되면 측정안됨\n",
        "  print(TP,FN,TN,FP)\n",
        "  #print(ACC_List)\n",
        "  #print(MCC_List)\n",
        "  print('방향 정확도: %.3f%%\\nMCC: %.2f' %(ACC*100,MCC))\n",
        "  return ACC, MCC, ACC_List, MCC_List"
      ],
      "execution_count": 37,
      "outputs": []
    },
    {
      "cell_type": "code",
      "metadata": {
        "id": "m6y9_VYZ0GU2"
      },
      "source": [
        "#keras 라이브러리 내 mape 평가는 값이 너무 큼 mae,mse 전부다\n",
        "def MAPE(actual, target, t): #Mean absolute percentage error\n",
        "  scores = []\n",
        "  for i in range(len(target)):\n",
        "    scores.append(np.abs((actual[i+t] - target[i]) / actual[i+t]))\n",
        "  print('값 오차율: %.2f%%\\n' %(np.average(scores)*100))\n",
        "  return scores"
      ],
      "execution_count": 38,
      "outputs": []
    },
    {
      "cell_type": "code",
      "metadata": {
        "id": "mV5aEfxUTpqd"
      },
      "source": [
        "#모델마다 돌면서 max mcc, acc list 만들기\n",
        "def find_max(verif_date, temp, sec):\n",
        "  max_list = []\n",
        "  sec_max_pt = np.zeros((len(temp),1))\n",
        "  max_pt = np.zeros((len(temp),1))\n",
        "  date = 0 #구간표현용\n",
        "\n",
        "  for i in range(verif_date): #  검증 날짜수\n",
        "    max = -9999\n",
        "    for j in range(len(temp)): #  모델 수   \n",
        "      if  max < temp[j][i]:\n",
        "        max = temp[j][i]\n",
        "      if j == len(temp)-1: # 모델 다 돈 후에 max 값과 같은 값을 가진 모델들에게 sec_max_pt + 1\n",
        "        for k in range(len(temp)):\n",
        "          if max == temp[k][i]:\n",
        "            sec_max_pt[k]+=1\n",
        "\n",
        "    if max == -9999:\n",
        "      max = np.nan\n",
        "\n",
        "    max_list.append(max) #그 날의 가장 우수한 metric값들 저장\n",
        "\n",
        "    if sec != 0: #구간 평가일때\n",
        "      if (i+1) % sec == 0: #구간마다 평가\n",
        "        print('\\n<<<<<[%d ~ %d]일 구간 우수모델>>>>>' %(verif_date-date, verif_date-(i+1)))\n",
        "        date = i+1\n",
        "        max_rank = sorted(sec_max_pt,reverse=True)\n",
        "        rank = 5 # 몇위까지?\n",
        "        for y in range(rank):\n",
        "          for z in range(len(sec_max_pt)):\n",
        "            if max_rank[y-1] != max_rank[y] and max_rank[y] == sec_max_pt[z]:\n",
        "              #z번째의 모델 이름\n",
        "              print('%d위: [%d점] %s' %(y+1, max_rank[y], model_list[z]))\n",
        "\n",
        "        max_pt += sec_max_pt\n",
        "        sec_max_pt = np.zeros((len(temp),1))\n",
        "\n",
        "  max_pt += sec_max_pt\n",
        "  print('\\n<<<<<%d일 누적 우수모델>>>>>' %verif_date)\n",
        "  max_rank = sorted(max_pt,reverse=True) \n",
        "  rank = 10 \n",
        "  for y in range(rank):\n",
        "    for z in range(len(max_pt)):\n",
        "      if max_rank[y-1] != max_rank[y] and max_rank[y] == max_pt[z]:\n",
        "        print('%d위: [%d점] %s' %(y+1, max_rank[y], model_list[z]))\n",
        "        \n",
        "  return max_list,max_pt"
      ],
      "execution_count": 39,
      "outputs": []
    },
    {
      "cell_type": "code",
      "metadata": {
        "id": "fRmOiZmsnvzl"
      },
      "source": [
        "#구간별 평가\n",
        "#mcc가 초기화될때마다 TP가 0일때 평가가 안되는 문제는 감수해야함\n",
        "def sec_metrics(sec, verif_date):\n",
        "  acc, mcc = [],[]\n",
        "  ACC_List, MCC_List = [],[]\n",
        "  MAPE_List = []\n",
        "\n",
        "  for i in range(-verif_date,0,sec): #검증하는 기간을 구간별로 나눠서 반복\n",
        "    if i+sec == 0:\n",
        "      sec_acc, sec_mcc, sec_ACC_List, sec_MCC_List = MCC(real_price[i:],real_testing[i:],0)\n",
        "      sec_MAPE_List = MAPE(real_price[i:], real_testing[i:], 0)\n",
        "    else:\n",
        "      sec_acc, sec_mcc, sec_ACC_List, sec_MCC_List = MCC(real_price[i:i+sec],real_testing[i:i+sec],0)\n",
        "      sec_MAPE_List= MAPE(real_price[i:i+sec], real_testing[i:i+sec], 0)\n",
        "\n",
        "    acc.append(sec_acc)\n",
        "    mcc.append(sec_mcc)\n",
        "    MAPE_List.append(sec_MAPE_List)  \n",
        "    ACC_List.append(sec_ACC_List)\n",
        "    MCC_List.append(sec_MCC_List)\n",
        "\n",
        "  #sec_MCCs = sum(sec_MCCs,[]) #sum(iterable, start) np.flatten() 보다 1000배 느림 %timeit으로 검사\n",
        "  #1차원으로\n",
        "  acc = np.asarray(acc).flatten()\n",
        "  mcc = np.asarray(mcc).flatten()\n",
        "  MAPE_List = np.asarray(MAPE_List).flatten()\n",
        "  ACC_List = np.asarray(ACC_List).flatten()\n",
        "  MCC_List = np.asarray(MCC_List).flatten()\n",
        "\n",
        "  return acc, mcc, MAPE_List, ACC_List, MCC_List\n",
        "  "
      ],
      "execution_count": 40,
      "outputs": []
    },
    {
      "cell_type": "code",
      "metadata": {
        "id": "ra_6Zts9d0xV",
        "outputId": "794bac19-b7a2-4b64-f125-303e0ff89174",
        "colab": {
          "base_uri": "https://localhost:8080/"
        }
      },
      "source": [
        "cd /content/drive/My Drive/Colab Notebooks/LSTM_models/BTC-USD"
      ],
      "execution_count": 41,
      "outputs": [
        {
          "output_type": "stream",
          "text": [
            "/content/drive/My Drive/Colab Notebooks/LSTM_models/BTC-USD\n"
          ],
          "name": "stdout"
        }
      ]
    },
    {
      "cell_type": "code",
      "metadata": {
        "id": "TYPnFzJFuv60",
        "outputId": "33ceb8af-9b02-4b58-dc20-b4528fc6a3b6",
        "colab": {
          "base_uri": "https://localhost:8080/"
        }
      },
      "source": [
        "#모델 저장된 폴더에서 모델들 불러오기\n",
        "model_list = !ls\n",
        "#model_list = model_list[:10] #upload 용 output 줄이기\n",
        "len(model_list)"
      ],
      "execution_count": 42,
      "outputs": [
        {
          "output_type": "execute_result",
          "data": {
            "text/plain": [
              "94"
            ]
          },
          "metadata": {
            "tags": []
          },
          "execution_count": 42
        }
      ]
    },
    {
      "cell_type": "code",
      "metadata": {
        "id": "kzNLHGDbU72A"
      },
      "source": [
        "#따옴표 없애기\n",
        "for i in range(len(model_list)):\n",
        "  s = model_list[i]\n",
        "  s = s[1:]\n",
        "  s = s[:-1]\n",
        "  model_list[i] = s"
      ],
      "execution_count": 43,
      "outputs": []
    },
    {
      "cell_type": "code",
      "metadata": {
        "id": "4w3OG8M4YahB",
        "outputId": "ba48916b-111d-460a-d4ca-afd2dd5bdd48",
        "colab": {
          "base_uri": "https://localhost:8080/"
        }
      },
      "source": [
        "#epoch 종류 list\n",
        "ep_list = []\n",
        "for i in range(len(model_list)):\n",
        "  ep = model_list[i].split(' ')[7][:-2]\n",
        "  if ep not in ep_list:\n",
        "  #if (np.any(ep == ep_list)):\n",
        "    ep_list.append(ep)\n",
        "print(ep_list)"
      ],
      "execution_count": 44,
      "outputs": [
        {
          "output_type": "stream",
          "text": [
            "['2000', '100', '5000', '7000', '10', '1000', '4000', '400', '5700', '3500', '2500', '1400', '1300', '200', '2', '300', '500', '600', '6', '700', '800', '900']\n"
          ],
          "name": "stdout"
        }
      ]
    },
    {
      "cell_type": "markdown",
      "metadata": {
        "id": "yxqu2JOnAnE9"
      },
      "source": [
        "#Argument별 평가"
      ]
    },
    {
      "cell_type": "code",
      "metadata": {
        "id": "m9D6Z83s7Mun",
        "outputId": "27ee840e-b224-4288-a5b5-e84b9e0be53a",
        "colab": {
          "base_uri": "https://localhost:8080/"
        }
      },
      "source": [
        "#Argument별 평가\n",
        "%%time\n",
        "ep_list = []\n",
        "#epoch 종류별로 window_size에 따른 mae값 비교\n",
        "for i in range(len(ep_list)):\n",
        "  train_maes, test_maes = [],[]\n",
        "  xaxes = []\n",
        "  for j in range(len(model_list)):\n",
        "    if ep_list[i] == model_list[j].split(' ')[7][:-2]: #같은 종류의 ep찾으면\n",
        "      #evaluate\n",
        "      n_batch = int(model_list[j].split(' ')[6][:-3])\n",
        "      window_size = int(model_list[j].split(' ')[5][:-3])\n",
        "\n",
        "      xtrain, xtest, y_train, y_test = make_DataSet(window_size)\n",
        "      model = load_model(model_list[j])\n",
        "      trainScore = model.evaluate(xtrain, y_train, batch_size = n_batch, verbose=0)\n",
        "      testScore = model.evaluate(xtest, y_test, batch_size = n_batch, verbose=0)\n",
        "\n",
        "      print(model_list[j])\n",
        "      print('mae: (%.5f, %.5f)\\n' %(trainScore[1],testScore[1]))\n",
        "      xaxes.append(window_size)\n",
        "      train_maes.append(trainScore[1])\n",
        "      test_maes.append(testScore[1])\n",
        "    \n",
        "  #graph\n",
        "  #min 값은?\n",
        "  print(xaxes)\n",
        "  \n",
        "  print('train MIN : %f' %(np.min(train_maes)))\n",
        "  print('test MIN : %f' %(np.min(test_maes)))\n",
        "\n",
        "  train_ax = plt.subplot()\n",
        "  test_ax = train_ax.twinx()\n",
        "\n",
        "  train_ax.plot(xaxes, train_maes, 'yo', label='train_mae')\n",
        "  test_ax.plot(xaxes, test_maes, 'bo', label='test_mae')\n",
        "\n",
        "  train_ax.set_xlabel(ep_list[i]+'ep: window_size')\n",
        "  #train_ax.set_ylabel('train_mae')\n",
        "  #test_ax.set_ylabel('test_mae')\n",
        "\n",
        "  train_ax.legend(loc='best')\n",
        "  test_ax.legend(loc='best')\n",
        "   \n",
        "  plt.show()\n",
        "\n",
        "  \n",
        "  "
      ],
      "execution_count": 45,
      "outputs": [
        {
          "output_type": "stream",
          "text": [
            "CPU times: user 7 µs, sys: 1 µs, total: 8 µs\n",
            "Wall time: 49.4 µs\n"
          ],
          "name": "stdout"
        }
      ]
    },
    {
      "cell_type": "markdown",
      "metadata": {
        "id": "yWpDtmNZCMpD"
      },
      "source": [
        "#학습한 모델들 MCC 평가"
      ]
    },
    {
      "cell_type": "code",
      "metadata": {
        "id": "tYGekh_zjV7D"
      },
      "source": [
        "#ACC, MCC 평가\n",
        "%%time\n",
        "MCCs, ACCs = [],[]\n",
        "ACC_Lists, MCC_Lists = [],[]\n",
        "ACC_data, MCC_data = [],[]\n",
        "MAPE_Lists = []\n",
        "verif_date = 270\n",
        "sec = 0  #원하는 매매주기를 입력하세요!\n",
        "\n",
        "for i in range(len(model_list)):\n",
        "  model_name = model_list[i]\n",
        "  model = load_model(model_name)\n",
        "  window_size = int(model_name.split(' ')[5][:-3])\n",
        "  n_batch = int(model_name.split(' ')[6][:-3])\n",
        "  n_epoch = int(model_name.split(' ')[7][:-2])\n",
        "  name = model_name.split(' ')[1] + ' ~ ' + model_name.split(' ')[3]+ ' ' + str(window_size) + 'win ' + str(n_epoch) + 'ep'\n",
        "\n",
        "\n",
        "  xtrain, xtest, y_train, y_test = make_DataSet(window_size)\n",
        "  testing = model.predict(xtest,batch_size=n_batch)\n",
        "  model.reset_states()\n",
        "  real_testing = scaler.inverse_transform(testing)\n",
        "  #testing, real_testing = make_Prediction(window_size, n_batch)\n",
        "  \n",
        "  #출력\n",
        "  print(name)\n",
        "  if sec != 0: #구간 평가일때\n",
        "    acc, mcc, MAPE_List, ACC_List, MCC_List = sec_metrics(sec, verif_date)\n",
        "\n",
        "  else: #누적 평가일때\n",
        "    acc, mcc, ACC_List,MCC_List = MCC(real_price[-verif_date:], real_testing[-verif_date:], 0)\n",
        "    MAPE_List = MAPE(real_price[-verif_date:], real_testing[-verif_date:], 0)\n",
        "\n",
        "  ACCs.append(acc)\n",
        "  MCCs.append(mcc)\n",
        "  MAPE_Lists.append(MAPE_List)\n",
        "  ACC_Lists.append(ACC_List) \n",
        "  MCC_Lists.append(MCC_List)\n",
        "\n",
        "  #make go.scatter data\n",
        "  x1 = np.arange(0,verif_date,1)\n",
        "  if acc > 0.5: #50% 이상만 그리기위해\n",
        "    go_acc = go.Scatter(x=x1, y = ACC_List, line=dict(color='black'), name = name+'[acc]', yaxis='y')\n",
        "    ACC_data.append(go_acc)\n",
        "  if mcc > 0.0: \n",
        "    go_mcc = go.Scatter(x=x1, y = MCC_List, mode='lines+markers',line=dict(color='blue'), name = name+'[MCC]', yaxis='y2')\n",
        "    MCC_data.append(go_mcc)\n",
        "\n",
        "  #go_mape = go.Scatter(x=x1, y = MAPE_List, line=dict(color='yellow'), name = name+'[MAPE]', yaxis='y3')\n",
        "  #MCC_data.append(go_mcc)\n",
        "  \n",
        "#Max찾기\n",
        "#평균 Max찾기\n",
        "rank = 10\n",
        "print('\\n<<<<<%d일 누적평균 정확성 우수모델>>>>>' %verif_date)\n",
        "max_ACCs = sorted(ACCs,reverse=True)\n",
        "for i in range(rank):\n",
        "  for j in range(len(ACCs)):\n",
        "    if max_ACCs[i-1] != max_ACCs[i] and max_ACCs[i] == ACCs[j]:\n",
        "      print('%d위는 ACC:%.3f%% 의 %s' % (i+1, max_ACCs[i]*100, model_list[j])) # 정확도\n",
        "\n",
        "print('\\n\\n<<<<<%d일 누적평균 MCC 우수모델>>>>>' %verif_date)\n",
        "max_MCCs = sorted(MCCs,reverse=True)\n",
        "for i in range(rank):\n",
        "  for j in range(len(MCCs)):\n",
        "    if max_MCCs[i-1] != max_MCCs[i] and max_MCCs[i] == MCCs[j]:\n",
        "      print('%d위는 MCC:%.2f 의 %s' % (i+1, max_MCCs[i], model_list[j])) # 정확도\n",
        "            \n",
        "acc_max_list,acc_max_pt = find_max(verif_date, ACC_Lists, sec)\n",
        "mcc_max_list,mcc_max_pt = find_max(verif_date, MCC_Lists, sec)\n",
        "#mape_max_list = find_max(verif_date, MAPE_Lists)\n",
        "\n",
        "go_am = go.Scatter(x=x1, y = acc_max_list, line=dict(color='red',width=6),name = 'Max Accuracies', yaxis='y')\n",
        "go_mm = go.Scatter(x=x1, y = mcc_max_list, mode='lines+markers',line=dict(color='lime',width=6), name = 'Max MCCs', yaxis='y2')\n",
        "#go_mp = go.Scatter(x=x1, y = mcc_max_list,line=dict(color='magenta',width=6), name = 'Max MAPEs', yaxis='y3')"
      ],
      "execution_count": null,
      "outputs": []
    },
    {
      "cell_type": "code",
      "metadata": {
        "id": "qHrL5vC4MMuY"
      },
      "source": [
        "[2020-05-01 ~ 2020-07-28] 24win 1000ep\n",
        "12 137 113 8\n",
        "방향 정확도: 46.296%\n",
        "MCC: 0.03\n",
        "값 오차율: 2.89%\n",
        "\n",
        "[2020-05-01 ~ 2020-07-29] 24win 100ep\n",
        "114 35 33 88\n",
        "방향 정확도: 54.444%\n",
        "MCC: 0.04\n",
        "값 오차율: 2.44%\n",
        "\n",
        "[2020-05-01 ~ 2020-07-30] 12win 10ep\n",
        "136 13 28 93\n",
        "방향 정확도: 60.741%\n",
        "MCC: 0.20\n",
        "값 오차율: 2.64%\n",
        "\n",
        "[2020-05-01 ~ 2020-07-31] 12win 2500ep\n",
        "1 148 119 2\n",
        "방향 정확도: 44.444%\n",
        "MCC: -0.05\n",
        "값 오차율: 2.90%\n",
        "\n",
        "\n",
        "<<<<<270일 누적평균 정확성 우수모델>>>>>\n",
        "1위는 ACC:63.333% 의 BTC-UTD: [2014-07-18 ~ 2020-09-02] 128cell 64win 1bat 7000ep 0.2drop adam 0.0001lr 86400period.h5\n",
        "2위는 ACC:60.741% 의 BTC-UTD: [2020-05-01 ~ 2020-07-30] 128cell 12win 1bat 10ep 0.3drop Adam 0.001lr 1800period.h5\n",
        "3위는 ACC:59.630% 의 BTC-UTD: [2014-07-18 ~ 2020-09-02] 128cell 96win 1bat 10ep 0.2drop adam 0.0001lr 86400period.h5\n",
        "4위는 ACC:59.259% 의 BTC-UTD: [2014-07-18 ~ 2020-09-07] 128cell 70win 1bat 5700ep 0.2drop adam 0.0001lr 86400period.h5\n",
        "5위는 ACC:56.667% 의 BTC-UTD: [2014-07-18 ~ 2020-07-17] 128cell 60win 1bat 100ep 0.2drop Adam 0.001lr.h5\n",
        "5위는 ACC:56.667% 의 BTC-UTD: [2014-07-18 ~ 2020-09-04] 128cell 32win 1bat 4000ep 0.2drop adam 0.0001lr 86400period.h5\n",
        "5위는 ACC:56.667% 의 BTC-UTD: [2014-07-18 ~ 2020-09-09] 128cell 140win 1bat 2000ep 0.2drop adam 0.0001lr 86400period.h5\n",
        "8위는 ACC:56.296% 의 BTC-UTD: [2017-05-01 ~ 2020-08-17] 128cell 60win 1bat 10ep 0.2drop Adam 0.001lr 86400period.h5\n",
        "8위는 ACC:56.296% 의 BTC-UTD: [2017-05-01 ~ 2020-08-18] 128cell 48win 1bat 100ep 0.2drop Adam 0.001lr 86400period.h5\n",
        "10위는 ACC:55.926% 의 BTC-UTD: [2014-07-18 ~ 2020-08-28] 128cell 96win 1bat 5000ep 0.2drop adam 0.0001lr 86400period.h5\n",
        "10위는 ACC:55.926% 의 BTC-UTD: [2014-07-18 ~ 2020-09-03] 128cell 16win 1bat 10ep 0.2drop adam 0.001lr 86400period.h5\n",
        "10위는 ACC:55.926% 의 BTC-UTD: [2017-05-01 ~ 2020-08-13] 128cell 10win 1bat 100ep 0.2drop Adam 0.001lr 86400period.h5\n",
        "10위는 ACC:55.926% 의 BTC-UTD: [2017-05-01 ~ 2020-08-13] 128cell 25win 1bat 100ep 0.2drop Adam 0.001lr 86400period.h5\n",
        "10위는 ACC:55.926% 의 BTC-UTD: [2017-05-01 ~ 2020-08-20] 128cell 42win 1bat 100ep 0.2drop Adam 0.001lr 86400period.h5\n",
        "10위는 ACC:55.926% 의 BTC-UTD: [2017-05-01 ~ 2020-08-21] 128cell 96win 1bat 400ep 0.2drop Adam 0.001lr 86400period.h5\n",
        "\n",
        "\n",
        "<<<<<270일 누적평균 MCC 우수모델>>>>>\n",
        "1위는 MCC:0.26 의 BTC-UTD: [2014-07-18 ~ 2020-09-02] 128cell 64win 1bat 7000ep 0.2drop adam 0.0001lr 86400period.h5\n",
        "2위는 MCC:0.20 의 BTC-UTD: [2020-05-01 ~ 2020-07-30] 128cell 12win 1bat 10ep 0.3drop Adam 0.001lr 1800period.h5\n",
        "3위는 MCC:0.19 의 BTC-UTD: [2014-07-18 ~ 2020-09-07] 128cell 70win 1bat 5700ep 0.2drop adam 0.0001lr 86400period.h5\n",
        "4위는 MCC:0.17 의 BTC-UTD: [2014-07-18 ~ 2020-09-02] 128cell 96win 1bat 10ep 0.2drop adam 0.0001lr 86400period.h5\n",
        "5위는 MCC:0.16 의 BTC-UTD: [2017-05-01 ~ 2020-07-17] 128cell 60win 1bat 2000ep 0.2drop Adam 0.001lr.h5\n",
        "6위는 MCC:0.15 의 BTC-UTD: [2014-07-18 ~ 2020-09-04] 128cell 32win 1bat 4000ep 0.2drop adam 0.0001lr 86400period.h5\n",
        "7위는 MCC:0.13 의 BTC-UTD: [2017-05-01 ~ 2020-08-12] 128cell 40win 1bat 100ep 0.3drop Adam 0.001lr 86400period.h5\n",
        "8위는 MCC:0.13 의 BTC-UTD: [2017-05-01 ~ 2020-08-14] 128cell 99win 1bat 100ep 0.2drop Adam 0.001lr 86400period.h5\n",
        "8위는 MCC:0.13 의 BTC-UTD: [2017-05-01 ~ 2020-08-20] 128cell 96win 1bat 2ep 0.2drop Adam 0.001lr 86400period.h5\n",
        "10위는 MCC:0.12 의 BTC-UTD: [2017-05-01 ~ 2020-07-24] 128cell 65win 1bat 2000ep 0.2drop Adam 0.0001lr.h5\n",
        "\n",
        "<<<<<270일 누적 우수모델>>>>>\n",
        "1위: [248점] BTC-UTD: [2014-07-18 ~ 2020-09-02] 128cell 64win 1bat 7000ep 0.2drop adam 0.0001lr 86400period.h5\n",
        "2위: [26점] BTC-UTD: [2017-05-01 ~ 2020-08-17] 128cell 72win 1bat 1400ep 0.2drop Adam 0.001lr 86400period.h5\n",
        "3위: [18점] BTC-UTD: [2014-07-18 ~ 2020-09-02] 128cell 96win 1bat 10ep 0.2drop adam 0.0001lr 86400period.h5\n",
        "4위: [16점] BTC-UTD: [2014-07-18 ~ 2020-09-07] 128cell 70win 1bat 5700ep 0.2drop adam 0.0001lr 86400period.h5\n",
        "5위: [9점] BTC-UTD: [2017-05-01 ~ 2020-08-20] 128cell 96win 1bat 600ep 0.2drop Adam 0.001lr 86400period.h5\n",
        "6위: [7점] BTC-UTD: [2014-07-18 ~ 2020-08-28] 128cell 96win 1bat 5000ep 0.2drop adam 0.0001lr 86400period.h5\n",
        "6위: [7점] BTC-UTD: [2017-05-01 ~ 2020-08-12] 128cell 40win 1bat 100ep 0.3drop Adam 0.001lr 86400period.h5\n",
        "8위: [6점] BTC-UTD: [2017-01-01 ~ 2020-11-03] 128cell 64win 1bat 7000ep 0.2drop adam 0.0001lr 86400period.h5\n",
        "9위: [5점] BTC-UTD: [2017-05-01 ~ 2020-08-20] 128cell 96win 1bat 200ep 0.2drop Adam 0.001lr 86400period.h5\n",
        "9위: [5점] BTC-UTD: [2017-05-01 ~ 2020-08-21] 128cell 96win 1bat 300ep 0.2drop Adam 0.001lr 86400period.h5\n",
        "9위: [5점] BTC-UTD: [2017-05-01 ~ 2020-08-28] 128cell 96win 1bat 2000ep 0.2drop adam 0.0001lr 86400period.h5\n",
        "\n",
        "<<<<<270일 누적 우수모델>>>>>\n",
        "1위: [216점] BTC-UTD: [2014-07-18 ~ 2020-09-02] 128cell 64win 1bat 7000ep 0.2drop adam 0.0001lr 86400period.h5\n",
        "2위: [22점] BTC-UTD: [2014-07-18 ~ 2020-09-02] 128cell 96win 1bat 10ep 0.2drop adam 0.0001lr 86400period.h5\n",
        "3위: [13점] BTC-UTD: [2020-05-01 ~ 2020-07-30] 128cell 12win 1bat 10ep 0.3drop Adam 0.001lr 1800period.h5\n",
        "4위: [12점] BTC-UTD: [2014-07-18 ~ 2020-09-07] 128cell 70win 1bat 5700ep 0.2drop adam 0.0001lr 86400period.h5\n",
        "5위: [10점] BTC-UTD: [2017-05-01 ~ 2020-08-17] 128cell 72win 1bat 1400ep 0.2drop Adam 0.001lr 86400period.h5\n",
        "6위: [5점] BTC-UTD: [2014-07-18 ~ 2020-08-28] 128cell 96win 1bat 5000ep 0.2drop adam 0.0001lr 86400period.h5\n",
        "7위: [4점] BTC-UTD: [2017-01-01 ~ 2020-11-03] 128cell 64win 1bat 7000ep 0.2drop adam 0.0001lr 86400period.h5\n",
        "7위: [4점] BTC-UTD: [2017-05-01 ~ 2020-08-20] 128cell 96win 1bat 200ep 0.2drop Adam 0.001lr 86400period.h5\n",
        "7위: [4점] BTC-UTD: [2017-05-01 ~ 2020-08-20] 128cell 96win 1bat 600ep 0.2drop Adam 0.001lr 86400period.h5\n",
        "7위: [4점] BTC-UTD: [2017-05-01 ~ 2020-08-21] 128cell 96win 1bat 300ep 0.2drop Adam 0.001lr 86400period.h5\n",
        "CPU times: user 3min 58s, sys: 11.7 s, total: 4min 10s\n",
        "Wall time: 6min 38s"
      ],
      "execution_count": null,
      "outputs": []
    },
    {
      "cell_type": "code",
      "metadata": {
        "id": "Bn_z0dd31h0_",
        "outputId": "b977c0c7-c663-4514-83d3-80c24e5fad4e",
        "colab": {
          "base_uri": "https://localhost:8080/"
        }
      },
      "source": [
        "cd /content/"
      ],
      "execution_count": 47,
      "outputs": [
        {
          "output_type": "stream",
          "text": [
            "/content\n"
          ],
          "name": "stdout"
        }
      ]
    },
    {
      "cell_type": "code",
      "metadata": {
        "id": "q0y0PCWP1g6a"
      },
      "source": [
        "#합쳐서 acc, mcc\n",
        "Title = '정확도, MCC의 MAX 찾기' + ' 최근' + str(verif_date) + '일 '+ '[' + str(datetime.date(datetime.today())) + ']'\n",
        "fig = go.Figure()\n",
        "fig.add_traces(go_am)\n",
        "fig.add_traces(go_mm)\n",
        "fig.add_traces(ACC_data)\n",
        "fig.add_traces(MCC_data)\n",
        "# for i in range(len(ACC_data)): #mcc 0 , ACC 50% 이상만 출력 max에 참여해도 없어지는 값 있음\n",
        "#   if (np.any(ACCs[i]> 0.5) ):\n",
        "#     fig.add_traces(ACC_data[i])\n",
        "#   if (np.any(MCCs[i]> 0.0) ):  \n",
        "#     fig.add_traces(MCC_data[i])\n",
        "\n",
        "layout = go.Layout(title=Title,\n",
        "                   yaxis=dict(\n",
        "                       title='정확도',zeroline=True, showline=True),\n",
        "                   yaxis2=dict(\n",
        "                       title = 'MCC', overlaying='y', side='right', position=1)\n",
        ")\n",
        "fig.update_layout(layout)\n",
        "py.offline.plot(fig)\n",
        "\n",
        "\n",
        "os.rename('temp-plot.html', '합친 ' + Title + '.html')"
      ],
      "execution_count": 50,
      "outputs": []
    },
    {
      "cell_type": "code",
      "metadata": {
        "id": "yg-xyyrZGlDU"
      },
      "source": [
        "#모델별로 acc & mcc \n",
        "from plotly.subplots import make_subplots\n",
        "rows = 4\n",
        "cols = 5\n",
        "fig = make_subplots(rows=rows, cols=cols)\n",
        "k = 0\n",
        "\n",
        "for i in range(rows):\n",
        "  for j in range(cols):\n",
        "    fig.add_trace(ACC_data[k],row=i+1, col=j+1)\n",
        "    #fig.update_yaxes(range=[0,1],row = i+1, col=i+1)\n",
        "    fig.add_trace(MCC_data[k],row=i+1, col=j+1 )\n",
        "    # layout = go.Layout(\n",
        "    #               yaxis=dict(\n",
        "    #                   title='정확도', zeroline=True, showline=True),\n",
        "    #               yaxis2=dict(\n",
        "    #                   title = 'MCC', overlaying='y', side='right',position=1/cols)\n",
        "    #               )\n",
        "    #fig.update_layout(layout)\n",
        "    k+=1\n",
        "\n",
        "#fig.add_trace(go_am, row = 3, col=3)\n",
        "#fig.add_trace(go_mm, row = 3, col=3)\n",
        "fig.update_layout(go.Layout(title=Title))\n",
        "py.offline.plot(fig)\n",
        "\n",
        "os.rename('temp-plot.html', '모델별 ' + Title + '.html')"
      ],
      "execution_count": 51,
      "outputs": []
    },
    {
      "cell_type": "code",
      "metadata": {
        "id": "4p7xGv6TO8GB"
      },
      "source": [
        "# #모델별로 acc & mcc \n",
        "# from plotly.subplots import make_subplots\n",
        "# rows = 4\n",
        "# cols = 5\n",
        "\n",
        "# specs =[]\n",
        "# for i in range(rows):\n",
        "#   specs.append([{\"secondary_y\": True}, {\"secondary_y\": True},{\"secondary_y\": True}, {\"secondary_y\": True}, {\"secondary_y\": True}])\n",
        "\n",
        "# fig = make_subplots(rows=rows, cols=cols,\n",
        "#                     specs=specs)\n",
        "# k = 0\n",
        "\n",
        "# for i in range(rows):\n",
        "#   for j in range(cols):\n",
        "#     fig.add_trace(ACC_data[k],row=i+1, col=j+1, secondary_y=False)\n",
        "#     #fig.update_xaxes(title_text = 'model_name')\n",
        "#     fig.update_yaxes(range=[0.2,1],row = i+1, col=i+1)\n",
        "#     fig.add_trace(MCC_data[k],row=i+1, col=j+1 ,secondary_y=True)\n",
        "#     fig.update_yaxes(secondary_y=[-0.6,1],row = i+1, col=i+1)\n",
        "#     layout = go.Layout(\n",
        "#                   yaxis=dict(\n",
        "#                       title= '정확도', zeroline=True, showline=True),\n",
        "#                   yaxis2=dict(\n",
        "#                       title = 'MCC', overlaying='y', side='right',position=1/cols)\n",
        "#                   )\n",
        "#     fig.update_layout(layout)\n",
        "#     k+=1\n",
        "\n",
        "# #fig.add_trace(go_am, row = 3, col=3)\n",
        "# #fig.add_trace(go_mm, row = 3, col=3)\n",
        "# #fig.update_layout(go.Layout(title=Title))\n",
        "# #py.offline.plot(fig)\n",
        "# #fig[0].set_title('sub1')\n",
        "# fig\n",
        "# #os.rename('temp-plot.html', '모델별 ' + Title + '.html')"
      ],
      "execution_count": 52,
      "outputs": []
    },
    {
      "cell_type": "code",
      "metadata": {
        "id": "TVLdJjViGZr0"
      },
      "source": [
        "#그냥 subplot으로 찍기\n",
        "# for i in range(len(ACC_Lists)):\n",
        "#   acc_ax = plt.subplot()\n",
        "#   mcc_ax = acc_ax.twinx()\n",
        "\n",
        "#   acc_ax.plot(ACC_Lists[i], 'y')\n",
        "#   mcc_ax.plot(MCC_Lists[i], 'b')\n",
        "\n",
        "#   acc_ax.set_xlabel('model')\n",
        "#   acc_ax.set_ylabel('acc')\n",
        "#   mcc_ax.set_ylabel('mcc')\n",
        "#   acc_ax.set_ylim(0.2,1)\n",
        "#   mcc_ax.set_ylim(-0.6,1)\n",
        "#   plt.show()"
      ],
      "execution_count": 53,
      "outputs": []
    },
    {
      "cell_type": "code",
      "metadata": {
        "id": "aC9Zr49vKHTv"
      },
      "source": [
        "#MCC_Lists[0]"
      ],
      "execution_count": 54,
      "outputs": []
    },
    {
      "cell_type": "code",
      "metadata": {
        "id": "JWWXOn3e5O9d"
      },
      "source": [
        "def load(mo_name,verif_date):\n",
        "  model = load_model(mo_name)\n",
        "  window_size = int(mo_name[43:45])\n",
        "  n_batch = int(mo_name[49])\n",
        "  train_test_split = int(len(price)*0.7)\n",
        "  st = train_test_split + window_size\n",
        "\n",
        "  x = []  #5일의 데이터를 넣고 다음날을 예측하는 방식 (특징벡터 - 훈련집합)\n",
        "  for i in range(len(price) - window_size):   #1916-5 = 1911 Range는 마지막 1910까지임\n",
        "    x.append([price[i+j] for j in range(window_size)])\n",
        "  x = np.asarray(x)\n",
        "  \n",
        "  st = train_test_split + window_size\n",
        "  x_test = x[train_test_split:, :]\n",
        "  xtest =  np.reshape(x_test, (x_test.shape[0], x_test.shape[1], 1))\n",
        "\n",
        "  testing = model.predict(xtest,batch_size=n_batch)\n",
        "  model.reset_states()\n",
        "  real_testing = scaler.inverse_transform(testing)\n",
        "\n",
        "  return MCC(real_price[-verif_date:], real_testing[-verif_date:], 0)\n",
        "  "
      ],
      "execution_count": 55,
      "outputs": []
    },
    {
      "cell_type": "code",
      "metadata": {
        "id": "hOztCBxgid85"
      },
      "source": [
        "#MCC list\n",
        "#al,ml = MCC(real_verif_price, real_verif_after_pred[:verif_gap], split_pt+len(test_pred))\n",
        "#al,ml = MCC(real_price, real_train_pred, window_size)\n",
        "def mcc_plot(verif_date):\n",
        "  for i in range(len(model_list)):\n",
        "    mo_name = model_list[i]\n",
        "    name = '[' + mo_name[27:32] + ' ' + (mo_name[43:45]) + 'win ' + mo_name[54:58] +']'\n",
        "    ACC_List, MCC_List = load(mo_name, verif_date)\n",
        "    acc_t,mcc_t = [],[]\n",
        "\n",
        "    t = go.Scatter(x=np.arange(0,verif_date,1), y = ACC_List, mode='lines', name = name+'[acc]')\n",
        "    t1 = go.Scatter(x=np.arange(0,verif_date,1), y = MCC_List, mode='lines', name = name+'[MCC]')\n",
        "    acc_t.append(t)\n",
        "    mcc_t.append(t1)\n",
        "\n",
        "  acc_max_list = find_max(verif_date, acc_t)\n",
        "  mcc_max_list = find_max(verif_date, mcc_t)\n",
        "\n",
        "  t2 = go.Scatter(x=np.arange(0,verif_date,1), y = acc_max_list, mode='lines', name = '[acc MAX]')\n",
        "  t3 = go.Scatter(x=np.arange(0,verif_date,1), y = mcc_max_list, mode='lines', name = '[MCC MAX]')\n",
        "\n",
        "  layout = go.Layout(Title='MAX acc,MCC 찾기')\n",
        "  data = [acc_t, mcc_t, t2, t3]\n",
        "  fig = go.Figure(data=data, layout=layout)\n",
        "  py.offline.iplot(fig)\n"
      ],
      "execution_count": 56,
      "outputs": []
    },
    {
      "cell_type": "code",
      "metadata": {
        "id": "JFRO-c2d4yhO"
      },
      "source": [
        ""
      ],
      "execution_count": 56,
      "outputs": []
    }
  ]
}