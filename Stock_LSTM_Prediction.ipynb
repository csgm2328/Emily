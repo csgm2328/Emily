{
  "nbformat": 4,
  "nbformat_minor": 0,
  "metadata": {
    "colab": {
      "name": "Stock_LSTM_Prediction",
      "provenance": [],
      "mount_file_id": "1vwvpW0wXL1w1szzgxVbwBo39tBlWQOnH",
      "authorship_tag": "ABX9TyNxDrbq95kMBL4KBPhjinPg",
      "include_colab_link": true
    },
    "kernelspec": {
      "name": "python3",
      "display_name": "Python 3"
    }
  },
  "cells": [
    {
      "cell_type": "markdown",
      "metadata": {
        "id": "view-in-github",
        "colab_type": "text"
      },
      "source": [
        "<a href=\"https://colab.research.google.com/github/csgm2328/Emily/blob/master/Stock_LSTM_Prediction.ipynb\" target=\"_parent\"><img src=\"https://colab.research.google.com/assets/colab-badge.svg\" alt=\"Open In Colab\"/></a>"
      ]
    },
    {
      "cell_type": "markdown",
      "metadata": {
        "id": "0ujd0khoBcam"
      },
      "source": [
        "#import"
      ]
    },
    {
      "cell_type": "code",
      "metadata": {
        "id": "wpNMGvX2TL_5"
      },
      "source": [
        "get_ipython().run_line_magic('matplotlib', 'inline')\n",
        "import matplotlib.pyplot as plt\n",
        "import pandas as pd\n",
        "import pandas_datareader.data as pdr #data 받아오는 api 라이브러리\n",
        "from pandas import json_normalize\n",
        "import numpy as np\n",
        "import plotly as py\n",
        "import plotly.graph_objs as go\n",
        "import requests\n",
        "from datetime import datetime\n",
        "import traceback\n",
        "import os\n",
        "from keras import metrics\n",
        "from keras.layers import *\n",
        "from keras.models import *\n",
        "from keras.callbacks import *\n",
        "from pandas.util.testing import assert_frame_equal\n",
        "from sklearn.preprocessing import MinMaxScaler\n",
        "\n",
        "plt.style.use('bmh')"
      ],
      "execution_count": null,
      "outputs": []
    },
    {
      "cell_type": "markdown",
      "metadata": {
        "id": "qoLdrTqN2oDe"
      },
      "source": [
        "#Request URL API"
      ]
    },
    {
      "cell_type": "code",
      "metadata": {
        "id": "Le8U4-yxTmhM"
      },
      "source": [
        "stock_url = pd.read_html('http://kind.krx.co.kr/corpgeneral/corpList.do?method=download&searchType=13', header=0)[0] \n",
        "stock_url.종목코드 = stock_url.종목코드.map('{:06d}'.format)\n",
        "stock_url = stock_url[['회사명', '종목코드']] \n",
        "stock_url = stock_url.rename(columns={'회사명':'name', '종목코드':'code'})"
      ],
      "execution_count": null,
      "outputs": []
    },
    {
      "cell_type": "code",
      "metadata": {
        "id": "95WvR5uuBesa"
      },
      "source": [
        "item_name = '' # 원하는 종목 이름 입력\n",
        "code = stock_url.query(\"name=='{}'\".format(item_name))['code'].to_string(index=False).strip() #strip 앞뒤공백제거\n",
        "#DataReader용\n",
        "#dr_code = code + '.KS' \n",
        "dr_code = code + '.KQ'\n",
        "print(item_name, dr_code)"
      ],
      "execution_count": null,
      "outputs": []
    },
    {
      "cell_type": "markdown",
      "metadata": {
        "id": "OH47RX38VUaU"
      },
      "source": [
        "#DataReader crawling"
      ]
    },
    {
      "cell_type": "code",
      "metadata": {
        "id": "XT6j_bsmVSIF"
      },
      "source": [
        "#URL 없이 상당히 쉬운 DataReader를 이용한 크롤링\n",
        "start = (2012, 1, 1)\n",
        "start_date = datetime(*start)\n",
        "end = datetime.today()\n",
        "df = pdr.DataReader(dr_code, 'yahoo', start_date, end) #031430.KS 신세계인터내셔날, 코스닥 데이터는 왜 오늘치밖에 안나오냐?\n",
        "df.astype(np.int64)"
      ],
      "execution_count": null,
      "outputs": []
    },
    {
      "cell_type": "code",
      "metadata": {
        "id": "eLJ4Cl1S6663"
      },
      "source": [
        "cd /content/drive/My Drive/Colab Notebooks/KOSDAQ200"
      ],
      "execution_count": null,
      "outputs": []
    },
    {
      "cell_type": "code",
      "metadata": {
        "id": "2HwE9O5ntxxP"
      },
      "source": [
        "row = pd.DataFrame([['날짜',\t'Close',\t'전일비',\t'시가',\t'고가',\t'저가',\t'거래량']])\n",
        "c = [['날짜',\t'Close',\t'전일비',\t'시가',\t'고가',\t'저가',\t'거래량']]\n",
        "x = np.asarray(row)\n",
        "y = np.asarray(df)\n",
        "x = np.vstack((x,y))\n",
        "x.shape"
      ],
      "execution_count": null,
      "outputs": []
    },
    {
      "cell_type": "code",
      "metadata": {
        "id": "DMAeAAAPiQWv"
      },
      "source": [
        "df = pd.read_csv('240810 원익IPS.csv')\n",
        "scaler = MinMaxScaler()\n",
        "real_price = df['32300.0'].tolist()\n",
        "price = scaler.fit_transform(df[['32300.0']]).reshape(-1).tolist()\n",
        "print('오늘은',datetime.today(), real_price[-1], len(real_price), '개')"
      ],
      "execution_count": null,
      "outputs": []
    },
    {
      "cell_type": "markdown",
      "metadata": {
        "id": "hlaU0ZRFyBtT"
      },
      "source": [
        "#Args"
      ]
    },
    {
      "cell_type": "code",
      "metadata": {
        "id": "NgkEdg2ORyBR"
      },
      "source": [
        "from keras import optimizers\n",
        "#args\n",
        "n_Memcell = 128\n",
        "window_size = 100 #여기도 60win에서 두번 실패\n",
        "b_state = True\n",
        "predict_day = 10\n",
        "#return_sequences = 여러 층일때, 각 시퀀스에서 출력할지 말지 결정. many to many 일때\n",
        "\n",
        "n_batch = 1\n",
        "n_epoch =  1000#colab 12시간 제한 특성 때문\n",
        "n_drop = 0.2\n",
        "learning_rate = 0.001 #default\n",
        "ac_func = 'relu'\n",
        "loss_func = 'mse'\n",
        "optim_func = optimizers.Adam(lr=learning_rate)\n",
        "#decay_rate = 0.001 #신경망에서는 수학적으로 동일한 L2 놈을 대신사용한다.\n",
        "#optim_func = optimizers.Adadelta(learning_rate = learning_rate) #0.1, 0.001 둘다 과소적합\n",
        "item_name = '원익IPS'\n",
        "start = (2012, 1, 1)\n",
        "start_date = datetime(*start)\n",
        "args_str = '['+str(datetime.date(start_date)) + ' ~ ' + str(datetime.date(datetime.today())) + '] ' + str(n_Memcell) + 'cell '+ str(window_size) +'win '+ str(n_batch) +'bat ' + str(n_epoch) + 'ep '+ str(n_drop) + 'drop ' + str(b_state) + ' ' + str(learning_rate) + 'lr'\n",
        "Title = item_name + ': ' + args_str\n",
        "Title"
      ],
      "execution_count": null,
      "outputs": []
    },
    {
      "cell_type": "markdown",
      "metadata": {
        "id": "X0bp0asNyMTP"
      },
      "source": [
        "#make DataSet"
      ]
    },
    {
      "cell_type": "code",
      "metadata": {
        "id": "tgaxeqAnT5tg"
      },
      "source": [
        "x = []  #5일의 데이터를 넣고 다음날을 예측하는 방식 (특징벡터 - 훈련집합)\n",
        "y = []  #5+1일의 데이터를 넣고 (결과값 - 훈련집합)\n",
        "\n",
        "for i in range(len(price) - window_size):   #1916-5 = 1911 Range는 마지막 1910까지임\n",
        "    x.append([price[i+j] for j in range(window_size)])\n",
        "    y.append(price[window_size + i])\n",
        "    \n",
        "#print(x[-1])  # [1911,5] list\n",
        "#print(price[-1]) #[1916, 1]\n",
        "#print(y[-1])  #[1911, 1]"
      ],
      "execution_count": null,
      "outputs": []
    },
    {
      "cell_type": "code",
      "metadata": {
        "id": "pZ5jGkGBT7gf"
      },
      "source": [
        "x = np.asarray(x)\n",
        "y = np.asarray(y)\n",
        "print(x.shape) # [1911,5] list\n",
        "print(type(y))"
      ],
      "execution_count": null,
      "outputs": []
    },
    {
      "cell_type": "code",
      "metadata": {
        "id": "uQhHdimbT96e"
      },
      "source": [
        "train_test_split = int(len(x)*0.3) #1200개에서 1357개로 증가후에 acc: 0.0017 --> 0.0015\n",
        "split_pt = train_test_split + window_size\n",
        "\n",
        "x_test = x[:train_test_split, :]\n",
        "y_test = y[:train_test_split]\n",
        "\n",
        "x_train = x[train_test_split:, :]\n",
        "y_train = y[train_test_split:]\n",
        "\n",
        "xtrain = x_train.reshape((x_train.shape[0], x_train.shape[1], 1)) # 2차원 데이터 3차원화, LSTM의 데이터 생성할때 주의해야하는 포인트, [sequence,  batch, input_dim]\n",
        "xtest =  np.reshape(x_test, (x_test.shape[0], x_test.shape[1], 1))  #test 집합을 늘리면 미래를 예측할 수 있을까?\n",
        "\n",
        "print(xtrain.shape)\n",
        "print(x_test.shape) "
      ],
      "execution_count": null,
      "outputs": []
    },
    {
      "cell_type": "code",
      "metadata": {
        "id": "e2sP1f7GCgX9"
      },
      "source": [
        "#history Metrics\n",
        "import keras\n",
        "class CustomHistory(keras.callbacks.Callback):\n",
        "  def init(self):\n",
        "    self.losses = []\n",
        "    self.accs = []\n",
        "  def on_epoch_end(self, batch, logs={}):\n",
        "    self.losses.append(logs.get('loss'))\n",
        "    self.accs.append(logs.get('acc'))   "
      ],
      "execution_count": null,
      "outputs": []
    },
    {
      "cell_type": "code",
      "metadata": {
        "id": "lQgFvHcCT_Rq"
      },
      "source": [
        "#Model Define\n",
        "model = Sequential()\n",
        "model.add(LSTM(n_Memcell, batch_input_shape =(n_batch, window_size, 1), stateful=b_state))\n",
        "model.add(Dropout(n_drop))\n",
        "#model.add(Activation(ac_func))\n",
        "model.add(Dense(1))\n",
        "\n",
        "model.compile(loss=loss_func, optimizer=optim_func, metrics=['mae', 'acc'])\n",
        "model.summary()"
      ],
      "execution_count": null,
      "outputs": []
    },
    {
      "cell_type": "code",
      "metadata": {
        "id": "bXFu2INEm6X3"
      },
      "source": [
        "%%time\n",
        "report = CustomHistory()\n",
        "report.init()\n",
        "early_stopping = keras.callbacks.EarlyStopping(monitor='loss', min_delta=0.0001, patience=10, mode='auto') \n",
        "\n",
        "for i in range(n_epoch):\n",
        "    print('[%d] ' %i)\n",
        "    model.fit(xtrain, y_train, epochs=1, batch_size=n_batch, callbacks=[report, early_stopping],verbose=2)\n",
        "    model.reset_states()\n",
        "\n"
      ],
      "execution_count": null,
      "outputs": []
    },
    {
      "cell_type": "code",
      "metadata": {
        "id": "7v3bRgoIp_H4"
      },
      "source": [
        "from google.colab import drive\n",
        "drive.mount('/content/drive')"
      ],
      "execution_count": null,
      "outputs": []
    },
    {
      "cell_type": "code",
      "metadata": {
        "id": "9oa8NhhOqHpx"
      },
      "source": [
        "cd /content/drive/My Drive/Colab Notebooks/LSTM_models"
      ],
      "execution_count": null,
      "outputs": []
    },
    {
      "cell_type": "code",
      "metadata": {
        "id": "eS7n40ag2WjK"
      },
      "source": [
        "from keras.models import load_model\n",
        "model.save(Title + '.h5')"
      ],
      "execution_count": null,
      "outputs": []
    },
    {
      "cell_type": "markdown",
      "metadata": {
        "id": "2WwC4xZchaea"
      },
      "source": [
        ""
      ]
    },
    {
      "cell_type": "code",
      "metadata": {
        "id": "1ZjBHfB6BNyv"
      },
      "source": [
        "trainScore = model.evaluate(xtrain, y_train, batch_size=n_batch, verbose=0)\n",
        "testScore = model.evaluate(xtest, y_test, batch_size=n_batch, verbose=0)\n",
        "print(\"mae: (%.5f, %.5f)\" %(trainScore[1], testScore[1]))"
      ],
      "execution_count": null,
      "outputs": []
    },
    {
      "cell_type": "code",
      "metadata": {
        "id": "yRAn7URqi_ok"
      },
      "source": [
        "print(trainScore)\n",
        "testScore"
      ],
      "execution_count": null,
      "outputs": []
    },
    {
      "cell_type": "code",
      "metadata": {
        "id": "wpqILXFU8LHc"
      },
      "source": [
        "loss_ax = plt.subplot()\n",
        "acc_ax = loss_ax.twinx()\n",
        "\n",
        "loss_ax.plot(report.losses, 'y', label='train_loss')\n",
        "acc_ax.plot(report.accs, 'b', label='train_acc')\n",
        "\n",
        "loss_ax.set_xlabel('epoch')\n",
        "loss_ax.set_ylabel('loss')\n",
        "acc_ax.set_ylabel('accuracy')\n",
        "\n",
        "loss_ax.legend(loc='upper left')\n",
        "acc_ax.legend(loc='lower left')\n",
        "\n",
        "plt.show()"
      ],
      "execution_count": null,
      "outputs": []
    },
    {
      "cell_type": "code",
      "metadata": {
        "id": "2Sav6GQL2kPs"
      },
      "source": [
        "#train, test prediction\n",
        "train_pred = model.predict(xtrain,batch_size=n_batch) # x[0~window_size-1] 만큼의 특징벡터를 학습해서 학습데이터 수 \n",
        "#model.reset_states()\n",
        "test_pred = model.predict(xtest,batch_size=n_batch)\n",
        "#model.reset_states()\n",
        "real_test_pred = scaler.inverse_transform(test_pred)"
      ],
      "execution_count": null,
      "outputs": []
    },
    {
      "cell_type": "code",
      "metadata": {
        "id": "pJRc_zvAFMys"
      },
      "source": [
        "tom_real = xtrain[-1]\n",
        "tom_real = np.vstack((tom_real[1:], price[-1])) #test_pred[-1] 대신에 price[-1]\n",
        "tom_real.shape\n",
        "\n",
        "tom_pred = xtest[-1]\n",
        "tom_pred = np.vstack((tom_pred[1:], test_pred[-1])) #마지막 데이터에 예측값\n",
        "tom_pred.shape"
      ],
      "execution_count": null,
      "outputs": []
    },
    {
      "cell_type": "code",
      "metadata": {
        "id": "0qUwG-0vzwj-"
      },
      "source": [
        "#학습된 모델로 예측하기\n",
        "seq_in = tom_real #오늘꺼 예측자를 마지막 데이터로 추가해준 input 샘플 or real 데이터 추가\n",
        "after_pred = np.zeros((predict_day,1))\n",
        "\n",
        "for i in range(predict_day):\n",
        "  sample_in = seq_in.reshape(1,window_size,1)\n",
        "  after = model.predict(sample_in, batch_size=n_batch)\n",
        "  model.reset_states()\n",
        "  seq_in = np.vstack((seq_in[1:], after))\n",
        "  after_pred[i] = after\n",
        "  \n",
        "#model.reset_states()\n",
        "real_after_pred = scaler.inverse_transform(after_pred)"
      ],
      "execution_count": null,
      "outputs": []
    },
    {
      "cell_type": "code",
      "metadata": {
        "id": "krMBJxQnn0wT"
      },
      "source": [
        "#학습결과 그래프\n",
        "plt.figure(figsize=(20,10))\n",
        "plt.plot(price)\n",
        "\n",
        "plt.plot(np.arange(0, len(price),1), price, color='b')\n",
        "plt.plot(np.arange(window_size, split_pt, 1), test_pred, color='g')\n",
        "plt.plot(np.arange(split_pt, split_pt + len(train_pred), 1), train_pred, color='r')\n",
        "plt.plot(np.arange(len(price), len(price) + len(after_pred), 1), after_pred, color='y')\n",
        "\n",
        "print(\n",
        "    '현재 종가: ', price[-1], #x는 마지막값 누락\n",
        "    '예측 종가: ', test_pred[-1],\n",
        "    '오 차 율: ',  (price[-1] - test_pred[-1]) / price[-1], sep='\\n')"
      ],
      "execution_count": null,
      "outputs": []
    },
    {
      "cell_type": "code",
      "metadata": {
        "id": "2bXsbu0UpTNb"
      },
      "source": [
        "trace = go.Scatter(x=np.arange(0,len(price),1), y=price, \n",
        "mode = 'lines', name='actual')\n",
        "trace2 = go.Scatter(x=np.arange(window_size,split_pt,1), y=test_pred.reshape(len(test_pred)),\n",
        "mode = 'lines', name='train')\n",
        "trace3 = go.Scatter(x=np.arange(split_pt,split_pt + len(train_pred),1), y=train_pred.reshape(len(train_pred)), \n",
        "mode = 'lines', name='prediction')\n",
        "trace4 = go.Scatter(x=np.arange(split_pt +len(train_pred), split_pt + len(train_pred) + len(after_pred), 1), y =after_pred.reshape(len(after_pred)),\n",
        "mode = 'lines', name= 'after_pred')\n",
        "\n",
        "data = [trace, trace2, trace3, trace4]\n",
        "layout = go.Layout(title=Title)\n",
        "fig = go.Figure(data=data, layout=layout)\n",
        "py.offline.iplot(fig) #그래프 출력 \n",
        "#py.offline.plot(fig, show_link = True, filename = Title + '.html') #다른이름으로 지정\n",
        "\n",
        "from google.colab import files\n",
        "import os\n",
        "\n",
        "#os.rename('temp-plot.html', rename)\n",
        "#files.download(filename=Title +'.html') #다운로드"
      ],
      "execution_count": null,
      "outputs": []
    },
    {
      "cell_type": "code",
      "metadata": {
        "id": "ZlwRV7FMoZBy"
      },
      "source": [
        "print('현재 종가: ', real_price[-1], \n",
        "      '\\n다음 예측가격: \\n', real_after_pred.astype(int))"
      ],
      "execution_count": null,
      "outputs": []
    },
    {
      "cell_type": "code",
      "metadata": {
        "id": "ueDwLYSADe-F"
      },
      "source": [
        "plt.plot(np.arange(0,len(after_pred), 1), after_pred, color='red')"
      ],
      "execution_count": null,
      "outputs": []
    }
  ]
}