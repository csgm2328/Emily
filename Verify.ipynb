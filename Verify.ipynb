{
  "nbformat": 4,
  "nbformat_minor": 0,
  "metadata": {
    "colab": {
      "name": "Verify",
      "provenance": [],
      "collapsed_sections": [],
      "toc_visible": true,
      "mount_file_id": "1pRQ07_S6Z4Gj_YzspEd5qnzowon9BBEJ",
      "authorship_tag": "ABX9TyO3QnNqg/7Sknx/IyeQMk1F",
      "include_colab_link": true
    },
    "kernelspec": {
      "name": "python3",
      "display_name": "Python 3"
    }
  },
  "cells": [
    {
      "cell_type": "markdown",
      "metadata": {
        "id": "view-in-github",
        "colab_type": "text"
      },
      "source": [
        "<a href=\"https://colab.research.google.com/github/csgm2328/Emily/blob/master/Verify.ipynb\" target=\"_parent\"><img src=\"https://colab.research.google.com/assets/colab-badge.svg\" alt=\"Open In Colab\"/></a>"
      ]
    },
    {
      "cell_type": "markdown",
      "metadata": {
        "id": "NDtom5Y3CG-w"
      },
      "source": [
        "#예측한 모델 불러와서 현재시간에서 검증하고 새로운 예측하기"
      ]
    },
    {
      "cell_type": "code",
      "metadata": {
        "id": "wpNMGvX2TL_5"
      },
      "source": [
        "get_ipython().run_line_magic('matplotlib', 'inline')\n",
        "import matplotlib.pyplot as plt\n",
        "import pandas as pd\n",
        "import pandas_datareader.data as pdr #data 받아오는 api 라이브러리\n",
        "from pandas import json_normalize\n",
        "import numpy as np\n",
        "import plotly as py\n",
        "import plotly.graph_objs as go\n",
        "import requests\n",
        "import os\n",
        "from keras import metrics\n",
        "from keras.layers import *\n",
        "from keras.models import *\n",
        "from keras.utils.np_utils import to_categorical\n",
        "from keras.callbacks import *\n",
        "from datetime import datetime\n",
        "from datetime import timedelta\n",
        "from sklearn.preprocessing import MinMaxScaler\n",
        "plt.style.use('bmh')"
      ],
      "execution_count": 797,
      "outputs": []
    },
    {
      "cell_type": "markdown",
      "metadata": {
        "id": "AHNPXaX5Fbfx"
      },
      "source": [
        "#**Load Model**"
      ]
    },
    {
      "cell_type": "markdown",
      "metadata": {
        "id": "SJ45-r7qsdvz"
      },
      "source": [
        "#검증 셋팅\n"
      ]
    },
    {
      "cell_type": "code",
      "metadata": {
        "id": "dkNWWsOKN0Oq",
        "outputId": "c37fd4b6-b661-4c86-dbaf-5c29f5e569af",
        "colab": {
          "base_uri": "https://localhost:8080/"
        }
      },
      "source": [
        "from google.colab import drive\n",
        "drive.mount('/content/drive')"
      ],
      "execution_count": 798,
      "outputs": [
        {
          "output_type": "stream",
          "text": [
            "Drive already mounted at /content/drive; to attempt to forcibly remount, call drive.mount(\"/content/drive\", force_remount=True).\n"
          ],
          "name": "stdout"
        }
      ]
    },
    {
      "cell_type": "code",
      "metadata": {
        "id": "aeaoNYVYQ45L",
        "outputId": "0543b452-3a23-4ea2-a2da-b44b6e5eb3b3",
        "colab": {
          "base_uri": "https://localhost:8080/"
        }
      },
      "source": [
        "cd /content/drive/My Drive/Colab Notebooks/LSTM_models/BTC-USD/"
      ],
      "execution_count": 799,
      "outputs": [
        {
          "output_type": "stream",
          "text": [
            "/content/drive/My Drive/Colab Notebooks/LSTM_models/BTC-USD\n"
          ],
          "name": "stdout"
        }
      ]
    },
    {
      "cell_type": "code",
      "metadata": {
        "id": "cAHAfTNFqhCl"
      },
      "source": [
        "ls"
      ],
      "execution_count": null,
      "outputs": []
    },
    {
      "cell_type": "code",
      "metadata": {
        "id": "TvsCTnx4BzFX",
        "cellView": "both"
      },
      "source": [
        "# 검증할 모델을 선택하세요\n",
        "\n",
        "from keras.models import load_model\n",
        "model_name = 'BTC-UTD: [2014-07-18 ~ 2020-09-02] 128cell 64win 1bat 7000ep 0.2drop adam 0.0001lr 86400period.h5'\n",
        "model = load_model(model_name)"
      ],
      "execution_count": 801,
      "outputs": []
    },
    {
      "cell_type": "code",
      "metadata": {
        "id": "ycrd62GP6Cw-",
        "outputId": "397274f9-d68c-458f-ec1e-a2abf26cf509",
        "colab": {
          "base_uri": "https://localhost:8080/"
        }
      },
      "source": [
        "!pip install jamotools"
      ],
      "execution_count": 802,
      "outputs": [
        {
          "output_type": "stream",
          "text": [
            "Requirement already satisfied: jamotools in /usr/local/lib/python3.6/dist-packages (0.1.10)\n",
            "Requirement already satisfied: numpy in /usr/local/lib/python3.6/dist-packages (from jamotools) (1.18.5)\n",
            "Requirement already satisfied: six in /usr/local/lib/python3.6/dist-packages (from jamotools) (1.15.0)\n",
            "Requirement already satisfied: future in /usr/local/lib/python3.6/dist-packages (from jamotools) (0.16.0)\n"
          ],
          "name": "stdout"
        }
      ]
    },
    {
      "cell_type": "code",
      "metadata": {
        "id": "uqc-hljk5nyc"
      },
      "source": [
        "import jamotools #hangul_utils은 설치안되며 보다 나은 패키지\n",
        "it = model_name.split(':') #이방법으로하면 모음,자음별로 삼성전자가 11자리임. 데이터프레임에서 찾으려면 4글자로 자음모음 합쳐주기\n",
        "item_name = jamotools.join_jamos(it[0])"
      ],
      "execution_count": 803,
      "outputs": []
    },
    {
      "cell_type": "code",
      "metadata": {
        "id": "fvhveE1_B4Xi",
        "outputId": "fe3a151c-b87a-43a0-cca3-a558728a0fda",
        "colab": {
          "base_uri": "https://localhost:8080/"
        }
      },
      "source": [
        "#1. price 개수를 검증하려는 일자에 맞춤.\n",
        "\n",
        "train_start = model_name.split()[1].split('-')\n",
        "s_y = train_start[0][1:]\n",
        "s_m = train_start[1]\n",
        "s_d = train_start[2]\n",
        "#start_date = datetime(int(s_y), int(s_m), int(s_d))\n",
        "start_date = datetime(2017,5,1)\n",
        "\n",
        "train_end = model_name.split()[3].split('-')\n",
        "year = train_end[0]\n",
        "#m = train_end[1]\n",
        "#d = train_end[2][:-1]\n",
        "m = '10'\n",
        "d = '7'\n",
        "\n",
        "verif_gap = datetime.date(datetime.today()) - datetime.date(datetime(int(year), int(m), int(d)))\n",
        "verif_gap = verif_gap.days\n",
        "  \n",
        "\n",
        "#price = price[:-verif_gap]\n",
        "#real_price = real_price[:-verif_gap]\n",
        "\n",
        "predict_day = 10\n",
        "n_epoch = model_name.split(' ')[7][:-2]\n",
        "window_size = int(model_name.split(' ')[5][:-3])\n",
        "n_batch = int(model_name.split(' ')[6][:-3])\n",
        "Title = model_name + ' [' + str(datetime.date(datetime.today())) + ' Verified]'\n",
        "print(Title,verif_gap,window_size,n_batch, sep='\\n')"
      ],
      "execution_count": 804,
      "outputs": [
        {
          "output_type": "stream",
          "text": [
            "BTC-UTD: [2014-07-18 ~ 2020-09-02] 128cell 64win 1bat 7000ep 0.2drop adam 0.0001lr 86400period.h5 [2020-11-04 Verified]\n",
            "28\n",
            "64\n",
            "1\n"
          ],
          "name": "stdout"
        }
      ]
    },
    {
      "cell_type": "markdown",
      "metadata": {
        "id": "qoLdrTqN2oDe"
      },
      "source": [
        "#Request API"
      ]
    },
    {
      "cell_type": "code",
      "metadata": {
        "id": "Le8U4-yxTmhM",
        "outputId": "f2cd07ae-d544-4a44-aed0-f57a94c184fa",
        "colab": {
          "base_uri": "https://localhost:8080/"
        }
      },
      "source": [
        "#1405699200 2014.7.18 01:00(GMT+9)부터 24시간 주기\n",
        "#milliseconds 단위로 변환시켜주는 timestamp()\n",
        "#start_date = datetime(2017,5,1)\n",
        "start = int(start_date.timestamp()) #꼭 tuple이었던 변수를 datetime으로 넣을 때는 *을 붙여줘야함\n",
        "ret = requests.get('https://poloniex.com/public?command=returnChartData&currencyPair=USDT_BTC&start={}&end=9999999999&period=86400'.format(start))\n",
        "print(ret)"
      ],
      "execution_count": 805,
      "outputs": [
        {
          "output_type": "stream",
          "text": [
            "<Response [200]>\n"
          ],
          "name": "stdout"
        }
      ]
    },
    {
      "cell_type": "code",
      "metadata": {
        "id": "XDYbzmO6TxKH",
        "outputId": "359c9b14-1f49-43ff-b53a-ba8c42dad8de",
        "colab": {
          "base_uri": "https://localhost:8080/"
        }
      },
      "source": [
        "js = ret.json()\n",
        "print(js[-1])\n",
        "df = pd.DataFrame(js)"
      ],
      "execution_count": 806,
      "outputs": [
        {
          "output_type": "stream",
          "text": [
            "{'date': 1604448000, 'high': 14240, 'low': 13532.19398223, 'open': 14014.59395478, 'close': 14041.19853331, 'volume': 15738002.10518629, 'quoteVolume': 1134.22195507, 'weightedAverage': 13875.59289858}\n"
          ],
          "name": "stdout"
        }
      ]
    },
    {
      "cell_type": "code",
      "metadata": {
        "id": "1jBcMIjHTzy-",
        "outputId": "93756532-a752-453c-aeb1-85639293bf6f",
        "colab": {
          "base_uri": "https://localhost:8080/"
        }
      },
      "source": [
        "scaler = MinMaxScaler()\n",
        "real_price = df['close'].tolist()\n",
        "price = scaler.fit_transform(df[['close']]).reshape(-1).tolist()  #tolist로 만들어줌\n",
        "\n",
        "print('오늘은',datetime.today(), real_price[-1], len(real_price), '개') # GMT +0 기준"
      ],
      "execution_count": null,
      "outputs": [
        {
          "output_type": "stream",
          "text": [
            "오늘은 2020-11-04 18:14:08.047176 14041.19853331 1284 개\n"
          ],
          "name": "stdout"
        }
      ]
    },
    {
      "cell_type": "markdown",
      "metadata": {
        "id": "X0bp0asNyMTP"
      },
      "source": [
        "#make DataSet"
      ]
    },
    {
      "cell_type": "code",
      "metadata": {
        "id": "tgaxeqAnT5tg",
        "outputId": "40669455-7a33-4f75-c6db-39b04d6d525f",
        "colab": {
          "base_uri": "https://localhost:8080/"
        }
      },
      "source": [
        "x = []  #5일의 데이터를 넣고 다음날을 예측하는 방식 (특징벡터 - 훈련집합)\n",
        "y = []  #5+1일의 데이터를 넣고 (결과값 - 훈련집합)\n",
        "\n",
        "for i in range(len(price) - window_size):   #1916-5 = 1911 Range는 마지막 1910까지임\n",
        "  x.append([price[i+j] for j in range(window_size)])\n",
        "  y.append(price[window_size + i])\n",
        "\n",
        "x = np.asarray(x)\n",
        "y = np.asarray(y)\n",
        "print(x.shape) # [1911,5] list\n",
        "print(type(y)) \n",
        "#print(x[-1])  # [1911,5] list\n",
        "#print(price[-1]) #[1916, 1]\n",
        "#print(y[-1])  #[1911, 1]"
      ],
      "execution_count": 812,
      "outputs": [
        {
          "output_type": "stream",
          "text": [
            "(1220, 64)\n",
            "<class 'numpy.ndarray'>\n"
          ],
          "name": "stdout"
        }
      ]
    },
    {
      "cell_type": "code",
      "metadata": {
        "id": "uQhHdimbT96e",
        "outputId": "5f1585ef-a96c-43e2-8211-5e73c5f3181f",
        "colab": {
          "base_uri": "https://localhost:8080/"
        }
      },
      "source": [
        "train_test_split = int(len(x)*0.3) #1200개에서 1357개로 증가후에 acc: 0.0017 --> 0.0015\n",
        "split_pt = train_test_split + window_size\n",
        "\n",
        "x_train = x[:train_test_split, :]\n",
        "y_train = y[:train_test_split]\n",
        "\n",
        "x_test = x[train_test_split:, :]\n",
        "y_test = y[train_test_split:]\n",
        "\n",
        "xtrain = x_train.reshape((x_train.shape[0], x_train.shape[1], 1)) # 2차원 데이터 3차원화, LSTM의 데이터 생성할때 주의해야하는 포인트, [sequence,  batch, input_dim]\n",
        "xtest =  np.reshape(x_test, (x_test.shape[0], x_test.shape[1], 1))  #test 집합을 늘리면 미래를 예측할 수 있을까?\n",
        "\n",
        "print(xtrain.shape)#print(x_train.shape) #계속 변함\n",
        "print(x_test.shape) #계속 변함\n",
        "#print(y_train[0])\n",
        "#print(price[4])\n"
      ],
      "execution_count": 813,
      "outputs": [
        {
          "output_type": "stream",
          "text": [
            "(366, 64, 1)\n",
            "(854, 64)\n"
          ],
          "name": "stdout"
        }
      ]
    },
    {
      "cell_type": "markdown",
      "metadata": {
        "id": "1q_QgQenJIoX"
      },
      "source": [
        "#**Prediction**"
      ]
    },
    {
      "cell_type": "code",
      "metadata": {
        "id": "2Sav6GQL2kPs"
      },
      "source": [
        "#train, test prediction\n",
        "train_pred = model.predict(xtrain,batch_size=n_batch) # x[0~window_size-1] 만큼의 특징벡터를 학습해서 학습데이터 수 \n",
        "model.reset_states()\n",
        "test_pred = model.predict(xtest,batch_size=n_batch)\n",
        "model.reset_states()\n",
        "real_train_pred = scaler.inverse_transform(train_pred)\n",
        "real_test_pred = scaler.inverse_transform(test_pred)"
      ],
      "execution_count": 814,
      "outputs": []
    },
    {
      "cell_type": "markdown",
      "metadata": {
        "id": "USxgiMWIV1CT"
      },
      "source": [
        "#(t+n)일 예측하기 "
      ]
    },
    {
      "cell_type": "code",
      "metadata": {
        "id": "0qUwG-0vzwj-"
      },
      "source": [
        "#(t+n)일 예측 시뮬레이션 (순수 predict)\n",
        "def predict_future():\n",
        "  if (verif_gap != 0):\n",
        "    today = xtest[-verif_gap-1]\n",
        "    today = np.vstack((today[1:], price[-verif_gap]))\n",
        "    seq_in = today \n",
        "    fut = np.zeros((verif_gap+predict_day,1))\n",
        "\n",
        "    i = 0\n",
        "    for i in range(verif_gap): #과거 예측결과 평가를 위한\n",
        "      sample_in = seq_in.reshape(1,window_size,1)\n",
        "      after = model.predict(sample_in, batch_size=n_batch)\n",
        "      model.reset_states() #없으면 예측값 계속 바뀜\n",
        "      seq_in = np.vstack((seq_in[1:], after))\n",
        "      fut[i] = after\n",
        "    \n",
        "    #검증 후 예측\n",
        "    today = xtest[-1]\n",
        "    today = np.vstack((today[1:], price[-1]))\n",
        "    seq_in = today\n",
        "\n",
        "    i+=1 #배열 다음위치부터\n",
        "    for i in range(i,i+predict_day,1):\n",
        "      sample_in = seq_in.reshape(1,window_size,1)\n",
        "      after = model.predict(sample_in, batch_size=n_batch)\n",
        "      model.reset_states() \n",
        "      seq_in = np.vstack((seq_in[1:], after))\n",
        "      fut[i] = after\n",
        "\n",
        "  else: #그날 바로 검증일때\n",
        "    today = xtest[-1]\n",
        "    today = np.vstack((today[1:], price[-1]))\n",
        "    seq_in = today \n",
        "    fut = np.zeros((predict_day,1))\n",
        "\n",
        "    for i in range(predict_day): \n",
        "      sample_in = seq_in.reshape(1,window_size,1)\n",
        "      after = model.predict(sample_in, batch_size=n_batch)\n",
        "      model.reset_states() \n",
        "      seq_in = np.vstack((seq_in[1:], after))\n",
        "      fut[i] = after\n",
        "  \n",
        "\n",
        "  real_fut = scaler.inverse_transform(fut)\n",
        "  return real_fut, fut"
      ],
      "execution_count": 815,
      "outputs": []
    },
    {
      "cell_type": "code",
      "metadata": {
        "id": "5o6etOgbtQE7"
      },
      "source": [
        "############Verify or Modify Simulation\n",
        "\n",
        "#하루마다 갱신하는 예측 오늘치는 갱신하고 그 다음날거랑 마지막 거 새로예측\n",
        "#하루늦게 추종하니까 안좋은 결과\n",
        "verif_price = price\n",
        "real_verif_price = real_price\n",
        "\n",
        "today = xtest[-verif_gap]\n",
        "today = np.vstack((today[1:], price[-verif_gap]))\n",
        "seq_in = today #오늘꺼 까지 넣고 \n",
        "verif_after_pred = np.zeros((predict_day+verif_gap,1)) #15일치\n",
        "sample_in = seq_in.reshape(1,window_size,1)\n",
        "after = model.predict(sample_in, batch_size=n_batch)\n",
        "model.reset_states() #없으면 예측값 계속 바뀜\n",
        "verif_after_pred[0] = after #첫번째꺼는 이미지났으니까 유지하고\n",
        "\n",
        "#seq_in[window_size-predict_day-1] = verif_price[-verif_gap] # 7월 10일 기준. 11일 예측치를, 11일 actual data로 갱신\n",
        "j = 1\n",
        "for i in range(verif_gap, 0, -1): #\n",
        "  seq_in = np.vstack((seq_in[1:], verif_price[-i])) #11일 acutual 추가\n",
        "  sample_in = seq_in.reshape(1, window_size, 1)\n",
        "  after = model.predict(sample_in, batch_size=n_batch) #갱신된 11일치로 12일치 다시 예측\n",
        "  model.reset_states()\n",
        "  #seq_in = np.vstack((seq_in[1:], after))    #12일 예측치를 after에만 추가 seq_in에는 actual만 들어가야하므로\n",
        "  #verif_after_pred = np.vstack((verif_after_pred, after)) #전부다 갱신해줘야함 새로운 배열\n",
        "  verif_after_pred[j] = after\n",
        "  j+=1\n",
        "\n",
        "seq_in = np.vstack((seq_in[1:], verif_after_pred[j-1])) # 17일을 위한 16일은 넣어주고\n",
        "for i in range(j,predict_day+verif_gap):\n",
        "  sample_in = seq_in.reshape(1, window_size, 1)\n",
        "  after = model.predict(sample_in, batch_size=n_batch)\n",
        "  model.reset_states()\n",
        "  seq_in = np.vstack((seq_in[1:], after))\n",
        "  verif_after_pred[i] = after\n",
        "\n",
        "real_verif_after_pred = scaler.inverse_transform(verif_after_pred)"
      ],
      "execution_count": 816,
      "outputs": []
    },
    {
      "cell_type": "code",
      "metadata": {
        "id": "uFFy9LVEr-q8"
      },
      "source": [
        "#학습된 모델로 (t+n)일 예측하기\n",
        "#t+1 ~ t+day 예측을 위한 특징데이터 준비\n",
        "today = xtest[-1] #여기엔 마지막데이터 없음\n",
        "today = np.vstack((today[1: ], verif_price[-1]))\n",
        "seq_in = today \n",
        "after_pred = np.zeros((predict_day,1))\n",
        "\n",
        "for i in range(predict_day):\n",
        "  sample_in = seq_in.reshape(1,window_size,1)\n",
        "  after = model.predict(sample_in, batch_size=n_batch) \n",
        "  model.reset_states() #없으면 예측값 계속 바뀜\n",
        "  seq_in = np.vstack((seq_in[1:], after))\n",
        "  after_pred[i] = after\n",
        "  \n",
        "real_after_pred = scaler.inverse_transform(after_pred)"
      ],
      "execution_count": 817,
      "outputs": []
    },
    {
      "cell_type": "code",
      "metadata": {
        "id": "wFpIfQUAy4wS",
        "outputId": "601ce2ac-2394-4d92-dd63-31f0c3d90408",
        "colab": {
          "base_uri": "https://localhost:8080/"
        }
      },
      "source": [
        "#MCC를 사용하는 이유\n",
        "TP = 90\n",
        "FN = 4\n",
        "TN = 1\n",
        "FP = 5\n",
        "#ACC는 91%지만, MCC는 균형적이지 못해서 낮게 나온다!! 하락 5번중 한번밖에 못맞췄으므로\n",
        "MCC = (TP * TN - FP * FN) / np.sqrt((TP+FP)*(TP+FN)*(TN+FP)*(TN+FN))\n",
        "FM = np.sqrt((TP/(TP+FP) * (TN/(TP+FN))))\n",
        "#print('%.2f%%' %(100*(0.5 + MCC/2)))\n",
        "MCC"
      ],
      "execution_count": 818,
      "outputs": [
        {
          "output_type": "execute_result",
          "data": {
            "text/plain": [
              "0.13524203070138519"
            ]
          },
          "metadata": {
            "tags": []
          },
          "execution_count": 818
        }
      ]
    },
    {
      "cell_type": "code",
      "metadata": {
        "id": "q85rqCRIVhDB",
        "outputId": "d63fb146-9ca6-4d57-b16a-7fd9a3c45eda",
        "colab": {
          "base_uri": "https://localhost:8080/"
        }
      },
      "source": [
        "#MCC의 오류 한쪽이 1이거나 1에가까우면 과긍정평가\n",
        "TP = 5\n",
        "FN = 10 \n",
        "TN = 5\n",
        "FP = 0\n",
        "(TP/(TP+FN))*0.5 + (TN/(TN+FP))*0.5"
      ],
      "execution_count": 819,
      "outputs": [
        {
          "output_type": "execute_result",
          "data": {
            "text/plain": [
              "0.6666666666666666"
            ]
          },
          "metadata": {
            "tags": []
          },
          "execution_count": 819
        }
      ]
    },
    {
      "cell_type": "code",
      "metadata": {
        "id": "ar5HxyO3g7gw"
      },
      "source": [
        "#F1 score는 지나치게 긍정적으로 평가되는 경향이 있다. 분류문제인 양수인지 음수인지를 판별할 때는 MCC를 사용한다\n",
        "#MCC는 -1 ~ +1 사이 값을 나타내며 0은 임의 예측과 같은성능\n",
        "#방향 정확성 평가, MCC는 상승하락에 대해 균형있게 예측했는지 평가\n",
        "#8/27 수많은 모델 검사결과 MCC가 ACC보다 오히려 과긍정으로 나타났다. TP*TN - FP*FN 의 한계 때문이였음\n",
        "#Matthews correlation coefficient, confusion Matrix \n",
        "def MCC(actual, target, t): \n",
        "  TP, TN, FP, FN = 0,0,0,0\n",
        "  ACC_List = [] \n",
        "  MCC_List = []\n",
        "\n",
        "  for i in range(len(target)):\n",
        "    if (actual[i+t] - actual[i+t-1] > 0): #상승\n",
        "      if (target[i] - actual[i+t-1] > 0): #상승예측\n",
        "        TP += 1\n",
        "      else:\n",
        "        FN += 1\n",
        "    elif (actual[i+t] - actual[i+t-1] < 0): # 하락\n",
        "      if (target[i] - actual[i+t-1] < 0):\n",
        "        TN += 1\n",
        "      else:\n",
        "        FP += 1\n",
        "    else: #그대로\n",
        "      if (target[i] == actual[i+t-1]):\n",
        "        TP += 1\n",
        "      elif (target[i] - actual[i+t-1] > 0):\n",
        "        FP += 1\n",
        "      else:\n",
        "        FN += 1\n",
        "    N = TP + TN + FP + FN\n",
        "    S = (TP + FN) / N\n",
        "    P = (TP + FP) / N\n",
        "    ACC = (TP + TN) / N\n",
        "    MCC = (TP / N - S * P) / np.sqrt(P*S*(1-S)*(1-P))\n",
        "    ACC_List.append(ACC)\n",
        "    MCC_List.append(MCC)\n",
        "\n",
        "  N = TP + TN + FP + FN\n",
        "  S = (TP + FN) / N\n",
        "  P = (TP + FP) / N\n",
        "  ACC = (TP + TN) / N\n",
        "  MCC = (TP / N - S * P) / np.sqrt(P*S*(1-S)*(1-P))\n",
        "  #MCC = (TP * TN - FP * FN) / np.sqrt((TP+FP)*(TP+FN)*(TN+FP)*(TN+FN))\n",
        "  #두개가 0이되면 측정안됨\n",
        "  print(TP,FN,TN,FP)\n",
        "  #print(ACC_List)\n",
        "  #print(MCC_List)\n",
        "  print('방향정확도: %.3f%%\\nMCC: %.2f\\n' %(ACC*100,MCC))\n",
        "  #return ACC_List, MCC_List"
      ],
      "execution_count": 820,
      "outputs": []
    },
    {
      "cell_type": "code",
      "metadata": {
        "id": "m6y9_VYZ0GU2"
      },
      "source": [
        "#keras 라이브러리 내 mape 평가는 값이 너무 큼 mae,mse 전부다\n",
        "def MAPE(actual, target, t): #Mean absolute percentage error\n",
        "  scores = []\n",
        "  for i in range(len(target)):\n",
        "    scores.append(np.abs((actual[i+t] - target[i]) / actual[i+t]))\n",
        "  print('값 오차율: %.2f%%' %(np.average(scores)*100))\n",
        "  #return scores"
      ],
      "execution_count": 821,
      "outputs": []
    },
    {
      "cell_type": "code",
      "metadata": {
        "id": "vcKLT45sqXwn"
      },
      "source": [
        "#함수호출\n",
        "#real_after_pred, after_pred = predict_future()"
      ],
      "execution_count": 822,
      "outputs": []
    },
    {
      "cell_type": "code",
      "metadata": {
        "id": "1WTykdX909Yz",
        "outputId": "d4d15549-662e-475e-d623-5cf7ee2b2208",
        "colab": {
          "base_uri": "https://localhost:8080/"
        }
      },
      "source": [
        "#정규화상태로 하면 0에 가까워질때 값이 너무커지는 함정\n",
        "MAPE(real_price, real_train_pred, window_size) #list,dic,set 같은 mutable object는 call by reference임\n",
        "MCC(real_price, real_train_pred, window_size) \n",
        "MAPE(real_price, real_test_pred, split_pt)\n",
        "MCC(real_price, real_test_pred, split_pt)\n",
        "if (verif_gap != 0 ):\n",
        "  MAPE(real_price, real_verif_after_pred[:verif_gap], split_pt + len(test_pred)-verif_gap)\n",
        "  MCC(real_price, real_verif_after_pred[:verif_gap], split_pt + len(test_pred)-verif_gap)\n",
        "else :\n",
        "  verif_date = 21\n",
        "  MAPE(real_price, real_test_pred[:verif_date], split_pt + len(test_pred)-verif_date)\n",
        "  MCC(real_price, real_test_pred[:verif_date], split_pt + len(test_pred)-verif_date)"
      ],
      "execution_count": 823,
      "outputs": [
        {
          "output_type": "stream",
          "text": [
            "값 오차율: 2.78%\n",
            "137 56 120 53\n",
            "방향정확도: 70.219%\n",
            "MCC: 0.40\n",
            "\n",
            "값 오차율: 2.20%\n",
            "302 151 237 164\n",
            "방향정확도: 63.115%\n",
            "MCC: 0.26\n",
            "\n",
            "값 오차율: 1.72%\n",
            "11 9 6 2\n",
            "방향정확도: 60.714%\n",
            "MCC: 0.27\n",
            "\n"
          ],
          "name": "stdout"
        },
        {
          "output_type": "stream",
          "text": [
            "/usr/local/lib/python3.6/dist-packages/ipykernel_launcher.py:33: RuntimeWarning:\n",
            "\n",
            "invalid value encountered in double_scalars\n",
            "\n"
          ],
          "name": "stderr"
        }
      ]
    },
    {
      "cell_type": "code",
      "metadata": {
        "id": "XgU5lekpUbqa",
        "outputId": "2091baf8-fc57-45bb-e7d1-c2f33be10f0c",
        "colab": {
          "base_uri": "https://localhost:8080/"
        }
      },
      "source": [
        "#완전적합부분 검사\n",
        "MAPE(price, train_pred[190-window_size:562-window_size], 190)\n",
        "MCC(price, train_pred[190-window_size:562-window_size], 190)"
      ],
      "execution_count": 824,
      "outputs": [
        {
          "output_type": "stream",
          "text": [
            "값 오차율: 2.83%\n",
            "100 26 91 23\n",
            "방향정확도: 79.583%\n",
            "MCC: 0.59\n",
            "\n"
          ],
          "name": "stdout"
        },
        {
          "output_type": "stream",
          "text": [
            "/usr/local/lib/python3.6/dist-packages/ipykernel_launcher.py:33: RuntimeWarning:\n",
            "\n",
            "invalid value encountered in double_scalars\n",
            "\n"
          ],
          "name": "stderr"
        }
      ]
    },
    {
      "cell_type": "code",
      "metadata": {
        "id": "BQLdrQPurOhR",
        "outputId": "e6826c6b-01ea-4390-fb1f-a2219b58c251",
        "colab": {
          "base_uri": "https://localhost:8080/"
        }
      },
      "source": [
        "trainScore = model.evaluate(xtrain, y_train, batch_size=n_batch, verbose=0)\n",
        "testScore = model.evaluate(xtest, y_test, batch_size=n_batch, verbose=0)\n",
        "print(\"mae: (%.5f, %.5f)\" %(trainScore[1], testScore[1]))"
      ],
      "execution_count": 825,
      "outputs": [
        {
          "output_type": "stream",
          "text": [
            "mae: (0.01056, 0.00961)\n"
          ],
          "name": "stdout"
        }
      ]
    },
    {
      "cell_type": "code",
      "metadata": {
        "id": "65ErThUIvdGG",
        "outputId": "23f51e06-6dfa-4a08-8bf9-e64f82b5a2a7",
        "colab": {
          "base_uri": "https://localhost:8080/"
        }
      },
      "source": [
        "cd /content/"
      ],
      "execution_count": 826,
      "outputs": [
        {
          "output_type": "stream",
          "text": [
            "/content\n"
          ],
          "name": "stdout"
        }
      ]
    },
    {
      "cell_type": "code",
      "metadata": {
        "id": "dy4-4TiWsPtS",
        "outputId": "dd3e4374-d232-4279-8199-c0685d7425c4",
        "colab": {
          "base_uri": "https://localhost:8080/",
          "height": 542
        }
      },
      "source": [
        "trace = go.Scatter(x=np.arange(0,len(price),1), y=price, #0~1915까지 해야함 재정규화로 matrix되면 reshape해주어 1차행렬로 만들어야함\n",
        "mode = 'lines', name='actual')\n",
        "trace2 = go.Scatter(x=np.arange(window_size,split_pt,1), y=train_pred.reshape(train_test_split), #(5,1205,1) 이지만, 5~1204까지 적용 다 마찬가지\n",
        "mode = 'lines', name='test_pred')\n",
        "trace3 = go.Scatter(x=np.arange(split_pt,split_pt + len(test_pred),1), y=test_pred.reshape(len(test_pred)),  #1205~1915\n",
        "mode = 'lines', name='train_pred')\n",
        "trace4 = go.Scatter(x=np.arange(split_pt +len(test_pred), split_pt + len(test_pred) + len(after_pred), 1), y =after_pred.reshape(len(after_pred)),\n",
        "mode = 'lines', name= 'after_pred')\n",
        "\n",
        "data = [trace, trace3, trace2, trace4]\n",
        "layout = go.Layout(title=Title)\n",
        "fig = go.Figure(data=data, layout=layout)\n",
        "py.offline.iplot(fig) #그래프 출력 \n",
        "#py.offline.plot(fig, show_link = True, filename = Title + '.html') #다른이름으로 저장\n",
        "\n",
        "from google.colab import files\n",
        "import os\n",
        "\n",
        "#os.rename('temp-plot.html', rename)\n",
        "#files.download(filename=Title +'.html') #다운로드"
      ],
      "execution_count": 827,
      "outputs": [
        {
          "output_type": "display_data",
          "data": {
            "text/html": [
              "<html>\n",
              "<head><meta charset=\"utf-8\" /></head>\n",
              "<body>\n",
              "    <div>\n",
              "            <script src=\"https://cdnjs.cloudflare.com/ajax/libs/mathjax/2.7.5/MathJax.js?config=TeX-AMS-MML_SVG\"></script><script type=\"text/javascript\">if (window.MathJax) {MathJax.Hub.Config({SVG: {font: \"STIX-Web\"}});}</script>\n",
              "                <script type=\"text/javascript\">window.PlotlyConfig = {MathJaxConfig: 'local'};</script>\n",
              "        <script src=\"https://cdn.plot.ly/plotly-latest.min.js\"></script>    \n",
              "            <div id=\"15467065-6e5c-4265-901c-ad2ffe5031b9\" class=\"plotly-graph-div\" style=\"height:525px; width:100%;\"></div>\n",
              "            <script type=\"text/javascript\">\n",
              "                \n",
              "                    window.PLOTLYENV=window.PLOTLYENV || {};\n",
              "                    \n",
              "                if (document.getElementById(\"15467065-6e5c-4265-901c-ad2ffe5031b9\")) {\n",
              "                    Plotly.newPlot(\n",
              "                        '15467065-6e5c-4265-901c-ad2ffe5031b9',\n",
              "                        [{\"mode\": \"lines\", \"name\": \"actual\", \"type\": \"scatter\", \"x\": [0, 1, 2, 3, 4, 5, 6, 7, 8, 9, 10, 11, 12, 13, 14, 15, 16, 17, 18, 19, 20, 21, 22, 23, 24, 25, 26, 27, 28, 29, 30, 31, 32, 33, 34, 35, 36, 37, 38, 39, 40, 41, 42, 43, 44, 45, 46, 47, 48, 49, 50, 51, 52, 53, 54, 55, 56, 57, 58, 59, 60, 61, 62, 63, 64, 65, 66, 67, 68, 69, 70, 71, 72, 73, 74, 75, 76, 77, 78, 79, 80, 81, 82, 83, 84, 85, 86, 87, 88, 89, 90, 91, 92, 93, 94, 95, 96, 97, 98, 99, 100, 101, 102, 103, 104, 105, 106, 107, 108, 109, 110, 111, 112, 113, 114, 115, 116, 117, 118, 119, 120, 121, 122, 123, 124, 125, 126, 127, 128, 129, 130, 131, 132, 133, 134, 135, 136, 137, 138, 139, 140, 141, 142, 143, 144, 145, 146, 147, 148, 149, 150, 151, 152, 153, 154, 155, 156, 157, 158, 159, 160, 161, 162, 163, 164, 165, 166, 167, 168, 169, 170, 171, 172, 173, 174, 175, 176, 177, 178, 179, 180, 181, 182, 183, 184, 185, 186, 187, 188, 189, 190, 191, 192, 193, 194, 195, 196, 197, 198, 199, 200, 201, 202, 203, 204, 205, 206, 207, 208, 209, 210, 211, 212, 213, 214, 215, 216, 217, 218, 219, 220, 221, 222, 223, 224, 225, 226, 227, 228, 229, 230, 231, 232, 233, 234, 235, 236, 237, 238, 239, 240, 241, 242, 243, 244, 245, 246, 247, 248, 249, 250, 251, 252, 253, 254, 255, 256, 257, 258, 259, 260, 261, 262, 263, 264, 265, 266, 267, 268, 269, 270, 271, 272, 273, 274, 275, 276, 277, 278, 279, 280, 281, 282, 283, 284, 285, 286, 287, 288, 289, 290, 291, 292, 293, 294, 295, 296, 297, 298, 299, 300, 301, 302, 303, 304, 305, 306, 307, 308, 309, 310, 311, 312, 313, 314, 315, 316, 317, 318, 319, 320, 321, 322, 323, 324, 325, 326, 327, 328, 329, 330, 331, 332, 333, 334, 335, 336, 337, 338, 339, 340, 341, 342, 343, 344, 345, 346, 347, 348, 349, 350, 351, 352, 353, 354, 355, 356, 357, 358, 359, 360, 361, 362, 363, 364, 365, 366, 367, 368, 369, 370, 371, 372, 373, 374, 375, 376, 377, 378, 379, 380, 381, 382, 383, 384, 385, 386, 387, 388, 389, 390, 391, 392, 393, 394, 395, 396, 397, 398, 399, 400, 401, 402, 403, 404, 405, 406, 407, 408, 409, 410, 411, 412, 413, 414, 415, 416, 417, 418, 419, 420, 421, 422, 423, 424, 425, 426, 427, 428, 429, 430, 431, 432, 433, 434, 435, 436, 437, 438, 439, 440, 441, 442, 443, 444, 445, 446, 447, 448, 449, 450, 451, 452, 453, 454, 455, 456, 457, 458, 459, 460, 461, 462, 463, 464, 465, 466, 467, 468, 469, 470, 471, 472, 473, 474, 475, 476, 477, 478, 479, 480, 481, 482, 483, 484, 485, 486, 487, 488, 489, 490, 491, 492, 493, 494, 495, 496, 497, 498, 499, 500, 501, 502, 503, 504, 505, 506, 507, 508, 509, 510, 511, 512, 513, 514, 515, 516, 517, 518, 519, 520, 521, 522, 523, 524, 525, 526, 527, 528, 529, 530, 531, 532, 533, 534, 535, 536, 537, 538, 539, 540, 541, 542, 543, 544, 545, 546, 547, 548, 549, 550, 551, 552, 553, 554, 555, 556, 557, 558, 559, 560, 561, 562, 563, 564, 565, 566, 567, 568, 569, 570, 571, 572, 573, 574, 575, 576, 577, 578, 579, 580, 581, 582, 583, 584, 585, 586, 587, 588, 589, 590, 591, 592, 593, 594, 595, 596, 597, 598, 599, 600, 601, 602, 603, 604, 605, 606, 607, 608, 609, 610, 611, 612, 613, 614, 615, 616, 617, 618, 619, 620, 621, 622, 623, 624, 625, 626, 627, 628, 629, 630, 631, 632, 633, 634, 635, 636, 637, 638, 639, 640, 641, 642, 643, 644, 645, 646, 647, 648, 649, 650, 651, 652, 653, 654, 655, 656, 657, 658, 659, 660, 661, 662, 663, 664, 665, 666, 667, 668, 669, 670, 671, 672, 673, 674, 675, 676, 677, 678, 679, 680, 681, 682, 683, 684, 685, 686, 687, 688, 689, 690, 691, 692, 693, 694, 695, 696, 697, 698, 699, 700, 701, 702, 703, 704, 705, 706, 707, 708, 709, 710, 711, 712, 713, 714, 715, 716, 717, 718, 719, 720, 721, 722, 723, 724, 725, 726, 727, 728, 729, 730, 731, 732, 733, 734, 735, 736, 737, 738, 739, 740, 741, 742, 743, 744, 745, 746, 747, 748, 749, 750, 751, 752, 753, 754, 755, 756, 757, 758, 759, 760, 761, 762, 763, 764, 765, 766, 767, 768, 769, 770, 771, 772, 773, 774, 775, 776, 777, 778, 779, 780, 781, 782, 783, 784, 785, 786, 787, 788, 789, 790, 791, 792, 793, 794, 795, 796, 797, 798, 799, 800, 801, 802, 803, 804, 805, 806, 807, 808, 809, 810, 811, 812, 813, 814, 815, 816, 817, 818, 819, 820, 821, 822, 823, 824, 825, 826, 827, 828, 829, 830, 831, 832, 833, 834, 835, 836, 837, 838, 839, 840, 841, 842, 843, 844, 845, 846, 847, 848, 849, 850, 851, 852, 853, 854, 855, 856, 857, 858, 859, 860, 861, 862, 863, 864, 865, 866, 867, 868, 869, 870, 871, 872, 873, 874, 875, 876, 877, 878, 879, 880, 881, 882, 883, 884, 885, 886, 887, 888, 889, 890, 891, 892, 893, 894, 895, 896, 897, 898, 899, 900, 901, 902, 903, 904, 905, 906, 907, 908, 909, 910, 911, 912, 913, 914, 915, 916, 917, 918, 919, 920, 921, 922, 923, 924, 925, 926, 927, 928, 929, 930, 931, 932, 933, 934, 935, 936, 937, 938, 939, 940, 941, 942, 943, 944, 945, 946, 947, 948, 949, 950, 951, 952, 953, 954, 955, 956, 957, 958, 959, 960, 961, 962, 963, 964, 965, 966, 967, 968, 969, 970, 971, 972, 973, 974, 975, 976, 977, 978, 979, 980, 981, 982, 983, 984, 985, 986, 987, 988, 989, 990, 991, 992, 993, 994, 995, 996, 997, 998, 999, 1000, 1001, 1002, 1003, 1004, 1005, 1006, 1007, 1008, 1009, 1010, 1011, 1012, 1013, 1014, 1015, 1016, 1017, 1018, 1019, 1020, 1021, 1022, 1023, 1024, 1025, 1026, 1027, 1028, 1029, 1030, 1031, 1032, 1033, 1034, 1035, 1036, 1037, 1038, 1039, 1040, 1041, 1042, 1043, 1044, 1045, 1046, 1047, 1048, 1049, 1050, 1051, 1052, 1053, 1054, 1055, 1056, 1057, 1058, 1059, 1060, 1061, 1062, 1063, 1064, 1065, 1066, 1067, 1068, 1069, 1070, 1071, 1072, 1073, 1074, 1075, 1076, 1077, 1078, 1079, 1080, 1081, 1082, 1083, 1084, 1085, 1086, 1087, 1088, 1089, 1090, 1091, 1092, 1093, 1094, 1095, 1096, 1097, 1098, 1099, 1100, 1101, 1102, 1103, 1104, 1105, 1106, 1107, 1108, 1109, 1110, 1111, 1112, 1113, 1114, 1115, 1116, 1117, 1118, 1119, 1120, 1121, 1122, 1123, 1124, 1125, 1126, 1127, 1128, 1129, 1130, 1131, 1132, 1133, 1134, 1135, 1136, 1137, 1138, 1139, 1140, 1141, 1142, 1143, 1144, 1145, 1146, 1147, 1148, 1149, 1150, 1151, 1152, 1153, 1154, 1155, 1156, 1157, 1158, 1159, 1160, 1161, 1162, 1163, 1164, 1165, 1166, 1167, 1168, 1169, 1170, 1171, 1172, 1173, 1174, 1175, 1176, 1177, 1178, 1179, 1180, 1181, 1182, 1183, 1184, 1185, 1186, 1187, 1188, 1189, 1190, 1191, 1192, 1193, 1194, 1195, 1196, 1197, 1198, 1199, 1200, 1201, 1202, 1203, 1204, 1205, 1206, 1207, 1208, 1209, 1210, 1211, 1212, 1213, 1214, 1215, 1216, 1217, 1218, 1219, 1220, 1221, 1222, 1223, 1224, 1225, 1226, 1227, 1228, 1229, 1230, 1231, 1232, 1233, 1234, 1235, 1236, 1237, 1238, 1239, 1240, 1241, 1242, 1243, 1244, 1245, 1246, 1247, 1248, 1249, 1250, 1251, 1252, 1253, 1254, 1255, 1256, 1257, 1258, 1259, 1260, 1261, 1262, 1263, 1264, 1265, 1266, 1267, 1268, 1269, 1270, 1271, 1272, 1273, 1274, 1275, 1276, 1277, 1278, 1279, 1280, 1281, 1282, 1283], \"y\": [0.0, 0.0018033685644029823, 0.004839201945964586, 0.004176712351209977, 0.0007573616690212254, 0.0038549605329769726, 0.005095235404394341, 0.0099290314932403, 0.012915499903344313, 0.015260272422983528, 0.018657280991341965, 0.01162641923754501, 0.016513993994225665, 0.01672978013959378, 0.013626763314297394, 0.014525518580786448, 0.019386197928548357, 0.02329422365623507, 0.024699033507587925, 0.03078089973942759, 0.028316283275855808, 0.03165093540211854, 0.04040552517490509, 0.04855027412985444, 0.03843327869833356, 0.033958511436707195, 0.02502492511104673, 0.029791442944650526, 0.038263720115843405, 0.034476911772998095, 0.03769852482222477, 0.04434495290903501, 0.04962414514268376, 0.05229756674218489, 0.05389419544506083, 0.062474228274423504, 0.07437969818624632, 0.06304777644997284, 0.07110156559143666, 0.07268974944211118, 0.07244787317183493, 0.07952862714119735, 0.05883966168933541, 0.06481516400776305, 0.048424840886198806, 0.04772904125131536, 0.05115017238566033, 0.060879878806838345, 0.0543887413106571, 0.059517724256451965, 0.06431922246195426, 0.061606284971988, 0.06462309217653048, 0.06443226134682392, 0.05502074484143163, 0.05379595307237112, 0.04890572090258921, 0.05538913694734901, 0.05555869553096954, 0.0530421479228774, 0.05050931936977873, 0.046150589116573715, 0.05115826893005643, 0.05688451416432663, 0.06064545301019575, 0.060419380883931256, 0.05990763062281135, 0.05352399253995732, 0.05760880192558773, 0.05330439940142806, 0.04442434861298569, 0.04261547071551311, 0.047811281295965735, 0.045061162156759677, 0.03820196123775606, 0.025292488555346576, 0.022376080930298775, 0.03919081458145074, 0.04352003614929997, 0.04069405978237681, 0.07488837393371678, 0.06424569206179603, 0.07443621771374304, 0.0690346936336014, 0.07004824712424684, 0.05855423045777508, 0.05631326777479437, 0.06443226123378484, 0.07121354208044356, 0.06720171819585871, 0.06912338212905153, 0.07488837393371678, 0.06818983128238953, 0.06607132764422874, 0.07149098513306307, 0.07534109526418623, 0.09758303600062307, 0.096026677213533, 0.1056349968913663, 0.1063132312218921, 0.10198021922449443, 0.10658826051257186, 0.11933177527772601, 0.12646272537041403, 0.14101622110487705, 0.15011586503184868, 0.14802464251447012, 0.16113717289314353, 0.15441134912159926, 0.14468999039216374, 0.14738148641149187, 0.1438336704458578, 0.13926411575417438, 0.14324973718468137, 0.14728988865701276, 0.15774600124390564, 0.1594981066477367, 0.1596648392024192, 0.15778379168984472, 0.16108121850496743, 0.172949754141088, 0.17201138634535015, 0.18002344006828688, 0.1904142881635729, 0.16848471146828206, 0.17375402984277752, 0.15141581416201244, 0.1614173929745315, 0.17289372437112252, 0.17428760427277776, 0.15661985573664353, 0.15774960481933092, 0.1526027242417043, 0.15091900751814225, 0.14773010670369766, 0.13191657717734023, 0.09580059911824121, 0.12242129655845677, 0.12186718774649755, 0.12140376141631073, 0.14401175606220312, 0.1339512801677873, 0.13259241615885797, 0.11699542191933701, 0.11643022664380465, 0.1274515345050995, 0.12035579025822621, 0.13541835754132403, 0.13286209235339802, 0.15102017747179616, 0.1503424172168935, 0.14910235004287054, 0.16023286045715243, 0.16293412571911886, 0.1622675634436431, 0.1570609845706454, 0.1516588722262185, 0.15752362351825155, 0.16060793755543962, 0.16447182501601512, 0.1741366642286926, 0.1841212654726818, 0.18312326908993212, 0.18594924546533317, 0.22107921777074488, 0.23266993407040484, 0.24318801220808048, 0.2365342225743308, 0.23936019894916669, 0.23056502672343263, 0.22794325437956933, 0.2354973645485585, 0.25219013169092175, 0.2531701036549747, 0.2505897439675292, 0.24699033516065846, 0.22487763522340762, 0.23621262646343968, 0.24585994461185448, 0.23888044896499241, 0.23676030068431766, 0.26140281467288673, 0.25970722884798525, 0.2780772977130628, 0.2944549369246061, 0.31057480359503165, 0.316190583836932, 0.32984796247084736, 0.33059221935549055, 0.3052037767053042, 0.31395882239738093, 0.33233482168070294, 0.31029220595754803, 0.28334393362104593, 0.269598146183084, 0.24331656587337178, 0.2795330716389083, 0.2840060060219951, 0.3247114225968888, 0.3576556265215861, 0.3480195622379766, 0.3526818515800866, 0.3690725145541349, 0.37975470525157984, 0.37172893234648063, 0.37775648929442274, 0.36568134290433185, 0.37692477250925394, 0.40575368789950506, 0.4382714399771446, 0.4623862544585642, 0.4719362888518217, 0.46187757870374624, 0.4735023354069555, 0.5182777871477317, 0.529349815311406, 0.5451308427018905, 0.5691516418925173, 0.5728332535835794, 0.681111478459458, 0.8496867367914713, 0.8092283971616971, 0.743809407025522, 0.7560060422761792, 0.8449081557679053, 0.830724015141677, 0.8125812468208825, 0.8405317922506977, 0.9048776352230232, 0.9999999999999999, 0.9850901486277143, 0.9834699626863824, 0.8918781438982128, 0.8444017408015349, 0.7778782569378975, 0.6622429317099067, 0.6951901882101988, 0.6774995761088128, 0.6843384389150035, 0.8008865508959471, 0.7822308257509849, 0.7221695503081884, 0.7220671579151517, 0.6116503702195153, 0.6917618257849478, 0.6681591254396269, 0.7465099191777842, 0.7697959645058668, 0.770792292574594, 0.8700616062850449, 0.8833282987379849, 0.827696465929561, 0.7569553334308726, 0.7267316190229318, 0.7530661843668383, 0.664764351874377, 0.6942026418935769, 0.716385010902212, 0.679929915786085, 0.6810603063360193, 0.5410443667543429, 0.5372811464802253, 0.535805125756211, 0.5584434097826494, 0.6341589826244085, 0.5640648844178127, 0.522070875487751, 0.5243751757646954, 0.5572147176852104, 0.5448745196656617, 0.5397224790597752, 0.5624010280220638, 0.5832815180932667, 0.5480698581362414, 0.4889809161767428, 0.49348650037161956, 0.4334804725075264, 0.41496637088655686, 0.43443228061355643, 0.37517718872188144, 0.30690103430774496, 0.35008195324967495, 0.3412874742562927, 0.37981122477851137, 0.4042453742766041, 0.3973560950503604, 0.36963770982910205, 0.41711411292634537, 0.3939760556912937, 0.4487650473591541, 0.4789464760077551, 0.4878200421152502, 0.5380093822418256, 0.5001412988195897, 0.5440569716754965, 0.5475139933857754, 0.5036489289620169, 0.46999028328577974, 0.48715537218307403, 0.46176453964875275, 0.4538064646778648, 0.49782675846182234, 0.5120202532269756, 0.4969234893130069, 0.5316670150904134, 0.5364971347942483, 0.5601650370572767, 0.5635338947625821, 0.5598259197928221, 0.5202071268990447, 0.4736112664401325, 0.43813619517807156, 0.43522798097980253, 0.40868008817079704, 0.45179060082097344, 0.42792662635142265, 0.429040137859363, 0.37630701343617456, 0.3803663821853951, 0.3803008947632508, 0.3572034137798241, 0.3769852484036754, 0.40021477420482665, 0.41580786732300024, 0.41687113359666716, 0.4059236536379326, 0.416984118013103, 0.3958239930529611, 0.3913872405576265, 0.37226717041407775, 0.3534005941748978, 0.3624927268448751, 0.31370614187344503, 0.2999901274524953, 0.30542469934194005, 0.299159012092749, 0.31249048480906993, 0.332463140150154, 0.2961592204943785, 0.2964449217202868, 0.2873195974406334, 0.30294466738297465, 0.31085740123251515, 0.29568404366568946, 0.29977957384315845, 0.30726615398727897, 0.3617249758976082, 0.3586164019672421, 0.36545526478417145, 0.3858022946931635, 0.3690725145541349, 0.3595263663599392, 0.3749613190253914, 0.3819024471777641, 0.4142881365515094, 0.41835754244423307, 0.41044480863029986, 0.41852584539624793, 0.45801339239334304, 0.4142894971969625, 0.4383654552651114, 0.41767987340167434, 0.440895340379562, 0.4461538459484281, 0.434566943468923, 0.42621224849520933, 0.43604815463774593, 0.46436912124542795, 0.4628949301393416, 0.4718458121310847, 0.46006895380124346, 0.44424348612477016, 0.43356129542789035, 0.43917933646162943, 0.4233312609509844, 0.3874544433412155, 0.39234457069722917, 0.4053361941901287, 0.4036059458546297, 0.3911004353041365, 0.3847173354284832, 0.3685073192791677, 0.37924602950354414, 0.37808737918986146, 0.3953540948406741, 0.3872290046055574, 0.3648466182211243, 0.33793025489157413, 0.3416605437894412, 0.33459560288739354, 0.3279125569144137, 0.32880100420091063, 0.31481376815728546, 0.3349626073513057, 0.3306957553844284, 0.33685638388044037, 0.3391171649718311, 0.3455732850362597, 0.3492906799302835, 0.3367397005423971, 0.34435822221763157, 0.3458995084031278, 0.3483916530151199, 0.3436738625855741, 0.3368563838810056, 0.29581830100022843, 0.3020740449899383, 0.28316283275968845, 0.2691629934294528, 0.2880759984235075, 0.2739021775050733, 0.2799886748237834, 0.27762391906444495, 0.2930246659564274, 0.29480585542344717, 0.2952014921159243, 0.2929199551165472, 0.25499725880333746, 0.26193084936909405, 0.2612227604135753, 0.26620697460393017, 0.2570734188587255, 0.26043466788319647, 0.24546430787698778, 0.26380489463162615, 0.2747145022385832, 0.27235629910231596, 0.28735833844046377, 0.2807697625771317, 0.28574030065094347, 0.2827228500303607, 0.2868366020464099, 0.2955971288084013, 0.29240470137269403, 0.28963431865806266, 0.26948510710491747, 0.27378059141905053, 0.2664895721475914, 0.26499980422468494, 0.26697658197464136, 0.2720361968014061, 0.2941841406209833, 0.32727700350798206, 0.3302311648678402, 0.33601923705740344, 0.32841111466663175, 0.3324145481403197, 0.33205222404378454, 0.34985587520525074, 0.3888543491779862, 0.37546119997604954, 0.3621772480640014, 0.37616438159194243, 0.3780025998986164, 0.37818069976523017, 0.37574490017895446, 0.35050877298516325, 0.343978827297607, 0.33950496665215646, 0.33240350050227074, 0.3094444130450972, 0.31109478324856654, 0.3051206691915983, 0.2928841914885588, 0.2683910629642975, 0.2823909738318643, 0.260950658452913, 0.2650765839601734, 0.2702081461904311, 0.26665910344867083, 0.2633654687988112, 0.267657260845946, 0.2703270512947096, 0.2853670943314953, 0.2745718645796221, 0.28019360841164287, 0.266772169785075, 0.2791467382590408, 0.27269358513634057, 0.28263249865015394, 0.29138767780518204, 0.29368061396807, 0.2929492793809456, 0.3037924602954254, 0.3134681054856082, 0.3109769522611705, 0.3087161589208678, 0.31066141694494387, 0.32057875996195073, 0.3261176736560639, 0.32427796303661094, 0.32945713643230123, 0.2922059571591634, 0.2814672469370477, 0.27461362726147365, 0.26292213634812467, 0.26664699415233895, 0.27032350056221655, 0.26909811563936636, 0.27176890096633033, 0.280245057367162, 0.2800021548848245, 0.2818392496703318, 0.2809066413986995, 0.26695732792558247, 0.27164384264496033, 0.2743422219746372, 0.2804519492046117, 0.2954521034051345, 0.29395806240021816, 0.29288139840654903, 0.28600250141678296, 0.2775611823889236, 0.27892696970537556, 0.2917831215139932, 0.2888718762328102, 0.286405341096317, 0.2876843949588608, 0.28699485672340075, 0.28325329613729544, 0.28112437585922045, 0.28658845735472416, 0.28897932946685745, 0.286564124668351, 0.2870027069879122, 0.29074005121952706, 0.28965795309936715, 0.2882608941393272, 0.2667882490254525, 0.26983048455532144, 0.2712502823154517, 0.2719929876938495, 0.29503193353343404, 0.295526757797267, 0.2944526232135338, 0.28711919968389354, 0.28249234514707366, 0.28615485477291236, 0.28611574046216803, 0.28551149326553693, 0.2840758739573368, 0.2843765320661932, 0.2831063132316266, 0.28316283275912324, 0.2810310302519182, 0.2806194540217709, 0.2724241225347468, 0.2714201094058263, 0.2739106934673182, 0.2755477946044902, 0.27725131814374204, 0.27452099134218366, 0.27988470016431366, 0.279284951336529, 0.2819630565702357, 0.28516362403250706, 0.2797845713919178, 0.2763635336018333, 0.27736522805670183, 0.27848883626333665, 0.2782784151928569, 0.2790740441506363, 0.24752314906559228, 0.23821837788999142, 0.23278631242173017, 0.23175213714450246, 0.2333880703785489, 0.19191469439654554, 0.17183916003890135, 0.1773017577577701, 0.15995815624983895, 0.1633979539958382, 0.13582639343348452, 0.1453082213631689, 0.13113779152312713, 0.13282375569878888, 0.15477546875535253, 0.15605515711119872, 0.14191281862932123, 0.15051493811159752, 0.14879606133660273, 0.1334059520453663, 0.13709231277277054, 0.12659298839533906, 0.11183605323907092, 0.10578121022149675, 0.10621437875877113, 0.11411353812292199, 0.10802407731752214, 0.10456112586949382, 0.10828689823370355, 0.1000992844632905, 0.09561166548120972, 0.09530010390092392, 0.09572965387775068, 0.11164857683879972, 0.11986700847899176, 0.12081976989367499, 0.14246622675965495, 0.13036455417106743, 0.13671307526132553, 0.1355959984179418, 0.14018358268177233, 0.12494649946808062, 0.1271639179341394, 0.11503256341088847, 0.13058337220644853, 0.12218107810313561, 0.12819985304972123, 0.1224338608488541, 0.12804836632163677, 0.13162831711912526, 0.12614353536306666, 0.12801122421345842, 0.1269319589673165, 0.1389249985874985, 0.1381841524873463, 0.13702263856602215, 0.13765161363356263, 0.11621986386982636, 0.11699544343236476, 0.11599244956021251, 0.10991840372174877, 0.11857796868867992, 0.1143900224093628, 0.11639644038257141, 0.11801887978289832, 0.11682586333628167, 0.12091165998919293, 0.11334182151296368, 0.11306463516695128, 0.11535847058208593, 0.11423058158643856, 0.11516638172830204, 0.11511515461814553, 0.11523347790136482, 0.11435167744468752, 0.10799308260831514, 0.10614970216972464, 0.10912676798388676, 0.10739683169665551, 0.10953612331876475, 0.1117812733848913, 0.1088006556315442, 0.10927876652794366, 0.10967065286321726, 0.10611541287565357, 0.10565664385570245, 0.12038659356857492, 0.12092406793979488, 0.12133612163221535, 0.11889116430276442, 0.11890598584009557, 0.11751400671445345, 0.11649510182212372, 0.11729554054873831, 0.11813757813817999, 0.12093318495612901, 0.13408325439488267, 0.13478324761479973, 0.1379498106606353, 0.13621681286433265, 0.13769854594521125, 0.14593979375168373, 0.1255266715016529, 0.1298243599309728, 0.1289372927303855, 0.12921607355726603, 0.12947426099975726, 0.12983365178085693, 0.12964787882262496, 0.12869931903118256, 0.1237337582709977, 0.13163728932395205, 0.1318002667715301, 0.13268024197019573, 0.13170236816869288, 0.13622869944942279, 0.13514424744071943, 0.1325026846639165, 0.1328946249369056, 0.13203338017287514, 0.1326693796059839, 0.1352449400914852, 0.13991693284115755, 0.13883456733785177, 0.138953614334404, 0.14048554065724267, 0.14190269828568253, 0.13861170444857365, 0.1389274910619234, 0.13981800712138143, 0.13912338212957717, 0.13643813925160433, 0.13657131639736814, 0.14217317583216968, 0.14121487098222957, 0.1455153990537809, 0.14555473916286354, 0.1455241746684307, 0.14779856440448325, 0.1882902742089028, 0.1927259368116245, 0.18992496668332678, 0.19643355359905249, 0.19900894171808117, 0.2060100531158051, 0.20969986947538025, 0.2048338517265558, 0.21361298214988209, 0.19737184197185478, 0.1991310100270168, 0.19892649719821462, 0.20328327871463106, 0.19797403320002374, 0.20609984108449322, 0.2076067154862332, 0.21086381942281643, 0.21086639400428933, 0.21250629540088592, 0.21075900366121583, 0.2167487824726068, 0.2240685675977934, 0.21924108922781935, 0.20909696490182042, 0.21379705187067552, 0.21287098703825644, 0.21388704293041658, 0.20982422426767092, 0.2142880017039426, 0.218481885491879, 0.22440921901925934, 0.23972757587789537, 0.24375741818841137, 0.24000414348316282, 0.23818934129811895, 0.24393828067640086, 0.25167580400765743, 0.26251624936400697, 0.27423839933856653, 0.3213180636402412, 0.30806486081653306, 0.3550536553352427, 0.36568134290433185, 0.3752832603468178, 0.35855626786844597, 0.3290806495606573, 0.3242882505604904, 0.3748946118445855, 0.36143495455640007, 0.3602080538182557, 0.34470149706926767, 0.3570465191537009, 0.3642846861581618, 0.3677427509453638, 0.4008710973930928, 0.4080755891152388, 0.40649915528208524, 0.40258859435968875, 0.38123832576534156, 0.3967663837181954, 0.39635793859865687, 0.40662922089730025, 0.3723755612008295, 0.3482444559835256, 0.35287939974433224, 0.35351899702291667, 0.3653422257393515, 0.35974679251717645, 0.34536827000941317, 0.3650448892526055, 0.3593265885438538, 0.3730288814789052, 0.37755044367864266, 0.40373028881286166, 0.41142088448967873, 0.42044440559406526, 0.4397457381227379, 0.42651948548780505, 0.4363307522780555, 0.4516014347061258, 0.4887384886873404, 0.5199435692982988, 0.529585570689804, 0.5379883976677002, 0.581294895413677, 0.6540149473759939, 0.5526207036593271, 0.6150071144228706, 0.587089634427408, 0.5261198106592855, 0.5139867673935941, 0.525980937409978, 0.5879726445489244, 0.5443364643047848, 0.5333466162405848, 0.5502410483176678, 0.5587053964338672, 0.6064609385555834, 0.6234451443934756, 0.5983682896899348, 0.5542975081814535, 0.5779208676128538, 0.5569700458624558, 0.48933047126406526, 0.5260216671432058, 0.44501329171850734, 0.45989374328917665, 0.5139176717715968, 0.507667226132647, 0.5211129643969247, 0.5116223893853435, 0.4981731358223601, 0.47130935202934987, 0.46525631605806517, 0.4720048166063009, 0.4688040939962308, 0.4487469636000403, 0.45216430963688903, 0.4511949346224772, 0.4549256751136297, 0.48295875769486063, 0.4998021816540441, 0.5083369685375525, 0.5247473561563756, 0.5316773637017286, 0.5813724085115123, 0.5629537834682852, 0.5891603382961684, 0.5909189534292709, 0.5845276872533858, 0.5532131351384427, 0.5657189284940001, 0.5571171305716627, 0.5287849674308887, 0.4816694716246641, 0.49632022590431457, 0.49848201012406124, 0.4908229616919172, 0.4965240490547129, 0.5304788923316959, 0.5209481100494427, 0.4863147984262215, 0.4845766135949332, 0.5004098183906062, 0.4855038715879243, 0.48646241508083066, 0.49982896423868206, 0.4890139681792297, 0.46403080247133666, 0.44966879556804973, 0.45497560475133947, 0.455615215057675, 0.4631620542432243, 0.4982869502139273, 0.5108238286466338, 0.5102809021429321, 0.5107922197402867, 0.49577004543463754, 0.5049672780164444, 0.5010317760750008, 0.4962161804586581, 0.48521867264596996, 0.4876580819411701, 0.5009996549807828, 0.4982079779537115, 0.4977448708740757, 0.4954434450723476, 0.49331373989629035, 0.4893351874501276, 0.4880096758873633, 0.49250664105211517, 0.4879467586059526, 0.47784602227690165, 0.48031903894168293, 0.4616062284522344, 0.3940278149593658, 0.39017317553869313, 0.36779582719077153, 0.37509826485085895, 0.3773187136170364, 0.36847033487120984, 0.3815334295188031, 0.3826315492000324, 0.3859096694114136, 0.3777913575830114, 0.37335420631471583, 0.37267310838502643, 0.35788164810978473, 0.3763618380148215, 0.3751935410210958, 0.3971994574411365, 0.3971255155629926, 0.3790114734926926, 0.3827380062220185, 0.3816127042285753, 0.38518564554773915, 0.3749028243840078, 0.36568306414889185, 0.3697908639510711, 0.3628398431394546, 0.3629831276966241, 0.37817878550535344, 0.37693121258838125, 0.3669331132338399, 0.33545069231485025, 0.33261741931875166, 0.4028141063757402, 0.4352352394684704, 0.4518974521932675, 0.4341861065368031, 0.44534143636045587, 0.43107749884280155, 0.4302207187795003, 0.4347569993441278, 0.43855101765193094, 0.4333700536000489, 0.4442869741239789, 0.4396975766487087, 0.44154750483556127, 0.43427855544032434, 0.4095404962417851, 0.4113375203162768, 0.42412050407877455, 0.40726845209890505, 0.4124520359778373, 0.4095128016846157, 0.4026306405762716, 0.39230204035641647, 0.39342125024394203, 0.3940654496131837, 0.37643688846189083, 0.37299553495881244, 0.37115243316940527, 0.3447928585885125, 0.3241789918638308, 0.32673500808097733, 0.30288871305188325, 0.3152486732609986, 0.3179166902032906, 0.3379248550294818, 0.33280732493622744, 0.3510694260615209, 0.33976617666628617, 0.33142174963187054, 0.32639426164227303, 0.32563725767290697, 0.3197818346406377, 0.331168614431509, 0.33898159918366644, 0.3367592302552779, 0.33793228796849717, 0.3285156119949536, 0.32182529512726965, 0.32104631764012825, 0.320319003099915, 0.32356846662560135, 0.3127643859196785, 0.31584515280319003, 0.30326699870214024, 0.28764624428119157, 0.3247896780606314, 0.3177668067262094, 0.31983826762373824, 0.3167580349294541, 0.3371389815184891, 0.3272130964221289, 0.32396294534882497, 0.32073300231881485, 0.3206861470636293, 0.3234519747593265, 0.32681847361706506, 0.331091344454682, 0.3231390945417266, 0.32011173595923803, 0.32055407028693794, 0.3072382168872959, 0.3286520164995599, 0.329083486491647, 0.329490093479721, 0.351910506584326, 0.3742002700902197, 0.3686397518671968, 0.3555939964017658, 0.3766547196120632, 0.366957131474387, 0.3760075096431492, 0.3717870218711514, 0.4117904123978908, 0.41235562171683016, 0.4066312963305224, 0.41727333770959296, 0.4174838669104066, 0.40548128639325975, 0.4020209968047238, 0.40726673690023885, 0.40430955188526285, 0.3886109359569385, 0.39062041898751454, 0.3850420579910784, 0.40042519386401376, 0.41714734984998747, 0.44385722059885613, 0.4393983289694007, 0.4512012338764194, 0.4420427995775492, 0.44398247697086757, 0.44111066891457584, 0.43895043412906853, 0.433197206268336, 0.45665559255046817, 0.4657558971364575, 0.4682769362637945, 0.47269155849857425, 0.48750944486153414, 0.4701766415461085, 0.49130701224806905, 0.4973249870753985, 0.4918096237616618, 0.4979987253227276, 0.473491334186699, 0.4741760071505826, 0.4613893585155364, 0.48775843611626757, 0.45607302323548515, 0.4559961414946837, 0.4605890680051655, 0.4591333482623302, 0.4751572782250182, 0.4594545865610923, 0.4401883984731588, 0.4102883111917649, 0.41197050790515344, 0.40496241451455095, 0.3954767101851605, 0.39572429774521234, 0.41705752844886845, 0.40827417776781316, 0.4081935351407855, 0.4254128872478238, 0.4296835449740408, 0.416069492851175, 0.36749097925825613, 0.361741931838941, 0.35953539086511077, 0.3619252937792562, 0.1843118601592809, 0.2283414561734989, 0.2066548930722847, 0.21671282428066654, 0.19747834962685948, 0.2140954469105216, 0.218174250029832, 0.26207281744290845, 0.26444046892880546, 0.2631941605153093, 0.24283101568007529, 0.27924054794987896, 0.2948854654409683, 0.2911071612398739, 0.2942823636764289, 0.27322766481022254, 0.26603242064134625, 0.24585874925775966, 0.27490630696022444, 0.2758708081850021, 0.28904066275233764, 0.2975164547107344, 0.29431713877731625, 0.3011971454873107, 0.29620940345487123, 0.32794776709358053, 0.32055271645208805, 0.32947490693758574, 0.3252861799359491, 0.3012874273400208, 0.30224222212665897, 0.30367569095161717, 0.29997396067976034, 0.30171667986192185, 0.28774919175476865, 0.3149816355393008, 0.31074285063792983, 0.3232566498703876, 0.3160897003225479, 0.2995044067804784, 0.30028465829463613, 0.3161896985325743, 0.34042053272065764, 0.33758534817366326, 0.3396097728642177, 0.3484217657127969, 0.3528650168454457, 0.351084636001045, 0.40960759409008674, 0.40100373353789576, 0.41218267723709257, 0.4206019203727911, 0.41608236227919737, 0.4148936058410586, 0.42340101785654016, 0.4307267846044025, 0.47752494767225595, 0.4674895534225584, 0.4528255319536242, 0.40681897367693054, 0.3973205866029518, 0.41168957707883813, 0.43943932628811433, 0.46696848905416444, 0.4401841525555643, 0.44364907310888846, 0.46042841801816514, 0.46363430524079374, 0.46580123578846666, 0.45110241235773973, 0.42606830453375566, 0.4316765314540034, 0.4323892398940641, 0.40632720985677595, 0.41647569168969856, 0.41339768335080906, 0.4335482965865407, 0.4546995987110978, 0.44587968439809766, 0.46148534449134604, 0.4477507936158662, 0.4888562994723965, 0.45181723459365186, 0.4599071986054033, 0.4671210123701649, 0.45739663381028806, 0.46028630288732253, 0.4643625357912935, 0.46622958232099343, 0.4659645823339932, 0.4720897743149991, 0.4378219404021716, 0.44840904645597224, 0.449023255093286, 0.441414226493279, 0.44616374036769, 0.4517904263203234, 0.44840242981210177, 0.44401885306141176, 0.43952271385833974, 0.4424991352515444, 0.43897867835898996, 0.46078915178632185, 0.45746706443821994, 0.4389846080600017, 0.43642784544258384, 0.43149935679792495, 0.4228163338741746, 0.4285983066538017, 0.43287861348474943, 0.42987278023770426, 0.43522118896036, 0.42703414818830776, 0.42570722440319586, 0.429757989944368, 0.4263833194944744, 0.4416808745738757, 0.43660460714043037, 0.44691142632145664, 0.4357288193079547, 0.4381833841109828, 0.43538117312358826, 0.4389460324979151, 0.4358753314607835, 0.4366285871149965, 0.4334456462417716, 0.42977021799331394, 0.4310268817100372, 0.43183746020944336, 0.43397204468522355, 0.431261706615367, 0.4439043689597898, 0.4513209404886388, 0.45632962159189716, 0.4526957620225781, 0.4617773178101725, 0.4747071959738458, 0.5365991881289004, 0.5299926014516871, 0.5409508845596898, 0.540829122525552, 0.5542496415918419, 0.5807696038090879, 0.5391396241600978, 0.5478437800262546, 0.5460021551412728, 0.5771319442691589, 0.5783571041363373, 0.5688240771861365, 0.5782209916749119, 0.5737511591914465, 0.5855423048660003, 0.5575956593005383, 0.5672117155742004, 0.579037076990573, 0.5779524890111468, 0.5833558935739652, 0.5865466065836282, 0.6077417532500945, 0.5889334765163686, 0.5776295710170251, 0.5836615275749824, 0.5650526436576245, 0.5729593619801204, 0.5718210748496174, 0.5775886254238526, 0.5535100245252058, 0.5612784717122244, 0.5538195182611463, 0.5647145311668091, 0.5617084180220643, 0.5756284079824927, 0.5719776182673532, 0.5873194426379995, 0.5570473801505923, 0.48758760526790956, 0.5043875390145796, 0.48810263946222343, 0.492692107691464, 0.4996938613725769, 0.48587808094642737, 0.49118792294438973, 0.4979127286619014, 0.5005999740086471, 0.5035709111854951, 0.4973684961597822, 0.5170033515279958, 0.5230760377202718, 0.5326250333592196, 0.5317392478898255, 0.5315003681797709, 0.5396913343245692, 0.5305937317082855, 0.5020540082809575, 0.5085896102489637, 0.49207558551885366, 0.5203258940255918, 0.5174134156934848, 0.5195885743031031, 0.5223743478463108, 0.5180528015082133, 0.5262368995622414, 0.5227958191547376, 0.5138317272794247, 0.5108214345252299, 0.5093174555798851, 0.5163866665616252, 0.5234808437181239, 0.5127196828522508, 0.5165480704354736, 0.5307510540368898, 0.5382354603518125, 0.551762461449414, 0.55595164753713, 0.5651990871940512, 0.5589629505106205, 0.5586938403048897, 0.5634787037288399, 0.5530933119637409, 0.5554295580248938, 0.5636251401443715, 0.5775561974958584, 0.5865937503461331, 0.6362291717517458, 0.6465353686900771, 0.6438701062003934, 0.6544087210068081, 0.6498481047201436, 0.6512206380960542, 0.6839764364106234, 0.6637596352604624, 0.6735488611317054, 0.679809062749856, 0.6930141547201192, 0.6905136328826709, 0.6798645235094783, 0.7056233513125498, 0.7071270295208799]}, {\"mode\": \"lines\", \"name\": \"train_pred\", \"type\": \"scatter\", \"x\": [430, 431, 432, 433, 434, 435, 436, 437, 438, 439, 440, 441, 442, 443, 444, 445, 446, 447, 448, 449, 450, 451, 452, 453, 454, 455, 456, 457, 458, 459, 460, 461, 462, 463, 464, 465, 466, 467, 468, 469, 470, 471, 472, 473, 474, 475, 476, 477, 478, 479, 480, 481, 482, 483, 484, 485, 486, 487, 488, 489, 490, 491, 492, 493, 494, 495, 496, 497, 498, 499, 500, 501, 502, 503, 504, 505, 506, 507, 508, 509, 510, 511, 512, 513, 514, 515, 516, 517, 518, 519, 520, 521, 522, 523, 524, 525, 526, 527, 528, 529, 530, 531, 532, 533, 534, 535, 536, 537, 538, 539, 540, 541, 542, 543, 544, 545, 546, 547, 548, 549, 550, 551, 552, 553, 554, 555, 556, 557, 558, 559, 560, 561, 562, 563, 564, 565, 566, 567, 568, 569, 570, 571, 572, 573, 574, 575, 576, 577, 578, 579, 580, 581, 582, 583, 584, 585, 586, 587, 588, 589, 590, 591, 592, 593, 594, 595, 596, 597, 598, 599, 600, 601, 602, 603, 604, 605, 606, 607, 608, 609, 610, 611, 612, 613, 614, 615, 616, 617, 618, 619, 620, 621, 622, 623, 624, 625, 626, 627, 628, 629, 630, 631, 632, 633, 634, 635, 636, 637, 638, 639, 640, 641, 642, 643, 644, 645, 646, 647, 648, 649, 650, 651, 652, 653, 654, 655, 656, 657, 658, 659, 660, 661, 662, 663, 664, 665, 666, 667, 668, 669, 670, 671, 672, 673, 674, 675, 676, 677, 678, 679, 680, 681, 682, 683, 684, 685, 686, 687, 688, 689, 690, 691, 692, 693, 694, 695, 696, 697, 698, 699, 700, 701, 702, 703, 704, 705, 706, 707, 708, 709, 710, 711, 712, 713, 714, 715, 716, 717, 718, 719, 720, 721, 722, 723, 724, 725, 726, 727, 728, 729, 730, 731, 732, 733, 734, 735, 736, 737, 738, 739, 740, 741, 742, 743, 744, 745, 746, 747, 748, 749, 750, 751, 752, 753, 754, 755, 756, 757, 758, 759, 760, 761, 762, 763, 764, 765, 766, 767, 768, 769, 770, 771, 772, 773, 774, 775, 776, 777, 778, 779, 780, 781, 782, 783, 784, 785, 786, 787, 788, 789, 790, 791, 792, 793, 794, 795, 796, 797, 798, 799, 800, 801, 802, 803, 804, 805, 806, 807, 808, 809, 810, 811, 812, 813, 814, 815, 816, 817, 818, 819, 820, 821, 822, 823, 824, 825, 826, 827, 828, 829, 830, 831, 832, 833, 834, 835, 836, 837, 838, 839, 840, 841, 842, 843, 844, 845, 846, 847, 848, 849, 850, 851, 852, 853, 854, 855, 856, 857, 858, 859, 860, 861, 862, 863, 864, 865, 866, 867, 868, 869, 870, 871, 872, 873, 874, 875, 876, 877, 878, 879, 880, 881, 882, 883, 884, 885, 886, 887, 888, 889, 890, 891, 892, 893, 894, 895, 896, 897, 898, 899, 900, 901, 902, 903, 904, 905, 906, 907, 908, 909, 910, 911, 912, 913, 914, 915, 916, 917, 918, 919, 920, 921, 922, 923, 924, 925, 926, 927, 928, 929, 930, 931, 932, 933, 934, 935, 936, 937, 938, 939, 940, 941, 942, 943, 944, 945, 946, 947, 948, 949, 950, 951, 952, 953, 954, 955, 956, 957, 958, 959, 960, 961, 962, 963, 964, 965, 966, 967, 968, 969, 970, 971, 972, 973, 974, 975, 976, 977, 978, 979, 980, 981, 982, 983, 984, 985, 986, 987, 988, 989, 990, 991, 992, 993, 994, 995, 996, 997, 998, 999, 1000, 1001, 1002, 1003, 1004, 1005, 1006, 1007, 1008, 1009, 1010, 1011, 1012, 1013, 1014, 1015, 1016, 1017, 1018, 1019, 1020, 1021, 1022, 1023, 1024, 1025, 1026, 1027, 1028, 1029, 1030, 1031, 1032, 1033, 1034, 1035, 1036, 1037, 1038, 1039, 1040, 1041, 1042, 1043, 1044, 1045, 1046, 1047, 1048, 1049, 1050, 1051, 1052, 1053, 1054, 1055, 1056, 1057, 1058, 1059, 1060, 1061, 1062, 1063, 1064, 1065, 1066, 1067, 1068, 1069, 1070, 1071, 1072, 1073, 1074, 1075, 1076, 1077, 1078, 1079, 1080, 1081, 1082, 1083, 1084, 1085, 1086, 1087, 1088, 1089, 1090, 1091, 1092, 1093, 1094, 1095, 1096, 1097, 1098, 1099, 1100, 1101, 1102, 1103, 1104, 1105, 1106, 1107, 1108, 1109, 1110, 1111, 1112, 1113, 1114, 1115, 1116, 1117, 1118, 1119, 1120, 1121, 1122, 1123, 1124, 1125, 1126, 1127, 1128, 1129, 1130, 1131, 1132, 1133, 1134, 1135, 1136, 1137, 1138, 1139, 1140, 1141, 1142, 1143, 1144, 1145, 1146, 1147, 1148, 1149, 1150, 1151, 1152, 1153, 1154, 1155, 1156, 1157, 1158, 1159, 1160, 1161, 1162, 1163, 1164, 1165, 1166, 1167, 1168, 1169, 1170, 1171, 1172, 1173, 1174, 1175, 1176, 1177, 1178, 1179, 1180, 1181, 1182, 1183, 1184, 1185, 1186, 1187, 1188, 1189, 1190, 1191, 1192, 1193, 1194, 1195, 1196, 1197, 1198, 1199, 1200, 1201, 1202, 1203, 1204, 1205, 1206, 1207, 1208, 1209, 1210, 1211, 1212, 1213, 1214, 1215, 1216, 1217, 1218, 1219, 1220, 1221, 1222, 1223, 1224, 1225, 1226, 1227, 1228, 1229, 1230, 1231, 1232, 1233, 1234, 1235, 1236, 1237, 1238, 1239, 1240, 1241, 1242, 1243, 1244, 1245, 1246, 1247, 1248, 1249, 1250, 1251, 1252, 1253, 1254, 1255, 1256, 1257, 1258, 1259, 1260, 1261, 1262, 1263, 1264, 1265, 1266, 1267, 1268, 1269, 1270, 1271, 1272, 1273, 1274, 1275, 1276, 1277, 1278, 1279, 1280, 1281, 1282, 1283], \"y\": [0.2917650640010834, 0.29064375162124634, 0.2843494713306427, 0.278402715921402, 0.295888751745224, 0.28864341974258423, 0.27794772386550903, 0.2719328999519348, 0.264214426279068, 0.26640281081199646, 0.2704079747200012, 0.2739497125148773, 0.30014705657958984, 0.328658789396286, 0.34045788645744324, 0.33874276280403137, 0.3263669013977051, 0.3295397460460663, 0.33198636770248413, 0.3590005338191986, 0.38041242957115173, 0.3703174293041229, 0.3640889823436737, 0.37256601452827454, 0.390739768743515, 0.38222992420196533, 0.37750619649887085, 0.35004615783691406, 0.3357766568660736, 0.3591783940792084, 0.32510608434677124, 0.3021414577960968, 0.2981589436531067, 0.283822238445282, 0.3146064579486847, 0.2836935222148895, 0.2654888927936554, 0.257894903421402, 0.26728665828704834, 0.2780068516731262, 0.27201372385025024, 0.25739702582359314, 0.2708224654197693, 0.28139662742614746, 0.28208789229393005, 0.2853369116783142, 0.2529444694519043, 0.27103057503700256, 0.27589282393455505, 0.287725567817688, 0.2877037823200226, 0.28802549839019775, 0.2896893620491028, 0.2977103590965271, 0.3070656359195709, 0.31718188524246216, 0.3085542917251587, 0.30705827474594116, 0.31088414788246155, 0.3246155381202698, 0.33257684111595154, 0.32196366786956787, 0.320630818605423, 0.28890764713287354, 0.28179606795310974, 0.2817109227180481, 0.26247966289520264, 0.25505322217941284, 0.2700001895427704, 0.2802671790122986, 0.2767525315284729, 0.28185394406318665, 0.2775298058986664, 0.2765503525733948, 0.2843446433544159, 0.2720595896244049, 0.27526921033859253, 0.2756190598011017, 0.28211939334869385, 0.29466164112091064, 0.2930905818939209, 0.2913205623626709, 0.2853247821331024, 0.2756139039993286, 0.27820953726768494, 0.2934449315071106, 0.29022425413131714, 0.290263831615448, 0.2884376645088196, 0.2876569628715515, 0.2833766043186188, 0.2816203534603119, 0.2753380239009857, 0.2841150462627411, 0.2899528741836548, 0.2932632863521576, 0.2938060462474823, 0.28727439045906067, 0.284435510635376, 0.26888322830200195, 0.2684479355812073, 0.2727975845336914, 0.275181382894516, 0.2974088191986084, 0.30306437611579895, 0.29618334770202637, 0.2851026654243469, 0.2794339060783386, 0.2839236855506897, 0.2870534360408783, 0.2858365774154663, 0.2871057689189911, 0.29036274552345276, 0.2883126139640808, 0.2838676869869232, 0.2770525813102722, 0.2737799882888794, 0.27052226662635803, 0.27479347586631775, 0.2785973846912384, 0.27829301357269287, 0.2760176956653595, 0.2722214460372925, 0.2772248387336731, 0.27943095564842224, 0.28169870376586914, 0.28393447399139404, 0.2815811336040497, 0.2788560092449188, 0.28022831678390503, 0.27871376276016235, 0.2760474681854248, 0.27653464674949646, 0.24970415234565735, 0.2353476732969284, 0.2321581095457077, 0.2305966019630432, 0.23127490282058716, 0.19776691496372223, 0.16692814230918884, 0.1702711582183838, 0.16372287273406982, 0.15777136385440826, 0.13790316879749298, 0.1471739411354065, 0.13553088903427124, 0.13698315620422363, 0.15217022597789764, 0.153204083442688, 0.14736562967300415, 0.1470717042684555, 0.15085840225219727, 0.1355876922607422, 0.13471361994743347, 0.12855026125907898, 0.1148567944765091, 0.10604551434516907, 0.108559250831604, 0.11388172209262848, 0.11042989790439606, 0.10804776847362518, 0.1061372458934784, 0.10238143801689148, 0.09594811499118805, 0.09469637274742126, 0.09786628186702728, 0.11092056334018707, 0.12101149559020996, 0.12257847189903259, 0.13715797662734985, 0.13175033032894135, 0.1340174525976181, 0.1343667209148407, 0.13985863327980042, 0.12870952486991882, 0.12734174728393555, 0.1192701905965805, 0.12715288996696472, 0.12552271783351898, 0.1272747814655304, 0.12353336811065674, 0.12702247500419617, 0.1317451149225235, 0.12659300863742828, 0.1290721446275711, 0.1255836933851242, 0.13885831832885742, 0.13909268379211426, 0.1386052817106247, 0.13764223456382751, 0.11838437616825104, 0.11608055233955383, 0.11489850282669067, 0.1125665158033371, 0.11928462982177734, 0.11712458729743958, 0.1186191737651825, 0.11522354185581207, 0.11691109836101532, 0.11845968663692474, 0.11395575106143951, 0.11483901739120483, 0.1153123676776886, 0.11657272279262543, 0.11584353446960449, 0.11425630748271942, 0.11553841829299927, 0.11336731910705566, 0.10937908291816711, 0.10677608847618103, 0.10871455073356628, 0.10911716520786285, 0.1099223792552948, 0.11170737445354462, 0.10967202484607697, 0.10846962034702301, 0.10937556624412537, 0.10687574744224548, 0.10578176379203796, 0.11897377669811249, 0.12217612564563751, 0.12227316200733185, 0.1186179369688034, 0.11768282949924469, 0.11690667271614075, 0.1162441074848175, 0.11817148327827454, 0.11884981393814087, 0.12234652042388916, 0.1328553557395935, 0.1352984756231308, 0.137209951877594, 0.1352199763059616, 0.13683241605758667, 0.14468984305858612, 0.12949471175670624, 0.1299128383398056, 0.1282215267419815, 0.13094981014728546, 0.12998834252357483, 0.13006442785263062, 0.13081094622612, 0.12731412053108215, 0.12555372714996338, 0.12966026365756989, 0.1321413367986679, 0.13409076631069183, 0.13222645223140717, 0.13607871532440186, 0.13574224710464478, 0.13221079111099243, 0.13310261070728302, 0.1316584050655365, 0.13343937695026398, 0.13578054308891296, 0.14028309285640717, 0.1397763043642044, 0.1389007419347763, 0.1397884339094162, 0.1414514183998108, 0.1393107771873474, 0.13920287787914276, 0.1403895914554596, 0.14005568623542786, 0.13761082291603088, 0.13656288385391235, 0.14130587875843048, 0.1416495144367218, 0.14566077291965485, 0.14611713588237762, 0.1461324840784073, 0.14754346013069153, 0.18326255679130554, 0.1955765038728714, 0.1943388283252716, 0.19502080976963043, 0.1977367103099823, 0.20560164749622345, 0.21105341613292694, 0.20732851326465607, 0.21210578083992004, 0.2013227641582489, 0.20053352415561676, 0.19821614027023315, 0.20266184210777283, 0.19726169109344482, 0.20556071400642395, 0.21021616458892822, 0.21262887120246887, 0.21264643967151642, 0.2123691290616989, 0.2107992172241211, 0.21628102660179138, 0.22509586811065674, 0.22213105857372284, 0.21187807619571686, 0.2121809422969818, 0.2135900855064392, 0.2141825258731842, 0.21047425270080566, 0.21287766098976135, 0.2187165915966034, 0.22666600346565247, 0.24197617173194885, 0.24596455693244934, 0.24157127737998962, 0.23721304535865784, 0.24397826194763184, 0.25255972146987915, 0.26443180441856384, 0.27646541595458984, 0.3218647241592407, 0.3176669776439667, 0.35695943236351013, 0.36830154061317444, 0.376257061958313, 0.35982948541641235, 0.3278804421424866, 0.32397592067718506, 0.3806157112121582, 0.3428369462490082, 0.3744780123233795, 0.3193630576133728, 0.37225353717803955, 0.36615344882011414, 0.3970918655395508, 0.40969234704971313, 0.38044044375419617, 0.41109099984169006, 0.4119914770126343, 0.4034155011177063, 0.3830967843532562, 0.3955257534980774, 0.3847091794013977, 0.3840794265270233, 0.33840253949165344, 0.37235042452812195, 0.33806896209716797, 0.36754748225212097, 0.33277490735054016, 0.37983325123786926, 0.3617294728755951, 0.3614026606082916, 0.3776726722717285, 0.37057065963745117, 0.4027179777622223, 0.4188709855079651, 0.4329889714717865, 0.44144555926322937, 0.4273013472557068, 0.43809229135513306, 0.4749392867088318, 0.5034153461456299, 0.531064510345459, 0.5264425873756409, 0.5639599561691284, 0.6606998443603516, 0.5720458030700684, 0.6322965621948242, 0.6276350021362305, 0.5425829887390137, 0.4918333888053894, 0.5189805030822754, 0.5943948030471802, 0.5540134906768799, 0.5354962348937988, 0.5562800168991089, 0.578927218914032, 0.6423356533050537, 0.6358105540275574, 0.5885148048400879, 0.5485983490943909, 0.5740129351615906, 0.5824991464614868, 0.49724000692367554, 0.5166123509407043, 0.44080471992492676, 0.46176567673683167, 0.5131330490112305, 0.5067393779754639, 0.5055236220359802, 0.5089192390441895, 0.5057332515716553, 0.4893895387649536, 0.48415279388427734, 0.48287054896354675, 0.477920800447464, 0.4550434947013855, 0.4589105248451233, 0.4477555751800537, 0.4608273208141327, 0.4853302538394928, 0.49520260095596313, 0.5172626972198486, 0.5147590637207031, 0.5366400480270386, 0.5534052848815918, 0.5682573318481445, 0.5795974731445312, 0.5885252952575684, 0.5889214873313904, 0.5740604400634766, 0.55452960729599, 0.5329412221908569, 0.5317563414573669, 0.511332094669342, 0.5014073252677917, 0.4901522994041443, 0.4730848968029022, 0.5062191486358643, 0.5195021629333496, 0.5304653644561768, 0.4974975883960724, 0.49363479018211365, 0.493064820766449, 0.48664945363998413, 0.4876682758331299, 0.4936125576496124, 0.49973320960998535, 0.4849511384963989, 0.4470425844192505, 0.44375497102737427, 0.4620237350463867, 0.4693760871887207, 0.46446412801742554, 0.4889778196811676, 0.5085822939872742, 0.5099999308586121, 0.4972273111343384, 0.49503621459007263, 0.523845911026001, 0.49155503511428833, 0.47800108790397644, 0.4945307672023773, 0.48949378728866577, 0.49032264947891235, 0.4885839819908142, 0.5016399621963501, 0.49640321731567383, 0.49550798535346985, 0.4877956509590149, 0.49262452125549316, 0.4953925907611847, 0.4906209707260132, 0.47334668040275574, 0.47146719694137573, 0.4462834596633911, 0.3866158127784729, 0.3704691231250763, 0.37526917457580566, 0.3812999129295349, 0.38337552547454834, 0.3758449852466583, 0.3883337080478668, 0.39239951968193054, 0.36630281805992126, 0.359871506690979, 0.3696834444999695, 0.373163640499115, 0.3749697506427765, 0.3853277862071991, 0.38623127341270447, 0.3929525315761566, 0.4119696617126465, 0.39072075486183167, 0.38864317536354065, 0.3847590982913971, 0.3890017569065094, 0.37612059712409973, 0.36514732241630554, 0.3601626455783844, 0.3607054352760315, 0.3579399287700653, 0.3760327100753784, 0.3691285252571106, 0.36054566502571106, 0.3599685728549957, 0.3631102740764618, 0.41127967834472656, 0.42888155579566956, 0.4478430151939392, 0.4277727007865906, 0.4248165488243103, 0.43430644273757935, 0.4429653286933899, 0.449811190366745, 0.42651277780532837, 0.4252268671989441, 0.4433404803276062, 0.4393593668937683, 0.4434735178947449, 0.42099806666374207, 0.41958242654800415, 0.4063091278076172, 0.4039130210876465, 0.417977511882782, 0.41058507561683655, 0.4096876382827759, 0.4019802212715149, 0.3848339319229126, 0.3896247148513794, 0.39364093542099, 0.383650004863739, 0.36765056848526, 0.36219334602355957, 0.34932228922843933, 0.32213056087493896, 0.3132110834121704, 0.29810819029808044, 0.3146880567073822, 0.31789058446884155, 0.3475247323513031, 0.3460667133331299, 0.3408616781234741, 0.3369923233985901, 0.33291640877723694, 0.3240887224674225, 0.3283889591693878, 0.3142242431640625, 0.34349164366722107, 0.3271055221557617, 0.3489161431789398, 0.3348146080970764, 0.3146537244319916, 0.3308836817741394, 0.31710803508758545, 0.32926881313323975, 0.3276628851890564, 0.31654757261276245, 0.31063348054885864, 0.30170661211013794, 0.28924617171287537, 0.32372456789016724, 0.3181408643722534, 0.3218145966529846, 0.31602275371551514, 0.3308930993080139, 0.3429116904735565, 0.3334052860736847, 0.31307995319366455, 0.3107873797416687, 0.3201790452003479, 0.33807462453842163, 0.3419237434864044, 0.32412242889404297, 0.30428022146224976, 0.31861159205436707, 0.3090059161186218, 0.3310415744781494, 0.3233346939086914, 0.32933613657951355, 0.3508165180683136, 0.3852991759777069, 0.3801478445529938, 0.35721325874328613, 0.36509615182876587, 0.36721470952033997, 0.3685019314289093, 0.39078134298324585, 0.4216391146183014, 0.38977909088134766, 0.4185635447502136, 0.40279945731163025, 0.42144542932510376, 0.4157702922821045, 0.3890738785266876, 0.42830201983451843, 0.3802352249622345, 0.40230292081832886, 0.3675978183746338, 0.4076448678970337, 0.3986208438873291, 0.4382486641407013, 0.43727433681488037, 0.4484615623950958, 0.44339776039123535, 0.4314243793487549, 0.4458034336566925, 0.4463754892349243, 0.4269859194755554, 0.43750929832458496, 0.4550800323486328, 0.47035014629364014, 0.4851878881454468, 0.48337411880493164, 0.4749579429626465, 0.4915907382965088, 0.493028461933136, 0.495871901512146, 0.49068373441696167, 0.49664098024368286, 0.45634791254997253, 0.4982566237449646, 0.49014750123023987, 0.470447301864624, 0.45991531014442444, 0.44858014583587646, 0.4542539715766907, 0.4790158271789551, 0.46536701917648315, 0.4576309323310852, 0.4287794828414917, 0.4153752326965332, 0.39872539043426514, 0.39621657133102417, 0.39916956424713135, 0.4086671769618988, 0.41521769762039185, 0.41874992847442627, 0.42520245909690857, 0.41815656423568726, 0.41883522272109985, 0.39627259969711304, 0.3680800795555115, 0.3623480796813965, 0.3837062120437622, 0.2890777587890625, 0.19386154413223267, 0.18558242917060852, 0.2119615375995636, 0.22466424107551575, 0.21443426609039307, 0.2107902616262436, 0.24724003672599792, 0.2489100843667984, 0.27045902609825134, 0.2413383573293686, 0.27914196252822876, 0.29235172271728516, 0.2944695055484772, 0.29450851678848267, 0.2668994665145874, 0.2713029980659485, 0.25652918219566345, 0.26094481348991394, 0.27291586995124817, 0.28039321303367615, 0.29019901156425476, 0.30165398120880127, 0.29614219069480896, 0.3018527328968048, 0.29863977432250977, 0.3219386339187622, 0.32402661442756653, 0.33335089683532715, 0.3266306519508362, 0.2959608733654022, 0.29801419377326965, 0.2999933362007141, 0.3027139902114868, 0.29805848002433777, 0.29697248339653015, 0.3202376663684845, 0.3181544542312622, 0.330114483833313, 0.3058885633945465, 0.29539161920547485, 0.29112306237220764, 0.32569169998168945, 0.34349557757377625, 0.3415340185165405, 0.33389902114868164, 0.33533158898353577, 0.3626142144203186, 0.36746838688850403, 0.41882917284965515, 0.3922930359840393, 0.4059257507324219, 0.4252992868423462, 0.43351107835769653, 0.4210829734802246, 0.4327225089073181, 0.4388706684112549, 0.47339847683906555, 0.4715009927749634, 0.4246758818626404, 0.40009406208992004, 0.3891042470932007, 0.429914265871048, 0.4777597188949585, 0.43939605355262756, 0.46530067920684814, 0.46301931142807007, 0.461250901222229, 0.4740455746650696, 0.46739426255226135, 0.4629848003387451, 0.4118444323539734, 0.3822352886199951, 0.4182139039039612, 0.39744362235069275, 0.42178869247436523, 0.45344170928001404, 0.45271098613739014, 0.45442062616348267, 0.44133836030960083, 0.44371917843818665, 0.46306344866752625, 0.4661298394203186, 0.46142855286598206, 0.4577524662017822, 0.457681268453598, 0.4586753249168396, 0.4507863521575928, 0.47941911220550537, 0.47552627325057983, 0.46431028842926025, 0.4637724459171295, 0.4353789985179901, 0.4383743703365326, 0.45317578315734863, 0.46348655223846436, 0.44260233640670776, 0.4431615471839905, 0.4343627095222473, 0.4514046311378479, 0.4332742989063263, 0.4389265775680542, 0.45765921473503113, 0.46425771713256836, 0.45233088731765747, 0.4342968463897705, 0.4269404113292694, 0.4271531403064728, 0.428945928812027, 0.4377264976501465, 0.4339585602283478, 0.4158976674079895, 0.4279325604438782, 0.4230138063430786, 0.4302126169204712, 0.4381859302520752, 0.4328811466693878, 0.4355061948299408, 0.43430185317993164, 0.43787693977355957, 0.4365270733833313, 0.44276630878448486, 0.4442833960056305, 0.43743377923965454, 0.43070515990257263, 0.429792195558548, 0.4311130940914154, 0.42992112040519714, 0.43145951628685, 0.43623536825180054, 0.43984949588775635, 0.4349319040775299, 0.4425020217895508, 0.448760449886322, 0.45586204528808594, 0.4541088342666626, 0.46459510922431946, 0.48690298199653625, 0.547451913356781, 0.5399609804153442, 0.5446449518203735, 0.556303858757019, 0.5958557724952698, 0.5725808143615723, 0.5494867563247681, 0.5543731451034546, 0.5690627098083496, 0.5776205658912659, 0.5881810188293457, 0.5704714059829712, 0.5690402984619141, 0.5777990818023682, 0.5696377754211426, 0.5803727507591248, 0.5743491649627686, 0.5731803178787231, 0.568163275718689, 0.593300998210907, 0.6031219959259033, 0.587855875492096, 0.5845162868499756, 0.5787332057952881, 0.5806955099105835, 0.5881043672561646, 0.5790519118309021, 0.5744474530220032, 0.5677233934402466, 0.5658094882965088, 0.5619714856147766, 0.5603865385055542, 0.5590034127235413, 0.574590802192688, 0.5806400775909424, 0.5840502977371216, 0.5755471587181091, 0.5653741359710693, 0.46824875473976135, 0.4933527708053589, 0.4815637469291687, 0.47888320684432983, 0.5169284343719482, 0.522136926651001, 0.4657739996910095, 0.5065086483955383, 0.5396195650100708, 0.5009905099868774, 0.4644656181335449, 0.49125221371650696, 0.5471117496490479, 0.5226320028305054, 0.5356449484825134, 0.5442419648170471, 0.5292648077011108, 0.5326303243637085, 0.514137864112854, 0.5136750340461731, 0.46612197160720825, 0.49144285917282104, 0.5323030352592468, 0.5191464424133301, 0.5300439596176147, 0.5189039707183838, 0.4966890811920166, 0.5304950475692749, 0.5134693384170532, 0.5039451122283936, 0.5175930857658386, 0.4813968539237976, 0.5035719275474548, 0.527984619140625, 0.530362606048584, 0.5278667211532593, 0.5297690629959106, 0.55808025598526, 0.5715343952178955, 0.56671142578125, 0.5560054779052734, 0.5603476762771606, 0.5578016042709351, 0.5381414890289307, 0.5553097128868103, 0.5766465067863464, 0.5664119124412537, 0.5742337107658386, 0.6360558271408081, 0.6480656862258911, 0.6380252242088318, 0.6541199088096619, 0.6646982431411743, 0.6154366731643677, 0.6613998413085938, 0.6731604933738708, 0.6740444898605347, 0.7014249563217163, 0.6842454671859741, 0.6556949019432068, 0.6727069020271301, 0.6805969476699829]}, {\"mode\": \"lines\", \"name\": \"test_pred\", \"type\": \"scatter\", \"x\": [64, 65, 66, 67, 68, 69, 70, 71, 72, 73, 74, 75, 76, 77, 78, 79, 80, 81, 82, 83, 84, 85, 86, 87, 88, 89, 90, 91, 92, 93, 94, 95, 96, 97, 98, 99, 100, 101, 102, 103, 104, 105, 106, 107, 108, 109, 110, 111, 112, 113, 114, 115, 116, 117, 118, 119, 120, 121, 122, 123, 124, 125, 126, 127, 128, 129, 130, 131, 132, 133, 134, 135, 136, 137, 138, 139, 140, 141, 142, 143, 144, 145, 146, 147, 148, 149, 150, 151, 152, 153, 154, 155, 156, 157, 158, 159, 160, 161, 162, 163, 164, 165, 166, 167, 168, 169, 170, 171, 172, 173, 174, 175, 176, 177, 178, 179, 180, 181, 182, 183, 184, 185, 186, 187, 188, 189, 190, 191, 192, 193, 194, 195, 196, 197, 198, 199, 200, 201, 202, 203, 204, 205, 206, 207, 208, 209, 210, 211, 212, 213, 214, 215, 216, 217, 218, 219, 220, 221, 222, 223, 224, 225, 226, 227, 228, 229, 230, 231, 232, 233, 234, 235, 236, 237, 238, 239, 240, 241, 242, 243, 244, 245, 246, 247, 248, 249, 250, 251, 252, 253, 254, 255, 256, 257, 258, 259, 260, 261, 262, 263, 264, 265, 266, 267, 268, 269, 270, 271, 272, 273, 274, 275, 276, 277, 278, 279, 280, 281, 282, 283, 284, 285, 286, 287, 288, 289, 290, 291, 292, 293, 294, 295, 296, 297, 298, 299, 300, 301, 302, 303, 304, 305, 306, 307, 308, 309, 310, 311, 312, 313, 314, 315, 316, 317, 318, 319, 320, 321, 322, 323, 324, 325, 326, 327, 328, 329, 330, 331, 332, 333, 334, 335, 336, 337, 338, 339, 340, 341, 342, 343, 344, 345, 346, 347, 348, 349, 350, 351, 352, 353, 354, 355, 356, 357, 358, 359, 360, 361, 362, 363, 364, 365, 366, 367, 368, 369, 370, 371, 372, 373, 374, 375, 376, 377, 378, 379, 380, 381, 382, 383, 384, 385, 386, 387, 388, 389, 390, 391, 392, 393, 394, 395, 396, 397, 398, 399, 400, 401, 402, 403, 404, 405, 406, 407, 408, 409, 410, 411, 412, 413, 414, 415, 416, 417, 418, 419, 420, 421, 422, 423, 424, 425, 426, 427, 428, 429], \"y\": [0.05578893423080444, 0.06132671236991882, 0.060333311557769775, 0.059197038412094116, 0.05385562777519226, 0.05577695369720459, 0.054107874631881714, 0.04668545722961426, 0.04437309503555298, 0.04897451400756836, 0.0479733943939209, 0.04007190465927124, 0.027384251356124878, 0.02362164855003357, 0.03871387243270874, 0.04560732841491699, 0.04343327879905701, 0.0685465931892395, 0.06393477320671082, 0.06984955072402954, 0.06448885798454285, 0.06821727752685547, 0.059766948223114014, 0.05652892589569092, 0.0669269859790802, 0.07087993621826172, 0.07135528326034546, 0.06655856966972351, 0.07312721014022827, 0.0680273175239563, 0.06508830189704895, 0.07087457180023193, 0.07554283738136292, 0.09576952457427979, 0.09672518074512482, 0.10346758365631104, 0.10322976112365723, 0.10069544613361359, 0.10442039370536804, 0.11642655730247498, 0.12771940231323242, 0.1402859389781952, 0.15103307366371155, 0.14836138486862183, 0.15734809637069702, 0.15463626384735107, 0.1449567675590515, 0.1459469497203827, 0.1444651037454605, 0.14254522323608398, 0.1442503035068512, 0.14929915964603424, 0.15579479932785034, 0.15925288200378418, 0.15971451997756958, 0.1569088250398636, 0.1605708748102188, 0.17208285629749298, 0.1741795688867569, 0.18191085755825043, 0.18998636305332184, 0.17306441068649292, 0.1708681583404541, 0.152616947889328, 0.15834321081638336, 0.17058014869689941, 0.17865565419197083, 0.1655428111553192, 0.1536751091480255, 0.153482586145401, 0.1472993791103363, 0.14783023297786713, 0.13371329009532928, 0.10303902626037598, 0.1198713630437851, 0.12619367241859436, 0.12362146377563477, 0.140730082988739, 0.13534708321094513, 0.13226990401744843, 0.11645516753196716, 0.11626680195331573, 0.1239834874868393, 0.12378150224685669, 0.13892129063606262, 0.1334950029850006, 0.15097442269325256, 0.14770925045013428, 0.1485690474510193, 0.15742291510105133, 0.16167813539505005, 0.16572082042694092, 0.1589967906475067, 0.15363021194934845, 0.1560342013835907, 0.15967632830142975, 0.16490930318832397, 0.17331521213054657, 0.1847132295370102, 0.1858910620212555, 0.18603289127349854, 0.21736696362495422, 0.23402799665927887, 0.24673306941986084, 0.24109017848968506, 0.2376852035522461, 0.23218166828155518, 0.22919459640979767, 0.23397374153137207, 0.249114528298378, 0.25661832094192505, 0.25672879815101624, 0.24855025112628937, 0.22530850768089294, 0.23076586425304413, 0.24271893501281738, 0.23878374695777893, 0.24224182963371277, 0.26218104362487793, 0.270443856716156, 0.27812811732292175, 0.29557883739471436, 0.30854007601737976, 0.3148091733455658, 0.3359634578227997, 0.3345867395401001, 0.3118436336517334, 0.3117257356643677, 0.3289700746536255, 0.30309730768203735, 0.27989739179611206, 0.24853041768074036, 0.2507145404815674, 0.27595701813697815, 0.2990560829639435, 0.34015464782714844, 0.3551304042339325, 0.3462551534175873, 0.3608766198158264, 0.37377020716667175, 0.39055365324020386, 0.357860803604126, 0.3815818727016449, 0.35520070791244507, 0.39558395743370056, 0.4181782901287079, 0.45294082164764404, 0.4697684049606323, 0.4525429904460907, 0.46124911308288574, 0.4860609173774719, 0.5363203883171082, 0.5570080280303955, 0.5914251208305359, 0.5855222940444946, 0.6434804797172546, 0.798869788646698, 0.8250637054443359, 0.7516774535179138, 0.7905787825584412, 0.8703045845031738, 0.8436099886894226, 0.8538825511932373, 0.8146519660949707, 0.9010495543479919, 1.0076439380645752, 0.9937794208526611, 0.9756869673728943, 0.9005706310272217, 0.836365818977356, 0.7746793031692505, 0.6592776775360107, 0.6925719976425171, 0.6725763082504272, 0.6790961623191833, 0.7887755632400513, 0.7785763144493103, 0.7309547662734985, 0.740484356880188, 0.6182761192321777, 0.7038275003433228, 0.6640633344650269, 0.7475687265396118, 0.7448829412460327, 0.7601143717765808, 0.8660770654678345, 0.8821524381637573, 0.8221930265426636, 0.7720171213150024, 0.7199798822402954, 0.7511509656906128, 0.6544981002807617, 0.6992214322090149, 0.7187254428863525, 0.6878698468208313, 0.6930153369903564, 0.5605424046516418, 0.5521748661994934, 0.5491510033607483, 0.5646055936813354, 0.6129162907600403, 0.5477162599563599, 0.5206950306892395, 0.5270746350288391, 0.5658867359161377, 0.5555932521820068, 0.5378789901733398, 0.5648165941238403, 0.579289436340332, 0.546500027179718, 0.5067347288131714, 0.5048924088478088, 0.45632898807525635, 0.421609491109848, 0.4293425381183624, 0.3792453706264496, 0.33815309405326843, 0.365348219871521, 0.344707727432251, 0.3871673047542572, 0.3905383348464966, 0.4020516276359558, 0.3624836504459381, 0.43509751558303833, 0.40345391631126404, 0.4400714635848999, 0.48237496614456177, 0.4875883162021637, 0.528741717338562, 0.505352795124054, 0.5349700450897217, 0.5300400257110596, 0.5465340614318848, 0.4580136835575104, 0.48251622915267944, 0.46134382486343384, 0.45115017890930176, 0.4861399531364441, 0.5011557936668396, 0.5164446830749512, 0.5362217426300049, 0.5405675172805786, 0.5350460410118103, 0.5935124158859253, 0.5547295808792114, 0.539192795753479, 0.5109419226646423, 0.4482324421405792, 0.42950549721717834, 0.40946489572525024, 0.43493029475212097, 0.42403697967529297, 0.44078323245048523, 0.41713187098503113, 0.39443936944007874, 0.3714449107646942, 0.389893114566803, 0.37227925658226013, 0.37917232513427734, 0.41019776463508606, 0.450277179479599, 0.40438923239707947, 0.40167316794395447, 0.40024539828300476, 0.4004715383052826, 0.3754022717475891, 0.3561428487300873, 0.3882043957710266, 0.3405357003211975, 0.31204694509506226, 0.2892358899116516, 0.2995157539844513, 0.3111666440963745, 0.3212170898914337, 0.33193647861480713, 0.3034105598926544, 0.2939339578151703, 0.29827433824539185, 0.31020304560661316, 0.2909187972545624, 0.2999991476535797, 0.30487996339797974, 0.3303881883621216, 0.36461198329925537, 0.3666192591190338, 0.37093377113342285, 0.36555418372154236, 0.3619042932987213, 0.37015897035598755, 0.3917306661605835, 0.4123039245605469, 0.3982565701007843, 0.42071542143821716, 0.41919711232185364, 0.4620188772678375, 0.4543069303035736, 0.44214367866516113, 0.39919313788414, 0.39991796016693115, 0.44016140699386597, 0.44953715801239014, 0.4326391816139221, 0.46533507108688354, 0.45035016536712646, 0.4687851369380951, 0.47602391242980957, 0.4493422508239746, 0.4409233331680298, 0.4539111852645874, 0.42350104451179504, 0.43906038999557495, 0.42584770917892456, 0.4170474708080292, 0.3765466809272766, 0.3807390630245209, 0.3975583612918854, 0.40229713916778564, 0.37427830696105957, 0.3844746947288513, 0.3949519693851471, 0.3911193907260895, 0.38225996494293213, 0.3600674271583557, 0.35398420691490173, 0.34110382199287415, 0.36682575941085815, 0.33113208413124084, 0.3258281350135803, 0.30870768427848816, 0.3263941705226898, 0.3237455487251282, 0.3418613374233246, 0.34707391262054443, 0.34209558367729187, 0.34038281440734863, 0.3472801744937897, 0.34144312143325806, 0.34311825037002563, 0.35151511430740356, 0.3485211133956909, 0.3410474956035614, 0.33233919739723206, 0.2859644591808319, 0.29300373792648315, 0.2789951264858246, 0.2727563679218292, 0.2894884943962097, 0.28221726417541504, 0.2903621792793274, 0.27429574728012085, 0.29564952850341797, 0.2919202148914337, 0.30510270595550537, 0.2903275787830353, 0.2611435353755951, 0.2572515904903412, 0.25611624121665955, 0.2637632489204407, 0.2552598714828491, 0.2396010160446167, 0.26198703050613403, 0.2612496018409729, 0.2890275716781616, 0.27552151679992676, 0.28426188230514526, 0.281253844499588]}, {\"mode\": \"lines\", \"name\": \"after_pred\", \"type\": \"scatter\", \"x\": [1284, 1285, 1286, 1287, 1288, 1289, 1290, 1291, 1292, 1293], \"y\": [0.7140358090400696, 0.726049542427063, 0.7244617342948914, 0.7230468392372131, 0.7035704851150513, 0.7007063627243042, 0.6897532939910889, 0.6873629093170166, 0.6882165670394897, 0.6902101635932922]}],\n",
              "                        {\"template\": {\"data\": {\"bar\": [{\"error_x\": {\"color\": \"#2a3f5f\"}, \"error_y\": {\"color\": \"#2a3f5f\"}, \"marker\": {\"line\": {\"color\": \"#E5ECF6\", \"width\": 0.5}}, \"type\": \"bar\"}], \"barpolar\": [{\"marker\": {\"line\": {\"color\": \"#E5ECF6\", \"width\": 0.5}}, \"type\": \"barpolar\"}], \"carpet\": [{\"aaxis\": {\"endlinecolor\": \"#2a3f5f\", \"gridcolor\": \"white\", \"linecolor\": \"white\", \"minorgridcolor\": \"white\", \"startlinecolor\": \"#2a3f5f\"}, \"baxis\": {\"endlinecolor\": \"#2a3f5f\", \"gridcolor\": \"white\", \"linecolor\": \"white\", \"minorgridcolor\": \"white\", \"startlinecolor\": \"#2a3f5f\"}, \"type\": \"carpet\"}], \"choropleth\": [{\"colorbar\": {\"outlinewidth\": 0, \"ticks\": \"\"}, \"type\": \"choropleth\"}], \"contour\": [{\"colorbar\": {\"outlinewidth\": 0, \"ticks\": \"\"}, \"colorscale\": [[0.0, \"#0d0887\"], [0.1111111111111111, \"#46039f\"], [0.2222222222222222, \"#7201a8\"], [0.3333333333333333, \"#9c179e\"], [0.4444444444444444, \"#bd3786\"], [0.5555555555555556, \"#d8576b\"], [0.6666666666666666, \"#ed7953\"], [0.7777777777777778, \"#fb9f3a\"], [0.8888888888888888, \"#fdca26\"], [1.0, \"#f0f921\"]], \"type\": \"contour\"}], \"contourcarpet\": [{\"colorbar\": {\"outlinewidth\": 0, \"ticks\": \"\"}, \"type\": \"contourcarpet\"}], \"heatmap\": [{\"colorbar\": {\"outlinewidth\": 0, \"ticks\": \"\"}, \"colorscale\": [[0.0, \"#0d0887\"], [0.1111111111111111, \"#46039f\"], [0.2222222222222222, \"#7201a8\"], [0.3333333333333333, \"#9c179e\"], [0.4444444444444444, \"#bd3786\"], [0.5555555555555556, \"#d8576b\"], [0.6666666666666666, \"#ed7953\"], [0.7777777777777778, \"#fb9f3a\"], [0.8888888888888888, \"#fdca26\"], [1.0, \"#f0f921\"]], \"type\": \"heatmap\"}], \"heatmapgl\": [{\"colorbar\": {\"outlinewidth\": 0, \"ticks\": \"\"}, \"colorscale\": [[0.0, \"#0d0887\"], [0.1111111111111111, \"#46039f\"], [0.2222222222222222, \"#7201a8\"], [0.3333333333333333, \"#9c179e\"], [0.4444444444444444, \"#bd3786\"], [0.5555555555555556, \"#d8576b\"], [0.6666666666666666, \"#ed7953\"], [0.7777777777777778, \"#fb9f3a\"], [0.8888888888888888, \"#fdca26\"], [1.0, \"#f0f921\"]], \"type\": \"heatmapgl\"}], \"histogram\": [{\"marker\": {\"colorbar\": {\"outlinewidth\": 0, \"ticks\": \"\"}}, \"type\": \"histogram\"}], \"histogram2d\": [{\"colorbar\": {\"outlinewidth\": 0, \"ticks\": \"\"}, \"colorscale\": [[0.0, \"#0d0887\"], [0.1111111111111111, \"#46039f\"], [0.2222222222222222, \"#7201a8\"], [0.3333333333333333, \"#9c179e\"], [0.4444444444444444, \"#bd3786\"], [0.5555555555555556, \"#d8576b\"], [0.6666666666666666, \"#ed7953\"], [0.7777777777777778, \"#fb9f3a\"], [0.8888888888888888, \"#fdca26\"], [1.0, \"#f0f921\"]], \"type\": \"histogram2d\"}], \"histogram2dcontour\": [{\"colorbar\": {\"outlinewidth\": 0, \"ticks\": \"\"}, \"colorscale\": [[0.0, \"#0d0887\"], [0.1111111111111111, \"#46039f\"], [0.2222222222222222, \"#7201a8\"], [0.3333333333333333, \"#9c179e\"], [0.4444444444444444, \"#bd3786\"], [0.5555555555555556, \"#d8576b\"], [0.6666666666666666, \"#ed7953\"], [0.7777777777777778, \"#fb9f3a\"], [0.8888888888888888, \"#fdca26\"], [1.0, \"#f0f921\"]], \"type\": \"histogram2dcontour\"}], \"mesh3d\": [{\"colorbar\": {\"outlinewidth\": 0, \"ticks\": \"\"}, \"type\": \"mesh3d\"}], \"parcoords\": [{\"line\": {\"colorbar\": {\"outlinewidth\": 0, \"ticks\": \"\"}}, \"type\": \"parcoords\"}], \"pie\": [{\"automargin\": true, \"type\": \"pie\"}], \"scatter\": [{\"marker\": {\"colorbar\": {\"outlinewidth\": 0, \"ticks\": \"\"}}, \"type\": \"scatter\"}], \"scatter3d\": [{\"line\": {\"colorbar\": {\"outlinewidth\": 0, \"ticks\": \"\"}}, \"marker\": {\"colorbar\": {\"outlinewidth\": 0, \"ticks\": \"\"}}, \"type\": \"scatter3d\"}], \"scattercarpet\": [{\"marker\": {\"colorbar\": {\"outlinewidth\": 0, \"ticks\": \"\"}}, \"type\": \"scattercarpet\"}], \"scattergeo\": [{\"marker\": {\"colorbar\": {\"outlinewidth\": 0, \"ticks\": \"\"}}, \"type\": \"scattergeo\"}], \"scattergl\": [{\"marker\": {\"colorbar\": {\"outlinewidth\": 0, \"ticks\": \"\"}}, \"type\": \"scattergl\"}], \"scattermapbox\": [{\"marker\": {\"colorbar\": {\"outlinewidth\": 0, \"ticks\": \"\"}}, \"type\": \"scattermapbox\"}], \"scatterpolar\": [{\"marker\": {\"colorbar\": {\"outlinewidth\": 0, \"ticks\": \"\"}}, \"type\": \"scatterpolar\"}], \"scatterpolargl\": [{\"marker\": {\"colorbar\": {\"outlinewidth\": 0, \"ticks\": \"\"}}, \"type\": \"scatterpolargl\"}], \"scatterternary\": [{\"marker\": {\"colorbar\": {\"outlinewidth\": 0, \"ticks\": \"\"}}, \"type\": \"scatterternary\"}], \"surface\": [{\"colorbar\": {\"outlinewidth\": 0, \"ticks\": \"\"}, \"colorscale\": [[0.0, \"#0d0887\"], [0.1111111111111111, \"#46039f\"], [0.2222222222222222, \"#7201a8\"], [0.3333333333333333, \"#9c179e\"], [0.4444444444444444, \"#bd3786\"], [0.5555555555555556, \"#d8576b\"], [0.6666666666666666, \"#ed7953\"], [0.7777777777777778, \"#fb9f3a\"], [0.8888888888888888, \"#fdca26\"], [1.0, \"#f0f921\"]], \"type\": \"surface\"}], \"table\": [{\"cells\": {\"fill\": {\"color\": \"#EBF0F8\"}, \"line\": {\"color\": \"white\"}}, \"header\": {\"fill\": {\"color\": \"#C8D4E3\"}, \"line\": {\"color\": \"white\"}}, \"type\": \"table\"}]}, \"layout\": {\"annotationdefaults\": {\"arrowcolor\": \"#2a3f5f\", \"arrowhead\": 0, \"arrowwidth\": 1}, \"coloraxis\": {\"colorbar\": {\"outlinewidth\": 0, \"ticks\": \"\"}}, \"colorscale\": {\"diverging\": [[0, \"#8e0152\"], [0.1, \"#c51b7d\"], [0.2, \"#de77ae\"], [0.3, \"#f1b6da\"], [0.4, \"#fde0ef\"], [0.5, \"#f7f7f7\"], [0.6, \"#e6f5d0\"], [0.7, \"#b8e186\"], [0.8, \"#7fbc41\"], [0.9, \"#4d9221\"], [1, \"#276419\"]], \"sequential\": [[0.0, \"#0d0887\"], [0.1111111111111111, \"#46039f\"], [0.2222222222222222, \"#7201a8\"], [0.3333333333333333, \"#9c179e\"], [0.4444444444444444, \"#bd3786\"], [0.5555555555555556, \"#d8576b\"], [0.6666666666666666, \"#ed7953\"], [0.7777777777777778, \"#fb9f3a\"], [0.8888888888888888, \"#fdca26\"], [1.0, \"#f0f921\"]], \"sequentialminus\": [[0.0, \"#0d0887\"], [0.1111111111111111, \"#46039f\"], [0.2222222222222222, \"#7201a8\"], [0.3333333333333333, \"#9c179e\"], [0.4444444444444444, \"#bd3786\"], [0.5555555555555556, \"#d8576b\"], [0.6666666666666666, \"#ed7953\"], [0.7777777777777778, \"#fb9f3a\"], [0.8888888888888888, \"#fdca26\"], [1.0, \"#f0f921\"]]}, \"colorway\": [\"#636efa\", \"#EF553B\", \"#00cc96\", \"#ab63fa\", \"#FFA15A\", \"#19d3f3\", \"#FF6692\", \"#B6E880\", \"#FF97FF\", \"#FECB52\"], \"font\": {\"color\": \"#2a3f5f\"}, \"geo\": {\"bgcolor\": \"white\", \"lakecolor\": \"white\", \"landcolor\": \"#E5ECF6\", \"showlakes\": true, \"showland\": true, \"subunitcolor\": \"white\"}, \"hoverlabel\": {\"align\": \"left\"}, \"hovermode\": \"closest\", \"mapbox\": {\"style\": \"light\"}, \"paper_bgcolor\": \"white\", \"plot_bgcolor\": \"#E5ECF6\", \"polar\": {\"angularaxis\": {\"gridcolor\": \"white\", \"linecolor\": \"white\", \"ticks\": \"\"}, \"bgcolor\": \"#E5ECF6\", \"radialaxis\": {\"gridcolor\": \"white\", \"linecolor\": \"white\", \"ticks\": \"\"}}, \"scene\": {\"xaxis\": {\"backgroundcolor\": \"#E5ECF6\", \"gridcolor\": \"white\", \"gridwidth\": 2, \"linecolor\": \"white\", \"showbackground\": true, \"ticks\": \"\", \"zerolinecolor\": \"white\"}, \"yaxis\": {\"backgroundcolor\": \"#E5ECF6\", \"gridcolor\": \"white\", \"gridwidth\": 2, \"linecolor\": \"white\", \"showbackground\": true, \"ticks\": \"\", \"zerolinecolor\": \"white\"}, \"zaxis\": {\"backgroundcolor\": \"#E5ECF6\", \"gridcolor\": \"white\", \"gridwidth\": 2, \"linecolor\": \"white\", \"showbackground\": true, \"ticks\": \"\", \"zerolinecolor\": \"white\"}}, \"shapedefaults\": {\"line\": {\"color\": \"#2a3f5f\"}}, \"ternary\": {\"aaxis\": {\"gridcolor\": \"white\", \"linecolor\": \"white\", \"ticks\": \"\"}, \"baxis\": {\"gridcolor\": \"white\", \"linecolor\": \"white\", \"ticks\": \"\"}, \"bgcolor\": \"#E5ECF6\", \"caxis\": {\"gridcolor\": \"white\", \"linecolor\": \"white\", \"ticks\": \"\"}}, \"title\": {\"x\": 0.05}, \"xaxis\": {\"automargin\": true, \"gridcolor\": \"white\", \"linecolor\": \"white\", \"ticks\": \"\", \"title\": {\"standoff\": 15}, \"zerolinecolor\": \"white\", \"zerolinewidth\": 2}, \"yaxis\": {\"automargin\": true, \"gridcolor\": \"white\", \"linecolor\": \"white\", \"ticks\": \"\", \"title\": {\"standoff\": 15}, \"zerolinecolor\": \"white\", \"zerolinewidth\": 2}}}, \"title\": {\"text\": \"BTC-UTD: [2014-07-18 ~ 2020-09-02] 128cell 64win 1bat 7000ep 0.2drop adam 0.0001lr 86400period.h5 [2020-11-04 Verified]\"}},\n",
              "                        {\"responsive\": true}\n",
              "                    ).then(function(){\n",
              "                            \n",
              "var gd = document.getElementById('15467065-6e5c-4265-901c-ad2ffe5031b9');\n",
              "var x = new MutationObserver(function (mutations, observer) {{\n",
              "        var display = window.getComputedStyle(gd).display;\n",
              "        if (!display || display === 'none') {{\n",
              "            console.log([gd, 'removed!']);\n",
              "            Plotly.purge(gd);\n",
              "            observer.disconnect();\n",
              "        }}\n",
              "}});\n",
              "\n",
              "// Listen for the removal of the full notebook cells\n",
              "var notebookContainer = gd.closest('#notebook-container');\n",
              "if (notebookContainer) {{\n",
              "    x.observe(notebookContainer, {childList: true});\n",
              "}}\n",
              "\n",
              "// Listen for the clearing of the current output cell\n",
              "var outputEl = gd.closest('.output');\n",
              "if (outputEl) {{\n",
              "    x.observe(outputEl, {childList: true});\n",
              "}}\n",
              "\n",
              "                        })\n",
              "                };\n",
              "                \n",
              "            </script>\n",
              "        </div>\n",
              "</body>\n",
              "</html>"
            ]
          },
          "metadata": {
            "tags": []
          }
        }
      ]
    },
    {
      "cell_type": "markdown",
      "metadata": {
        "id": "SPPu1ENgGM2h"
      },
      "source": [
        "#**Result**"
      ]
    },
    {
      "cell_type": "code",
      "metadata": {
        "id": "oQSstMBtGCpA",
        "outputId": "f37dd103-103f-43ae-d1bd-42dc9a9026c6",
        "colab": {
          "base_uri": "https://localhost:8080/",
          "height": 542
        }
      },
      "source": [
        "trace = go.Scatter(x=np.arange(0,len(price),1), y=price, #0~1915까지 해야함 재정규화로 matrix되면 reshape해주어 1차행렬로 만들어야함\n",
        "mode = 'lines', name='actual')\n",
        "trace2 = go.Scatter(x=np.arange(window_size,split_pt,1), y=train_pred.reshape(train_test_split), #(5,1205,1) 이지만, 5~1204까지 적용 다 마찬가지\n",
        "mode = 'lines', name='test_pred')\n",
        "trace3 = go.Scatter(x=np.arange(split_pt,split_pt + len(test_pred),1), y=test_pred.reshape(len(test_pred)),  #1205~1915\n",
        "mode = 'lines', name='train_pred')\n",
        "trace4 = go.Scatter(x=np.arange(split_pt +len(test_pred)-verif_gap, split_pt + len(test_pred) + len(verif_after_pred), 1), y =verif_after_pred.reshape(len(verif_after_pred)),\n",
        "mode = 'lines', name= 'after_pred')\n",
        "\n",
        "data = [trace, trace2, trace3, trace4]\n",
        "layout = go.Layout(title=Title)\n",
        "fig = go.Figure(data=data, layout=layout)\n",
        "py.offline.iplot(fig) #그래프 출력 \n",
        "#py.offline.plot(fig, show_link = True, filename = Title + '.html') #다른이름으로 저장\n",
        "\n",
        "from google.colab import files\n",
        "import os\n",
        "\n",
        "#os.rename('temp-plot.html', rename)\n",
        "#files.download(filename=Title +'.html') #다운로드"
      ],
      "execution_count": 828,
      "outputs": [
        {
          "output_type": "display_data",
          "data": {
            "text/html": [
              "<html>\n",
              "<head><meta charset=\"utf-8\" /></head>\n",
              "<body>\n",
              "    <div>\n",
              "            <script src=\"https://cdnjs.cloudflare.com/ajax/libs/mathjax/2.7.5/MathJax.js?config=TeX-AMS-MML_SVG\"></script><script type=\"text/javascript\">if (window.MathJax) {MathJax.Hub.Config({SVG: {font: \"STIX-Web\"}});}</script>\n",
              "                <script type=\"text/javascript\">window.PlotlyConfig = {MathJaxConfig: 'local'};</script>\n",
              "        <script src=\"https://cdn.plot.ly/plotly-latest.min.js\"></script>    \n",
              "            <div id=\"f0bf93a2-c24e-4c7e-8a46-a967ae7eb729\" class=\"plotly-graph-div\" style=\"height:525px; width:100%;\"></div>\n",
              "            <script type=\"text/javascript\">\n",
              "                \n",
              "                    window.PLOTLYENV=window.PLOTLYENV || {};\n",
              "                    \n",
              "                if (document.getElementById(\"f0bf93a2-c24e-4c7e-8a46-a967ae7eb729\")) {\n",
              "                    Plotly.newPlot(\n",
              "                        'f0bf93a2-c24e-4c7e-8a46-a967ae7eb729',\n",
              "                        [{\"mode\": \"lines\", \"name\": \"actual\", \"type\": \"scatter\", \"x\": [0, 1, 2, 3, 4, 5, 6, 7, 8, 9, 10, 11, 12, 13, 14, 15, 16, 17, 18, 19, 20, 21, 22, 23, 24, 25, 26, 27, 28, 29, 30, 31, 32, 33, 34, 35, 36, 37, 38, 39, 40, 41, 42, 43, 44, 45, 46, 47, 48, 49, 50, 51, 52, 53, 54, 55, 56, 57, 58, 59, 60, 61, 62, 63, 64, 65, 66, 67, 68, 69, 70, 71, 72, 73, 74, 75, 76, 77, 78, 79, 80, 81, 82, 83, 84, 85, 86, 87, 88, 89, 90, 91, 92, 93, 94, 95, 96, 97, 98, 99, 100, 101, 102, 103, 104, 105, 106, 107, 108, 109, 110, 111, 112, 113, 114, 115, 116, 117, 118, 119, 120, 121, 122, 123, 124, 125, 126, 127, 128, 129, 130, 131, 132, 133, 134, 135, 136, 137, 138, 139, 140, 141, 142, 143, 144, 145, 146, 147, 148, 149, 150, 151, 152, 153, 154, 155, 156, 157, 158, 159, 160, 161, 162, 163, 164, 165, 166, 167, 168, 169, 170, 171, 172, 173, 174, 175, 176, 177, 178, 179, 180, 181, 182, 183, 184, 185, 186, 187, 188, 189, 190, 191, 192, 193, 194, 195, 196, 197, 198, 199, 200, 201, 202, 203, 204, 205, 206, 207, 208, 209, 210, 211, 212, 213, 214, 215, 216, 217, 218, 219, 220, 221, 222, 223, 224, 225, 226, 227, 228, 229, 230, 231, 232, 233, 234, 235, 236, 237, 238, 239, 240, 241, 242, 243, 244, 245, 246, 247, 248, 249, 250, 251, 252, 253, 254, 255, 256, 257, 258, 259, 260, 261, 262, 263, 264, 265, 266, 267, 268, 269, 270, 271, 272, 273, 274, 275, 276, 277, 278, 279, 280, 281, 282, 283, 284, 285, 286, 287, 288, 289, 290, 291, 292, 293, 294, 295, 296, 297, 298, 299, 300, 301, 302, 303, 304, 305, 306, 307, 308, 309, 310, 311, 312, 313, 314, 315, 316, 317, 318, 319, 320, 321, 322, 323, 324, 325, 326, 327, 328, 329, 330, 331, 332, 333, 334, 335, 336, 337, 338, 339, 340, 341, 342, 343, 344, 345, 346, 347, 348, 349, 350, 351, 352, 353, 354, 355, 356, 357, 358, 359, 360, 361, 362, 363, 364, 365, 366, 367, 368, 369, 370, 371, 372, 373, 374, 375, 376, 377, 378, 379, 380, 381, 382, 383, 384, 385, 386, 387, 388, 389, 390, 391, 392, 393, 394, 395, 396, 397, 398, 399, 400, 401, 402, 403, 404, 405, 406, 407, 408, 409, 410, 411, 412, 413, 414, 415, 416, 417, 418, 419, 420, 421, 422, 423, 424, 425, 426, 427, 428, 429, 430, 431, 432, 433, 434, 435, 436, 437, 438, 439, 440, 441, 442, 443, 444, 445, 446, 447, 448, 449, 450, 451, 452, 453, 454, 455, 456, 457, 458, 459, 460, 461, 462, 463, 464, 465, 466, 467, 468, 469, 470, 471, 472, 473, 474, 475, 476, 477, 478, 479, 480, 481, 482, 483, 484, 485, 486, 487, 488, 489, 490, 491, 492, 493, 494, 495, 496, 497, 498, 499, 500, 501, 502, 503, 504, 505, 506, 507, 508, 509, 510, 511, 512, 513, 514, 515, 516, 517, 518, 519, 520, 521, 522, 523, 524, 525, 526, 527, 528, 529, 530, 531, 532, 533, 534, 535, 536, 537, 538, 539, 540, 541, 542, 543, 544, 545, 546, 547, 548, 549, 550, 551, 552, 553, 554, 555, 556, 557, 558, 559, 560, 561, 562, 563, 564, 565, 566, 567, 568, 569, 570, 571, 572, 573, 574, 575, 576, 577, 578, 579, 580, 581, 582, 583, 584, 585, 586, 587, 588, 589, 590, 591, 592, 593, 594, 595, 596, 597, 598, 599, 600, 601, 602, 603, 604, 605, 606, 607, 608, 609, 610, 611, 612, 613, 614, 615, 616, 617, 618, 619, 620, 621, 622, 623, 624, 625, 626, 627, 628, 629, 630, 631, 632, 633, 634, 635, 636, 637, 638, 639, 640, 641, 642, 643, 644, 645, 646, 647, 648, 649, 650, 651, 652, 653, 654, 655, 656, 657, 658, 659, 660, 661, 662, 663, 664, 665, 666, 667, 668, 669, 670, 671, 672, 673, 674, 675, 676, 677, 678, 679, 680, 681, 682, 683, 684, 685, 686, 687, 688, 689, 690, 691, 692, 693, 694, 695, 696, 697, 698, 699, 700, 701, 702, 703, 704, 705, 706, 707, 708, 709, 710, 711, 712, 713, 714, 715, 716, 717, 718, 719, 720, 721, 722, 723, 724, 725, 726, 727, 728, 729, 730, 731, 732, 733, 734, 735, 736, 737, 738, 739, 740, 741, 742, 743, 744, 745, 746, 747, 748, 749, 750, 751, 752, 753, 754, 755, 756, 757, 758, 759, 760, 761, 762, 763, 764, 765, 766, 767, 768, 769, 770, 771, 772, 773, 774, 775, 776, 777, 778, 779, 780, 781, 782, 783, 784, 785, 786, 787, 788, 789, 790, 791, 792, 793, 794, 795, 796, 797, 798, 799, 800, 801, 802, 803, 804, 805, 806, 807, 808, 809, 810, 811, 812, 813, 814, 815, 816, 817, 818, 819, 820, 821, 822, 823, 824, 825, 826, 827, 828, 829, 830, 831, 832, 833, 834, 835, 836, 837, 838, 839, 840, 841, 842, 843, 844, 845, 846, 847, 848, 849, 850, 851, 852, 853, 854, 855, 856, 857, 858, 859, 860, 861, 862, 863, 864, 865, 866, 867, 868, 869, 870, 871, 872, 873, 874, 875, 876, 877, 878, 879, 880, 881, 882, 883, 884, 885, 886, 887, 888, 889, 890, 891, 892, 893, 894, 895, 896, 897, 898, 899, 900, 901, 902, 903, 904, 905, 906, 907, 908, 909, 910, 911, 912, 913, 914, 915, 916, 917, 918, 919, 920, 921, 922, 923, 924, 925, 926, 927, 928, 929, 930, 931, 932, 933, 934, 935, 936, 937, 938, 939, 940, 941, 942, 943, 944, 945, 946, 947, 948, 949, 950, 951, 952, 953, 954, 955, 956, 957, 958, 959, 960, 961, 962, 963, 964, 965, 966, 967, 968, 969, 970, 971, 972, 973, 974, 975, 976, 977, 978, 979, 980, 981, 982, 983, 984, 985, 986, 987, 988, 989, 990, 991, 992, 993, 994, 995, 996, 997, 998, 999, 1000, 1001, 1002, 1003, 1004, 1005, 1006, 1007, 1008, 1009, 1010, 1011, 1012, 1013, 1014, 1015, 1016, 1017, 1018, 1019, 1020, 1021, 1022, 1023, 1024, 1025, 1026, 1027, 1028, 1029, 1030, 1031, 1032, 1033, 1034, 1035, 1036, 1037, 1038, 1039, 1040, 1041, 1042, 1043, 1044, 1045, 1046, 1047, 1048, 1049, 1050, 1051, 1052, 1053, 1054, 1055, 1056, 1057, 1058, 1059, 1060, 1061, 1062, 1063, 1064, 1065, 1066, 1067, 1068, 1069, 1070, 1071, 1072, 1073, 1074, 1075, 1076, 1077, 1078, 1079, 1080, 1081, 1082, 1083, 1084, 1085, 1086, 1087, 1088, 1089, 1090, 1091, 1092, 1093, 1094, 1095, 1096, 1097, 1098, 1099, 1100, 1101, 1102, 1103, 1104, 1105, 1106, 1107, 1108, 1109, 1110, 1111, 1112, 1113, 1114, 1115, 1116, 1117, 1118, 1119, 1120, 1121, 1122, 1123, 1124, 1125, 1126, 1127, 1128, 1129, 1130, 1131, 1132, 1133, 1134, 1135, 1136, 1137, 1138, 1139, 1140, 1141, 1142, 1143, 1144, 1145, 1146, 1147, 1148, 1149, 1150, 1151, 1152, 1153, 1154, 1155, 1156, 1157, 1158, 1159, 1160, 1161, 1162, 1163, 1164, 1165, 1166, 1167, 1168, 1169, 1170, 1171, 1172, 1173, 1174, 1175, 1176, 1177, 1178, 1179, 1180, 1181, 1182, 1183, 1184, 1185, 1186, 1187, 1188, 1189, 1190, 1191, 1192, 1193, 1194, 1195, 1196, 1197, 1198, 1199, 1200, 1201, 1202, 1203, 1204, 1205, 1206, 1207, 1208, 1209, 1210, 1211, 1212, 1213, 1214, 1215, 1216, 1217, 1218, 1219, 1220, 1221, 1222, 1223, 1224, 1225, 1226, 1227, 1228, 1229, 1230, 1231, 1232, 1233, 1234, 1235, 1236, 1237, 1238, 1239, 1240, 1241, 1242, 1243, 1244, 1245, 1246, 1247, 1248, 1249, 1250, 1251, 1252, 1253, 1254, 1255, 1256, 1257, 1258, 1259, 1260, 1261, 1262, 1263, 1264, 1265, 1266, 1267, 1268, 1269, 1270, 1271, 1272, 1273, 1274, 1275, 1276, 1277, 1278, 1279, 1280, 1281, 1282, 1283], \"y\": [0.0, 0.0018033685644029823, 0.004839201945964586, 0.004176712351209977, 0.0007573616690212254, 0.0038549605329769726, 0.005095235404394341, 0.0099290314932403, 0.012915499903344313, 0.015260272422983528, 0.018657280991341965, 0.01162641923754501, 0.016513993994225665, 0.01672978013959378, 0.013626763314297394, 0.014525518580786448, 0.019386197928548357, 0.02329422365623507, 0.024699033507587925, 0.03078089973942759, 0.028316283275855808, 0.03165093540211854, 0.04040552517490509, 0.04855027412985444, 0.03843327869833356, 0.033958511436707195, 0.02502492511104673, 0.029791442944650526, 0.038263720115843405, 0.034476911772998095, 0.03769852482222477, 0.04434495290903501, 0.04962414514268376, 0.05229756674218489, 0.05389419544506083, 0.062474228274423504, 0.07437969818624632, 0.06304777644997284, 0.07110156559143666, 0.07268974944211118, 0.07244787317183493, 0.07952862714119735, 0.05883966168933541, 0.06481516400776305, 0.048424840886198806, 0.04772904125131536, 0.05115017238566033, 0.060879878806838345, 0.0543887413106571, 0.059517724256451965, 0.06431922246195426, 0.061606284971988, 0.06462309217653048, 0.06443226134682392, 0.05502074484143163, 0.05379595307237112, 0.04890572090258921, 0.05538913694734901, 0.05555869553096954, 0.0530421479228774, 0.05050931936977873, 0.046150589116573715, 0.05115826893005643, 0.05688451416432663, 0.06064545301019575, 0.060419380883931256, 0.05990763062281135, 0.05352399253995732, 0.05760880192558773, 0.05330439940142806, 0.04442434861298569, 0.04261547071551311, 0.047811281295965735, 0.045061162156759677, 0.03820196123775606, 0.025292488555346576, 0.022376080930298775, 0.03919081458145074, 0.04352003614929997, 0.04069405978237681, 0.07488837393371678, 0.06424569206179603, 0.07443621771374304, 0.0690346936336014, 0.07004824712424684, 0.05855423045777508, 0.05631326777479437, 0.06443226123378484, 0.07121354208044356, 0.06720171819585871, 0.06912338212905153, 0.07488837393371678, 0.06818983128238953, 0.06607132764422874, 0.07149098513306307, 0.07534109526418623, 0.09758303600062307, 0.096026677213533, 0.1056349968913663, 0.1063132312218921, 0.10198021922449443, 0.10658826051257186, 0.11933177527772601, 0.12646272537041403, 0.14101622110487705, 0.15011586503184868, 0.14802464251447012, 0.16113717289314353, 0.15441134912159926, 0.14468999039216374, 0.14738148641149187, 0.1438336704458578, 0.13926411575417438, 0.14324973718468137, 0.14728988865701276, 0.15774600124390564, 0.1594981066477367, 0.1596648392024192, 0.15778379168984472, 0.16108121850496743, 0.172949754141088, 0.17201138634535015, 0.18002344006828688, 0.1904142881635729, 0.16848471146828206, 0.17375402984277752, 0.15141581416201244, 0.1614173929745315, 0.17289372437112252, 0.17428760427277776, 0.15661985573664353, 0.15774960481933092, 0.1526027242417043, 0.15091900751814225, 0.14773010670369766, 0.13191657717734023, 0.09580059911824121, 0.12242129655845677, 0.12186718774649755, 0.12140376141631073, 0.14401175606220312, 0.1339512801677873, 0.13259241615885797, 0.11699542191933701, 0.11643022664380465, 0.1274515345050995, 0.12035579025822621, 0.13541835754132403, 0.13286209235339802, 0.15102017747179616, 0.1503424172168935, 0.14910235004287054, 0.16023286045715243, 0.16293412571911886, 0.1622675634436431, 0.1570609845706454, 0.1516588722262185, 0.15752362351825155, 0.16060793755543962, 0.16447182501601512, 0.1741366642286926, 0.1841212654726818, 0.18312326908993212, 0.18594924546533317, 0.22107921777074488, 0.23266993407040484, 0.24318801220808048, 0.2365342225743308, 0.23936019894916669, 0.23056502672343263, 0.22794325437956933, 0.2354973645485585, 0.25219013169092175, 0.2531701036549747, 0.2505897439675292, 0.24699033516065846, 0.22487763522340762, 0.23621262646343968, 0.24585994461185448, 0.23888044896499241, 0.23676030068431766, 0.26140281467288673, 0.25970722884798525, 0.2780772977130628, 0.2944549369246061, 0.31057480359503165, 0.316190583836932, 0.32984796247084736, 0.33059221935549055, 0.3052037767053042, 0.31395882239738093, 0.33233482168070294, 0.31029220595754803, 0.28334393362104593, 0.269598146183084, 0.24331656587337178, 0.2795330716389083, 0.2840060060219951, 0.3247114225968888, 0.3576556265215861, 0.3480195622379766, 0.3526818515800866, 0.3690725145541349, 0.37975470525157984, 0.37172893234648063, 0.37775648929442274, 0.36568134290433185, 0.37692477250925394, 0.40575368789950506, 0.4382714399771446, 0.4623862544585642, 0.4719362888518217, 0.46187757870374624, 0.4735023354069555, 0.5182777871477317, 0.529349815311406, 0.5451308427018905, 0.5691516418925173, 0.5728332535835794, 0.681111478459458, 0.8496867367914713, 0.8092283971616971, 0.743809407025522, 0.7560060422761792, 0.8449081557679053, 0.830724015141677, 0.8125812468208825, 0.8405317922506977, 0.9048776352230232, 0.9999999999999999, 0.9850901486277143, 0.9834699626863824, 0.8918781438982128, 0.8444017408015349, 0.7778782569378975, 0.6622429317099067, 0.6951901882101988, 0.6774995761088128, 0.6843384389150035, 0.8008865508959471, 0.7822308257509849, 0.7221695503081884, 0.7220671579151517, 0.6116503702195153, 0.6917618257849478, 0.6681591254396269, 0.7465099191777842, 0.7697959645058668, 0.770792292574594, 0.8700616062850449, 0.8833282987379849, 0.827696465929561, 0.7569553334308726, 0.7267316190229318, 0.7530661843668383, 0.664764351874377, 0.6942026418935769, 0.716385010902212, 0.679929915786085, 0.6810603063360193, 0.5410443667543429, 0.5372811464802253, 0.535805125756211, 0.5584434097826494, 0.6341589826244085, 0.5640648844178127, 0.522070875487751, 0.5243751757646954, 0.5572147176852104, 0.5448745196656617, 0.5397224790597752, 0.5624010280220638, 0.5832815180932667, 0.5480698581362414, 0.4889809161767428, 0.49348650037161956, 0.4334804725075264, 0.41496637088655686, 0.43443228061355643, 0.37517718872188144, 0.30690103430774496, 0.35008195324967495, 0.3412874742562927, 0.37981122477851137, 0.4042453742766041, 0.3973560950503604, 0.36963770982910205, 0.41711411292634537, 0.3939760556912937, 0.4487650473591541, 0.4789464760077551, 0.4878200421152502, 0.5380093822418256, 0.5001412988195897, 0.5440569716754965, 0.5475139933857754, 0.5036489289620169, 0.46999028328577974, 0.48715537218307403, 0.46176453964875275, 0.4538064646778648, 0.49782675846182234, 0.5120202532269756, 0.4969234893130069, 0.5316670150904134, 0.5364971347942483, 0.5601650370572767, 0.5635338947625821, 0.5598259197928221, 0.5202071268990447, 0.4736112664401325, 0.43813619517807156, 0.43522798097980253, 0.40868008817079704, 0.45179060082097344, 0.42792662635142265, 0.429040137859363, 0.37630701343617456, 0.3803663821853951, 0.3803008947632508, 0.3572034137798241, 0.3769852484036754, 0.40021477420482665, 0.41580786732300024, 0.41687113359666716, 0.4059236536379326, 0.416984118013103, 0.3958239930529611, 0.3913872405576265, 0.37226717041407775, 0.3534005941748978, 0.3624927268448751, 0.31370614187344503, 0.2999901274524953, 0.30542469934194005, 0.299159012092749, 0.31249048480906993, 0.332463140150154, 0.2961592204943785, 0.2964449217202868, 0.2873195974406334, 0.30294466738297465, 0.31085740123251515, 0.29568404366568946, 0.29977957384315845, 0.30726615398727897, 0.3617249758976082, 0.3586164019672421, 0.36545526478417145, 0.3858022946931635, 0.3690725145541349, 0.3595263663599392, 0.3749613190253914, 0.3819024471777641, 0.4142881365515094, 0.41835754244423307, 0.41044480863029986, 0.41852584539624793, 0.45801339239334304, 0.4142894971969625, 0.4383654552651114, 0.41767987340167434, 0.440895340379562, 0.4461538459484281, 0.434566943468923, 0.42621224849520933, 0.43604815463774593, 0.46436912124542795, 0.4628949301393416, 0.4718458121310847, 0.46006895380124346, 0.44424348612477016, 0.43356129542789035, 0.43917933646162943, 0.4233312609509844, 0.3874544433412155, 0.39234457069722917, 0.4053361941901287, 0.4036059458546297, 0.3911004353041365, 0.3847173354284832, 0.3685073192791677, 0.37924602950354414, 0.37808737918986146, 0.3953540948406741, 0.3872290046055574, 0.3648466182211243, 0.33793025489157413, 0.3416605437894412, 0.33459560288739354, 0.3279125569144137, 0.32880100420091063, 0.31481376815728546, 0.3349626073513057, 0.3306957553844284, 0.33685638388044037, 0.3391171649718311, 0.3455732850362597, 0.3492906799302835, 0.3367397005423971, 0.34435822221763157, 0.3458995084031278, 0.3483916530151199, 0.3436738625855741, 0.3368563838810056, 0.29581830100022843, 0.3020740449899383, 0.28316283275968845, 0.2691629934294528, 0.2880759984235075, 0.2739021775050733, 0.2799886748237834, 0.27762391906444495, 0.2930246659564274, 0.29480585542344717, 0.2952014921159243, 0.2929199551165472, 0.25499725880333746, 0.26193084936909405, 0.2612227604135753, 0.26620697460393017, 0.2570734188587255, 0.26043466788319647, 0.24546430787698778, 0.26380489463162615, 0.2747145022385832, 0.27235629910231596, 0.28735833844046377, 0.2807697625771317, 0.28574030065094347, 0.2827228500303607, 0.2868366020464099, 0.2955971288084013, 0.29240470137269403, 0.28963431865806266, 0.26948510710491747, 0.27378059141905053, 0.2664895721475914, 0.26499980422468494, 0.26697658197464136, 0.2720361968014061, 0.2941841406209833, 0.32727700350798206, 0.3302311648678402, 0.33601923705740344, 0.32841111466663175, 0.3324145481403197, 0.33205222404378454, 0.34985587520525074, 0.3888543491779862, 0.37546119997604954, 0.3621772480640014, 0.37616438159194243, 0.3780025998986164, 0.37818069976523017, 0.37574490017895446, 0.35050877298516325, 0.343978827297607, 0.33950496665215646, 0.33240350050227074, 0.3094444130450972, 0.31109478324856654, 0.3051206691915983, 0.2928841914885588, 0.2683910629642975, 0.2823909738318643, 0.260950658452913, 0.2650765839601734, 0.2702081461904311, 0.26665910344867083, 0.2633654687988112, 0.267657260845946, 0.2703270512947096, 0.2853670943314953, 0.2745718645796221, 0.28019360841164287, 0.266772169785075, 0.2791467382590408, 0.27269358513634057, 0.28263249865015394, 0.29138767780518204, 0.29368061396807, 0.2929492793809456, 0.3037924602954254, 0.3134681054856082, 0.3109769522611705, 0.3087161589208678, 0.31066141694494387, 0.32057875996195073, 0.3261176736560639, 0.32427796303661094, 0.32945713643230123, 0.2922059571591634, 0.2814672469370477, 0.27461362726147365, 0.26292213634812467, 0.26664699415233895, 0.27032350056221655, 0.26909811563936636, 0.27176890096633033, 0.280245057367162, 0.2800021548848245, 0.2818392496703318, 0.2809066413986995, 0.26695732792558247, 0.27164384264496033, 0.2743422219746372, 0.2804519492046117, 0.2954521034051345, 0.29395806240021816, 0.29288139840654903, 0.28600250141678296, 0.2775611823889236, 0.27892696970537556, 0.2917831215139932, 0.2888718762328102, 0.286405341096317, 0.2876843949588608, 0.28699485672340075, 0.28325329613729544, 0.28112437585922045, 0.28658845735472416, 0.28897932946685745, 0.286564124668351, 0.2870027069879122, 0.29074005121952706, 0.28965795309936715, 0.2882608941393272, 0.2667882490254525, 0.26983048455532144, 0.2712502823154517, 0.2719929876938495, 0.29503193353343404, 0.295526757797267, 0.2944526232135338, 0.28711919968389354, 0.28249234514707366, 0.28615485477291236, 0.28611574046216803, 0.28551149326553693, 0.2840758739573368, 0.2843765320661932, 0.2831063132316266, 0.28316283275912324, 0.2810310302519182, 0.2806194540217709, 0.2724241225347468, 0.2714201094058263, 0.2739106934673182, 0.2755477946044902, 0.27725131814374204, 0.27452099134218366, 0.27988470016431366, 0.279284951336529, 0.2819630565702357, 0.28516362403250706, 0.2797845713919178, 0.2763635336018333, 0.27736522805670183, 0.27848883626333665, 0.2782784151928569, 0.2790740441506363, 0.24752314906559228, 0.23821837788999142, 0.23278631242173017, 0.23175213714450246, 0.2333880703785489, 0.19191469439654554, 0.17183916003890135, 0.1773017577577701, 0.15995815624983895, 0.1633979539958382, 0.13582639343348452, 0.1453082213631689, 0.13113779152312713, 0.13282375569878888, 0.15477546875535253, 0.15605515711119872, 0.14191281862932123, 0.15051493811159752, 0.14879606133660273, 0.1334059520453663, 0.13709231277277054, 0.12659298839533906, 0.11183605323907092, 0.10578121022149675, 0.10621437875877113, 0.11411353812292199, 0.10802407731752214, 0.10456112586949382, 0.10828689823370355, 0.1000992844632905, 0.09561166548120972, 0.09530010390092392, 0.09572965387775068, 0.11164857683879972, 0.11986700847899176, 0.12081976989367499, 0.14246622675965495, 0.13036455417106743, 0.13671307526132553, 0.1355959984179418, 0.14018358268177233, 0.12494649946808062, 0.1271639179341394, 0.11503256341088847, 0.13058337220644853, 0.12218107810313561, 0.12819985304972123, 0.1224338608488541, 0.12804836632163677, 0.13162831711912526, 0.12614353536306666, 0.12801122421345842, 0.1269319589673165, 0.1389249985874985, 0.1381841524873463, 0.13702263856602215, 0.13765161363356263, 0.11621986386982636, 0.11699544343236476, 0.11599244956021251, 0.10991840372174877, 0.11857796868867992, 0.1143900224093628, 0.11639644038257141, 0.11801887978289832, 0.11682586333628167, 0.12091165998919293, 0.11334182151296368, 0.11306463516695128, 0.11535847058208593, 0.11423058158643856, 0.11516638172830204, 0.11511515461814553, 0.11523347790136482, 0.11435167744468752, 0.10799308260831514, 0.10614970216972464, 0.10912676798388676, 0.10739683169665551, 0.10953612331876475, 0.1117812733848913, 0.1088006556315442, 0.10927876652794366, 0.10967065286321726, 0.10611541287565357, 0.10565664385570245, 0.12038659356857492, 0.12092406793979488, 0.12133612163221535, 0.11889116430276442, 0.11890598584009557, 0.11751400671445345, 0.11649510182212372, 0.11729554054873831, 0.11813757813817999, 0.12093318495612901, 0.13408325439488267, 0.13478324761479973, 0.1379498106606353, 0.13621681286433265, 0.13769854594521125, 0.14593979375168373, 0.1255266715016529, 0.1298243599309728, 0.1289372927303855, 0.12921607355726603, 0.12947426099975726, 0.12983365178085693, 0.12964787882262496, 0.12869931903118256, 0.1237337582709977, 0.13163728932395205, 0.1318002667715301, 0.13268024197019573, 0.13170236816869288, 0.13622869944942279, 0.13514424744071943, 0.1325026846639165, 0.1328946249369056, 0.13203338017287514, 0.1326693796059839, 0.1352449400914852, 0.13991693284115755, 0.13883456733785177, 0.138953614334404, 0.14048554065724267, 0.14190269828568253, 0.13861170444857365, 0.1389274910619234, 0.13981800712138143, 0.13912338212957717, 0.13643813925160433, 0.13657131639736814, 0.14217317583216968, 0.14121487098222957, 0.1455153990537809, 0.14555473916286354, 0.1455241746684307, 0.14779856440448325, 0.1882902742089028, 0.1927259368116245, 0.18992496668332678, 0.19643355359905249, 0.19900894171808117, 0.2060100531158051, 0.20969986947538025, 0.2048338517265558, 0.21361298214988209, 0.19737184197185478, 0.1991310100270168, 0.19892649719821462, 0.20328327871463106, 0.19797403320002374, 0.20609984108449322, 0.2076067154862332, 0.21086381942281643, 0.21086639400428933, 0.21250629540088592, 0.21075900366121583, 0.2167487824726068, 0.2240685675977934, 0.21924108922781935, 0.20909696490182042, 0.21379705187067552, 0.21287098703825644, 0.21388704293041658, 0.20982422426767092, 0.2142880017039426, 0.218481885491879, 0.22440921901925934, 0.23972757587789537, 0.24375741818841137, 0.24000414348316282, 0.23818934129811895, 0.24393828067640086, 0.25167580400765743, 0.26251624936400697, 0.27423839933856653, 0.3213180636402412, 0.30806486081653306, 0.3550536553352427, 0.36568134290433185, 0.3752832603468178, 0.35855626786844597, 0.3290806495606573, 0.3242882505604904, 0.3748946118445855, 0.36143495455640007, 0.3602080538182557, 0.34470149706926767, 0.3570465191537009, 0.3642846861581618, 0.3677427509453638, 0.4008710973930928, 0.4080755891152388, 0.40649915528208524, 0.40258859435968875, 0.38123832576534156, 0.3967663837181954, 0.39635793859865687, 0.40662922089730025, 0.3723755612008295, 0.3482444559835256, 0.35287939974433224, 0.35351899702291667, 0.3653422257393515, 0.35974679251717645, 0.34536827000941317, 0.3650448892526055, 0.3593265885438538, 0.3730288814789052, 0.37755044367864266, 0.40373028881286166, 0.41142088448967873, 0.42044440559406526, 0.4397457381227379, 0.42651948548780505, 0.4363307522780555, 0.4516014347061258, 0.4887384886873404, 0.5199435692982988, 0.529585570689804, 0.5379883976677002, 0.581294895413677, 0.6540149473759939, 0.5526207036593271, 0.6150071144228706, 0.587089634427408, 0.5261198106592855, 0.5139867673935941, 0.525980937409978, 0.5879726445489244, 0.5443364643047848, 0.5333466162405848, 0.5502410483176678, 0.5587053964338672, 0.6064609385555834, 0.6234451443934756, 0.5983682896899348, 0.5542975081814535, 0.5779208676128538, 0.5569700458624558, 0.48933047126406526, 0.5260216671432058, 0.44501329171850734, 0.45989374328917665, 0.5139176717715968, 0.507667226132647, 0.5211129643969247, 0.5116223893853435, 0.4981731358223601, 0.47130935202934987, 0.46525631605806517, 0.4720048166063009, 0.4688040939962308, 0.4487469636000403, 0.45216430963688903, 0.4511949346224772, 0.4549256751136297, 0.48295875769486063, 0.4998021816540441, 0.5083369685375525, 0.5247473561563756, 0.5316773637017286, 0.5813724085115123, 0.5629537834682852, 0.5891603382961684, 0.5909189534292709, 0.5845276872533858, 0.5532131351384427, 0.5657189284940001, 0.5571171305716627, 0.5287849674308887, 0.4816694716246641, 0.49632022590431457, 0.49848201012406124, 0.4908229616919172, 0.4965240490547129, 0.5304788923316959, 0.5209481100494427, 0.4863147984262215, 0.4845766135949332, 0.5004098183906062, 0.4855038715879243, 0.48646241508083066, 0.49982896423868206, 0.4890139681792297, 0.46403080247133666, 0.44966879556804973, 0.45497560475133947, 0.455615215057675, 0.4631620542432243, 0.4982869502139273, 0.5108238286466338, 0.5102809021429321, 0.5107922197402867, 0.49577004543463754, 0.5049672780164444, 0.5010317760750008, 0.4962161804586581, 0.48521867264596996, 0.4876580819411701, 0.5009996549807828, 0.4982079779537115, 0.4977448708740757, 0.4954434450723476, 0.49331373989629035, 0.4893351874501276, 0.4880096758873633, 0.49250664105211517, 0.4879467586059526, 0.47784602227690165, 0.48031903894168293, 0.4616062284522344, 0.3940278149593658, 0.39017317553869313, 0.36779582719077153, 0.37509826485085895, 0.3773187136170364, 0.36847033487120984, 0.3815334295188031, 0.3826315492000324, 0.3859096694114136, 0.3777913575830114, 0.37335420631471583, 0.37267310838502643, 0.35788164810978473, 0.3763618380148215, 0.3751935410210958, 0.3971994574411365, 0.3971255155629926, 0.3790114734926926, 0.3827380062220185, 0.3816127042285753, 0.38518564554773915, 0.3749028243840078, 0.36568306414889185, 0.3697908639510711, 0.3628398431394546, 0.3629831276966241, 0.37817878550535344, 0.37693121258838125, 0.3669331132338399, 0.33545069231485025, 0.33261741931875166, 0.4028141063757402, 0.4352352394684704, 0.4518974521932675, 0.4341861065368031, 0.44534143636045587, 0.43107749884280155, 0.4302207187795003, 0.4347569993441278, 0.43855101765193094, 0.4333700536000489, 0.4442869741239789, 0.4396975766487087, 0.44154750483556127, 0.43427855544032434, 0.4095404962417851, 0.4113375203162768, 0.42412050407877455, 0.40726845209890505, 0.4124520359778373, 0.4095128016846157, 0.4026306405762716, 0.39230204035641647, 0.39342125024394203, 0.3940654496131837, 0.37643688846189083, 0.37299553495881244, 0.37115243316940527, 0.3447928585885125, 0.3241789918638308, 0.32673500808097733, 0.30288871305188325, 0.3152486732609986, 0.3179166902032906, 0.3379248550294818, 0.33280732493622744, 0.3510694260615209, 0.33976617666628617, 0.33142174963187054, 0.32639426164227303, 0.32563725767290697, 0.3197818346406377, 0.331168614431509, 0.33898159918366644, 0.3367592302552779, 0.33793228796849717, 0.3285156119949536, 0.32182529512726965, 0.32104631764012825, 0.320319003099915, 0.32356846662560135, 0.3127643859196785, 0.31584515280319003, 0.30326699870214024, 0.28764624428119157, 0.3247896780606314, 0.3177668067262094, 0.31983826762373824, 0.3167580349294541, 0.3371389815184891, 0.3272130964221289, 0.32396294534882497, 0.32073300231881485, 0.3206861470636293, 0.3234519747593265, 0.32681847361706506, 0.331091344454682, 0.3231390945417266, 0.32011173595923803, 0.32055407028693794, 0.3072382168872959, 0.3286520164995599, 0.329083486491647, 0.329490093479721, 0.351910506584326, 0.3742002700902197, 0.3686397518671968, 0.3555939964017658, 0.3766547196120632, 0.366957131474387, 0.3760075096431492, 0.3717870218711514, 0.4117904123978908, 0.41235562171683016, 0.4066312963305224, 0.41727333770959296, 0.4174838669104066, 0.40548128639325975, 0.4020209968047238, 0.40726673690023885, 0.40430955188526285, 0.3886109359569385, 0.39062041898751454, 0.3850420579910784, 0.40042519386401376, 0.41714734984998747, 0.44385722059885613, 0.4393983289694007, 0.4512012338764194, 0.4420427995775492, 0.44398247697086757, 0.44111066891457584, 0.43895043412906853, 0.433197206268336, 0.45665559255046817, 0.4657558971364575, 0.4682769362637945, 0.47269155849857425, 0.48750944486153414, 0.4701766415461085, 0.49130701224806905, 0.4973249870753985, 0.4918096237616618, 0.4979987253227276, 0.473491334186699, 0.4741760071505826, 0.4613893585155364, 0.48775843611626757, 0.45607302323548515, 0.4559961414946837, 0.4605890680051655, 0.4591333482623302, 0.4751572782250182, 0.4594545865610923, 0.4401883984731588, 0.4102883111917649, 0.41197050790515344, 0.40496241451455095, 0.3954767101851605, 0.39572429774521234, 0.41705752844886845, 0.40827417776781316, 0.4081935351407855, 0.4254128872478238, 0.4296835449740408, 0.416069492851175, 0.36749097925825613, 0.361741931838941, 0.35953539086511077, 0.3619252937792562, 0.1843118601592809, 0.2283414561734989, 0.2066548930722847, 0.21671282428066654, 0.19747834962685948, 0.2140954469105216, 0.218174250029832, 0.26207281744290845, 0.26444046892880546, 0.2631941605153093, 0.24283101568007529, 0.27924054794987896, 0.2948854654409683, 0.2911071612398739, 0.2942823636764289, 0.27322766481022254, 0.26603242064134625, 0.24585874925775966, 0.27490630696022444, 0.2758708081850021, 0.28904066275233764, 0.2975164547107344, 0.29431713877731625, 0.3011971454873107, 0.29620940345487123, 0.32794776709358053, 0.32055271645208805, 0.32947490693758574, 0.3252861799359491, 0.3012874273400208, 0.30224222212665897, 0.30367569095161717, 0.29997396067976034, 0.30171667986192185, 0.28774919175476865, 0.3149816355393008, 0.31074285063792983, 0.3232566498703876, 0.3160897003225479, 0.2995044067804784, 0.30028465829463613, 0.3161896985325743, 0.34042053272065764, 0.33758534817366326, 0.3396097728642177, 0.3484217657127969, 0.3528650168454457, 0.351084636001045, 0.40960759409008674, 0.40100373353789576, 0.41218267723709257, 0.4206019203727911, 0.41608236227919737, 0.4148936058410586, 0.42340101785654016, 0.4307267846044025, 0.47752494767225595, 0.4674895534225584, 0.4528255319536242, 0.40681897367693054, 0.3973205866029518, 0.41168957707883813, 0.43943932628811433, 0.46696848905416444, 0.4401841525555643, 0.44364907310888846, 0.46042841801816514, 0.46363430524079374, 0.46580123578846666, 0.45110241235773973, 0.42606830453375566, 0.4316765314540034, 0.4323892398940641, 0.40632720985677595, 0.41647569168969856, 0.41339768335080906, 0.4335482965865407, 0.4546995987110978, 0.44587968439809766, 0.46148534449134604, 0.4477507936158662, 0.4888562994723965, 0.45181723459365186, 0.4599071986054033, 0.4671210123701649, 0.45739663381028806, 0.46028630288732253, 0.4643625357912935, 0.46622958232099343, 0.4659645823339932, 0.4720897743149991, 0.4378219404021716, 0.44840904645597224, 0.449023255093286, 0.441414226493279, 0.44616374036769, 0.4517904263203234, 0.44840242981210177, 0.44401885306141176, 0.43952271385833974, 0.4424991352515444, 0.43897867835898996, 0.46078915178632185, 0.45746706443821994, 0.4389846080600017, 0.43642784544258384, 0.43149935679792495, 0.4228163338741746, 0.4285983066538017, 0.43287861348474943, 0.42987278023770426, 0.43522118896036, 0.42703414818830776, 0.42570722440319586, 0.429757989944368, 0.4263833194944744, 0.4416808745738757, 0.43660460714043037, 0.44691142632145664, 0.4357288193079547, 0.4381833841109828, 0.43538117312358826, 0.4389460324979151, 0.4358753314607835, 0.4366285871149965, 0.4334456462417716, 0.42977021799331394, 0.4310268817100372, 0.43183746020944336, 0.43397204468522355, 0.431261706615367, 0.4439043689597898, 0.4513209404886388, 0.45632962159189716, 0.4526957620225781, 0.4617773178101725, 0.4747071959738458, 0.5365991881289004, 0.5299926014516871, 0.5409508845596898, 0.540829122525552, 0.5542496415918419, 0.5807696038090879, 0.5391396241600978, 0.5478437800262546, 0.5460021551412728, 0.5771319442691589, 0.5783571041363373, 0.5688240771861365, 0.5782209916749119, 0.5737511591914465, 0.5855423048660003, 0.5575956593005383, 0.5672117155742004, 0.579037076990573, 0.5779524890111468, 0.5833558935739652, 0.5865466065836282, 0.6077417532500945, 0.5889334765163686, 0.5776295710170251, 0.5836615275749824, 0.5650526436576245, 0.5729593619801204, 0.5718210748496174, 0.5775886254238526, 0.5535100245252058, 0.5612784717122244, 0.5538195182611463, 0.5647145311668091, 0.5617084180220643, 0.5756284079824927, 0.5719776182673532, 0.5873194426379995, 0.5570473801505923, 0.48758760526790956, 0.5043875390145796, 0.48810263946222343, 0.492692107691464, 0.4996938613725769, 0.48587808094642737, 0.49118792294438973, 0.4979127286619014, 0.5005999740086471, 0.5035709111854951, 0.4973684961597822, 0.5170033515279958, 0.5230760377202718, 0.5326250333592196, 0.5317392478898255, 0.5315003681797709, 0.5396913343245692, 0.5305937317082855, 0.5020540082809575, 0.5085896102489637, 0.49207558551885366, 0.5203258940255918, 0.5174134156934848, 0.5195885743031031, 0.5223743478463108, 0.5180528015082133, 0.5262368995622414, 0.5227958191547376, 0.5138317272794247, 0.5108214345252299, 0.5093174555798851, 0.5163866665616252, 0.5234808437181239, 0.5127196828522508, 0.5165480704354736, 0.5307510540368898, 0.5382354603518125, 0.551762461449414, 0.55595164753713, 0.5651990871940512, 0.5589629505106205, 0.5586938403048897, 0.5634787037288399, 0.5530933119637409, 0.5554295580248938, 0.5636251401443715, 0.5775561974958584, 0.5865937503461331, 0.6362291717517458, 0.6465353686900771, 0.6438701062003934, 0.6544087210068081, 0.6498481047201436, 0.6512206380960542, 0.6839764364106234, 0.6637596352604624, 0.6735488611317054, 0.679809062749856, 0.6930141547201192, 0.6905136328826709, 0.6798645235094783, 0.7056233513125498, 0.7071270295208799]}, {\"mode\": \"lines\", \"name\": \"test_pred\", \"type\": \"scatter\", \"x\": [64, 65, 66, 67, 68, 69, 70, 71, 72, 73, 74, 75, 76, 77, 78, 79, 80, 81, 82, 83, 84, 85, 86, 87, 88, 89, 90, 91, 92, 93, 94, 95, 96, 97, 98, 99, 100, 101, 102, 103, 104, 105, 106, 107, 108, 109, 110, 111, 112, 113, 114, 115, 116, 117, 118, 119, 120, 121, 122, 123, 124, 125, 126, 127, 128, 129, 130, 131, 132, 133, 134, 135, 136, 137, 138, 139, 140, 141, 142, 143, 144, 145, 146, 147, 148, 149, 150, 151, 152, 153, 154, 155, 156, 157, 158, 159, 160, 161, 162, 163, 164, 165, 166, 167, 168, 169, 170, 171, 172, 173, 174, 175, 176, 177, 178, 179, 180, 181, 182, 183, 184, 185, 186, 187, 188, 189, 190, 191, 192, 193, 194, 195, 196, 197, 198, 199, 200, 201, 202, 203, 204, 205, 206, 207, 208, 209, 210, 211, 212, 213, 214, 215, 216, 217, 218, 219, 220, 221, 222, 223, 224, 225, 226, 227, 228, 229, 230, 231, 232, 233, 234, 235, 236, 237, 238, 239, 240, 241, 242, 243, 244, 245, 246, 247, 248, 249, 250, 251, 252, 253, 254, 255, 256, 257, 258, 259, 260, 261, 262, 263, 264, 265, 266, 267, 268, 269, 270, 271, 272, 273, 274, 275, 276, 277, 278, 279, 280, 281, 282, 283, 284, 285, 286, 287, 288, 289, 290, 291, 292, 293, 294, 295, 296, 297, 298, 299, 300, 301, 302, 303, 304, 305, 306, 307, 308, 309, 310, 311, 312, 313, 314, 315, 316, 317, 318, 319, 320, 321, 322, 323, 324, 325, 326, 327, 328, 329, 330, 331, 332, 333, 334, 335, 336, 337, 338, 339, 340, 341, 342, 343, 344, 345, 346, 347, 348, 349, 350, 351, 352, 353, 354, 355, 356, 357, 358, 359, 360, 361, 362, 363, 364, 365, 366, 367, 368, 369, 370, 371, 372, 373, 374, 375, 376, 377, 378, 379, 380, 381, 382, 383, 384, 385, 386, 387, 388, 389, 390, 391, 392, 393, 394, 395, 396, 397, 398, 399, 400, 401, 402, 403, 404, 405, 406, 407, 408, 409, 410, 411, 412, 413, 414, 415, 416, 417, 418, 419, 420, 421, 422, 423, 424, 425, 426, 427, 428, 429], \"y\": [0.05578893423080444, 0.06132671236991882, 0.060333311557769775, 0.059197038412094116, 0.05385562777519226, 0.05577695369720459, 0.054107874631881714, 0.04668545722961426, 0.04437309503555298, 0.04897451400756836, 0.0479733943939209, 0.04007190465927124, 0.027384251356124878, 0.02362164855003357, 0.03871387243270874, 0.04560732841491699, 0.04343327879905701, 0.0685465931892395, 0.06393477320671082, 0.06984955072402954, 0.06448885798454285, 0.06821727752685547, 0.059766948223114014, 0.05652892589569092, 0.0669269859790802, 0.07087993621826172, 0.07135528326034546, 0.06655856966972351, 0.07312721014022827, 0.0680273175239563, 0.06508830189704895, 0.07087457180023193, 0.07554283738136292, 0.09576952457427979, 0.09672518074512482, 0.10346758365631104, 0.10322976112365723, 0.10069544613361359, 0.10442039370536804, 0.11642655730247498, 0.12771940231323242, 0.1402859389781952, 0.15103307366371155, 0.14836138486862183, 0.15734809637069702, 0.15463626384735107, 0.1449567675590515, 0.1459469497203827, 0.1444651037454605, 0.14254522323608398, 0.1442503035068512, 0.14929915964603424, 0.15579479932785034, 0.15925288200378418, 0.15971451997756958, 0.1569088250398636, 0.1605708748102188, 0.17208285629749298, 0.1741795688867569, 0.18191085755825043, 0.18998636305332184, 0.17306441068649292, 0.1708681583404541, 0.152616947889328, 0.15834321081638336, 0.17058014869689941, 0.17865565419197083, 0.1655428111553192, 0.1536751091480255, 0.153482586145401, 0.1472993791103363, 0.14783023297786713, 0.13371329009532928, 0.10303902626037598, 0.1198713630437851, 0.12619367241859436, 0.12362146377563477, 0.140730082988739, 0.13534708321094513, 0.13226990401744843, 0.11645516753196716, 0.11626680195331573, 0.1239834874868393, 0.12378150224685669, 0.13892129063606262, 0.1334950029850006, 0.15097442269325256, 0.14770925045013428, 0.1485690474510193, 0.15742291510105133, 0.16167813539505005, 0.16572082042694092, 0.1589967906475067, 0.15363021194934845, 0.1560342013835907, 0.15967632830142975, 0.16490930318832397, 0.17331521213054657, 0.1847132295370102, 0.1858910620212555, 0.18603289127349854, 0.21736696362495422, 0.23402799665927887, 0.24673306941986084, 0.24109017848968506, 0.2376852035522461, 0.23218166828155518, 0.22919459640979767, 0.23397374153137207, 0.249114528298378, 0.25661832094192505, 0.25672879815101624, 0.24855025112628937, 0.22530850768089294, 0.23076586425304413, 0.24271893501281738, 0.23878374695777893, 0.24224182963371277, 0.26218104362487793, 0.270443856716156, 0.27812811732292175, 0.29557883739471436, 0.30854007601737976, 0.3148091733455658, 0.3359634578227997, 0.3345867395401001, 0.3118436336517334, 0.3117257356643677, 0.3289700746536255, 0.30309730768203735, 0.27989739179611206, 0.24853041768074036, 0.2507145404815674, 0.27595701813697815, 0.2990560829639435, 0.34015464782714844, 0.3551304042339325, 0.3462551534175873, 0.3608766198158264, 0.37377020716667175, 0.39055365324020386, 0.357860803604126, 0.3815818727016449, 0.35520070791244507, 0.39558395743370056, 0.4181782901287079, 0.45294082164764404, 0.4697684049606323, 0.4525429904460907, 0.46124911308288574, 0.4860609173774719, 0.5363203883171082, 0.5570080280303955, 0.5914251208305359, 0.5855222940444946, 0.6434804797172546, 0.798869788646698, 0.8250637054443359, 0.7516774535179138, 0.7905787825584412, 0.8703045845031738, 0.8436099886894226, 0.8538825511932373, 0.8146519660949707, 0.9010495543479919, 1.0076439380645752, 0.9937794208526611, 0.9756869673728943, 0.9005706310272217, 0.836365818977356, 0.7746793031692505, 0.6592776775360107, 0.6925719976425171, 0.6725763082504272, 0.6790961623191833, 0.7887755632400513, 0.7785763144493103, 0.7309547662734985, 0.740484356880188, 0.6182761192321777, 0.7038275003433228, 0.6640633344650269, 0.7475687265396118, 0.7448829412460327, 0.7601143717765808, 0.8660770654678345, 0.8821524381637573, 0.8221930265426636, 0.7720171213150024, 0.7199798822402954, 0.7511509656906128, 0.6544981002807617, 0.6992214322090149, 0.7187254428863525, 0.6878698468208313, 0.6930153369903564, 0.5605424046516418, 0.5521748661994934, 0.5491510033607483, 0.5646055936813354, 0.6129162907600403, 0.5477162599563599, 0.5206950306892395, 0.5270746350288391, 0.5658867359161377, 0.5555932521820068, 0.5378789901733398, 0.5648165941238403, 0.579289436340332, 0.546500027179718, 0.5067347288131714, 0.5048924088478088, 0.45632898807525635, 0.421609491109848, 0.4293425381183624, 0.3792453706264496, 0.33815309405326843, 0.365348219871521, 0.344707727432251, 0.3871673047542572, 0.3905383348464966, 0.4020516276359558, 0.3624836504459381, 0.43509751558303833, 0.40345391631126404, 0.4400714635848999, 0.48237496614456177, 0.4875883162021637, 0.528741717338562, 0.505352795124054, 0.5349700450897217, 0.5300400257110596, 0.5465340614318848, 0.4580136835575104, 0.48251622915267944, 0.46134382486343384, 0.45115017890930176, 0.4861399531364441, 0.5011557936668396, 0.5164446830749512, 0.5362217426300049, 0.5405675172805786, 0.5350460410118103, 0.5935124158859253, 0.5547295808792114, 0.539192795753479, 0.5109419226646423, 0.4482324421405792, 0.42950549721717834, 0.40946489572525024, 0.43493029475212097, 0.42403697967529297, 0.44078323245048523, 0.41713187098503113, 0.39443936944007874, 0.3714449107646942, 0.389893114566803, 0.37227925658226013, 0.37917232513427734, 0.41019776463508606, 0.450277179479599, 0.40438923239707947, 0.40167316794395447, 0.40024539828300476, 0.4004715383052826, 0.3754022717475891, 0.3561428487300873, 0.3882043957710266, 0.3405357003211975, 0.31204694509506226, 0.2892358899116516, 0.2995157539844513, 0.3111666440963745, 0.3212170898914337, 0.33193647861480713, 0.3034105598926544, 0.2939339578151703, 0.29827433824539185, 0.31020304560661316, 0.2909187972545624, 0.2999991476535797, 0.30487996339797974, 0.3303881883621216, 0.36461198329925537, 0.3666192591190338, 0.37093377113342285, 0.36555418372154236, 0.3619042932987213, 0.37015897035598755, 0.3917306661605835, 0.4123039245605469, 0.3982565701007843, 0.42071542143821716, 0.41919711232185364, 0.4620188772678375, 0.4543069303035736, 0.44214367866516113, 0.39919313788414, 0.39991796016693115, 0.44016140699386597, 0.44953715801239014, 0.4326391816139221, 0.46533507108688354, 0.45035016536712646, 0.4687851369380951, 0.47602391242980957, 0.4493422508239746, 0.4409233331680298, 0.4539111852645874, 0.42350104451179504, 0.43906038999557495, 0.42584770917892456, 0.4170474708080292, 0.3765466809272766, 0.3807390630245209, 0.3975583612918854, 0.40229713916778564, 0.37427830696105957, 0.3844746947288513, 0.3949519693851471, 0.3911193907260895, 0.38225996494293213, 0.3600674271583557, 0.35398420691490173, 0.34110382199287415, 0.36682575941085815, 0.33113208413124084, 0.3258281350135803, 0.30870768427848816, 0.3263941705226898, 0.3237455487251282, 0.3418613374233246, 0.34707391262054443, 0.34209558367729187, 0.34038281440734863, 0.3472801744937897, 0.34144312143325806, 0.34311825037002563, 0.35151511430740356, 0.3485211133956909, 0.3410474956035614, 0.33233919739723206, 0.2859644591808319, 0.29300373792648315, 0.2789951264858246, 0.2727563679218292, 0.2894884943962097, 0.28221726417541504, 0.2903621792793274, 0.27429574728012085, 0.29564952850341797, 0.2919202148914337, 0.30510270595550537, 0.2903275787830353, 0.2611435353755951, 0.2572515904903412, 0.25611624121665955, 0.2637632489204407, 0.2552598714828491, 0.2396010160446167, 0.26198703050613403, 0.2612496018409729, 0.2890275716781616, 0.27552151679992676, 0.28426188230514526, 0.281253844499588]}, {\"mode\": \"lines\", \"name\": \"train_pred\", \"type\": \"scatter\", \"x\": [430, 431, 432, 433, 434, 435, 436, 437, 438, 439, 440, 441, 442, 443, 444, 445, 446, 447, 448, 449, 450, 451, 452, 453, 454, 455, 456, 457, 458, 459, 460, 461, 462, 463, 464, 465, 466, 467, 468, 469, 470, 471, 472, 473, 474, 475, 476, 477, 478, 479, 480, 481, 482, 483, 484, 485, 486, 487, 488, 489, 490, 491, 492, 493, 494, 495, 496, 497, 498, 499, 500, 501, 502, 503, 504, 505, 506, 507, 508, 509, 510, 511, 512, 513, 514, 515, 516, 517, 518, 519, 520, 521, 522, 523, 524, 525, 526, 527, 528, 529, 530, 531, 532, 533, 534, 535, 536, 537, 538, 539, 540, 541, 542, 543, 544, 545, 546, 547, 548, 549, 550, 551, 552, 553, 554, 555, 556, 557, 558, 559, 560, 561, 562, 563, 564, 565, 566, 567, 568, 569, 570, 571, 572, 573, 574, 575, 576, 577, 578, 579, 580, 581, 582, 583, 584, 585, 586, 587, 588, 589, 590, 591, 592, 593, 594, 595, 596, 597, 598, 599, 600, 601, 602, 603, 604, 605, 606, 607, 608, 609, 610, 611, 612, 613, 614, 615, 616, 617, 618, 619, 620, 621, 622, 623, 624, 625, 626, 627, 628, 629, 630, 631, 632, 633, 634, 635, 636, 637, 638, 639, 640, 641, 642, 643, 644, 645, 646, 647, 648, 649, 650, 651, 652, 653, 654, 655, 656, 657, 658, 659, 660, 661, 662, 663, 664, 665, 666, 667, 668, 669, 670, 671, 672, 673, 674, 675, 676, 677, 678, 679, 680, 681, 682, 683, 684, 685, 686, 687, 688, 689, 690, 691, 692, 693, 694, 695, 696, 697, 698, 699, 700, 701, 702, 703, 704, 705, 706, 707, 708, 709, 710, 711, 712, 713, 714, 715, 716, 717, 718, 719, 720, 721, 722, 723, 724, 725, 726, 727, 728, 729, 730, 731, 732, 733, 734, 735, 736, 737, 738, 739, 740, 741, 742, 743, 744, 745, 746, 747, 748, 749, 750, 751, 752, 753, 754, 755, 756, 757, 758, 759, 760, 761, 762, 763, 764, 765, 766, 767, 768, 769, 770, 771, 772, 773, 774, 775, 776, 777, 778, 779, 780, 781, 782, 783, 784, 785, 786, 787, 788, 789, 790, 791, 792, 793, 794, 795, 796, 797, 798, 799, 800, 801, 802, 803, 804, 805, 806, 807, 808, 809, 810, 811, 812, 813, 814, 815, 816, 817, 818, 819, 820, 821, 822, 823, 824, 825, 826, 827, 828, 829, 830, 831, 832, 833, 834, 835, 836, 837, 838, 839, 840, 841, 842, 843, 844, 845, 846, 847, 848, 849, 850, 851, 852, 853, 854, 855, 856, 857, 858, 859, 860, 861, 862, 863, 864, 865, 866, 867, 868, 869, 870, 871, 872, 873, 874, 875, 876, 877, 878, 879, 880, 881, 882, 883, 884, 885, 886, 887, 888, 889, 890, 891, 892, 893, 894, 895, 896, 897, 898, 899, 900, 901, 902, 903, 904, 905, 906, 907, 908, 909, 910, 911, 912, 913, 914, 915, 916, 917, 918, 919, 920, 921, 922, 923, 924, 925, 926, 927, 928, 929, 930, 931, 932, 933, 934, 935, 936, 937, 938, 939, 940, 941, 942, 943, 944, 945, 946, 947, 948, 949, 950, 951, 952, 953, 954, 955, 956, 957, 958, 959, 960, 961, 962, 963, 964, 965, 966, 967, 968, 969, 970, 971, 972, 973, 974, 975, 976, 977, 978, 979, 980, 981, 982, 983, 984, 985, 986, 987, 988, 989, 990, 991, 992, 993, 994, 995, 996, 997, 998, 999, 1000, 1001, 1002, 1003, 1004, 1005, 1006, 1007, 1008, 1009, 1010, 1011, 1012, 1013, 1014, 1015, 1016, 1017, 1018, 1019, 1020, 1021, 1022, 1023, 1024, 1025, 1026, 1027, 1028, 1029, 1030, 1031, 1032, 1033, 1034, 1035, 1036, 1037, 1038, 1039, 1040, 1041, 1042, 1043, 1044, 1045, 1046, 1047, 1048, 1049, 1050, 1051, 1052, 1053, 1054, 1055, 1056, 1057, 1058, 1059, 1060, 1061, 1062, 1063, 1064, 1065, 1066, 1067, 1068, 1069, 1070, 1071, 1072, 1073, 1074, 1075, 1076, 1077, 1078, 1079, 1080, 1081, 1082, 1083, 1084, 1085, 1086, 1087, 1088, 1089, 1090, 1091, 1092, 1093, 1094, 1095, 1096, 1097, 1098, 1099, 1100, 1101, 1102, 1103, 1104, 1105, 1106, 1107, 1108, 1109, 1110, 1111, 1112, 1113, 1114, 1115, 1116, 1117, 1118, 1119, 1120, 1121, 1122, 1123, 1124, 1125, 1126, 1127, 1128, 1129, 1130, 1131, 1132, 1133, 1134, 1135, 1136, 1137, 1138, 1139, 1140, 1141, 1142, 1143, 1144, 1145, 1146, 1147, 1148, 1149, 1150, 1151, 1152, 1153, 1154, 1155, 1156, 1157, 1158, 1159, 1160, 1161, 1162, 1163, 1164, 1165, 1166, 1167, 1168, 1169, 1170, 1171, 1172, 1173, 1174, 1175, 1176, 1177, 1178, 1179, 1180, 1181, 1182, 1183, 1184, 1185, 1186, 1187, 1188, 1189, 1190, 1191, 1192, 1193, 1194, 1195, 1196, 1197, 1198, 1199, 1200, 1201, 1202, 1203, 1204, 1205, 1206, 1207, 1208, 1209, 1210, 1211, 1212, 1213, 1214, 1215, 1216, 1217, 1218, 1219, 1220, 1221, 1222, 1223, 1224, 1225, 1226, 1227, 1228, 1229, 1230, 1231, 1232, 1233, 1234, 1235, 1236, 1237, 1238, 1239, 1240, 1241, 1242, 1243, 1244, 1245, 1246, 1247, 1248, 1249, 1250, 1251, 1252, 1253, 1254, 1255, 1256, 1257, 1258, 1259, 1260, 1261, 1262, 1263, 1264, 1265, 1266, 1267, 1268, 1269, 1270, 1271, 1272, 1273, 1274, 1275, 1276, 1277, 1278, 1279, 1280, 1281, 1282, 1283], \"y\": [0.2917650640010834, 0.29064375162124634, 0.2843494713306427, 0.278402715921402, 0.295888751745224, 0.28864341974258423, 0.27794772386550903, 0.2719328999519348, 0.264214426279068, 0.26640281081199646, 0.2704079747200012, 0.2739497125148773, 0.30014705657958984, 0.328658789396286, 0.34045788645744324, 0.33874276280403137, 0.3263669013977051, 0.3295397460460663, 0.33198636770248413, 0.3590005338191986, 0.38041242957115173, 0.3703174293041229, 0.3640889823436737, 0.37256601452827454, 0.390739768743515, 0.38222992420196533, 0.37750619649887085, 0.35004615783691406, 0.3357766568660736, 0.3591783940792084, 0.32510608434677124, 0.3021414577960968, 0.2981589436531067, 0.283822238445282, 0.3146064579486847, 0.2836935222148895, 0.2654888927936554, 0.257894903421402, 0.26728665828704834, 0.2780068516731262, 0.27201372385025024, 0.25739702582359314, 0.2708224654197693, 0.28139662742614746, 0.28208789229393005, 0.2853369116783142, 0.2529444694519043, 0.27103057503700256, 0.27589282393455505, 0.287725567817688, 0.2877037823200226, 0.28802549839019775, 0.2896893620491028, 0.2977103590965271, 0.3070656359195709, 0.31718188524246216, 0.3085542917251587, 0.30705827474594116, 0.31088414788246155, 0.3246155381202698, 0.33257684111595154, 0.32196366786956787, 0.320630818605423, 0.28890764713287354, 0.28179606795310974, 0.2817109227180481, 0.26247966289520264, 0.25505322217941284, 0.2700001895427704, 0.2802671790122986, 0.2767525315284729, 0.28185394406318665, 0.2775298058986664, 0.2765503525733948, 0.2843446433544159, 0.2720595896244049, 0.27526921033859253, 0.2756190598011017, 0.28211939334869385, 0.29466164112091064, 0.2930905818939209, 0.2913205623626709, 0.2853247821331024, 0.2756139039993286, 0.27820953726768494, 0.2934449315071106, 0.29022425413131714, 0.290263831615448, 0.2884376645088196, 0.2876569628715515, 0.2833766043186188, 0.2816203534603119, 0.2753380239009857, 0.2841150462627411, 0.2899528741836548, 0.2932632863521576, 0.2938060462474823, 0.28727439045906067, 0.284435510635376, 0.26888322830200195, 0.2684479355812073, 0.2727975845336914, 0.275181382894516, 0.2974088191986084, 0.30306437611579895, 0.29618334770202637, 0.2851026654243469, 0.2794339060783386, 0.2839236855506897, 0.2870534360408783, 0.2858365774154663, 0.2871057689189911, 0.29036274552345276, 0.2883126139640808, 0.2838676869869232, 0.2770525813102722, 0.2737799882888794, 0.27052226662635803, 0.27479347586631775, 0.2785973846912384, 0.27829301357269287, 0.2760176956653595, 0.2722214460372925, 0.2772248387336731, 0.27943095564842224, 0.28169870376586914, 0.28393447399139404, 0.2815811336040497, 0.2788560092449188, 0.28022831678390503, 0.27871376276016235, 0.2760474681854248, 0.27653464674949646, 0.24970415234565735, 0.2353476732969284, 0.2321581095457077, 0.2305966019630432, 0.23127490282058716, 0.19776691496372223, 0.16692814230918884, 0.1702711582183838, 0.16372287273406982, 0.15777136385440826, 0.13790316879749298, 0.1471739411354065, 0.13553088903427124, 0.13698315620422363, 0.15217022597789764, 0.153204083442688, 0.14736562967300415, 0.1470717042684555, 0.15085840225219727, 0.1355876922607422, 0.13471361994743347, 0.12855026125907898, 0.1148567944765091, 0.10604551434516907, 0.108559250831604, 0.11388172209262848, 0.11042989790439606, 0.10804776847362518, 0.1061372458934784, 0.10238143801689148, 0.09594811499118805, 0.09469637274742126, 0.09786628186702728, 0.11092056334018707, 0.12101149559020996, 0.12257847189903259, 0.13715797662734985, 0.13175033032894135, 0.1340174525976181, 0.1343667209148407, 0.13985863327980042, 0.12870952486991882, 0.12734174728393555, 0.1192701905965805, 0.12715288996696472, 0.12552271783351898, 0.1272747814655304, 0.12353336811065674, 0.12702247500419617, 0.1317451149225235, 0.12659300863742828, 0.1290721446275711, 0.1255836933851242, 0.13885831832885742, 0.13909268379211426, 0.1386052817106247, 0.13764223456382751, 0.11838437616825104, 0.11608055233955383, 0.11489850282669067, 0.1125665158033371, 0.11928462982177734, 0.11712458729743958, 0.1186191737651825, 0.11522354185581207, 0.11691109836101532, 0.11845968663692474, 0.11395575106143951, 0.11483901739120483, 0.1153123676776886, 0.11657272279262543, 0.11584353446960449, 0.11425630748271942, 0.11553841829299927, 0.11336731910705566, 0.10937908291816711, 0.10677608847618103, 0.10871455073356628, 0.10911716520786285, 0.1099223792552948, 0.11170737445354462, 0.10967202484607697, 0.10846962034702301, 0.10937556624412537, 0.10687574744224548, 0.10578176379203796, 0.11897377669811249, 0.12217612564563751, 0.12227316200733185, 0.1186179369688034, 0.11768282949924469, 0.11690667271614075, 0.1162441074848175, 0.11817148327827454, 0.11884981393814087, 0.12234652042388916, 0.1328553557395935, 0.1352984756231308, 0.137209951877594, 0.1352199763059616, 0.13683241605758667, 0.14468984305858612, 0.12949471175670624, 0.1299128383398056, 0.1282215267419815, 0.13094981014728546, 0.12998834252357483, 0.13006442785263062, 0.13081094622612, 0.12731412053108215, 0.12555372714996338, 0.12966026365756989, 0.1321413367986679, 0.13409076631069183, 0.13222645223140717, 0.13607871532440186, 0.13574224710464478, 0.13221079111099243, 0.13310261070728302, 0.1316584050655365, 0.13343937695026398, 0.13578054308891296, 0.14028309285640717, 0.1397763043642044, 0.1389007419347763, 0.1397884339094162, 0.1414514183998108, 0.1393107771873474, 0.13920287787914276, 0.1403895914554596, 0.14005568623542786, 0.13761082291603088, 0.13656288385391235, 0.14130587875843048, 0.1416495144367218, 0.14566077291965485, 0.14611713588237762, 0.1461324840784073, 0.14754346013069153, 0.18326255679130554, 0.1955765038728714, 0.1943388283252716, 0.19502080976963043, 0.1977367103099823, 0.20560164749622345, 0.21105341613292694, 0.20732851326465607, 0.21210578083992004, 0.2013227641582489, 0.20053352415561676, 0.19821614027023315, 0.20266184210777283, 0.19726169109344482, 0.20556071400642395, 0.21021616458892822, 0.21262887120246887, 0.21264643967151642, 0.2123691290616989, 0.2107992172241211, 0.21628102660179138, 0.22509586811065674, 0.22213105857372284, 0.21187807619571686, 0.2121809422969818, 0.2135900855064392, 0.2141825258731842, 0.21047425270080566, 0.21287766098976135, 0.2187165915966034, 0.22666600346565247, 0.24197617173194885, 0.24596455693244934, 0.24157127737998962, 0.23721304535865784, 0.24397826194763184, 0.25255972146987915, 0.26443180441856384, 0.27646541595458984, 0.3218647241592407, 0.3176669776439667, 0.35695943236351013, 0.36830154061317444, 0.376257061958313, 0.35982948541641235, 0.3278804421424866, 0.32397592067718506, 0.3806157112121582, 0.3428369462490082, 0.3744780123233795, 0.3193630576133728, 0.37225353717803955, 0.36615344882011414, 0.3970918655395508, 0.40969234704971313, 0.38044044375419617, 0.41109099984169006, 0.4119914770126343, 0.4034155011177063, 0.3830967843532562, 0.3955257534980774, 0.3847091794013977, 0.3840794265270233, 0.33840253949165344, 0.37235042452812195, 0.33806896209716797, 0.36754748225212097, 0.33277490735054016, 0.37983325123786926, 0.3617294728755951, 0.3614026606082916, 0.3776726722717285, 0.37057065963745117, 0.4027179777622223, 0.4188709855079651, 0.4329889714717865, 0.44144555926322937, 0.4273013472557068, 0.43809229135513306, 0.4749392867088318, 0.5034153461456299, 0.531064510345459, 0.5264425873756409, 0.5639599561691284, 0.6606998443603516, 0.5720458030700684, 0.6322965621948242, 0.6276350021362305, 0.5425829887390137, 0.4918333888053894, 0.5189805030822754, 0.5943948030471802, 0.5540134906768799, 0.5354962348937988, 0.5562800168991089, 0.578927218914032, 0.6423356533050537, 0.6358105540275574, 0.5885148048400879, 0.5485983490943909, 0.5740129351615906, 0.5824991464614868, 0.49724000692367554, 0.5166123509407043, 0.44080471992492676, 0.46176567673683167, 0.5131330490112305, 0.5067393779754639, 0.5055236220359802, 0.5089192390441895, 0.5057332515716553, 0.4893895387649536, 0.48415279388427734, 0.48287054896354675, 0.477920800447464, 0.4550434947013855, 0.4589105248451233, 0.4477555751800537, 0.4608273208141327, 0.4853302538394928, 0.49520260095596313, 0.5172626972198486, 0.5147590637207031, 0.5366400480270386, 0.5534052848815918, 0.5682573318481445, 0.5795974731445312, 0.5885252952575684, 0.5889214873313904, 0.5740604400634766, 0.55452960729599, 0.5329412221908569, 0.5317563414573669, 0.511332094669342, 0.5014073252677917, 0.4901522994041443, 0.4730848968029022, 0.5062191486358643, 0.5195021629333496, 0.5304653644561768, 0.4974975883960724, 0.49363479018211365, 0.493064820766449, 0.48664945363998413, 0.4876682758331299, 0.4936125576496124, 0.49973320960998535, 0.4849511384963989, 0.4470425844192505, 0.44375497102737427, 0.4620237350463867, 0.4693760871887207, 0.46446412801742554, 0.4889778196811676, 0.5085822939872742, 0.5099999308586121, 0.4972273111343384, 0.49503621459007263, 0.523845911026001, 0.49155503511428833, 0.47800108790397644, 0.4945307672023773, 0.48949378728866577, 0.49032264947891235, 0.4885839819908142, 0.5016399621963501, 0.49640321731567383, 0.49550798535346985, 0.4877956509590149, 0.49262452125549316, 0.4953925907611847, 0.4906209707260132, 0.47334668040275574, 0.47146719694137573, 0.4462834596633911, 0.3866158127784729, 0.3704691231250763, 0.37526917457580566, 0.3812999129295349, 0.38337552547454834, 0.3758449852466583, 0.3883337080478668, 0.39239951968193054, 0.36630281805992126, 0.359871506690979, 0.3696834444999695, 0.373163640499115, 0.3749697506427765, 0.3853277862071991, 0.38623127341270447, 0.3929525315761566, 0.4119696617126465, 0.39072075486183167, 0.38864317536354065, 0.3847590982913971, 0.3890017569065094, 0.37612059712409973, 0.36514732241630554, 0.3601626455783844, 0.3607054352760315, 0.3579399287700653, 0.3760327100753784, 0.3691285252571106, 0.36054566502571106, 0.3599685728549957, 0.3631102740764618, 0.41127967834472656, 0.42888155579566956, 0.4478430151939392, 0.4277727007865906, 0.4248165488243103, 0.43430644273757935, 0.4429653286933899, 0.449811190366745, 0.42651277780532837, 0.4252268671989441, 0.4433404803276062, 0.4393593668937683, 0.4434735178947449, 0.42099806666374207, 0.41958242654800415, 0.4063091278076172, 0.4039130210876465, 0.417977511882782, 0.41058507561683655, 0.4096876382827759, 0.4019802212715149, 0.3848339319229126, 0.3896247148513794, 0.39364093542099, 0.383650004863739, 0.36765056848526, 0.36219334602355957, 0.34932228922843933, 0.32213056087493896, 0.3132110834121704, 0.29810819029808044, 0.3146880567073822, 0.31789058446884155, 0.3475247323513031, 0.3460667133331299, 0.3408616781234741, 0.3369923233985901, 0.33291640877723694, 0.3240887224674225, 0.3283889591693878, 0.3142242431640625, 0.34349164366722107, 0.3271055221557617, 0.3489161431789398, 0.3348146080970764, 0.3146537244319916, 0.3308836817741394, 0.31710803508758545, 0.32926881313323975, 0.3276628851890564, 0.31654757261276245, 0.31063348054885864, 0.30170661211013794, 0.28924617171287537, 0.32372456789016724, 0.3181408643722534, 0.3218145966529846, 0.31602275371551514, 0.3308930993080139, 0.3429116904735565, 0.3334052860736847, 0.31307995319366455, 0.3107873797416687, 0.3201790452003479, 0.33807462453842163, 0.3419237434864044, 0.32412242889404297, 0.30428022146224976, 0.31861159205436707, 0.3090059161186218, 0.3310415744781494, 0.3233346939086914, 0.32933613657951355, 0.3508165180683136, 0.3852991759777069, 0.3801478445529938, 0.35721325874328613, 0.36509615182876587, 0.36721470952033997, 0.3685019314289093, 0.39078134298324585, 0.4216391146183014, 0.38977909088134766, 0.4185635447502136, 0.40279945731163025, 0.42144542932510376, 0.4157702922821045, 0.3890738785266876, 0.42830201983451843, 0.3802352249622345, 0.40230292081832886, 0.3675978183746338, 0.4076448678970337, 0.3986208438873291, 0.4382486641407013, 0.43727433681488037, 0.4484615623950958, 0.44339776039123535, 0.4314243793487549, 0.4458034336566925, 0.4463754892349243, 0.4269859194755554, 0.43750929832458496, 0.4550800323486328, 0.47035014629364014, 0.4851878881454468, 0.48337411880493164, 0.4749579429626465, 0.4915907382965088, 0.493028461933136, 0.495871901512146, 0.49068373441696167, 0.49664098024368286, 0.45634791254997253, 0.4982566237449646, 0.49014750123023987, 0.470447301864624, 0.45991531014442444, 0.44858014583587646, 0.4542539715766907, 0.4790158271789551, 0.46536701917648315, 0.4576309323310852, 0.4287794828414917, 0.4153752326965332, 0.39872539043426514, 0.39621657133102417, 0.39916956424713135, 0.4086671769618988, 0.41521769762039185, 0.41874992847442627, 0.42520245909690857, 0.41815656423568726, 0.41883522272109985, 0.39627259969711304, 0.3680800795555115, 0.3623480796813965, 0.3837062120437622, 0.2890777587890625, 0.19386154413223267, 0.18558242917060852, 0.2119615375995636, 0.22466424107551575, 0.21443426609039307, 0.2107902616262436, 0.24724003672599792, 0.2489100843667984, 0.27045902609825134, 0.2413383573293686, 0.27914196252822876, 0.29235172271728516, 0.2944695055484772, 0.29450851678848267, 0.2668994665145874, 0.2713029980659485, 0.25652918219566345, 0.26094481348991394, 0.27291586995124817, 0.28039321303367615, 0.29019901156425476, 0.30165398120880127, 0.29614219069480896, 0.3018527328968048, 0.29863977432250977, 0.3219386339187622, 0.32402661442756653, 0.33335089683532715, 0.3266306519508362, 0.2959608733654022, 0.29801419377326965, 0.2999933362007141, 0.3027139902114868, 0.29805848002433777, 0.29697248339653015, 0.3202376663684845, 0.3181544542312622, 0.330114483833313, 0.3058885633945465, 0.29539161920547485, 0.29112306237220764, 0.32569169998168945, 0.34349557757377625, 0.3415340185165405, 0.33389902114868164, 0.33533158898353577, 0.3626142144203186, 0.36746838688850403, 0.41882917284965515, 0.3922930359840393, 0.4059257507324219, 0.4252992868423462, 0.43351107835769653, 0.4210829734802246, 0.4327225089073181, 0.4388706684112549, 0.47339847683906555, 0.4715009927749634, 0.4246758818626404, 0.40009406208992004, 0.3891042470932007, 0.429914265871048, 0.4777597188949585, 0.43939605355262756, 0.46530067920684814, 0.46301931142807007, 0.461250901222229, 0.4740455746650696, 0.46739426255226135, 0.4629848003387451, 0.4118444323539734, 0.3822352886199951, 0.4182139039039612, 0.39744362235069275, 0.42178869247436523, 0.45344170928001404, 0.45271098613739014, 0.45442062616348267, 0.44133836030960083, 0.44371917843818665, 0.46306344866752625, 0.4661298394203186, 0.46142855286598206, 0.4577524662017822, 0.457681268453598, 0.4586753249168396, 0.4507863521575928, 0.47941911220550537, 0.47552627325057983, 0.46431028842926025, 0.4637724459171295, 0.4353789985179901, 0.4383743703365326, 0.45317578315734863, 0.46348655223846436, 0.44260233640670776, 0.4431615471839905, 0.4343627095222473, 0.4514046311378479, 0.4332742989063263, 0.4389265775680542, 0.45765921473503113, 0.46425771713256836, 0.45233088731765747, 0.4342968463897705, 0.4269404113292694, 0.4271531403064728, 0.428945928812027, 0.4377264976501465, 0.4339585602283478, 0.4158976674079895, 0.4279325604438782, 0.4230138063430786, 0.4302126169204712, 0.4381859302520752, 0.4328811466693878, 0.4355061948299408, 0.43430185317993164, 0.43787693977355957, 0.4365270733833313, 0.44276630878448486, 0.4442833960056305, 0.43743377923965454, 0.43070515990257263, 0.429792195558548, 0.4311130940914154, 0.42992112040519714, 0.43145951628685, 0.43623536825180054, 0.43984949588775635, 0.4349319040775299, 0.4425020217895508, 0.448760449886322, 0.45586204528808594, 0.4541088342666626, 0.46459510922431946, 0.48690298199653625, 0.547451913356781, 0.5399609804153442, 0.5446449518203735, 0.556303858757019, 0.5958557724952698, 0.5725808143615723, 0.5494867563247681, 0.5543731451034546, 0.5690627098083496, 0.5776205658912659, 0.5881810188293457, 0.5704714059829712, 0.5690402984619141, 0.5777990818023682, 0.5696377754211426, 0.5803727507591248, 0.5743491649627686, 0.5731803178787231, 0.568163275718689, 0.593300998210907, 0.6031219959259033, 0.587855875492096, 0.5845162868499756, 0.5787332057952881, 0.5806955099105835, 0.5881043672561646, 0.5790519118309021, 0.5744474530220032, 0.5677233934402466, 0.5658094882965088, 0.5619714856147766, 0.5603865385055542, 0.5590034127235413, 0.574590802192688, 0.5806400775909424, 0.5840502977371216, 0.5755471587181091, 0.5653741359710693, 0.46824875473976135, 0.4933527708053589, 0.4815637469291687, 0.47888320684432983, 0.5169284343719482, 0.522136926651001, 0.4657739996910095, 0.5065086483955383, 0.5396195650100708, 0.5009905099868774, 0.4644656181335449, 0.49125221371650696, 0.5471117496490479, 0.5226320028305054, 0.5356449484825134, 0.5442419648170471, 0.5292648077011108, 0.5326303243637085, 0.514137864112854, 0.5136750340461731, 0.46612197160720825, 0.49144285917282104, 0.5323030352592468, 0.5191464424133301, 0.5300439596176147, 0.5189039707183838, 0.4966890811920166, 0.5304950475692749, 0.5134693384170532, 0.5039451122283936, 0.5175930857658386, 0.4813968539237976, 0.5035719275474548, 0.527984619140625, 0.530362606048584, 0.5278667211532593, 0.5297690629959106, 0.55808025598526, 0.5715343952178955, 0.56671142578125, 0.5560054779052734, 0.5603476762771606, 0.5578016042709351, 0.5381414890289307, 0.5553097128868103, 0.5766465067863464, 0.5664119124412537, 0.5742337107658386, 0.6360558271408081, 0.6480656862258911, 0.6380252242088318, 0.6541199088096619, 0.6646982431411743, 0.6154366731643677, 0.6613998413085938, 0.6731604933738708, 0.6740444898605347, 0.7014249563217163, 0.6842454671859741, 0.6556949019432068, 0.6727069020271301, 0.6805969476699829]}, {\"mode\": \"lines\", \"name\": \"after_pred\", \"type\": \"scatter\", \"x\": [1256, 1257, 1258, 1259, 1260, 1261, 1262, 1263, 1264, 1265, 1266, 1267, 1268, 1269, 1270, 1271, 1272, 1273, 1274, 1275, 1276, 1277, 1278, 1279, 1280, 1281, 1282, 1283, 1284, 1285, 1286, 1287, 1288, 1289, 1290, 1291, 1292, 1293, 1294, 1295, 1296, 1297, 1298, 1299, 1300, 1301, 1302, 1303, 1304, 1305, 1306, 1307, 1308, 1309, 1310, 1311, 1312, 1313, 1314, 1315, 1316, 1317, 1318, 1319, 1320, 1321], \"y\": [0.5378865003585815, 0.5208703875541687, 0.5442997813224792, 0.5569828152656555, 0.5520674586296082, 0.5566706657409668, 0.5668935775756836, 0.5591908097267151, 0.5622842311859131, 0.5522182583808899, 0.5551220774650574, 0.5730499029159546, 0.573768675327301, 0.5905387997627258, 0.6432508230209351, 0.6475392580032349, 0.6436949968338013, 0.6535687446594238, 0.6615487337112427, 0.6232614517211914, 0.6696794629096985, 0.6761191487312317, 0.6845174431800842, 0.6943397521972656, 0.679431676864624, 0.6519343852996826, 0.6753139495849609, 0.680487871170044, 0.7118825912475586, 0.7219709157943726, 0.717033863067627, 0.7152363061904907, 0.6962546110153198, 0.6940965056419373, 0.6852856874465942, 0.6841234564781189, 0.687816858291626, 0.6914107203483582]}],\n",
              "                        {\"template\": {\"data\": {\"bar\": [{\"error_x\": {\"color\": \"#2a3f5f\"}, \"error_y\": {\"color\": \"#2a3f5f\"}, \"marker\": {\"line\": {\"color\": \"#E5ECF6\", \"width\": 0.5}}, \"type\": \"bar\"}], \"barpolar\": [{\"marker\": {\"line\": {\"color\": \"#E5ECF6\", \"width\": 0.5}}, \"type\": \"barpolar\"}], \"carpet\": [{\"aaxis\": {\"endlinecolor\": \"#2a3f5f\", \"gridcolor\": \"white\", \"linecolor\": \"white\", \"minorgridcolor\": \"white\", \"startlinecolor\": \"#2a3f5f\"}, \"baxis\": {\"endlinecolor\": \"#2a3f5f\", \"gridcolor\": \"white\", \"linecolor\": \"white\", \"minorgridcolor\": \"white\", \"startlinecolor\": \"#2a3f5f\"}, \"type\": \"carpet\"}], \"choropleth\": [{\"colorbar\": {\"outlinewidth\": 0, \"ticks\": \"\"}, \"type\": \"choropleth\"}], \"contour\": [{\"colorbar\": {\"outlinewidth\": 0, \"ticks\": \"\"}, \"colorscale\": [[0.0, \"#0d0887\"], [0.1111111111111111, \"#46039f\"], [0.2222222222222222, \"#7201a8\"], [0.3333333333333333, \"#9c179e\"], [0.4444444444444444, \"#bd3786\"], [0.5555555555555556, \"#d8576b\"], [0.6666666666666666, \"#ed7953\"], [0.7777777777777778, \"#fb9f3a\"], [0.8888888888888888, \"#fdca26\"], [1.0, \"#f0f921\"]], \"type\": \"contour\"}], \"contourcarpet\": [{\"colorbar\": {\"outlinewidth\": 0, \"ticks\": \"\"}, \"type\": \"contourcarpet\"}], \"heatmap\": [{\"colorbar\": {\"outlinewidth\": 0, \"ticks\": \"\"}, \"colorscale\": [[0.0, \"#0d0887\"], [0.1111111111111111, \"#46039f\"], [0.2222222222222222, \"#7201a8\"], [0.3333333333333333, \"#9c179e\"], [0.4444444444444444, \"#bd3786\"], [0.5555555555555556, \"#d8576b\"], [0.6666666666666666, \"#ed7953\"], [0.7777777777777778, \"#fb9f3a\"], [0.8888888888888888, \"#fdca26\"], [1.0, \"#f0f921\"]], \"type\": \"heatmap\"}], \"heatmapgl\": [{\"colorbar\": {\"outlinewidth\": 0, \"ticks\": \"\"}, \"colorscale\": [[0.0, \"#0d0887\"], [0.1111111111111111, \"#46039f\"], [0.2222222222222222, \"#7201a8\"], [0.3333333333333333, \"#9c179e\"], [0.4444444444444444, \"#bd3786\"], [0.5555555555555556, \"#d8576b\"], [0.6666666666666666, \"#ed7953\"], [0.7777777777777778, \"#fb9f3a\"], [0.8888888888888888, \"#fdca26\"], [1.0, \"#f0f921\"]], \"type\": \"heatmapgl\"}], \"histogram\": [{\"marker\": {\"colorbar\": {\"outlinewidth\": 0, \"ticks\": \"\"}}, \"type\": \"histogram\"}], \"histogram2d\": [{\"colorbar\": {\"outlinewidth\": 0, \"ticks\": \"\"}, \"colorscale\": [[0.0, \"#0d0887\"], [0.1111111111111111, \"#46039f\"], [0.2222222222222222, \"#7201a8\"], [0.3333333333333333, \"#9c179e\"], [0.4444444444444444, \"#bd3786\"], [0.5555555555555556, \"#d8576b\"], [0.6666666666666666, \"#ed7953\"], [0.7777777777777778, \"#fb9f3a\"], [0.8888888888888888, \"#fdca26\"], [1.0, \"#f0f921\"]], \"type\": \"histogram2d\"}], \"histogram2dcontour\": [{\"colorbar\": {\"outlinewidth\": 0, \"ticks\": \"\"}, \"colorscale\": [[0.0, \"#0d0887\"], [0.1111111111111111, \"#46039f\"], [0.2222222222222222, \"#7201a8\"], [0.3333333333333333, \"#9c179e\"], [0.4444444444444444, \"#bd3786\"], [0.5555555555555556, \"#d8576b\"], [0.6666666666666666, \"#ed7953\"], [0.7777777777777778, \"#fb9f3a\"], [0.8888888888888888, \"#fdca26\"], [1.0, \"#f0f921\"]], \"type\": \"histogram2dcontour\"}], \"mesh3d\": [{\"colorbar\": {\"outlinewidth\": 0, \"ticks\": \"\"}, \"type\": \"mesh3d\"}], \"parcoords\": [{\"line\": {\"colorbar\": {\"outlinewidth\": 0, \"ticks\": \"\"}}, \"type\": \"parcoords\"}], \"pie\": [{\"automargin\": true, \"type\": \"pie\"}], \"scatter\": [{\"marker\": {\"colorbar\": {\"outlinewidth\": 0, \"ticks\": \"\"}}, \"type\": \"scatter\"}], \"scatter3d\": [{\"line\": {\"colorbar\": {\"outlinewidth\": 0, \"ticks\": \"\"}}, \"marker\": {\"colorbar\": {\"outlinewidth\": 0, \"ticks\": \"\"}}, \"type\": \"scatter3d\"}], \"scattercarpet\": [{\"marker\": {\"colorbar\": {\"outlinewidth\": 0, \"ticks\": \"\"}}, \"type\": \"scattercarpet\"}], \"scattergeo\": [{\"marker\": {\"colorbar\": {\"outlinewidth\": 0, \"ticks\": \"\"}}, \"type\": \"scattergeo\"}], \"scattergl\": [{\"marker\": {\"colorbar\": {\"outlinewidth\": 0, \"ticks\": \"\"}}, \"type\": \"scattergl\"}], \"scattermapbox\": [{\"marker\": {\"colorbar\": {\"outlinewidth\": 0, \"ticks\": \"\"}}, \"type\": \"scattermapbox\"}], \"scatterpolar\": [{\"marker\": {\"colorbar\": {\"outlinewidth\": 0, \"ticks\": \"\"}}, \"type\": \"scatterpolar\"}], \"scatterpolargl\": [{\"marker\": {\"colorbar\": {\"outlinewidth\": 0, \"ticks\": \"\"}}, \"type\": \"scatterpolargl\"}], \"scatterternary\": [{\"marker\": {\"colorbar\": {\"outlinewidth\": 0, \"ticks\": \"\"}}, \"type\": \"scatterternary\"}], \"surface\": [{\"colorbar\": {\"outlinewidth\": 0, \"ticks\": \"\"}, \"colorscale\": [[0.0, \"#0d0887\"], [0.1111111111111111, \"#46039f\"], [0.2222222222222222, \"#7201a8\"], [0.3333333333333333, \"#9c179e\"], [0.4444444444444444, \"#bd3786\"], [0.5555555555555556, \"#d8576b\"], [0.6666666666666666, \"#ed7953\"], [0.7777777777777778, \"#fb9f3a\"], [0.8888888888888888, \"#fdca26\"], [1.0, \"#f0f921\"]], \"type\": \"surface\"}], \"table\": [{\"cells\": {\"fill\": {\"color\": \"#EBF0F8\"}, \"line\": {\"color\": \"white\"}}, \"header\": {\"fill\": {\"color\": \"#C8D4E3\"}, \"line\": {\"color\": \"white\"}}, \"type\": \"table\"}]}, \"layout\": {\"annotationdefaults\": {\"arrowcolor\": \"#2a3f5f\", \"arrowhead\": 0, \"arrowwidth\": 1}, \"coloraxis\": {\"colorbar\": {\"outlinewidth\": 0, \"ticks\": \"\"}}, \"colorscale\": {\"diverging\": [[0, \"#8e0152\"], [0.1, \"#c51b7d\"], [0.2, \"#de77ae\"], [0.3, \"#f1b6da\"], [0.4, \"#fde0ef\"], [0.5, \"#f7f7f7\"], [0.6, \"#e6f5d0\"], [0.7, \"#b8e186\"], [0.8, \"#7fbc41\"], [0.9, \"#4d9221\"], [1, \"#276419\"]], \"sequential\": [[0.0, \"#0d0887\"], [0.1111111111111111, \"#46039f\"], [0.2222222222222222, \"#7201a8\"], [0.3333333333333333, \"#9c179e\"], [0.4444444444444444, \"#bd3786\"], [0.5555555555555556, \"#d8576b\"], [0.6666666666666666, \"#ed7953\"], [0.7777777777777778, \"#fb9f3a\"], [0.8888888888888888, \"#fdca26\"], [1.0, \"#f0f921\"]], \"sequentialminus\": [[0.0, \"#0d0887\"], [0.1111111111111111, \"#46039f\"], [0.2222222222222222, \"#7201a8\"], [0.3333333333333333, \"#9c179e\"], [0.4444444444444444, \"#bd3786\"], [0.5555555555555556, \"#d8576b\"], [0.6666666666666666, \"#ed7953\"], [0.7777777777777778, \"#fb9f3a\"], [0.8888888888888888, \"#fdca26\"], [1.0, \"#f0f921\"]]}, \"colorway\": [\"#636efa\", \"#EF553B\", \"#00cc96\", \"#ab63fa\", \"#FFA15A\", \"#19d3f3\", \"#FF6692\", \"#B6E880\", \"#FF97FF\", \"#FECB52\"], \"font\": {\"color\": \"#2a3f5f\"}, \"geo\": {\"bgcolor\": \"white\", \"lakecolor\": \"white\", \"landcolor\": \"#E5ECF6\", \"showlakes\": true, \"showland\": true, \"subunitcolor\": \"white\"}, \"hoverlabel\": {\"align\": \"left\"}, \"hovermode\": \"closest\", \"mapbox\": {\"style\": \"light\"}, \"paper_bgcolor\": \"white\", \"plot_bgcolor\": \"#E5ECF6\", \"polar\": {\"angularaxis\": {\"gridcolor\": \"white\", \"linecolor\": \"white\", \"ticks\": \"\"}, \"bgcolor\": \"#E5ECF6\", \"radialaxis\": {\"gridcolor\": \"white\", \"linecolor\": \"white\", \"ticks\": \"\"}}, \"scene\": {\"xaxis\": {\"backgroundcolor\": \"#E5ECF6\", \"gridcolor\": \"white\", \"gridwidth\": 2, \"linecolor\": \"white\", \"showbackground\": true, \"ticks\": \"\", \"zerolinecolor\": \"white\"}, \"yaxis\": {\"backgroundcolor\": \"#E5ECF6\", \"gridcolor\": \"white\", \"gridwidth\": 2, \"linecolor\": \"white\", \"showbackground\": true, \"ticks\": \"\", \"zerolinecolor\": \"white\"}, \"zaxis\": {\"backgroundcolor\": \"#E5ECF6\", \"gridcolor\": \"white\", \"gridwidth\": 2, \"linecolor\": \"white\", \"showbackground\": true, \"ticks\": \"\", \"zerolinecolor\": \"white\"}}, \"shapedefaults\": {\"line\": {\"color\": \"#2a3f5f\"}}, \"ternary\": {\"aaxis\": {\"gridcolor\": \"white\", \"linecolor\": \"white\", \"ticks\": \"\"}, \"baxis\": {\"gridcolor\": \"white\", \"linecolor\": \"white\", \"ticks\": \"\"}, \"bgcolor\": \"#E5ECF6\", \"caxis\": {\"gridcolor\": \"white\", \"linecolor\": \"white\", \"ticks\": \"\"}}, \"title\": {\"x\": 0.05}, \"xaxis\": {\"automargin\": true, \"gridcolor\": \"white\", \"linecolor\": \"white\", \"ticks\": \"\", \"title\": {\"standoff\": 15}, \"zerolinecolor\": \"white\", \"zerolinewidth\": 2}, \"yaxis\": {\"automargin\": true, \"gridcolor\": \"white\", \"linecolor\": \"white\", \"ticks\": \"\", \"title\": {\"standoff\": 15}, \"zerolinecolor\": \"white\", \"zerolinewidth\": 2}}}, \"title\": {\"text\": \"BTC-UTD: [2014-07-18 ~ 2020-09-02] 128cell 64win 1bat 7000ep 0.2drop adam 0.0001lr 86400period.h5 [2020-11-04 Verified]\"}},\n",
              "                        {\"responsive\": true}\n",
              "                    ).then(function(){\n",
              "                            \n",
              "var gd = document.getElementById('f0bf93a2-c24e-4c7e-8a46-a967ae7eb729');\n",
              "var x = new MutationObserver(function (mutations, observer) {{\n",
              "        var display = window.getComputedStyle(gd).display;\n",
              "        if (!display || display === 'none') {{\n",
              "            console.log([gd, 'removed!']);\n",
              "            Plotly.purge(gd);\n",
              "            observer.disconnect();\n",
              "        }}\n",
              "}});\n",
              "\n",
              "// Listen for the removal of the full notebook cells\n",
              "var notebookContainer = gd.closest('#notebook-container');\n",
              "if (notebookContainer) {{\n",
              "    x.observe(notebookContainer, {childList: true});\n",
              "}}\n",
              "\n",
              "// Listen for the clearing of the current output cell\n",
              "var outputEl = gd.closest('.output');\n",
              "if (outputEl) {{\n",
              "    x.observe(outputEl, {childList: true});\n",
              "}}\n",
              "\n",
              "                        })\n",
              "                };\n",
              "                \n",
              "            </script>\n",
              "        </div>\n",
              "</body>\n",
              "</html>"
            ]
          },
          "metadata": {
            "tags": []
          }
        }
      ]
    },
    {
      "cell_type": "code",
      "metadata": {
        "id": "JAAi-2INSqID"
      },
      "source": [
        "# plt.plot(np.arange(0,len(real_price[1810:1821]),1), real_price[1810:1821], color ='blue',label = 'actual')\n",
        "# plt.plot(np.arange(0,len(real_test_pred[1810-split_pt:1821-split_pt]), 1), real_test_pred[1810-split_pt:1821-split_pt], color='red', label='predict')\n",
        "# plt.legend()\n"
      ],
      "execution_count": 829,
      "outputs": []
    },
    {
      "cell_type": "code",
      "metadata": {
        "id": "FJDyQvwt_6e6"
      },
      "source": [
        "# af = real_test_pred[1810-split_pt:1821-split_pt]\n",
        "# (af[5]-af[4]) / af[4]\n",
        "# i\n"
      ],
      "execution_count": 830,
      "outputs": []
    },
    {
      "cell_type": "code",
      "metadata": {
        "id": "H1YlHtZUGIj8",
        "outputId": "69b5b8ea-a4ae-4874-8283-9482bab1c77a",
        "colab": {
          "base_uri": "https://localhost:8080/",
          "height": 372
        }
      },
      "source": [
        "dates =[]\n",
        "for i in range(len(verif_after_pred)):\n",
        "  v =datetime.date(datetime(int(year), int(m), int(d))) + timedelta(days=i)\n",
        "  dates.append(v.strftime('%Y-%m-%d'))\n",
        "    \n",
        "plt.figure(figsize=(5+verif_gap/2,5))\n",
        "plt.plot(np.arange(0,verif_gap,1), real_verif_price[split_pt+len(test_pred)-verif_gap:], color ='blue',label = 'actual')\n",
        "plt.plot(np.arange(0,len(real_verif_after_pred), 1), real_verif_after_pred, color='red', label='predict')\n",
        "plt.xticks(np.arange(-1, len(dates)-1, 1), dates, rotation = 45) #한 칸 밀림\n",
        "plt.legend()"
      ],
      "execution_count": 838,
      "outputs": [
        {
          "output_type": "execute_result",
          "data": {
            "text/plain": [
              "<matplotlib.legend.Legend at 0x7fd5d3fb2c18>"
            ]
          },
          "metadata": {
            "tags": []
          },
          "execution_count": 838
        },
        {
          "output_type": "display_data",
          "data": {
            "image/png": "[encoded data removed]",
            "text/plain": [
              "<Figure size 1368x360 with 1 Axes>"
            ]
          },
          "metadata": {
            "tags": [],
            "needs_background": "light"
          }
        }
      ]
    },
    {
      "cell_type": "code",
      "metadata": {
        "id": "l_KB4u1SUBSl"
      },
      "source": [
        "#Golden Point & Dead Point\n",
        "def GP_check(day):\n",
        "  GP_can = day\n",
        "  if holding == True:\n",
        "    i = len(af)\n",
        "  else:\n",
        "    i = 1\n",
        "  while i > 0:\n",
        "    while day < len(af)-1:\n",
        "      #print('day: %d' %day)\n",
        "      today_profit = (af[day+1] - af[GP_can]) / af[GP_can] # 저점 기준 누적 손익률\n",
        "      #print(today_profit)\n",
        "\n",
        "      if today_profit < 0:\n",
        "        GP_can = day + 1 #새로운 저점 = GP 후보\n",
        "        day+=1\n",
        "        break;\n",
        "\n",
        "      elif (af[day+1] - af[day]) / af[day] >= 0.03: #한번에 3% 상승시\n",
        "        Points.append(GP_can)\n",
        "        day = DP_check(GP_can+1)\n",
        "        GP_can = day\n",
        "        break;\n",
        "\n",
        "        \n",
        "      elif today_profit >= 0.05: #고점 대비 5% 상승하면\n",
        "        Points.append(GP_can) #GP on, 매매 순서대로 넣기 \n",
        "        day = DP_check(GP_can+1)\n",
        "        GP_can = day\n",
        "        break;\n",
        "\n",
        "      else:\n",
        "        day+=1\n",
        "        break;\n",
        "    \n",
        "    i-= 1\n",
        "\n",
        "  return GP_can+1 # GP, DP 추가후 새로운 기준  \n",
        "\n",
        "def DP_check(day):\n",
        "  #다음날 부터 DP check\n",
        "  DP_can = day\n",
        "  if holding == True: #처음에 보유중이라면\n",
        "    i = len(af) # 요청 범위만큼 반복\n",
        "  else: # 아니라면 한번만.\n",
        "    i = 1\n",
        "  while i > 0:\n",
        "    while day < len(af)-1:\n",
        "      #print('day: %d' %day)\n",
        "      today_profit = (af[day+1] - af[DP_can]) / af[DP_can] # 고점 기준 누적 손익률\n",
        "      #print(today_profit)\n",
        "\n",
        "      if today_profit > 0: #새로운 고점 = DP 후보\n",
        "        DP_can = day+1\n",
        "        day+=1\n",
        "        break;\n",
        "\n",
        "      elif (af[day+1] - af[day]) / af[day] <= -0.02: #한번에 2%하락하면\n",
        "        Points.append(DP_can)\n",
        "        day = GP_check(DP_can+1)\n",
        "        DP_can = day\n",
        "        break;\n",
        "\n",
        "      elif today_profit <= -0.03: #고점 대비 3%하락하면\n",
        "        Points.append(DP_can) # DP on\n",
        "        day = GP_check(DP_can+1)\n",
        "        DP_can = day\n",
        "        break;\n",
        "\n",
        "      else:\n",
        "        day+=1\n",
        "        break;\n",
        "    \n",
        "    i-=1\n",
        "\n",
        "  return DP_can+1 # GP, DP 추가후 새로운 기준  \n"
      ],
      "execution_count": 832,
      "outputs": []
    },
    {
      "cell_type": "code",
      "metadata": {
        "id": "5SUzSwYrE-SC",
        "outputId": "88159548-4f33-4e73-8307-08d5820e3821",
        "colab": {
          "base_uri": "https://localhost:8080/"
        }
      },
      "source": [
        "#최적 매매타이밍 알고리즘\n",
        "#골든 포인트와 데드 포인트 찾기\n",
        "#첫번째 GP: 0일 얼마 DP: 3일 얼마 수익률 5%\n",
        "af = verif_after_pred #평가구간\n",
        "#1번. 보유중인가요?\n",
        "holding = True\n",
        "\n",
        "#2. 매수 시작\n",
        "today = 0\n",
        "GPs = [] \n",
        "DPs = []\n",
        "Points = [] #포인트들의 날짜를 저장할 예정\n",
        "#print(af)\n",
        "\n",
        "if holding: #매매 결정\n",
        "  DP_check(0)\n",
        "\n",
        "else: #4. 그럼 골든포인트 찾기\n",
        "  GP_check(0)\n",
        "\n",
        "#결과 출력\n",
        "if len(Points) != 0:\n",
        "  print('최적 매매 타이밍은 아래와 같습니다.\\n')\n",
        "  if holding == False:\n",
        "    print('(미보유중)')\n",
        "  else:\n",
        "    print('(보유중)')\n",
        "\n",
        "  for i in Points:\n",
        "    v = datetime.date(datetime(int(year), int(m), int(d))) + timedelta(days=i)\n",
        "    p = real_verif_after_pred.astype(int)[i]\n",
        "\n",
        "    if holding == False: #먼저 사야할때\n",
        "      print('buy: %s -' %v.strftime('%Y-%m-%d'), \"{:,}$\".format(p[0])) #p는 array형식이라 안됨\n",
        "      holding = True\n",
        "    else:\n",
        "      print('sell: %s -' %v.strftime('%Y-%m-%d'), \"{:,}$\\n\".format(p[0]))\n",
        "      holding = False\n",
        "\n",
        "else:\n",
        "  print('매매를 보류합니다.\\n')\n",
        "\n",
        "print('신뢰도 - 종합 MCC: 63.33%, mape: 2.31%\\n    최근 28일 MCC: 60.71%, mape: 1.72%')"
      ],
      "execution_count": 847,
      "outputs": [
        {
          "output_type": "stream",
          "text": [
            "최적 매매 타이밍은 아래와 같습니다.\n",
            "\n",
            "(보유중)\n",
            "sell: 2020-10-07 - 11,046$\n",
            "\n",
            "buy: 2020-10-08 - 10,745$\n",
            "sell: 2020-10-25 - 13,234$\n",
            "\n",
            "buy: 2020-10-26 - 12,557$\n",
            "sell: 2020-10-30 - 13,814$\n",
            "\n",
            "buy: 2020-11-01 - 13,064$\n",
            "sell: 2020-11-05 - 14,303$\n",
            "\n",
            "신뢰도 - 종합 MCC: 63.33%, mape: 2.31%\n",
            "    최근 28일 MCC: 60.71%, mape: 1.72%\n"
          ],
          "name": "stdout"
        }
      ]
    },
    {
      "cell_type": "code",
      "metadata": {
        "id": "63deYx2rQUUk"
      },
      "source": [
        "#print(\"{:,}원\".format(p[0]))\n",
        "[2014-07-18 ~ 2020-09-02] 64win 7000ep\n",
        "96 53 75 46\n",
        "방향 정확도: 63.333%\n",
        "MCC: 0.26\n",
        "값 오차율: 2.31%\n",
        "\n",
        "값 오차율: 1.72%\n",
        "11 9 6 2\n",
        "방향정확도: 60.714%\n",
        "MCC: 0.27\n"
      ],
      "execution_count": 834,
      "outputs": []
    },
    {
      "cell_type": "code",
      "metadata": {
        "id": "isC-VSWHUTdZ"
      },
      "source": [
        "# p = np.asarray(real_verif_price)\n",
        "# for i in range(verif_gap):\n",
        "#   t = split_pt+len(test_pred)-verif_gap\n",
        "#   ac = verif_price[i+t] - verif_price[i+t-1]\n",
        "#   pd = after_pred[i] - verif_price[i+t-1]\n",
        "#   print('%.2f, %.2f' %(ac, pd))"
      ],
      "execution_count": 835,
      "outputs": []
    },
    {
      "cell_type": "code",
      "metadata": {
        "id": "hhTBs5b-04E1"
      },
      "source": [
        "#after_pred이 올바른 방향을 예측했는지에 대한 방향성 평가와 그 예측 값과 실제 값의 차이를 평가한 오차율를 제공합니다.\n",
        "def CustomErrorRate(PRICE, TRAIN, TEST, VERIF):\n",
        "  evalist = [TRAIN, TEST, VERIF]\n",
        "  target_scores = []\n",
        "\n",
        "  for target in range(len(evalist)): #평가항목 3개\n",
        "    print(len(evalist[target]))\n",
        "\n",
        "    if (target == 0):\n",
        "      t = window_size -1 #시작위치\n",
        "      iter = len(evalist[target]) #반복수\n",
        "    elif (target == 1):\n",
        "      t = split_pt -1\n",
        "      iter = len((evalist[target]))\n",
        "    else:\n",
        "      t = split_pt + len(test_pred) -1\n",
        "      iter = verif_gap\n",
        "    \n",
        "    scores = np.zeros((iter,1))\n",
        "    for i in range(iter):\n",
        "      per_predict_error = (PRICE[t+1] - evalist[target][i]) / PRICE[t+1]\n",
        "      if (i == 0 ):\n",
        "        scores[i] = np.abs(per_predict_error)\n",
        "      else:\n",
        "        if (PRICE[t+1] - PRICE[t] > 0): #가격오름 \n",
        "          if (evalist[target][i] - evalist[target][i-1] > 0): #방향 맞췄을 때는\n",
        "            scores[i]= np.square(per_predict_error) #패널티 줄여줌 소수니까 제곱으로 0.02 일때 1/50 효과\n",
        "          else : #방향 틀렸을 때는\n",
        "            scores[i]= np.abs(per_predict_error) #가중치 그대로\n",
        "\n",
        "        elif (PRICE[t+1] - PRICE[t] < 0): #가격내림\n",
        "          if (evalist[target][i] - evalist[target][i-1] < 0): #방향 맞췄을 때는\n",
        "            scores[i]= np.square(per_predict_error)\n",
        "          else: \n",
        "            scores[i]= np.abs(per_predict_error)\n",
        "\n",
        "        else: #가격 같을때는\n",
        "          scores[i]= np.abs(per_predict_error) #가중치 그대로    \n",
        "  \n",
        "        t+=1\n",
        "    target_scores.append(scores)\n",
        "  return target_scores"
      ],
      "execution_count": 836,
      "outputs": []
    },
    {
      "cell_type": "code",
      "metadata": {
        "id": "8rnXv-o2Ofbm"
      },
      "source": [
        "# #after 오차율은 변동됨 왜지? 모델 가져올때도 영향이있나?  예측 오차율: 1.077%\n",
        "# print('실제값으로 평가') #실제값이 오차율 더 작게 나옴 15%정도\n",
        "# error_rate = CustomErrorRate(real_verif_price, real_train_pred, real_test_pred, real_after_pred)\n",
        "# print('학습 예측 오차율: %.3f%%' %(np.average(error_rate[0]*100))) #python에서 %%두개\n",
        "# print('테스트 예측 오차율: %.3f%%' %(np.average(error_rate[1]*100)))\n",
        "# print('미래 예측 오차율: %.3f%%' %(np.average(error_rate[2]*100)))"
      ],
      "execution_count": 837,
      "outputs": []
    },
    {
      "cell_type": "code",
      "metadata": {
        "id": "ZZZwDuYgrSFj"
      },
      "source": [
        ""
      ],
      "execution_count": 837,
      "outputs": []
    }
  ]
}