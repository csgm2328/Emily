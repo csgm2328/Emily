{
  "nbformat": 4,
  "nbformat_minor": 0,
  "metadata": {
    "colab": {
      "name": "Verify",
      "provenance": [],
      "collapsed_sections": [],
      "toc_visible": true
    },
    "kernelspec": {
      "name": "python3",
      "display_name": "Python 3"
    }
  },
  "cells": [
    {
      "cell_type": "markdown",
      "metadata": {
        "id": "NDtom5Y3CG-w",
        "colab_type": "text"
      },
      "source": [
        "#예측한 모델 불러와서 현재시간에서 검증하고 새로운 예측하기"
      ]
    },
    {
      "cell_type": "code",
      "metadata": {
        "id": "wpNMGvX2TL_5",
        "colab_type": "code",
        "colab": {
          "base_uri": "https://localhost:8080/",
          "height": 89
        },
        "outputId": "478415eb-f517-476f-baf6-55d84e4d1b8a"
      },
      "source": [
        "get_ipython().run_line_magic('matplotlib', 'inline')\n",
        "import matplotlib.pyplot as plt\n",
        "import pandas as pd\n",
        "import pandas_datareader.data as pdr #data 받아오는 api 라이브러리\n",
        "from pandas import json_normalize\n",
        "import numpy as np\n",
        "import plotly as py\n",
        "import plotly.graph_objs as go\n",
        "import requests\n",
        "import os\n",
        "from keras import metrics\n",
        "from keras.layers import *\n",
        "from keras.models import *\n",
        "from keras.utils.np_utils import to_categorical\n",
        "from keras.callbacks import *\n",
        "from datetime import datetime\n",
        "from sklearn.preprocessing import MinMaxScaler\n",
        "plt.style.use('bmh')"
      ],
      "execution_count": 43,
      "outputs": [
        {
          "output_type": "stream",
          "text": [
            "/usr/local/lib/python3.6/dist-packages/pandas_datareader/compat/__init__.py:7: FutureWarning:\n",
            "\n",
            "pandas.util.testing is deprecated. Use the functions in the public API at pandas.testing instead.\n",
            "\n"
          ],
          "name": "stderr"
        }
      ]
    },
    {
      "cell_type": "markdown",
      "metadata": {
        "id": "AHNPXaX5Fbfx",
        "colab_type": "text"
      },
      "source": [
        "#**Load Model**"
      ]
    },
    {
      "cell_type": "markdown",
      "metadata": {
        "id": "SJ45-r7qsdvz",
        "colab_type": "text"
      },
      "source": [
        "#검증 셋팅\n"
      ]
    },
    {
      "cell_type": "code",
      "metadata": {
        "id": "dkNWWsOKN0Oq",
        "colab_type": "code",
        "colab": {
          "base_uri": "https://localhost:8080/",
          "height": 35
        },
        "outputId": "491aa0fa-481d-4c1e-a9ce-371b1c6c653b"
      },
      "source": [
        "from google.colab import drive\n",
        "drive.mount('/content/drive')"
      ],
      "execution_count": 12,
      "outputs": [
        {
          "output_type": "stream",
          "text": [
            "Drive already mounted at /content/drive; to attempt to forcibly remount, call drive.mount(\"/content/drive\", force_remount=True).\n"
          ],
          "name": "stdout"
        }
      ]
    },
    {
      "cell_type": "code",
      "metadata": {
        "id": "aeaoNYVYQ45L",
        "colab_type": "code",
        "colab": {
          "base_uri": "https://localhost:8080/",
          "height": 35
        },
        "outputId": "37e294ef-a327-4544-bbdb-21c2e2f58316"
      },
      "source": [
        "cd /content/drive/My Drive/Colab Notebooks/LSTM_models/"
      ],
      "execution_count": 13,
      "outputs": [
        {
          "output_type": "stream",
          "text": [
            "/content/drive/My Drive/Colab Notebooks/LSTM_models\n"
          ],
          "name": "stdout"
        }
      ]
    },
    {
      "cell_type": "code",
      "metadata": {
        "id": "cAHAfTNFqhCl",
        "colab_type": "code",
        "colab": {
          "base_uri": "https://localhost:8080/",
          "height": 1000
        },
        "outputId": "15c7070b-8d06-4354-9894-30746c2dfc10"
      },
      "source": [
        "ls"
      ],
      "execution_count": 14,
      "outputs": [
        {
          "output_type": "stream",
          "text": [
            "'기아자동차: [2012-01-01 ~ 2020-09-23] 128cell 100win 1bat 1000ep 0.2drop True 0.001lr.h5'\n",
            "'BTC-UTD: [2014-07-18 ~ 2020-07-08] 128cell 50win 1bat 2000ep 0.2drop Adam 0.001lr.h5'\n",
            "'BTC-UTD: [2014-07-18 ~ 2020-07-13] 128cell 60win 1bat 2000ep 0.2drop Adam 0.001lr.h5'\n",
            "'BTC-UTD: [2014-07-18 ~ 2020-07-16] 128cell 60win 1bat 2000ep 0.2drop Adam 0.001lr.h5'\n",
            "'BTC-UTD: [2014-07-18 ~ 2020-07-17] 128cell 60win 1bat 100ep 0.2drop Adam 0.001lr.h5'\n",
            "'BTC-UTD: [2014-07-18 ~ 2020-08-28] 128cell 96win 1bat 5000ep 0.2drop adam 0.0001lr 86400period.h5'\n",
            "'BTC-UTD: [2014-07-18 ~ 2020-09-02] 128cell 64win 1bat 7000ep 0.2drop adam 0.0001lr 86400period.h5'\n",
            "'BTC-UTD: [2014-07-18 ~ 2020-09-02] 128cell 96win 1bat 10ep 0.2drop adam 0.0001lr 86400period.h5'\n",
            "'BTC-UTD: [2014-07-18 ~ 2020-09-02] 128cell 96win 1bat 10ep 0.2drop adam 0.01lr 86400period.h5'\n",
            "'BTC-UTD: [2014-07-18 ~ 2020-09-03] 128cell 16win 1bat 1000ep 0.2drop adam 0.001lr 86400period.h5'\n",
            "'BTC-UTD: [2014-07-18 ~ 2020-09-03] 128cell 16win 1bat 10ep 0.2drop adam 0.001lr 86400period.h5'\n",
            "'BTC-UTD: [2014-07-18 ~ 2020-09-04] 128cell 32win 1bat 4000ep 0.2drop adam 0.0001lr 86400period.h5'\n",
            "'BTC-UTD: [2014-07-18 ~ 2020-09-04] 128cell 32win 1bat 400ep 0.2drop adam 0.001lr 86400period.h5'\n",
            "'BTC-UTD: [2014-07-18 ~ 2020-09-07] 128cell 70win 1bat 5700ep 0.2drop adam 0.0001lr 86400period.h5'\n",
            "'BTC-UTD: [2014-07-18 ~ 2020-09-08] 128cell 70win 1bat 1000ep 0.2drop adam 0.001lr 86400period.h5'\n",
            "'BTC-UTD: [2014-07-18 ~ 2020-09-09] 128cell 140win 1bat 2000ep 0.2drop adam 0.0001lr 86400period.h5'\n",
            "'BTC-UTD: [2014-07-18 ~ 2020-09-11] 128cell 7win 1bat 2000ep 0.2drop adam 0.0001lr 86400period.h5'\n",
            "'BTC-UTD: [2017-05-01 ~ 2020-07-10] 128cell 55win 1bat 2000ep 0.2drop Adam 0.001lr.h5'\n",
            "'BTC-UTD: [2017-05-01 ~ 2020-07-17] 128cell 60win 1bat 2000ep 0.2drop Adam 0.001lr.h5'\n",
            "'BTC-UTD: [2017-05-01 ~ 2020-07-21] 128cell 60win 1bat 3500ep 0.2drop Adam 0.0001lr.h5'\n",
            "'BTC-UTD: [2017-05-01 ~ 2020-07-24] 128cell 65win 1bat 2000ep 0.2drop Adam 0.0001lr.h5'\n",
            "'BTC-UTD: [2017-05-01 ~ 2020-07-27] 128cell 70win 1bat 2000ep 0.2drop Adam 0.0001lr.h5'\n",
            "'BTC-UTD: [2017-05-01 ~ 2020-07-31] 128cell 12win 1bat 2500ep 0.3drop Adam 0.001lr 86400period.h5'\n",
            "'BTC-UTD: [2017-05-01 ~ 2020-08-04] 128cell 12win 1bat 5000ep 0.3drop Adam 0.001lr 86400period.h5'\n",
            "'BTC-UTD: [2017-05-01 ~ 2020-08-05] 128cell 12win 1bat 100ep 0.3drop Adam 0.001lr 86400period.h5'\n",
            "'BTC-UTD: [2017-05-01 ~ 2020-08-05] 128cell 21win 1bat 4000ep 0.3drop Adam 0.001lr 86400period.h5'\n",
            "'BTC-UTD: [2017-05-01 ~ 2020-08-11] 128cell 21win 1bat 100ep 0.3drop Adam 0.001lr 86400period.h5'\n",
            "'BTC-UTD: [2017-05-01 ~ 2020-08-12] 128cell 35win 1bat 100ep 0.3drop Adam 0.001lr 86400period.h5'\n",
            "'BTC-UTD: [2017-05-01 ~ 2020-08-12] 128cell 40win 1bat 100ep 0.3drop Adam 0.001lr 86400period.h5'\n",
            "'BTC-UTD: [2017-05-01 ~ 2020-08-12] 128cell 45win 1bat 100ep 0.3drop Adam 0.001lr 86400period.h5'\n",
            "'BTC-UTD: [2017-05-01 ~ 2020-08-12] 128cell 50win 1bat 100ep 0.3drop Adam 0.001lr 86400period.h5'\n",
            "'BTC-UTD: [2017-05-01 ~ 2020-08-12] 128cell 55win 1bat 100ep 0.3drop Adam 0.001lr 86400period.h5'\n",
            "'BTC-UTD: [2017-05-01 ~ 2020-08-13] 128cell 10win 1bat 100ep 0.2drop Adam 0.001lr 86400period.h5'\n",
            "'BTC-UTD: [2017-05-01 ~ 2020-08-13] 128cell 15win 1bat 100ep 0.2drop Adam 0.001lr 86400period.h5'\n",
            "'BTC-UTD: [2017-05-01 ~ 2020-08-13] 128cell 20win 1bat 100ep 0.2drop Adam 0.001lr 86400period.h5'\n",
            "'BTC-UTD: [2017-05-01 ~ 2020-08-13] 128cell 25win 1bat 100ep 0.2drop Adam 0.001lr 86400period.h5'\n",
            "'BTC-UTD: [2017-05-01 ~ 2020-08-13] 128cell 60win 1bat 100ep 0.3drop Adam 0.001lr 86400period.h5'\n",
            "'BTC-UTD: [2017-05-01 ~ 2020-08-13] 128cell 65win 1bat 100ep 0.3drop Adam 0.001lr 86400period.h5'\n",
            "'BTC-UTD: [2017-05-01 ~ 2020-08-13] 128cell 70win 1bat 100ep 0.3drop Adam 0.001lr 86400period.h5'\n",
            "'BTC-UTD: [2017-05-01 ~ 2020-08-14] 128cell 30win 1bat 100ep 0.2drop Adam 0.001lr 86400period.h5'\n",
            "'BTC-UTD: [2017-05-01 ~ 2020-08-14] 128cell 35win 1bat 100ep 0.2drop Adam 0.001lr 86400period.h5'\n",
            "'BTC-UTD: [2017-05-01 ~ 2020-08-14] 128cell 40win 1bat 100ep 0.2drop Adam 0.001lr 86400period.h5'\n",
            "'BTC-UTD: [2017-05-01 ~ 2020-08-14] 128cell 45win 1bat 100ep 0.2drop Adam 0.001lr 86400period.h5'\n",
            "'BTC-UTD: [2017-05-01 ~ 2020-08-14] 128cell 50win 1bat 100ep 0.2drop Adam 0.001lr 86400period.h5'\n",
            "'BTC-UTD: [2017-05-01 ~ 2020-08-14] 128cell 65win 1bat 2000ep 0.3drop Adam 0.001lr 86400period.h5'\n",
            "'BTC-UTD: [2017-05-01 ~ 2020-08-14] 128cell 99win 1bat 100ep 0.2drop Adam 0.001lr 86400period.h5'\n",
            "'BTC-UTD: [2017-05-01 ~ 2020-08-17] 128cell 12win 1bat 1000ep 0.2drop Adam 0.001lr 86400period.h5'\n",
            "'BTC-UTD: [2017-05-01 ~ 2020-08-17] 128cell 12win 1bat 10ep 0.2drop Adam 0.001lr 86400period.h5'\n",
            "'BTC-UTD: [2017-05-01 ~ 2020-08-17] 128cell 60win 1bat 100ep 0.2drop Adam 0.001lr 86400period.h5'\n",
            "'BTC-UTD: [2017-05-01 ~ 2020-08-17] 128cell 60win 1bat 10ep 0.2drop Adam 0.001lr 86400period.h5'\n",
            "'BTC-UTD: [2017-05-01 ~ 2020-08-17] 128cell 72win 1bat 1400ep 0.2drop Adam 0.001lr 86400period.h5'\n",
            "'BTC-UTD: [2017-05-01 ~ 2020-08-18] 128cell 24win 1bat 100ep 0.2drop Adam 0.001lr 86400period.h5'\n",
            "'BTC-UTD: [2017-05-01 ~ 2020-08-18] 128cell 48win 1bat 100ep 0.2drop Adam 0.001lr 86400period.h5'\n",
            "'BTC-UTD: [2017-05-01 ~ 2020-08-18] 128cell 84win 1bat 1300ep 0.2drop Adam 0.001lr 86400period.h5'\n",
            "'BTC-UTD: [2017-05-01 ~ 2020-08-20] 128cell 102win 1bat 100ep 0.2drop Adam 0.001lr 86400period.h5'\n",
            "'BTC-UTD: [2017-05-01 ~ 2020-08-20] 128cell 112win 1bat 100ep 0.2drop Adam 0.001lr 86400period.h5'\n",
            "'BTC-UTD: [2017-05-01 ~ 2020-08-20] 128cell 12win 1bat 100ep 0.2drop Adam 0.001lr 86400period.h5'\n",
            "'BTC-UTD: [2017-05-01 ~ 2020-08-20] 128cell 22win 1bat 100ep 0.2drop Adam 0.001lr 86400period.h5'\n",
            "'BTC-UTD: [2017-05-01 ~ 2020-08-20] 128cell 2win 1bat 100ep 0.2drop Adam 0.001lr 86400period.h5'\n",
            "'BTC-UTD: [2017-05-01 ~ 2020-08-20] 128cell 32win 1bat 100ep 0.2drop Adam 0.001lr 86400period.h5'\n",
            "'BTC-UTD: [2017-05-01 ~ 2020-08-20] 128cell 42win 1bat 100ep 0.2drop Adam 0.001lr 86400period.h5'\n",
            "'BTC-UTD: [2017-05-01 ~ 2020-08-20] 128cell 52win 1bat 100ep 0.2drop Adam 0.001lr 86400period.h5'\n",
            "'BTC-UTD: [2017-05-01 ~ 2020-08-20] 128cell 62win 1bat 100ep 0.2drop Adam 0.001lr 86400period.h5'\n",
            "'BTC-UTD: [2017-05-01 ~ 2020-08-20] 128cell 72win 1bat 100ep 0.2drop Adam 0.001lr 86400period.h5'\n",
            "'BTC-UTD: [2017-05-01 ~ 2020-08-20] 128cell 82win 1bat 100ep 0.2drop Adam 0.001lr 86400period.h5'\n",
            "'BTC-UTD: [2017-05-01 ~ 2020-08-20] 128cell 92win 1bat 100ep 0.2drop Adam 0.001lr 86400period.h5'\n",
            "'BTC-UTD: [2017-05-01 ~ 2020-08-20] 128cell 96win 1bat 100ep 0.2drop Adam 0.001lr 86400period.h5'\n",
            "'BTC-UTD: [2017-05-01 ~ 2020-08-20] 128cell 96win 1bat 200ep 0.2drop Adam 0.001lr 86400period.h5'\n",
            "'BTC-UTD: [2017-05-01 ~ 2020-08-20] 128cell 96win 1bat 2ep 0.2drop Adam 0.001lr 86400period.h5'\n",
            "'BTC-UTD: [2017-05-01 ~ 2020-08-20] 128cell 96win 1bat 300ep 0.2drop Adam 0.001lr 86400period.h5'\n",
            "'BTC-UTD: [2017-05-01 ~ 2020-08-20] 128cell 96win 1bat 400ep 0.2drop Adam 0.001lr 86400period.h5'\n",
            "'BTC-UTD: [2017-05-01 ~ 2020-08-20] 128cell 96win 1bat 500ep 0.2drop Adam 0.001lr 86400period.h5'\n",
            "'BTC-UTD: [2017-05-01 ~ 2020-08-20] 128cell 96win 1bat 600ep 0.2drop Adam 0.001lr 86400period.h5'\n",
            "'BTC-UTD: [2017-05-01 ~ 2020-08-20] 128cell 96win 1bat 6ep 0.2drop Adam 0.001lr 86400period.h5'\n",
            "'BTC-UTD: [2017-05-01 ~ 2020-08-20] 128cell 96win 1bat 700ep 0.2drop Adam 0.001lr 86400period.h5'\n",
            "'BTC-UTD: [2017-05-01 ~ 2020-08-20] 128cell 96win 1bat 800ep 0.2drop Adam 0.001lr 86400period.h5'\n",
            "'BTC-UTD: [2017-05-01 ~ 2020-08-20] 128cell 96win 1bat 900ep 0.2drop Adam 0.001lr 86400period.h5'\n",
            "'BTC-UTD: [2017-05-01 ~ 2020-08-21] 128cell 96win 1bat 100ep 0.2drop Adam 0.001lr 86400period.h5'\n",
            "'BTC-UTD: [2017-05-01 ~ 2020-08-21] 128cell 96win 1bat 200ep 0.2drop Adam 0.001lr 86400period.h5'\n",
            "'BTC-UTD: [2017-05-01 ~ 2020-08-21] 128cell 96win 1bat 300ep 0.2drop Adam 0.001lr 86400period.h5'\n",
            "'BTC-UTD: [2017-05-01 ~ 2020-08-21] 128cell 96win 1bat 400ep 0.2drop Adam 0.001lr 86400period.h5'\n",
            "'BTC-UTD: [2017-05-01 ~ 2020-08-21] 128cell 96win 1bat 800ep 0.3drop Adam 0.001lr 86400period.h5'\n",
            "'BTC-UTD: [2017-05-01 ~ 2020-08-26] 128cell 12win 1bat 100ep 0.2drop Adam 0.002lr 86400period.h5'\n",
            "'BTC-UTD: [2017-05-01 ~ 2020-08-26] 128cell 12win 1bat 100ep 0.2drop nadam 0.002lr 86400period.h5'\n",
            "'BTC-UTD: [2017-05-01 ~ 2020-08-26] 128cell 12win 1bat 100ep 0.2drop Nadam 0.002lr 86400period.h5'\n",
            "'BTC-UTD: [2017-05-01 ~ 2020-08-26] 128cell 72win 1bat 800ep 0.2drop adam 0.001lr 86400period.h5'\n",
            "'BTC-UTD: [2017-05-01 ~ 2020-08-27] 128cell 24win 1bat 10ep 0.2drop adam 0.001lr 86400period.h5'\n",
            "'BTC-UTD: [2017-05-01 ~ 2020-08-27] 128cell 25win 1bat 10ep 0.2drop adam 0.001lr 86400period.h5'\n",
            "'BTC-UTD: [2017-05-01 ~ 2020-08-27] 128cell 72win 1bat 2000ep 0.2drop adam 0.0001lr 86400period.h5'\n",
            "'BTC-UTD: [2017-05-01 ~ 2020-08-28] 128cell 96win 1bat 2000ep 0.2drop adam 0.0001lr 86400period.h5'\n",
            "'BTC-UTD: [2020-05-01 ~ 2020-07-28] 128cell 24win 1bat 1000ep 0.3drop Adam 0.001lr 1800period.h5'\n",
            "'BTC-UTD: [2020-05-01 ~ 2020-07-29] 128cell 24win 1bat 100ep 0.3drop Adam 0.001lr 1800period.h5'\n",
            "'BTC-UTD: [2020-05-01 ~ 2020-07-30] 128cell 12win 1bat 10ep 0.3drop Adam 0.001lr 1800period.h5'\n",
            "'BTC-UTD: [2020-05-01 ~ 2020-07-31] 128cell 12win 1bat 2500ep 0.3drop Adam 0.001lr 1800period.h5'\n",
            "'원익IPS: [2012-01-01 ~ 2020-09-22] 128cell 100win 1bat 10000ep 0.2drop True 0.0001lr.h5'\n",
            "'원익IPS: [2012-01-01 ~ 2020-09-23] 128cell 100win 1bat 10000ep 0.2drop True 0.0001lr.h5'\n",
            " output.csv\n"
          ],
          "name": "stdout"
        }
      ]
    },
    {
      "cell_type": "code",
      "metadata": {
        "id": "TvsCTnx4BzFX",
        "colab_type": "code",
        "cellView": "both",
        "colab": {}
      },
      "source": [
        "#@title 기본 제목 텍스트\n",
        "############Verify\n",
        "from keras.models import load_model\n",
        "model_name = '원익IPS: [2012-01-01 ~ 2020-09-22] 128cell 100win 1bat 10000ep 0.2drop True 0.0001lr.h5'\n",
        "model = load_model(model_name)"
      ],
      "execution_count": 15,
      "outputs": []
    },
    {
      "cell_type": "code",
      "metadata": {
        "id": "ycrd62GP6Cw-",
        "colab_type": "code",
        "colab": {
          "base_uri": "https://localhost:8080/",
          "height": 143
        },
        "outputId": "07938546-878e-4fb1-834e-e2333d5244be"
      },
      "source": [
        "!pip install jamotools"
      ],
      "execution_count": 16,
      "outputs": [
        {
          "output_type": "stream",
          "text": [
            "Collecting jamotools\n",
            "  Downloading https://files.pythonhosted.org/packages/3d/d6/ec13c68f7ea6a8085966390d256d183bf8488f8b9770028359acb86df643/jamotools-0.1.10-py2.py3-none-any.whl\n",
            "Requirement already satisfied: six in /usr/local/lib/python3.6/dist-packages (from jamotools) (1.15.0)\n",
            "Requirement already satisfied: numpy in /usr/local/lib/python3.6/dist-packages (from jamotools) (1.18.5)\n",
            "Requirement already satisfied: future in /usr/local/lib/python3.6/dist-packages (from jamotools) (0.16.0)\n",
            "Installing collected packages: jamotools\n",
            "Successfully installed jamotools-0.1.10\n"
          ],
          "name": "stdout"
        }
      ]
    },
    {
      "cell_type": "code",
      "metadata": {
        "id": "uqc-hljk5nyc",
        "colab_type": "code",
        "colab": {}
      },
      "source": [
        "import jamotools #hangul_utils은 설치안되며 보다 나은 패키지\n",
        "it = model_name.split(':') #이방법으로하면 모음,자음별로 삼성전자가 11자리임. 데이터프레임에서 찾으려면 4글자로 자음모음 합쳐주기\n",
        "item_name = jamotools.join_jamos(it[0])"
      ],
      "execution_count": 17,
      "outputs": []
    },
    {
      "cell_type": "code",
      "metadata": {
        "id": "fvhveE1_B4Xi",
        "colab_type": "code",
        "colab": {
          "base_uri": "https://localhost:8080/",
          "height": 89
        },
        "outputId": "fd49ef75-7192-4d4a-fca5-e7ae2ec0c76b"
      },
      "source": [
        "#1. price 개수를 검증하려는 일자에 맞춤.\n",
        "\n",
        "train_start = model_name.split()[1].split('-')\n",
        "s_y = train_start[0][1:]\n",
        "s_m = train_start[1]\n",
        "s_d = train_start[2]\n",
        "start_date = datetime(int(s_y), int(s_m), int(s_d))\n",
        "\n",
        "train_end = model_name.split()[3].split('-')\n",
        "y = train_end[0]\n",
        "m = train_end[1]\n",
        "d = train_end[2][:-1]\n",
        "\n",
        "verif_gap = datetime.date(datetime.today()) - datetime.date(datetime(int(y), int(m), int(d)))\n",
        "verif_gap = verif_gap.days\n",
        "  \n",
        "\n",
        "#price = price[:-verif_gap]\n",
        "#real_price = real_price[:-verif_gap]\n",
        "\n",
        "predict_day = 10\n",
        "n_epoch = model_name.split(' ')[7][:-2]\n",
        "window_size = int(model_name.split(' ')[5][:-3])\n",
        "n_batch = int(model_name.split(' ')[6][:-3])\n",
        "Title = model_name + ' [' + str(datetime.date(datetime.today())) + ' Verified]'\n",
        "print(Title,verif_gap,window_size,n_batch, sep='\\n')"
      ],
      "execution_count": 75,
      "outputs": [
        {
          "output_type": "stream",
          "text": [
            "원익IPS: [2012-01-01 ~ 2020-09-22] 128cell 100win 1bat 10000ep 0.2drop True 0.0001lr.h5 [2020-09-24 Verified]\n",
            "2\n",
            "100\n",
            "1\n"
          ],
          "name": "stdout"
        }
      ]
    },
    {
      "cell_type": "markdown",
      "metadata": {
        "id": "qoLdrTqN2oDe",
        "colab_type": "text"
      },
      "source": [
        "#Request API"
      ]
    },
    {
      "cell_type": "code",
      "metadata": {
        "id": "Le8U4-yxTmhM",
        "colab_type": "code",
        "colab": {
          "base_uri": "https://localhost:8080/",
          "height": 35
        },
        "outputId": "c4d0c2db-d704-4d40-993f-05cabb8bcf40"
      },
      "source": [
        "#1405699200 2014.7.18 01:00(GMT+9)부터 24시간 주기\n",
        "#milliseconds 단위로 변환시켜주는 timestamp()\n",
        "#start_date = datetime(2017,5,1)\n",
        "start = int(start_date.timestamp()) #꼭 tuple이었던 변수를 datetime으로 넣을 때는 *을 붙여줘야함\n",
        "ret = requests.get('https://poloniex.com/public?command=returnChartData&currencyPair=USDT_BTC&start={}&end=9999999999&period=86400'.format(start))\n",
        "print(ret)"
      ],
      "execution_count": 19,
      "outputs": [
        {
          "output_type": "stream",
          "text": [
            "<Response [200]>\n"
          ],
          "name": "stdout"
        }
      ]
    },
    {
      "cell_type": "code",
      "metadata": {
        "id": "XDYbzmO6TxKH",
        "colab_type": "code",
        "colab": {
          "base_uri": "https://localhost:8080/",
          "height": 35
        },
        "outputId": "2adecd32-52db-4f6a-910a-9baea79fd30b"
      },
      "source": [
        "js = ret.json()\n",
        "print(js[-1])\n",
        "df = pd.DataFrame(js)"
      ],
      "execution_count": 20,
      "outputs": [
        {
          "output_type": "stream",
          "text": [
            "{'date': 1600905600, 'high': 10354, 'low': 10200, 'open': 10238.52449418, 'close': 10332.97236071, 'volume': 1708891.5960493, 'quoteVolume': 165.88824564, 'weightedAverage': 10301.46282791}\n"
          ],
          "name": "stdout"
        }
      ]
    },
    {
      "cell_type": "code",
      "metadata": {
        "id": "1jBcMIjHTzy-",
        "colab_type": "code",
        "colab": {
          "base_uri": "https://localhost:8080/",
          "height": 35
        },
        "outputId": "53acc889-1b71-45c2-a924-d30feac6d8c5"
      },
      "source": [
        "scaler = MinMaxScaler()\n",
        "real_price = df['close'].tolist()\n",
        "#df['close'] series라서 .iloc[]으로 인덱싱\n",
        "#df[['close']] dateframe 열이름까지 나옴\n",
        "price = scaler.fit_transform(df[['close']]).reshape(-1).tolist()  #tolist로 만들어줌\n",
        "\n",
        "print('오늘은',datetime.today(), real_price[-1], len(real_price), '개') # GMT +0 기준"
      ],
      "execution_count": 21,
      "outputs": [
        {
          "output_type": "stream",
          "text": [
            "오늘은 2020-09-24 08:10:04.967247 10332.97236071 2045 개\n"
          ],
          "name": "stdout"
        }
      ]
    },
    {
      "cell_type": "code",
      "metadata": {
        "colab_type": "code",
        "id": "V6c1iGRsOkyG",
        "colab": {}
      },
      "source": [
        "#ETF 종목\n",
        "#etf_url = requests.get('https://finance.naver.com/api/sise/etfItemList.nhn')\n",
        "#stok.js = etf_url.json()\n",
        "#stock_data = json_normalize(stock_js['result']['etfItemList'])\n",
        "#stock_data\n",
        "\n",
        "stock_url = pd.read_html('http://kind.krx.co.kr/corpgeneral/corpList.do?method=download&searchType=13', header=0)[0] #[0] 없으면 DataFrame이 아니라 list\n",
        "stock_url.종목코드 = stock_url.종목코드.map('{:06d}'.format)\n",
        "stock_url = stock_url[['회사명', '종목코드']] #필요한 두가지만\n",
        "stock_url = stock_url.rename(columns={'회사명':'name', '종목코드':'code'})"
      ],
      "execution_count": 40,
      "outputs": []
    },
    {
      "cell_type": "code",
      "metadata": {
        "id": "95WvR5uuBesa",
        "colab_type": "code",
        "colab": {
          "base_uri": "https://localhost:8080/",
          "height": 35
        },
        "outputId": "b38bcb89-0958-484b-8e9d-2f9a5664fa13"
      },
      "source": [
        "code = stock_url.query(\"name=='{}'\".format(item_name))['code'].to_string(index=False).strip() #strip 앞뒤공백제거\n",
        "#dr_code = code + '.KS' #DataReader용\n",
        "dr_code = code + '.KQ' #코스닥은 KQ\n",
        "print(item_name, dr_code)"
      ],
      "execution_count": 41,
      "outputs": [
        {
          "output_type": "stream",
          "text": [
            "원익IPS 240810.KQ\n"
          ],
          "name": "stdout"
        }
      ]
    },
    {
      "cell_type": "markdown",
      "metadata": {
        "id": "OH47RX38VUaU",
        "colab_type": "text"
      },
      "source": [
        "#DataReader crawling"
      ]
    },
    {
      "cell_type": "code",
      "metadata": {
        "id": "XT6j_bsmVSIF",
        "colab_type": "code",
        "colab": {}
      },
      "source": [
        "#URL 없이 상당히 쉬운 DataReader를 이용한 크롤링\n",
        "start = (2014, 1, 1)\n",
        "start = datetime(*start)\n",
        "end = datetime.today()\n",
        "df = pdr.DataReader(dr_code, 'yahoo', start, end) #031430.KS 신세계인터내셔날, 코스닥 데이터는 왜 오늘치밖에 안나오냐?"
      ],
      "execution_count": 44,
      "outputs": []
    },
    {
      "cell_type": "code",
      "metadata": {
        "id": "DMAeAAAPiQWv",
        "colab_type": "code",
        "colab": {
          "base_uri": "https://localhost:8080/",
          "height": 35
        },
        "outputId": "b20149a7-64f5-42bb-8409-460bea7425fc"
      },
      "source": [
        "scaler = MinMaxScaler()\n",
        "real_price = df['Close'].tolist()\n",
        "price = scaler.fit_transform(df[['Close']]).reshape(-1).tolist()\n",
        "print('오늘은',datetime.today(), real_price[-1], len(real_price), '개')"
      ],
      "execution_count": 45,
      "outputs": [
        {
          "output_type": "stream",
          "text": [
            "오늘은 2020-09-24 08:15:01.903486 32300.0 427 개\n"
          ],
          "name": "stdout"
        }
      ]
    },
    {
      "cell_type": "markdown",
      "metadata": {
        "id": "X0bp0asNyMTP",
        "colab_type": "text"
      },
      "source": [
        "#make DataSet"
      ]
    },
    {
      "cell_type": "code",
      "metadata": {
        "id": "tgaxeqAnT5tg",
        "colab_type": "code",
        "colab": {
          "base_uri": "https://localhost:8080/",
          "height": 53
        },
        "outputId": "28199ae0-7220-46e6-bcb4-1194179832f2"
      },
      "source": [
        "x = []  #5일의 데이터를 넣고 다음날을 예측하는 방식 (특징벡터 - 훈련집합)\n",
        "y = []  #5+1일의 데이터를 넣고 (결과값 - 훈련집합)\n",
        "\n",
        "for i in range(len(price) - window_size):   #1916-5 = 1911 Range는 마지막 1910까지임\n",
        "  x.append([price[i+j] for j in range(window_size)])\n",
        "  y.append(price[window_size + i])\n",
        "\n",
        "x = np.asarray(x)\n",
        "y = np.asarray(y)\n",
        "print(x.shape) # [1911,5] list\n",
        "print(type(y)) \n",
        "#print(x[-1])  # [1911,5] list\n",
        "#print(price[-1]) #[1916, 1]\n",
        "#print(y[-1])  #[1911, 1]"
      ],
      "execution_count": 46,
      "outputs": [
        {
          "output_type": "stream",
          "text": [
            "(327, 100)\n",
            "<class 'numpy.ndarray'>\n"
          ],
          "name": "stdout"
        }
      ]
    },
    {
      "cell_type": "code",
      "metadata": {
        "id": "uQhHdimbT96e",
        "colab_type": "code",
        "colab": {
          "base_uri": "https://localhost:8080/",
          "height": 53
        },
        "outputId": "8aad6043-79fb-4c7b-9b02-4a2a27560b49"
      },
      "source": [
        "train_test_split = int(len(x)*0.7) #1200개에서 1357개로 증가후에 acc: 0.0017 --> 0.0015\n",
        "split_pt = train_test_split + window_size\n",
        "\n",
        "x_train = x[:train_test_split, :]\n",
        "y_train = y[:train_test_split]\n",
        "\n",
        "x_test = x[train_test_split:, :]\n",
        "y_test = y[train_test_split:]\n",
        "\n",
        "xtrain = x_train.reshape((x_train.shape[0], x_train.shape[1], 1)) # 2차원 데이터 3차원화, LSTM의 데이터 생성할때 주의해야하는 포인트, [sequence,  batch, input_dim]\n",
        "xtest =  np.reshape(x_test, (x_test.shape[0], x_test.shape[1], 1))  #test 집합을 늘리면 미래를 예측할 수 있을까?\n",
        "\n",
        "print(xtrain.shape)#print(x_train.shape) #계속 변함\n",
        "print(x_test.shape) #계속 변함\n",
        "#print(y_train[0])\n",
        "#print(price[4])\n"
      ],
      "execution_count": 47,
      "outputs": [
        {
          "output_type": "stream",
          "text": [
            "(228, 100, 1)\n",
            "(99, 100)\n"
          ],
          "name": "stdout"
        }
      ]
    },
    {
      "cell_type": "markdown",
      "metadata": {
        "id": "1q_QgQenJIoX",
        "colab_type": "text"
      },
      "source": [
        "#**Prediction**"
      ]
    },
    {
      "cell_type": "code",
      "metadata": {
        "id": "2Sav6GQL2kPs",
        "colab_type": "code",
        "colab": {}
      },
      "source": [
        "#train, test prediction\n",
        "train_pred = model.predict(xtrain,batch_size=n_batch) # x[0~window_size-1] 만큼의 특징벡터를 학습해서 학습데이터 수 \n",
        "model.reset_states()\n",
        "test_pred = model.predict(xtest,batch_size=n_batch)\n",
        "model.reset_states()\n",
        "real_train_pred = scaler.inverse_transform(train_pred)\n",
        "real_test_pred = scaler.inverse_transform(test_pred)"
      ],
      "execution_count": 48,
      "outputs": []
    },
    {
      "cell_type": "markdown",
      "metadata": {
        "id": "USxgiMWIV1CT",
        "colab_type": "text"
      },
      "source": [
        "#(t+n)일 예측하기 "
      ]
    },
    {
      "cell_type": "code",
      "metadata": {
        "id": "0qUwG-0vzwj-",
        "colab_type": "code",
        "colab": {}
      },
      "source": [
        "#(t+n)일 예측 시뮬레이션 (순수 predict)\n",
        "def predict_future():\n",
        "  if (verif_gap != 0):\n",
        "    today = xtest[-verif_gap-1]\n",
        "    today = np.vstack((today[1:], price[-verif_gap]))\n",
        "    seq_in = today \n",
        "    fut = np.zeros((verif_gap+predict_day,1))\n",
        "\n",
        "    i = 0\n",
        "    for i in range(verif_gap): #과거 예측결과 평가를 위한\n",
        "      sample_in = seq_in.reshape(1,window_size,1)\n",
        "      after = model.predict(sample_in, batch_size=n_batch)\n",
        "      model.reset_states() #없으면 예측값 계속 바뀜\n",
        "      seq_in = np.vstack((seq_in[1:], after))\n",
        "      fut[i] = after\n",
        "    \n",
        "    #검증 후 예측\n",
        "    today = xtest[-1]\n",
        "    today = np.vstack((today[1:], price[-1]))\n",
        "    seq_in = today\n",
        "\n",
        "    i+=1 #배열 다음위치부터\n",
        "    for i in range(i,i+predict_day,1):\n",
        "      sample_in = seq_in.reshape(1,window_size,1)\n",
        "      after = model.predict(sample_in, batch_size=n_batch)\n",
        "      model.reset_states() \n",
        "      seq_in = np.vstack((seq_in[1:], after))\n",
        "      fut[i] = after\n",
        "\n",
        "  else: #그날 바로 검증일때\n",
        "    today = xtest[-1]\n",
        "    today = np.vstack((today[1:], price[-1]))\n",
        "    seq_in = today \n",
        "    fut = np.zeros((predict_day,1))\n",
        "\n",
        "    for i in range(predict_day): \n",
        "      sample_in = seq_in.reshape(1,window_size,1)\n",
        "      after = model.predict(sample_in, batch_size=n_batch)\n",
        "      model.reset_states() \n",
        "      seq_in = np.vstack((seq_in[1:], after))\n",
        "      fut[i] = after\n",
        "  \n",
        "\n",
        "  real_fut = scaler.inverse_transform(fut)\n",
        "  return real_fut, fut"
      ],
      "execution_count": 49,
      "outputs": []
    },
    {
      "cell_type": "code",
      "metadata": {
        "id": "5o6etOgbtQE7",
        "colab_type": "code",
        "colab": {}
      },
      "source": [
        "############Verify or Modify Simulation\n",
        "\n",
        "#하루마다 갱신하는 예측 오늘치는 갱신하고 그 다음날거랑 마지막 거 새로예측\n",
        "#하루늦게 추종하니까 안좋은 결과\n",
        "verif_price = price\n",
        "real_verif_price = real_price\n",
        "\n",
        "today = xtest[-verif_gap]\n",
        "today = np.vstack((today[1:], price[-verif_gap]))\n",
        "seq_in = today #오늘꺼 까지 넣고 \n",
        "after_pred = np.zeros((predict_day+verif_gap,1)) #15일치\n",
        "sample_in = seq_in.reshape(1,window_size,1)\n",
        "after = model.predict(sample_in, batch_size=n_batch)\n",
        "model.reset_states() #없으면 예측값 계속 바뀜\n",
        "after_pred[0] = after #첫번째꺼는 이미지났으니까 유지하고\n",
        "\n",
        "#seq_in[window_size-predict_day-1] = verif_price[-verif_gap] # 7월 10일 기준. 11일 예측치를, 11일 actual data로 갱신\n",
        "j = 1\n",
        "for i in range(verif_gap, 0, -1): #\n",
        "  seq_in = np.vstack((seq_in[1:], verif_price[-i])) #11일 acutual 추가\n",
        "  sample_in = seq_in.reshape(1, window_size, 1)\n",
        "  after = model.predict(sample_in, batch_size=n_batch) #갱신된 11일치로 12일치 다시 예측\n",
        "  model.reset_states()\n",
        "  #seq_in = np.vstack((seq_in[1:], after))    #12일 예측치를 after에만 추가 seq_in에는 actual만 들어가야하므로\n",
        "  #after_pred = np.vstack((after_pred, after)) #전부다 갱신해줘야함 새로운 배열\n",
        "  after_pred[j] = after\n",
        "  j+=1\n",
        "\n",
        "seq_in = np.vstack((seq_in[1:], after_pred[j-1])) # 17일을 위한 16일은 넣어주고\n",
        "for i in range(j,predict_day+verif_gap):\n",
        "  sample_in = seq_in.reshape(1, window_size, 1)\n",
        "  after = model.predict(sample_in, batch_size=n_batch)\n",
        "  model.reset_states()\n",
        "  seq_in = np.vstack((seq_in[1:], after))\n",
        "  after_pred[i] = after\n",
        "\n",
        "real_after_pred = scaler.inverse_transform(after_pred)"
      ],
      "execution_count": 50,
      "outputs": []
    },
    {
      "cell_type": "code",
      "metadata": {
        "id": "wFpIfQUAy4wS",
        "colab_type": "code",
        "colab": {
          "base_uri": "https://localhost:8080/",
          "height": 35
        },
        "outputId": "d23f3d2c-f9b6-4ab3-d182-9f3dfadd5108"
      },
      "source": [
        "#MCC를 사용하는 이유\n",
        "TP = 5\n",
        "FN = 15 \n",
        "TN = 5\n",
        "FP = 0\n",
        "#ACC는 91%지만, MCC는 균형적이지 못해서 낮게 나온다!! 하락 5번중 한번밖에 못맞췄으므로\n",
        "MCC = (TP * TN - FP * FN) / np.sqrt((TP+FP)*(TP+FN)*(TN+FP)*(TN+FN))\n",
        "FM = np.sqrt((TP/(TP+FP) * (TN/(TP+FN))))\n",
        "#print('%.2f%%' %(100*(0.5 + MCC/2)))\n",
        "MCC"
      ],
      "execution_count": 51,
      "outputs": [
        {
          "output_type": "execute_result",
          "data": {
            "text/plain": [
              "0.25"
            ]
          },
          "metadata": {
            "tags": []
          },
          "execution_count": 51
        }
      ]
    },
    {
      "cell_type": "code",
      "metadata": {
        "id": "q85rqCRIVhDB",
        "colab_type": "code",
        "colab": {
          "base_uri": "https://localhost:8080/",
          "height": 35
        },
        "outputId": "eb0e9c05-9743-4a1e-8ba8-b12e16da4fa5"
      },
      "source": [
        "#MCC의 오류 한쪽이 1이거나 1에가까우면 과긍정평가\n",
        "TP = 5\n",
        "FN = 10 \n",
        "TN = 5\n",
        "FP = 0\n",
        "(TP/(TP+FN))*0.5 + (TN/(TN+FP))*0.5"
      ],
      "execution_count": 52,
      "outputs": [
        {
          "output_type": "execute_result",
          "data": {
            "text/plain": [
              "0.6666666666666666"
            ]
          },
          "metadata": {
            "tags": []
          },
          "execution_count": 52
        }
      ]
    },
    {
      "cell_type": "code",
      "metadata": {
        "id": "ar5HxyO3g7gw",
        "colab_type": "code",
        "colab": {}
      },
      "source": [
        "#F1 score는 지나치게 긍정적으로 평가되는 경향이 있다. 분류문제인 양수인지 음수인지를 판별할 때는 MCC를 사용한다\n",
        "#MCC는 -1 ~ +1 사이 값을 나타내며 0은 임의 예측과 같은성능\n",
        "#방향 정확성 평가, MCC는 상승하락에 대해 균형있게 예측했는지 평가\n",
        "#8/27 수많은 모델 검사결과 MCC가 ACC보다 오히려 과긍정으로 나타났다. TP*TN - FP*FN 의 한계 때문이였음\n",
        "#Matthews correlation coefficient, confusion Matrix \n",
        "def MCC(actual, target, t): \n",
        "  TP, TN, FP, FN = 0,0,0,0\n",
        "  ACC_List = [] \n",
        "  MCC_List = []\n",
        "\n",
        "  for i in range(len(target)):\n",
        "    if (actual[i+t] - actual[i+t-1] > 0): #상승\n",
        "      if (target[i] - actual[i+t-1] > 0): #상승예측\n",
        "        TP += 1\n",
        "      else:\n",
        "        FN += 1\n",
        "    elif (actual[i+t] - actual[i+t-1] < 0): # 하락\n",
        "      if (target[i] - actual[i+t-1] < 0):\n",
        "        TN += 1\n",
        "      else:\n",
        "        FP += 1\n",
        "    else: #그대로\n",
        "      if (target[i] == actual[i+t-1]):\n",
        "        TP += 1\n",
        "      elif (target[i] - actual[i+t-1] > 0):\n",
        "        FP += 1\n",
        "      else:\n",
        "        FN += 1\n",
        "    N = TP + TN + FP + FN\n",
        "    S = (TP + FN) / N\n",
        "    P = (TP + FP) / N\n",
        "    ACC = (TP + TN) / N\n",
        "    MCC = (TP / N - S * P) / np.sqrt(P*S*(1-S)*(1-P))\n",
        "    ACC_List.append(ACC)\n",
        "    MCC_List.append(MCC)\n",
        "\n",
        "  N = TP + TN + FP + FN\n",
        "  S = (TP + FN) / N\n",
        "  P = (TP + FP) / N\n",
        "  ACC = (TP + TN) / N\n",
        "  MCC = (TP / N - S * P) / np.sqrt(P*S*(1-S)*(1-P))\n",
        "  #MCC = (TP * TN - FP * FN) / np.sqrt((TP+FP)*(TP+FN)*(TN+FP)*(TN+FN))\n",
        "  #두개가 0이되면 측정안됨\n",
        "  print(TP,FN,TN,FP)\n",
        "  #print(ACC_List)\n",
        "  #print(MCC_List)\n",
        "  print('방향정확도: %.3f%%\\nMCC: %.2f\\n' %(ACC*100,MCC))\n",
        "  #return ACC_List, MCC_List"
      ],
      "execution_count": 53,
      "outputs": []
    },
    {
      "cell_type": "code",
      "metadata": {
        "id": "m6y9_VYZ0GU2",
        "colab_type": "code",
        "colab": {}
      },
      "source": [
        "#keras 라이브러리 내 mape 평가는 값이 너무 큼 mae,mse 전부다\n",
        "def MAPE(actual, target, t): #Mean absolute percentage error\n",
        "  scores = []\n",
        "  for i in range(len(target)):\n",
        "    scores.append(np.abs((actual[i+t] - target[i]) / actual[i+t]))\n",
        "  print('값 오차율: %.2f%%' %(np.average(scores)*100))\n",
        "  #return scores"
      ],
      "execution_count": 54,
      "outputs": []
    },
    {
      "cell_type": "code",
      "metadata": {
        "id": "vcKLT45sqXwn",
        "colab_type": "code",
        "colab": {}
      },
      "source": [
        "#함수호출\n",
        "real_after_pred, after_pred = predict_future()"
      ],
      "execution_count": 55,
      "outputs": []
    },
    {
      "cell_type": "code",
      "metadata": {
        "id": "1WTykdX909Yz",
        "colab_type": "code",
        "colab": {
          "base_uri": "https://localhost:8080/",
          "height": 431
        },
        "outputId": "ec46c66d-7438-4e80-bb7a-d4796793dce9"
      },
      "source": [
        "#정규화상태로 하면 0에 가까워질때 값이 너무커지는 함정\n",
        "MAPE(real_price, real_train_pred, window_size) #list,dic,set 같은 mutable object는 call by reference임\n",
        "MCC(real_price, real_train_pred, window_size) \n",
        "MAPE(real_price, real_test_pred, split_pt)\n",
        "MCC(real_price, real_test_pred, split_pt)\n",
        "if (verif_gap != 0 ):\n",
        "  MAPE(real_price, real_after_pred[:verif_gap], split_pt + len(test_pred)-verif_gap)\n",
        "  MCC(real_price, real_after_pred[:verif_gap], split_pt + len(test_pred)-verif_gap)\n",
        "else :\n",
        "  verif_date = 21\n",
        "  MAPE(real_price, real_test_pred[:verif_date], split_pt + len(test_pred)-verif_date)\n",
        "  MCC(real_price, real_test_pred[:verif_date], split_pt + len(test_pred)-verif_date)"
      ],
      "execution_count": 56,
      "outputs": [
        {
          "output_type": "stream",
          "text": [
            "값 오차율: 2.12%\n",
            "94 21 60 53\n",
            "방향정확도: 67.544%\n",
            "MCC: 0.36\n",
            "\n",
            "값 오차율: 0.30%\n",
            "53 0 41 5\n",
            "방향정확도: 94.949%\n",
            "MCC: 0.90\n",
            "\n",
            "값 오차율: 0.77%\n",
            "0 0 2 0\n",
            "방향정확도: 100.000%\n",
            "MCC: nan\n",
            "\n"
          ],
          "name": "stdout"
        },
        {
          "output_type": "stream",
          "text": [
            "/usr/local/lib/python3.6/dist-packages/ipykernel_launcher.py:33: RuntimeWarning:\n",
            "\n",
            "invalid value encountered in double_scalars\n",
            "\n",
            "/usr/local/lib/python3.6/dist-packages/ipykernel_launcher.py:41: RuntimeWarning:\n",
            "\n",
            "invalid value encountered in double_scalars\n",
            "\n"
          ],
          "name": "stderr"
        }
      ]
    },
    {
      "cell_type": "code",
      "metadata": {
        "id": "XgU5lekpUbqa",
        "colab_type": "code",
        "colab": {
          "base_uri": "https://localhost:8080/",
          "height": 179
        },
        "outputId": "8d7ca56b-0891-42d4-bc54-760f92e09e9c"
      },
      "source": [
        "#완전적합부분 검사\n",
        "MAPE(price, train_pred[190-window_size:562-window_size], 190)\n",
        "MCC(price, train_pred[190-window_size:562-window_size], 190)"
      ],
      "execution_count": 57,
      "outputs": [
        {
          "output_type": "stream",
          "text": [
            "값 오차율: 2.08%\n",
            "70 4 48 16\n",
            "방향정확도: 85.507%\n",
            "MCC: 0.72\n",
            "\n"
          ],
          "name": "stdout"
        },
        {
          "output_type": "stream",
          "text": [
            "/usr/local/lib/python3.6/dist-packages/ipykernel_launcher.py:33: RuntimeWarning:\n",
            "\n",
            "invalid value encountered in double_scalars\n",
            "\n"
          ],
          "name": "stderr"
        }
      ]
    },
    {
      "cell_type": "code",
      "metadata": {
        "id": "BQLdrQPurOhR",
        "colab_type": "code",
        "colab": {
          "base_uri": "https://localhost:8080/",
          "height": 35
        },
        "outputId": "8e549471-146a-4bcf-f166-5fc7ebb924ee"
      },
      "source": [
        "trainScore = model.evaluate(xtrain, y_train, batch_size=n_batch, verbose=0)\n",
        "testScore = model.evaluate(xtest, y_test, batch_size=n_batch, verbose=0)\n",
        "print(\"mae: (%.5f, %.5f)\" %(trainScore[1], testScore[1]))"
      ],
      "execution_count": 58,
      "outputs": [
        {
          "output_type": "stream",
          "text": [
            "mae: (0.02130, 0.00439)\n"
          ],
          "name": "stdout"
        }
      ]
    },
    {
      "cell_type": "markdown",
      "metadata": {
        "id": "SPPu1ENgGM2h",
        "colab_type": "text"
      },
      "source": [
        "#**Result**"
      ]
    },
    {
      "cell_type": "code",
      "metadata": {
        "id": "oQSstMBtGCpA",
        "colab_type": "code",
        "colab": {
          "base_uri": "https://localhost:8080/",
          "height": 542
        },
        "outputId": "549ab66a-5590-4d6c-df65-521b09dd6e9f"
      },
      "source": [
        "trace = go.Scatter(x=np.arange(0,len(price),1), y=price, #0~1915까지 해야함 재정규화로 matrix되면 reshape해주어 1차행렬로 만들어야함\n",
        "mode = 'lines', name='actual')\n",
        "trace2 = go.Scatter(x=np.arange(window_size,split_pt,1), y=train_pred.reshape(train_test_split), #(5,1205,1) 이지만, 5~1204까지 적용 다 마찬가지\n",
        "mode = 'lines', name='train')\n",
        "trace3 = go.Scatter(x=np.arange(split_pt,split_pt + len(test_pred),1), y=test_pred.reshape(len(test_pred)),  #1205~1915\n",
        "mode = 'lines', name='prediction')\n",
        "trace4 = go.Scatter(x=np.arange(split_pt +len(test_pred)-verif_gap, split_pt + len(test_pred) + len(after_pred), 1), y =after_pred.reshape(len(after_pred)),\n",
        "mode = 'lines', name= 'after_pred')\n",
        "\n",
        "data = [trace, trace2, trace3, trace4]\n",
        "layout = go.Layout(title=Title)\n",
        "fig = go.Figure(data=data, layout=layout)\n",
        "py.offline.iplot(fig) #그래프 출력 \n",
        "#py.offline.plot(fig, show_link = True, filename = Title + '.html') #다른이름으로 저장\n",
        "\n",
        "from google.colab import files\n",
        "import os\n",
        "\n",
        "#os.rename('temp-plot.html', rename)\n",
        "#files.download(filename=Title +'.html') #다운로드"
      ],
      "execution_count": 59,
      "outputs": [
        {
          "output_type": "display_data",
          "data": {
            "text/html": [
              "<html>\n",
              "<head><meta charset=\"utf-8\" /></head>\n",
              "<body>\n",
              "    <div>\n",
              "            <script src=\"https://cdnjs.cloudflare.com/ajax/libs/mathjax/2.7.5/MathJax.js?config=TeX-AMS-MML_SVG\"></script><script type=\"text/javascript\">if (window.MathJax) {MathJax.Hub.Config({SVG: {font: \"STIX-Web\"}});}</script>\n",
              "                <script type=\"text/javascript\">window.PlotlyConfig = {MathJaxConfig: 'local'};</script>\n",
              "        <script src=\"https://cdn.plot.ly/plotly-latest.min.js\"></script>    \n",
              "            <div id=\"3ae61f93-3e05-4215-9c7b-7ccbab36ad43\" class=\"plotly-graph-div\" style=\"height:525px; width:100%;\"></div>\n",
              "            <script type=\"text/javascript\">\n",
              "                \n",
              "                    window.PLOTLYENV=window.PLOTLYENV || {};\n",
              "                    \n",
              "                if (document.getElementById(\"3ae61f93-3e05-4215-9c7b-7ccbab36ad43\")) {\n",
              "                    Plotly.newPlot(\n",
              "                        '3ae61f93-3e05-4215-9c7b-7ccbab36ad43',\n",
              "                        [{\"mode\": \"lines\", \"name\": \"actual\", \"type\": \"scatter\", \"x\": [0, 1, 2, 3, 4, 5, 6, 7, 8, 9, 10, 11, 12, 13, 14, 15, 16, 17, 18, 19, 20, 21, 22, 23, 24, 25, 26, 27, 28, 29, 30, 31, 32, 33, 34, 35, 36, 37, 38, 39, 40, 41, 42, 43, 44, 45, 46, 47, 48, 49, 50, 51, 52, 53, 54, 55, 56, 57, 58, 59, 60, 61, 62, 63, 64, 65, 66, 67, 68, 69, 70, 71, 72, 73, 74, 75, 76, 77, 78, 79, 80, 81, 82, 83, 84, 85, 86, 87, 88, 89, 90, 91, 92, 93, 94, 95, 96, 97, 98, 99, 100, 101, 102, 103, 104, 105, 106, 107, 108, 109, 110, 111, 112, 113, 114, 115, 116, 117, 118, 119, 120, 121, 122, 123, 124, 125, 126, 127, 128, 129, 130, 131, 132, 133, 134, 135, 136, 137, 138, 139, 140, 141, 142, 143, 144, 145, 146, 147, 148, 149, 150, 151, 152, 153, 154, 155, 156, 157, 158, 159, 160, 161, 162, 163, 164, 165, 166, 167, 168, 169, 170, 171, 172, 173, 174, 175, 176, 177, 178, 179, 180, 181, 182, 183, 184, 185, 186, 187, 188, 189, 190, 191, 192, 193, 194, 195, 196, 197, 198, 199, 200, 201, 202, 203, 204, 205, 206, 207, 208, 209, 210, 211, 212, 213, 214, 215, 216, 217, 218, 219, 220, 221, 222, 223, 224, 225, 226, 227, 228, 229, 230, 231, 232, 233, 234, 235, 236, 237, 238, 239, 240, 241, 242, 243, 244, 245, 246, 247, 248, 249, 250, 251, 252, 253, 254, 255, 256, 257, 258, 259, 260, 261, 262, 263, 264, 265, 266, 267, 268, 269, 270, 271, 272, 273, 274, 275, 276, 277, 278, 279, 280, 281, 282, 283, 284, 285, 286, 287, 288, 289, 290, 291, 292, 293, 294, 295, 296, 297, 298, 299, 300, 301, 302, 303, 304, 305, 306, 307, 308, 309, 310, 311, 312, 313, 314, 315, 316, 317, 318, 319, 320, 321, 322, 323, 324, 325, 326, 327, 328, 329, 330, 331, 332, 333, 334, 335, 336, 337, 338, 339, 340, 341, 342, 343, 344, 345, 346, 347, 348, 349, 350, 351, 352, 353, 354, 355, 356, 357, 358, 359, 360, 361, 362, 363, 364, 365, 366, 367, 368, 369, 370, 371, 372, 373, 374, 375, 376, 377, 378, 379, 380, 381, 382, 383, 384, 385, 386, 387, 388, 389, 390, 391, 392, 393, 394, 395, 396, 397, 398, 399, 400, 401, 402, 403, 404, 405, 406, 407, 408, 409, 410, 411, 412, 413, 414, 415, 416, 417, 418, 419, 420, 421, 422, 423, 424, 425, 426], \"y\": [0.0, 0.023404255319148914, 0.05531914893617018, 0.05319148936170204, 0.051063829787234005, 0.06382978723404253, 0.10212765957446801, 0.12340425531914889, 0.15531914893617016, 0.13617021276595742, 0.13617021276595742, 0.10851063829787233, 0.1574468085106383, 0.1744680851063829, 0.22765957446808505, 0.2872340425531915, 0.2936170212765957, 0.26170212765957446, 0.276595744680851, 0.2361702127659574, 0.2595744680851063, 0.31702127659574464, 0.34042553191489355, 0.30638297872340414, 0.3319148936170212, 0.3042553191489362, 0.28297872340425534, 0.27872340425531916, 0.2936170212765957, 0.3127659574468086, 0.28936170212765955, 0.25106382978723396, 0.2531914893617021, 0.26595744680851063, 0.2531914893617021, 0.25106382978723396, 0.24042553191489358, 0.22765957446808505, 0.24042553191489358, 0.2638297872340425, 0.2638297872340425, 0.26595744680851063, 0.28297872340425534, 0.25531914893617014, 0.2468085106382979, 0.24468085106382975, 0.24255319148936172, 0.3085106382978723, 0.2978723404255318, 0.29574468085106387, 0.28297872340425534, 0.2531914893617021, 0.24893617021276593, 0.23404255319148937, 0.24255319148936172, 0.3191489361702128, 0.3021276595744681, 0.3595744680851064, 0.3319148936170212, 0.3361702127659575, 0.3212765957446809, 0.3489361702127659, 0.3553191489361701, 0.3978723404255319, 0.39148936170212767, 0.3702127659574469, 0.3765957446808511, 0.3319148936170212, 0.3042553191489362, 0.30638297872340414, 0.29574468085106387, 0.2914893617021276, 0.2638297872340425, 0.3148936170212765, 0.33404255319148934, 0.325531914893617, 0.36808510638297876, 0.3659574468085106, 0.3808510638297872, 0.3553191489361701, 0.3361702127659575, 0.29999999999999993, 0.3127659574468086, 0.28297872340425534, 0.2914893617021276, 0.2702127659574468, 0.2978723404255318, 0.3085106382978723, 0.2702127659574468, 0.25106382978723396, 0.2531914893617021, 0.27234042553191484, 0.276595744680851, 0.28510638297872337, 0.29999999999999993, 0.3085106382978723, 0.3425531914893617, 0.3553191489361701, 0.34042553191489355, 0.35106382978723405, 0.3361702127659575, 0.34680851063829776, 0.3765957446808511, 0.37446808510638296, 0.35106382978723405, 0.34680851063829776, 0.34042553191489355, 0.2978723404255318, 0.2872340425531915, 0.28297872340425534, 0.2638297872340425, 0.29574468085106387, 0.26595744680851063, 0.26808510638297867, 0.24255319148936172, 0.2531914893617021, 0.24893617021276593, 0.22765957446808505, 0.1851063829787234, 0.1851063829787234, 0.2595744680851063, 0.27872340425531916, 0.28297872340425534, 0.29999999999999993, 0.2872340425531915, 0.29574468085106387, 0.2936170212765957, 0.3042553191489362, 0.2872340425531915, 0.276595744680851, 0.2872340425531915, 0.24255319148936172, 0.2531914893617021, 0.2574468085106383, 0.26808510638297867, 0.27234042553191484, 0.27234042553191484, 0.27234042553191484, 0.2531914893617021, 0.22340425531914887, 0.225531914893617, 0.23191489361702122, 0.21063829787234045, 0.19999999999999996, 0.19574468085106378, 0.19574468085106378, 0.1914893617021276, 0.17234042553191486, 0.17659574468085104, 0.17234042553191486, 0.21702127659574466, 0.22765957446808505, 0.24042553191489358, 0.29999999999999993, 0.32765957446808514, 0.31702127659574464, 0.3531914893617022, 0.34468085106382984, 0.3191489361702128, 0.3553191489361701, 0.3808510638297872, 0.3765957446808511, 0.3489361702127659, 0.3659574468085106, 0.37446808510638296, 0.40638297872340423, 0.3978723404255319, 0.4085106382978724, 0.37446808510638296, 0.34468085106382984, 0.3553191489361701, 0.3808510638297872, 0.3893617021276595, 0.40638297872340423, 0.3723404255319148, 0.37446808510638296, 0.31063829787234043, 0.31702127659574464, 0.3212765957446809, 0.30638297872340414, 0.27234042553191484, 0.2808510638297872, 0.2702127659574468, 0.2638297872340425, 0.31063829787234043, 0.3042553191489362, 0.2978723404255318, 0.27234042553191484, 0.28510638297872337, 0.27234042553191484, 0.24255319148936172, 0.23191489361702122, 0.24255319148936172, 0.2574468085106383, 0.2872340425531915, 0.26808510638297867, 0.2531914893617021, 0.2638297872340425, 0.26595744680851063, 0.3042553191489362, 0.3021276595744681, 0.3085106382978723, 0.2595744680851063, 0.24893617021276593, 0.24893617021276593, 0.24468085106382975, 0.2361702127659574, 0.2531914893617021, 0.2872340425531915, 0.2936170212765957, 0.2914893617021276, 0.3127659574468086, 0.3127659574468086, 0.3148936170212765, 0.34468085106382984, 0.35744680851063826, 0.35744680851063826, 0.37446808510638296, 0.3595744680851064, 0.36382978723404247, 0.325531914893617, 0.3297872340425533, 0.34468085106382984, 0.33404255319148934, 0.3382978723404254, 0.3723404255319148, 0.36382978723404247, 0.35106382978723405, 0.3765957446808511, 0.3808510638297872, 0.3872340425531914, 0.36808510638297876, 0.3936170212765958, 0.36808510638297876, 0.3595744680851064, 0.36382978723404247, 0.3808510638297872, 0.3723404255319148, 0.40638297872340423, 0.42340425531914894, 0.40638297872340423, 0.4148936170212766, 0.4, 0.38510638297872346, 0.3978723404255319, 0.3936170212765958, 0.3936170212765958, 0.3936170212765958, 0.42978723404255315, 0.43617021276595735, 0.4510638297872339, 0.4425531914893618, 0.476595744680851, 0.476595744680851, 0.5340425531914893, 0.5042553191489362, 0.502127659574468, 0.49148936170212754, 0.49148936170212754, 0.5297872340425532, 0.5170212765957446, 0.523404255319149, 0.4957446808510638, 0.4957446808510638, 0.5212765957446809, 0.5276595744680851, 0.5382978723404256, 0.6, 0.6212765957446807, 0.6340425531914894, 0.6212765957446807, 0.6276595744680852, 0.6042553191489363, 0.525531914893617, 0.5382978723404256, 0.5723404255319148, 0.5489361702127659, 0.5553191489361703, 0.5808510638297871, 0.5553191489361703, 0.5468085106382979, 0.5382978723404256, 0.5765957446808511, 0.6063829787234042, 0.6148936170212765, 0.5851063829787234, 0.5574468085106382, 0.5531914893617021, 0.5170212765957446, 0.4829787234042554, 0.5297872340425532, 0.5361702127659574, 0.5851063829787234, 0.5659574468085106, 0.5765957446808511, 0.5574468085106382, 0.6, 0.6765957446808512, 0.6851063829787235, 0.7170212765957448, 0.7808510638297873, 0.8085106382978723, 0.8063829787234044, 0.797872340425532, 0.7638297872340426, 0.7425531914893616, 0.7446808510638298, 0.6702127659574467, 0.6829787234042554, 0.653191489361702, 0.7042553191489361, 0.6148936170212765, 0.6063829787234042, 0.6042553191489363, 0.6617021276595744, 0.6085106382978723, 0.5893617021276595, 0.5489361702127659, 0.5595744680851064, 0.5957446808510639, 0.6170212765957447, 0.6297872340425531, 0.6127659574468084, 0.6234042553191489, 0.6510638297872341, 0.5957446808510639, 0.5893617021276595, 0.5744680851063829, 0.5808510638297871, 0.5914893617021276, 0.5851063829787234, 0.5936170212765958, 0.5468085106382979, 0.5574468085106382, 0.5553191489361703, 0.5893617021276595, 0.6787234042553191, 0.6978723404255319, 0.7106382978723403, 0.7531914893617021, 0.7553191489361702, 0.7617021276595745, 0.772340425531915, 0.7553191489361702, 0.7531914893617021, 0.7340425531914893, 0.7361702127659574, 0.7361702127659574, 0.7744680851063829, 0.7702127659574468, 0.7425531914893616, 0.797872340425532, 0.8617021276595745, 0.8425531914893617, 0.7787234042553192, 0.6319148936170212, 0.6978723404255319, 0.6914893617021277, 0.7638297872340426, 0.7936170212765957, 0.7744680851063829, 0.776595744680851, 0.7957446808510639, 0.7319148936170213, 0.7531914893617021, 0.7914893617021276, 0.8340425531914893, 0.8234042553191488, 0.8553191489361701, 0.8765957446808511, 0.8446808510638298, 0.8595744680851064, 0.8617021276595745, 0.8319148936170212, 0.8553191489361701, 0.8872340425531916, 0.9468085106382979, 1.0, 0.9127659574468084, 0.9127659574468084, 0.9234042553191489, 0.9531914893617021, 0.9404255319148936, 0.8914893617021277, 0.8319148936170212, 0.8212765957446809, 0.7638297872340426, 0.7829787234042552, 0.7893617021276597, 0.7914893617021276, 0.7255319148936171, 0.7468085106382979, 0.7404255319148937, 0.797872340425532, 0.7531914893617021, 0.7680851063829787, 0.8021276595744681, 0.7595744680851063, 0.674468085106383, 0.7191489361702127, 0.653191489361702, 0.6808510638297872, 0.7191489361702127, 0.7255319148936171, 0.7127659574468085, 0.7127659574468085, 0.6787234042553191, 0.6957446808510638, 0.6382978723404255, 0.6212765957446807, 0.5744680851063829, 0.6595744680851064, 0.6574468085106383, 0.6957446808510638, 0.723404255319149, 0.7382978723404255, 0.7999999999999999, 0.7468085106382979, 0.6936170212765956, 0.7808510638297873, 0.7638297872340426, 0.8063829787234044, 0.7957446808510639, 0.7659574468085107, 0.7106382978723403, 0.6936170212765956, 0.6659574468085107]}, {\"mode\": \"lines\", \"name\": \"train\", \"type\": \"scatter\", \"x\": [100, 101, 102, 103, 104, 105, 106, 107, 108, 109, 110, 111, 112, 113, 114, 115, 116, 117, 118, 119, 120, 121, 122, 123, 124, 125, 126, 127, 128, 129, 130, 131, 132, 133, 134, 135, 136, 137, 138, 139, 140, 141, 142, 143, 144, 145, 146, 147, 148, 149, 150, 151, 152, 153, 154, 155, 156, 157, 158, 159, 160, 161, 162, 163, 164, 165, 166, 167, 168, 169, 170, 171, 172, 173, 174, 175, 176, 177, 178, 179, 180, 181, 182, 183, 184, 185, 186, 187, 188, 189, 190, 191, 192, 193, 194, 195, 196, 197, 198, 199, 200, 201, 202, 203, 204, 205, 206, 207, 208, 209, 210, 211, 212, 213, 214, 215, 216, 217, 218, 219, 220, 221, 222, 223, 224, 225, 226, 227, 228, 229, 230, 231, 232, 233, 234, 235, 236, 237, 238, 239, 240, 241, 242, 243, 244, 245, 246, 247, 248, 249, 250, 251, 252, 253, 254, 255, 256, 257, 258, 259, 260, 261, 262, 263, 264, 265, 266, 267, 268, 269, 270, 271, 272, 273, 274, 275, 276, 277, 278, 279, 280, 281, 282, 283, 284, 285, 286, 287, 288, 289, 290, 291, 292, 293, 294, 295, 296, 297, 298, 299, 300, 301, 302, 303, 304, 305, 306, 307, 308, 309, 310, 311, 312, 313, 314, 315, 316, 317, 318, 319, 320, 321, 322, 323, 324, 325, 326, 327], \"y\": [0.3385712206363678, 0.3170974552631378, 0.32399889826774597, 0.323356568813324, 0.3182234764099121, 0.32847175002098083, 0.34055477380752563, 0.3415500223636627, 0.3411499559879303, 0.3330342769622803, 0.3152342736721039, 0.3132264316082001, 0.3185800313949585, 0.32367244362831116, 0.3104245364665985, 0.2876826822757721, 0.28270450234413147, 0.30610838532447815, 0.3232630789279938, 0.2983996868133545, 0.24812588095664978, 0.2373259961605072, 0.3034977912902832, 0.34162166714668274, 0.30525875091552734, 0.2684946656227112, 0.3023095726966858, 0.3518795967102051, 0.3320751488208771, 0.2779669463634491, 0.2521544396877289, 0.26346883177757263, 0.26844674348831177, 0.2441411018371582, 0.22465118765830994, 0.2551601529121399, 0.30782610177993774, 0.31780096888542175, 0.28502219915390015, 0.2650551199913025, 0.2866649925708771, 0.2873844504356384, 0.2508324384689331, 0.23653799295425415, 0.2563702464103699, 0.26069891452789307, 0.24236246943473816, 0.23255488276481628, 0.24310514330863953, 0.24702578783035278, 0.24141767621040344, 0.24564823508262634, 0.27528077363967896, 0.29983264207839966, 0.29970142245292664, 0.314950168132782, 0.35425421595573425, 0.36480262875556946, 0.34626150131225586, 0.3231046795845032, 0.296799898147583, 0.2780066728591919, 0.28619691729545593, 0.313062459230423, 0.33052119612693787, 0.34377288818359375, 0.38212740421295166, 0.4344427287578583, 0.439459890127182, 0.3823874890804291, 0.31754592061042786, 0.31136107444763184, 0.36284470558166504, 0.4076775312423706, 0.4283837080001831, 0.43364906311035156, 0.3949902653694153, 0.3432915210723877, 0.3110077381134033, 0.3481367230415344, 0.42524704337120056, 0.40307390689849854, 0.30751264095306396, 0.2615016996860504, 0.30917975306510925, 0.3468947112560272, 0.35549235343933105, 0.34843170642852783, 0.34291666746139526, 0.34069347381591797, 0.336324006319046, 0.30766376852989197, 0.2599705457687378, 0.24298632144927979, 0.2752496302127838, 0.3060934245586395, 0.30754342675209045, 0.2847104072570801, 0.2709004878997803, 0.2938019335269928, 0.31348854303359985, 0.2978169918060303, 0.26538294553756714, 0.24979078769683838, 0.24627217650413513, 0.23336008191108704, 0.2256205677986145, 0.2429170310497284, 0.2716499865055084, 0.29008954763412476, 0.3010614216327667, 0.3069491386413574, 0.30591198801994324, 0.31879502534866333, 0.3456185758113861, 0.354819655418396, 0.35997438430786133, 0.37757325172424316, 0.3802637457847595, 0.361988365650177, 0.33924150466918945, 0.336191862821579, 0.33832308650016785, 0.33720460534095764, 0.35891473293304443, 0.37702110409736633, 0.3602445125579834, 0.3505849838256836, 0.37668082118034363, 0.392728716135025, 0.38494813442230225, 0.379328191280365, 0.3819860816001892, 0.36811700463294983, 0.36263132095336914, 0.3701269328594208, 0.37305325269699097, 0.3808801472187042, 0.40715616941452026, 0.4196356236934662, 0.4174485206604004, 0.41705840826034546, 0.3992597460746765, 0.38430383801460266, 0.39306581020355225, 0.3951088786125183, 0.39333289861679077, 0.4060325026512146, 0.4258072078227997, 0.4362282156944275, 0.4464886784553528, 0.4529208540916443, 0.4664049744606018, 0.49251776933670044, 0.5233508944511414, 0.5111042857170105, 0.5036208629608154, 0.4894148111343384, 0.49668797850608826, 0.5238142609596252, 0.526104748249054, 0.5187303423881531, 0.4927748739719391, 0.49778372049331665, 0.5241284370422363, 0.5218546986579895, 0.5418834090232849, 0.5940039157867432, 0.6193913221359253, 0.6329759359359741, 0.6207343935966492, 0.6286687850952148, 0.6055334210395813, 0.5253990888595581, 0.5272622108459473, 0.5690658688545227, 0.549541175365448, 0.5629686713218689, 0.5774873495101929, 0.5582439303398132, 0.5397810339927673, 0.5382193326950073, 0.5756046175956726, 0.6142733693122864, 0.6235380172729492, 0.5872911810874939, 0.5544092059135437, 0.5552729964256287, 0.5152197480201721, 0.4907228350639343, 0.5286725759506226, 0.5437841415405273, 0.5807698965072632, 0.5624275803565979, 0.5810835361480713, 0.554835855960846, 0.604522168636322, 0.6724727749824524, 0.6795964241027832, 0.7181119918823242, 0.7835462093353271, 0.8152056932449341, 0.8173062801361084, 0.80692458152771, 0.760347306728363, 0.7381511926651001, 0.7464304566383362, 0.6720477938652039, 0.6826845407485962, 0.6597051024436951, 0.708885669708252, 0.6138970255851746, 0.6050036549568176, 0.5964819192886353, 0.6588027477264404, 0.6061311960220337, 0.5873533487319946, 0.5445749759674072, 0.5596216320991516, 0.5981698036193848, 0.6185067296028137, 0.6275031566619873, 0.6092938184738159, 0.6203925013542175, 0.6541168093681335, 0.5953380465507507, 0.587272584438324, 0.566753089427948]}, {\"mode\": \"lines\", \"name\": \"prediction\", \"type\": \"scatter\", \"x\": [328, 329, 330, 331, 332, 333, 334, 335, 336, 337, 338, 339, 340, 341, 342, 343, 344, 345, 346, 347, 348, 349, 350, 351, 352, 353, 354, 355, 356, 357, 358, 359, 360, 361, 362, 363, 364, 365, 366, 367, 368, 369, 370, 371, 372, 373, 374, 375, 376, 377, 378, 379, 380, 381, 382, 383, 384, 385, 386, 387, 388, 389, 390, 391, 392, 393, 394, 395, 396, 397, 398, 399, 400, 401, 402, 403, 404, 405, 406, 407, 408, 409, 410, 411, 412, 413, 414, 415, 416, 417, 418, 419, 420, 421, 422, 423, 424, 425, 426], \"y\": [0.57883620262146, 0.5914115905761719, 0.5887140035629272, 0.5903503894805908, 0.545425295829773, 0.5514217019081116, 0.5531151294708252, 0.5866572260856628, 0.6803642511367798, 0.7053996920585632, 0.7101826667785645, 0.7547168731689453, 0.7581908702850342, 0.7626758217811584, 0.7698580622673035, 0.7536620497703552, 0.747550904750824, 0.7348378896713257, 0.735519528388977, 0.746944785118103, 0.783877432346344, 0.7749473452568054, 0.744929850101471, 0.8033560514450073, 0.8688856363296509, 0.848305881023407, 0.7792267799377441, 0.6252806782722473, 0.6982427835464478, 0.6853960156440735, 0.7658217549324036, 0.8029816746711731, 0.7778365015983582, 0.7791860103607178, 0.802920401096344, 0.7293443083763123, 0.7402163147926331, 0.7831016182899475, 0.8412700891494751, 0.8224508762359619, 0.852725625038147, 0.8796231150627136, 0.8473474383354187, 0.8500426411628723, 0.8623563051223755, 0.8307415246963501, 0.8449168801307678, 0.8812458515167236, 0.9562209844589233, 1.0307917594909668, 0.9290817975997925, 0.9143538475036621, 0.9225370287895203, 0.9584156274795532, 0.9487661123275757, 0.8983896970748901, 0.8324806094169617, 0.8154987096786499, 0.7560795545578003, 0.7828477025032043, 0.8030166625976562, 0.7952872514724731, 0.7252945899963379, 0.7539587616920471, 0.7388665676116943, 0.7980395555496216, 0.7557565569877625, 0.7742125988006592, 0.8054482936859131, 0.7564663290977478, 0.6736287474632263, 0.7206030488014221, 0.6469432711601257, 0.6792816519737244, 0.728190541267395, 0.7299947142601013, 0.7168619632720947, 0.7176637053489685, 0.6762547492980957, 0.6941476464271545, 0.6298274397850037, 0.620241105556488, 0.5694299340248108, 0.6596272587776184, 0.6601541638374329, 0.6969817876815796, 0.7222548127174377, 0.7407052516937256, 0.8029423952102661, 0.747453510761261, 0.6891852617263794, 0.7705017328262329, 0.7626606822013855, 0.8079820275306702, 0.7941064834594727, 0.7646504044532776, 0.7073651552200317, 0.6857882738113403, 0.6720521450042725]}, {\"mode\": \"lines\", \"name\": \"after_pred\", \"type\": \"scatter\", \"x\": [425, 426, 427, 428, 429, 430, 431, 432, 433, 434, 435, 436, 437, 438], \"y\": [0.6836656928062439, 0.6544553637504578, 0.7111483216285706, 0.7805766463279724, 0.8263173699378967, 0.8373239040374756, 0.8495062589645386, 0.7771421074867249, 0.720384955406189, 0.6369988322257996, 0.7112844586372375, 0.7036763429641724]}],\n",
              "                        {\"template\": {\"data\": {\"bar\": [{\"error_x\": {\"color\": \"#2a3f5f\"}, \"error_y\": {\"color\": \"#2a3f5f\"}, \"marker\": {\"line\": {\"color\": \"#E5ECF6\", \"width\": 0.5}}, \"type\": \"bar\"}], \"barpolar\": [{\"marker\": {\"line\": {\"color\": \"#E5ECF6\", \"width\": 0.5}}, \"type\": \"barpolar\"}], \"carpet\": [{\"aaxis\": {\"endlinecolor\": \"#2a3f5f\", \"gridcolor\": \"white\", \"linecolor\": \"white\", \"minorgridcolor\": \"white\", \"startlinecolor\": \"#2a3f5f\"}, \"baxis\": {\"endlinecolor\": \"#2a3f5f\", \"gridcolor\": \"white\", \"linecolor\": \"white\", \"minorgridcolor\": \"white\", \"startlinecolor\": \"#2a3f5f\"}, \"type\": \"carpet\"}], \"choropleth\": [{\"colorbar\": {\"outlinewidth\": 0, \"ticks\": \"\"}, \"type\": \"choropleth\"}], \"contour\": [{\"colorbar\": {\"outlinewidth\": 0, \"ticks\": \"\"}, \"colorscale\": [[0.0, \"#0d0887\"], [0.1111111111111111, \"#46039f\"], [0.2222222222222222, \"#7201a8\"], [0.3333333333333333, \"#9c179e\"], [0.4444444444444444, \"#bd3786\"], [0.5555555555555556, \"#d8576b\"], [0.6666666666666666, \"#ed7953\"], [0.7777777777777778, \"#fb9f3a\"], [0.8888888888888888, \"#fdca26\"], [1.0, \"#f0f921\"]], \"type\": \"contour\"}], \"contourcarpet\": [{\"colorbar\": {\"outlinewidth\": 0, \"ticks\": \"\"}, \"type\": \"contourcarpet\"}], \"heatmap\": [{\"colorbar\": {\"outlinewidth\": 0, \"ticks\": \"\"}, \"colorscale\": [[0.0, \"#0d0887\"], [0.1111111111111111, \"#46039f\"], [0.2222222222222222, \"#7201a8\"], [0.3333333333333333, \"#9c179e\"], [0.4444444444444444, \"#bd3786\"], [0.5555555555555556, \"#d8576b\"], [0.6666666666666666, \"#ed7953\"], [0.7777777777777778, \"#fb9f3a\"], [0.8888888888888888, \"#fdca26\"], [1.0, \"#f0f921\"]], \"type\": \"heatmap\"}], \"heatmapgl\": [{\"colorbar\": {\"outlinewidth\": 0, \"ticks\": \"\"}, \"colorscale\": [[0.0, \"#0d0887\"], [0.1111111111111111, \"#46039f\"], [0.2222222222222222, \"#7201a8\"], [0.3333333333333333, \"#9c179e\"], [0.4444444444444444, \"#bd3786\"], [0.5555555555555556, \"#d8576b\"], [0.6666666666666666, \"#ed7953\"], [0.7777777777777778, \"#fb9f3a\"], [0.8888888888888888, \"#fdca26\"], [1.0, \"#f0f921\"]], \"type\": \"heatmapgl\"}], \"histogram\": [{\"marker\": {\"colorbar\": {\"outlinewidth\": 0, \"ticks\": \"\"}}, \"type\": \"histogram\"}], \"histogram2d\": [{\"colorbar\": {\"outlinewidth\": 0, \"ticks\": \"\"}, \"colorscale\": [[0.0, \"#0d0887\"], [0.1111111111111111, \"#46039f\"], [0.2222222222222222, \"#7201a8\"], [0.3333333333333333, \"#9c179e\"], [0.4444444444444444, \"#bd3786\"], [0.5555555555555556, \"#d8576b\"], [0.6666666666666666, \"#ed7953\"], [0.7777777777777778, \"#fb9f3a\"], [0.8888888888888888, \"#fdca26\"], [1.0, \"#f0f921\"]], \"type\": \"histogram2d\"}], \"histogram2dcontour\": [{\"colorbar\": {\"outlinewidth\": 0, \"ticks\": \"\"}, \"colorscale\": [[0.0, \"#0d0887\"], [0.1111111111111111, \"#46039f\"], [0.2222222222222222, \"#7201a8\"], [0.3333333333333333, \"#9c179e\"], [0.4444444444444444, \"#bd3786\"], [0.5555555555555556, \"#d8576b\"], [0.6666666666666666, \"#ed7953\"], [0.7777777777777778, \"#fb9f3a\"], [0.8888888888888888, \"#fdca26\"], [1.0, \"#f0f921\"]], \"type\": \"histogram2dcontour\"}], \"mesh3d\": [{\"colorbar\": {\"outlinewidth\": 0, \"ticks\": \"\"}, \"type\": \"mesh3d\"}], \"parcoords\": [{\"line\": {\"colorbar\": {\"outlinewidth\": 0, \"ticks\": \"\"}}, \"type\": \"parcoords\"}], \"pie\": [{\"automargin\": true, \"type\": \"pie\"}], \"scatter\": [{\"marker\": {\"colorbar\": {\"outlinewidth\": 0, \"ticks\": \"\"}}, \"type\": \"scatter\"}], \"scatter3d\": [{\"line\": {\"colorbar\": {\"outlinewidth\": 0, \"ticks\": \"\"}}, \"marker\": {\"colorbar\": {\"outlinewidth\": 0, \"ticks\": \"\"}}, \"type\": \"scatter3d\"}], \"scattercarpet\": [{\"marker\": {\"colorbar\": {\"outlinewidth\": 0, \"ticks\": \"\"}}, \"type\": \"scattercarpet\"}], \"scattergeo\": [{\"marker\": {\"colorbar\": {\"outlinewidth\": 0, \"ticks\": \"\"}}, \"type\": \"scattergeo\"}], \"scattergl\": [{\"marker\": {\"colorbar\": {\"outlinewidth\": 0, \"ticks\": \"\"}}, \"type\": \"scattergl\"}], \"scattermapbox\": [{\"marker\": {\"colorbar\": {\"outlinewidth\": 0, \"ticks\": \"\"}}, \"type\": \"scattermapbox\"}], \"scatterpolar\": [{\"marker\": {\"colorbar\": {\"outlinewidth\": 0, \"ticks\": \"\"}}, \"type\": \"scatterpolar\"}], \"scatterpolargl\": [{\"marker\": {\"colorbar\": {\"outlinewidth\": 0, \"ticks\": \"\"}}, \"type\": \"scatterpolargl\"}], \"scatterternary\": [{\"marker\": {\"colorbar\": {\"outlinewidth\": 0, \"ticks\": \"\"}}, \"type\": \"scatterternary\"}], \"surface\": [{\"colorbar\": {\"outlinewidth\": 0, \"ticks\": \"\"}, \"colorscale\": [[0.0, \"#0d0887\"], [0.1111111111111111, \"#46039f\"], [0.2222222222222222, \"#7201a8\"], [0.3333333333333333, \"#9c179e\"], [0.4444444444444444, \"#bd3786\"], [0.5555555555555556, \"#d8576b\"], [0.6666666666666666, \"#ed7953\"], [0.7777777777777778, \"#fb9f3a\"], [0.8888888888888888, \"#fdca26\"], [1.0, \"#f0f921\"]], \"type\": \"surface\"}], \"table\": [{\"cells\": {\"fill\": {\"color\": \"#EBF0F8\"}, \"line\": {\"color\": \"white\"}}, \"header\": {\"fill\": {\"color\": \"#C8D4E3\"}, \"line\": {\"color\": \"white\"}}, \"type\": \"table\"}]}, \"layout\": {\"annotationdefaults\": {\"arrowcolor\": \"#2a3f5f\", \"arrowhead\": 0, \"arrowwidth\": 1}, \"coloraxis\": {\"colorbar\": {\"outlinewidth\": 0, \"ticks\": \"\"}}, \"colorscale\": {\"diverging\": [[0, \"#8e0152\"], [0.1, \"#c51b7d\"], [0.2, \"#de77ae\"], [0.3, \"#f1b6da\"], [0.4, \"#fde0ef\"], [0.5, \"#f7f7f7\"], [0.6, \"#e6f5d0\"], [0.7, \"#b8e186\"], [0.8, \"#7fbc41\"], [0.9, \"#4d9221\"], [1, \"#276419\"]], \"sequential\": [[0.0, \"#0d0887\"], [0.1111111111111111, \"#46039f\"], [0.2222222222222222, \"#7201a8\"], [0.3333333333333333, \"#9c179e\"], [0.4444444444444444, \"#bd3786\"], [0.5555555555555556, \"#d8576b\"], [0.6666666666666666, \"#ed7953\"], [0.7777777777777778, \"#fb9f3a\"], [0.8888888888888888, \"#fdca26\"], [1.0, \"#f0f921\"]], \"sequentialminus\": [[0.0, \"#0d0887\"], [0.1111111111111111, \"#46039f\"], [0.2222222222222222, \"#7201a8\"], [0.3333333333333333, \"#9c179e\"], [0.4444444444444444, \"#bd3786\"], [0.5555555555555556, \"#d8576b\"], [0.6666666666666666, \"#ed7953\"], [0.7777777777777778, \"#fb9f3a\"], [0.8888888888888888, \"#fdca26\"], [1.0, \"#f0f921\"]]}, \"colorway\": [\"#636efa\", \"#EF553B\", \"#00cc96\", \"#ab63fa\", \"#FFA15A\", \"#19d3f3\", \"#FF6692\", \"#B6E880\", \"#FF97FF\", \"#FECB52\"], \"font\": {\"color\": \"#2a3f5f\"}, \"geo\": {\"bgcolor\": \"white\", \"lakecolor\": \"white\", \"landcolor\": \"#E5ECF6\", \"showlakes\": true, \"showland\": true, \"subunitcolor\": \"white\"}, \"hoverlabel\": {\"align\": \"left\"}, \"hovermode\": \"closest\", \"mapbox\": {\"style\": \"light\"}, \"paper_bgcolor\": \"white\", \"plot_bgcolor\": \"#E5ECF6\", \"polar\": {\"angularaxis\": {\"gridcolor\": \"white\", \"linecolor\": \"white\", \"ticks\": \"\"}, \"bgcolor\": \"#E5ECF6\", \"radialaxis\": {\"gridcolor\": \"white\", \"linecolor\": \"white\", \"ticks\": \"\"}}, \"scene\": {\"xaxis\": {\"backgroundcolor\": \"#E5ECF6\", \"gridcolor\": \"white\", \"gridwidth\": 2, \"linecolor\": \"white\", \"showbackground\": true, \"ticks\": \"\", \"zerolinecolor\": \"white\"}, \"yaxis\": {\"backgroundcolor\": \"#E5ECF6\", \"gridcolor\": \"white\", \"gridwidth\": 2, \"linecolor\": \"white\", \"showbackground\": true, \"ticks\": \"\", \"zerolinecolor\": \"white\"}, \"zaxis\": {\"backgroundcolor\": \"#E5ECF6\", \"gridcolor\": \"white\", \"gridwidth\": 2, \"linecolor\": \"white\", \"showbackground\": true, \"ticks\": \"\", \"zerolinecolor\": \"white\"}}, \"shapedefaults\": {\"line\": {\"color\": \"#2a3f5f\"}}, \"ternary\": {\"aaxis\": {\"gridcolor\": \"white\", \"linecolor\": \"white\", \"ticks\": \"\"}, \"baxis\": {\"gridcolor\": \"white\", \"linecolor\": \"white\", \"ticks\": \"\"}, \"bgcolor\": \"#E5ECF6\", \"caxis\": {\"gridcolor\": \"white\", \"linecolor\": \"white\", \"ticks\": \"\"}}, \"title\": {\"x\": 0.05}, \"xaxis\": {\"automargin\": true, \"gridcolor\": \"white\", \"linecolor\": \"white\", \"ticks\": \"\", \"title\": {\"standoff\": 15}, \"zerolinecolor\": \"white\", \"zerolinewidth\": 2}, \"yaxis\": {\"automargin\": true, \"gridcolor\": \"white\", \"linecolor\": \"white\", \"ticks\": \"\", \"title\": {\"standoff\": 15}, \"zerolinecolor\": \"white\", \"zerolinewidth\": 2}}}, \"title\": {\"text\": \"\\u110b\\u116f\\u11ab\\u110b\\u1175\\u11a8IPS: [2012-01-01 ~ 2020-09-22] 128cell 100win 1bat 10000ep 0.2drop True 0.0001lr.h5 [2020-09-24 Verified]\"}},\n",
              "                        {\"responsive\": true}\n",
              "                    ).then(function(){\n",
              "                            \n",
              "var gd = document.getElementById('3ae61f93-3e05-4215-9c7b-7ccbab36ad43');\n",
              "var x = new MutationObserver(function (mutations, observer) {{\n",
              "        var display = window.getComputedStyle(gd).display;\n",
              "        if (!display || display === 'none') {{\n",
              "            console.log([gd, 'removed!']);\n",
              "            Plotly.purge(gd);\n",
              "            observer.disconnect();\n",
              "        }}\n",
              "}});\n",
              "\n",
              "// Listen for the removal of the full notebook cells\n",
              "var notebookContainer = gd.closest('#notebook-container');\n",
              "if (notebookContainer) {{\n",
              "    x.observe(notebookContainer, {childList: true});\n",
              "}}\n",
              "\n",
              "// Listen for the clearing of the current output cell\n",
              "var outputEl = gd.closest('.output');\n",
              "if (outputEl) {{\n",
              "    x.observe(outputEl, {childList: true});\n",
              "}}\n",
              "\n",
              "                        })\n",
              "                };\n",
              "                \n",
              "            </script>\n",
              "        </div>\n",
              "</body>\n",
              "</html>"
            ]
          },
          "metadata": {
            "tags": []
          }
        }
      ]
    },
    {
      "cell_type": "code",
      "metadata": {
        "id": "JAAi-2INSqID",
        "colab_type": "code",
        "colab": {
          "base_uri": "https://localhost:8080/",
          "height": 280
        },
        "outputId": "91063823-a8d2-4d23-bdfe-b329d8a08e41"
      },
      "source": [
        "# plt.plot(np.arange(0,len(real_price[1810:1821]),1), real_price[1810:1821], color ='blue',label = 'actual')\n",
        "# plt.plot(np.arange(0,len(real_test_pred[1810-split_pt:1821-split_pt]), 1), real_test_pred[1810-split_pt:1821-split_pt], color='red', label='predict')\n",
        "# plt.legend()\n"
      ],
      "execution_count": 60,
      "outputs": [
        {
          "output_type": "execute_result",
          "data": {
            "text/plain": [
              "<matplotlib.legend.Legend at 0x7f4338f4e390>"
            ]
          },
          "metadata": {
            "tags": []
          },
          "execution_count": 60
        },
        {
          "output_type": "display_data",
          "data": {
            "image/png": "[encoded data removed]",
            "text/plain": [
              "<Figure size 432x288 with 1 Axes>"
            ]
          },
          "metadata": {
            "tags": [],
            "needs_background": "light"
          }
        }
      ]
    },
    {
      "cell_type": "code",
      "metadata": {
        "id": "FJDyQvwt_6e6",
        "colab_type": "code",
        "colab": {
          "base_uri": "https://localhost:8080/",
          "height": 208
        },
        "outputId": "7f948a4a-656a-43fa-cf83-34d237dcb660"
      },
      "source": [
        "# af = real_test_pred[1810-split_pt:1821-split_pt]\n",
        "# (af[5]-af[4]) / af[4]\n",
        "# i"
      ],
      "execution_count": 61,
      "outputs": [
        {
          "output_type": "error",
          "ename": "IndexError",
          "evalue": "ignored",
          "traceback": [
            "\u001b[0;31m---------------------------------------------------------------------------\u001b[0m",
            "\u001b[0;31mIndexError\u001b[0m                                Traceback (most recent call last)",
            "\u001b[0;32m<ipython-input-61-e10432db37fe>\u001b[0m in \u001b[0;36m<module>\u001b[0;34m()\u001b[0m\n\u001b[1;32m      1\u001b[0m \u001b[0maf\u001b[0m \u001b[0;34m=\u001b[0m \u001b[0mreal_test_pred\u001b[0m\u001b[0;34m[\u001b[0m\u001b[0;36m1810\u001b[0m\u001b[0;34m-\u001b[0m\u001b[0msplit_pt\u001b[0m\u001b[0;34m:\u001b[0m\u001b[0;36m1821\u001b[0m\u001b[0;34m-\u001b[0m\u001b[0msplit_pt\u001b[0m\u001b[0;34m]\u001b[0m\u001b[0;34m\u001b[0m\u001b[0;34m\u001b[0m\u001b[0m\n\u001b[0;32m----> 2\u001b[0;31m \u001b[0;34m(\u001b[0m\u001b[0maf\u001b[0m\u001b[0;34m[\u001b[0m\u001b[0;36m5\u001b[0m\u001b[0;34m]\u001b[0m\u001b[0;34m-\u001b[0m\u001b[0maf\u001b[0m\u001b[0;34m[\u001b[0m\u001b[0;36m4\u001b[0m\u001b[0;34m]\u001b[0m\u001b[0;34m)\u001b[0m \u001b[0;34m/\u001b[0m \u001b[0maf\u001b[0m\u001b[0;34m[\u001b[0m\u001b[0;36m4\u001b[0m\u001b[0;34m]\u001b[0m\u001b[0;34m\u001b[0m\u001b[0;34m\u001b[0m\u001b[0m\n\u001b[0m\u001b[1;32m      3\u001b[0m \u001b[0mi\u001b[0m\u001b[0;34m\u001b[0m\u001b[0;34m\u001b[0m\u001b[0m\n",
            "\u001b[0;31mIndexError\u001b[0m: index 5 is out of bounds for axis 0 with size 0"
          ]
        }
      ]
    },
    {
      "cell_type": "code",
      "metadata": {
        "id": "l_KB4u1SUBSl",
        "colab_type": "code",
        "colab": {
          "base_uri": "https://localhost:8080/",
          "height": 539
        },
        "outputId": "61a2dd48-da91-41ce-e8a5-f9434b9526dd"
      },
      "source": [
        "#알고리즘\n",
        "#골든 포인트와 데드 포인트 찾기\n",
        "#첫번째 GP: 0일 얼마 DP: 3일 얼마 수익률 5%\n",
        "af = after_pred\n",
        "#1번. 보유중인가요?\n",
        "holding = False\n",
        "\n",
        "#2. 매수 시작\n",
        "today = 0\n",
        "GPs = [] #포인트들의 날짜를 저장할 예정\n",
        "DPs = []\n",
        "Points = []\n",
        "print(af)\n",
        "def DP_check(io):\n",
        "  #다음날 부터 DP check\n",
        "  DP_can = io\n",
        "  while io < len(af)-1:\n",
        "    print('io: %d' %io)\n",
        "    today_profit = (af[io+1] - af[DP_can]) / af[DP_can] # 고점 기준 누적 손익률\n",
        "    print(today_profit)\n",
        "    if today_profit > 0: #새로운 고점 = DP 후보\n",
        "      DP_can = io+1\n",
        "      io+=1\n",
        "\n",
        "    elif (af[io+1] - af[io]) / af[io] <= -0.02: #한번에 2%하락하면\n",
        "      Points.append(DP_can)\n",
        "      break;\n",
        "    elif today_profit <= -0.03: #고점 대비 3%하락하면\n",
        "      Points.append(DP_can) # DP on\n",
        "      break;\n",
        "    else:\n",
        "      io+=1\n",
        "  return DP_can+1 # GP, DP 추가후 새로운 기준  \n",
        "\n",
        "\n",
        "\n",
        "if holding: #팔고 사는 데드포인트\n",
        "  point_check()\n",
        "\n",
        "else:#4. 그럼 골든포인트 찾기\n",
        "  GP_can = 0\n",
        "  t = 0\n",
        "  while t < len(af)-1:\n",
        "    \n",
        "    today_profit = (af[t+1] - af[GP_can]) / af[GP_can] # 저점 기준 누적 손익률\n",
        "    if today_profit < 0:\n",
        "      GP_can = t+1 #새로운 저점 = GP 후보\n",
        "      t+=1\n",
        "    elif (af[t+1] - af[t]) / af[t] >= 0.03: #한번에 3% 상승시\n",
        "      Points.append(GP_can)\n",
        "      t = DP_check(GP_can+1)\n",
        "      GP_can = t\n",
        "      \n",
        "    elif today_profit >= 0.05: #고점 대비 5% 상승하면\n",
        "      Points.append(GP_can) #GP on, 매매 순서대로 넣기 \n",
        "      t = DP_check(GP_can+1)\n",
        "      GP_can = t\n",
        "\n",
        "    else:\n",
        "      t+=1\n",
        "\n",
        "#결과 출력\n",
        "from datetime import timedelta\n",
        "buy = 0 #사는게 먼저일떄\n",
        "print('최적 매매 타이밍은 아래와 같습니다.\\n')\n",
        "\n",
        "for i in Points:\n",
        "  v = datetime.date(datetime(int(y), int(m), int(d))) + timedelta(days=i)\n",
        "  p = real_after_pred.astype(int)[i]\n",
        "\n",
        "  if buy == 0: #\n",
        "    print('buy: %s -' %v.strftime('%Y-%m-%d'), \"{:,}원\".format(p[0])) #p는 array형식이라 안됨\n",
        "    buy = 1\n",
        "  else:\n",
        "    print('sell: %s -' %v.strftime('%Y-%m-%d'), \"{:,}원\".format(p[0]))\n",
        "    buy = 0\n",
        "    \n"
      ],
      "execution_count": 133,
      "outputs": [
        {
          "output_type": "stream",
          "text": [
            "[[0.68366569]\n",
            " [0.65445536]\n",
            " [0.71114832]\n",
            " [0.78057665]\n",
            " [0.82631737]\n",
            " [0.8373239 ]\n",
            " [0.84950626]\n",
            " [0.77714211]\n",
            " [0.72038496]\n",
            " [0.63699883]\n",
            " [0.71128446]\n",
            " [0.70367634]]\n",
            "io: 2\n",
            "[0.09762847]\n",
            "io: 3\n",
            "[0.05859863]\n",
            "io: 4\n",
            "[0.01331998]\n",
            "io: 5\n",
            "[0.01454915]\n",
            "io: 6\n",
            "[-0.08518378]\n",
            "io: 10\n",
            "[-0.01069631]\n",
            "최적 매매 타이밍은 아래와 같습니다.\n",
            "\n",
            "buy: 2020-09-23 - 32,029원\n",
            "sell: 2020-09-28 - 36,613원\n",
            "buy: 2020-10-01 - 31,619원\n"
          ],
          "name": "stdout"
        }
      ]
    },
    {
      "cell_type": "code",
      "metadata": {
        "id": "9rrPRATeOCaQ",
        "colab_type": "code",
        "colab": {
          "base_uri": "https://localhost:8080/",
          "height": 107
        },
        "outputId": "ca475067-12f1-40bc-e9be-3791854d594f"
      },
      "source": [
        "from datetime import timedelta\n",
        "buy = 0 #사는게 먼저일떄\n",
        "print('최적 매매 타이밍은 아래와 같습니다.\\n')\n",
        "\n",
        "for i in Points:\n",
        "  v = datetime.date(datetime(int(y), int(m), int(d))) + timedelta(days=i)\n",
        "  p = real_after_pred.astype(int)[i]\n",
        "\n",
        "  if buy == 0: #\n",
        "    print('buy: %s -' %v.strftime('%Y-%m-%d'), \"{:,}원\".format(p[0])) #p는 array형식이라 안됨\n",
        "    buy = 1\n",
        "  else:\n",
        "    print('sell: %s -' %v.strftime('%Y-%m-%d'), \"{:,}원\".format(p[0]))\n",
        "    buy = 0\n",
        "    "
      ],
      "execution_count": 132,
      "outputs": [
        {
          "output_type": "stream",
          "text": [
            "최적 매매 타이밍은 아래와 같습니다.\n",
            "\n",
            "buy: 2020-09-23 - 32,029원\n",
            "sell: 2020-09-28 - 36,613원\n",
            "buy: 2020-10-01 - 31,619원\n"
          ],
          "name": "stdout"
        }
      ]
    },
    {
      "cell_type": "code",
      "metadata": {
        "id": "63deYx2rQUUk",
        "colab_type": "code",
        "colab": {
          "base_uri": "https://localhost:8080/",
          "height": 35
        },
        "outputId": "a066f732-8dce-4f1b-b5b2-93c4cdf8adc9"
      },
      "source": [
        "print(\"{:,}원\".format(p[0]))"
      ],
      "execution_count": 128,
      "outputs": [
        {
          "output_type": "stream",
          "text": [
            "32,029원\n"
          ],
          "name": "stdout"
        }
      ]
    },
    {
      "cell_type": "code",
      "metadata": {
        "id": "H1YlHtZUGIj8",
        "colab_type": "code",
        "colab": {
          "base_uri": "https://localhost:8080/",
          "height": 334
        },
        "outputId": "b5fa2339-2050-45d6-fa2e-cafcffeb9007"
      },
      "source": [
        "plt.figure(figsize=(5,5))\n",
        "plt.plot(np.arange(0,verif_gap,1), real_verif_price[split_pt+len(test_pred)-verif_gap:], color ='blue',label = 'actual')\n",
        "plt.plot(np.arange(0,len(real_after_pred), 1), real_after_pred, color='red', label='predict')\n",
        "plt.legend()"
      ],
      "execution_count": 64,
      "outputs": [
        {
          "output_type": "execute_result",
          "data": {
            "text/plain": [
              "<matplotlib.legend.Legend at 0x7f4338e98b38>"
            ]
          },
          "metadata": {
            "tags": []
          },
          "execution_count": 64
        },
        {
          "output_type": "display_data",
          "data": {
            "image/png": "[encoded data removed]",
            "text/plain": [
              "<Figure size 360x360 with 1 Axes>"
            ]
          },
          "metadata": {
            "tags": [],
            "needs_background": "light"
          }
        }
      ]
    },
    {
      "cell_type": "code",
      "metadata": {
        "id": "isC-VSWHUTdZ",
        "colab_type": "code",
        "colab": {}
      },
      "source": [
        "# p = np.asarray(real_verif_price)\n",
        "# for i in range(verif_gap):\n",
        "#   t = split_pt+len(test_pred)-verif_gap\n",
        "#   ac = verif_price[i+t] - verif_price[i+t-1]\n",
        "#   pd = after_pred[i] - verif_price[i+t-1]\n",
        "#   print('%.2f, %.2f' %(ac, pd))"
      ],
      "execution_count": null,
      "outputs": []
    },
    {
      "cell_type": "code",
      "metadata": {
        "id": "hhTBs5b-04E1",
        "colab_type": "code",
        "colab": {}
      },
      "source": [
        "#after_pred이 올바른 방향을 예측했는지에 대한 방향성 평가와 그 예측 값과 실제 값의 차이를 평가한 오차율를 제공합니다.\n",
        "def CustomErrorRate(PRICE, TRAIN, TEST, VERIF):\n",
        "  evalist = [TRAIN, TEST, VERIF]\n",
        "  target_scores = []\n",
        "\n",
        "  for target in range(len(evalist)): #평가항목 3개\n",
        "    print(len(evalist[target]))\n",
        "\n",
        "    if (target == 0):\n",
        "      t = window_size -1 #시작위치\n",
        "      iter = len(evalist[target]) #반복수\n",
        "    elif (target == 1):\n",
        "      t = split_pt -1\n",
        "      iter = len((evalist[target]))\n",
        "    else:\n",
        "      t = split_pt + len(test_pred) -1\n",
        "      iter = verif_gap\n",
        "    \n",
        "    scores = np.zeros((iter,1))\n",
        "    for i in range(iter):\n",
        "      per_predict_error = (PRICE[t+1] - evalist[target][i]) / PRICE[t+1]\n",
        "      if (i == 0 ):\n",
        "        scores[i] = np.abs(per_predict_error)\n",
        "      else:\n",
        "        if (PRICE[t+1] - PRICE[t] > 0): #가격오름 \n",
        "          if (evalist[target][i] - evalist[target][i-1] > 0): #방향 맞췄을 때는\n",
        "            scores[i]= np.square(per_predict_error) #패널티 줄여줌 소수니까 제곱으로 0.02 일때 1/50 효과\n",
        "          else : #방향 틀렸을 때는\n",
        "            scores[i]= np.abs(per_predict_error) #가중치 그대로\n",
        "\n",
        "        elif (PRICE[t+1] - PRICE[t] < 0): #가격내림\n",
        "          if (evalist[target][i] - evalist[target][i-1] < 0): #방향 맞췄을 때는\n",
        "            scores[i]= np.square(per_predict_error)\n",
        "          else: \n",
        "            scores[i]= np.abs(per_predict_error)\n",
        "\n",
        "        else: #가격 같을때는\n",
        "          scores[i]= np.abs(per_predict_error) #가중치 그대로    \n",
        "  \n",
        "        t+=1\n",
        "    target_scores.append(scores)\n",
        "  return target_scores"
      ],
      "execution_count": null,
      "outputs": []
    },
    {
      "cell_type": "code",
      "metadata": {
        "id": "8rnXv-o2Ofbm",
        "colab_type": "code",
        "colab": {}
      },
      "source": [
        "# #after 오차율은 변동됨 왜지? 모델 가져올때도 영향이있나?  예측 오차율: 1.077%\n",
        "# print('실제값으로 평가') #실제값이 오차율 더 작게 나옴 15%정도\n",
        "# error_rate = CustomErrorRate(real_verif_price, real_train_pred, real_test_pred, real_after_pred)\n",
        "# print('학습 예측 오차율: %.3f%%' %(np.average(error_rate[0]*100))) #python에서 %%두개\n",
        "# print('테스트 예측 오차율: %.3f%%' %(np.average(error_rate[1]*100)))\n",
        "# print('미래 예측 오차율: %.3f%%' %(np.average(error_rate[2]*100)))"
      ],
      "execution_count": null,
      "outputs": []
    },
    {
      "cell_type": "code",
      "metadata": {
        "id": "ZZZwDuYgrSFj",
        "colab_type": "code",
        "colab": {}
      },
      "source": [
        ""
      ],
      "execution_count": null,
      "outputs": []
    }
  ]
}