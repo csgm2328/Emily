{
  "nbformat": 4,
  "nbformat_minor": 0,
  "metadata": {
    "colab": {
      "name": "Verify",
      "provenance": [],
      "collapsed_sections": [],
      "toc_visible": true,
      "mount_file_id": "1pRQ07_S6Z4Gj_YzspEd5qnzowon9BBEJ",
      "authorship_tag": "ABX9TyOdNuFu6lgCQYjB/cL7PD/N",
      "include_colab_link": true
    },
    "kernelspec": {
      "name": "python3",
      "display_name": "Python 3"
    }
  },
  "cells": [
    {
      "cell_type": "markdown",
      "metadata": {
        "id": "view-in-github",
        "colab_type": "text"
      },
      "source": [
        "<a href=\"https://colab.research.google.com/github/csgm2328/Emily/blob/master/Verify.ipynb\" target=\"_parent\"><img src=\"https://colab.research.google.com/assets/colab-badge.svg\" alt=\"Open In Colab\"/></a>"
      ]
    },
    {
      "cell_type": "markdown",
      "metadata": {
        "id": "NDtom5Y3CG-w"
      },
      "source": [
        "#예측한 모델 불러와서 현재시간에서 검증하고 새로운 예측하기"
      ]
    },
    {
      "cell_type": "code",
      "metadata": {
        "id": "wpNMGvX2TL_5"
      },
      "source": [
        "get_ipython().run_line_magic('matplotlib', 'inline')\n",
        "import matplotlib.pyplot as plt\n",
        "import pandas as pd\n",
        "import pandas_datareader.data as pdr #data 받아오는 api 라이브러리\n",
        "from pandas import json_normalize\n",
        "import numpy as np\n",
        "import plotly as py\n",
        "import plotly.graph_objs as go\n",
        "import requests\n",
        "import os\n",
        "from keras import metrics\n",
        "from keras.layers import *\n",
        "from keras.models import *\n",
        "from keras.utils.np_utils import to_categorical\n",
        "from keras.callbacks import *\n",
        "from datetime import datetime\n",
        "from sklearn.preprocessing import MinMaxScaler\n",
        "plt.style.use('bmh')"
      ],
      "execution_count": null,
      "outputs": []
    },
    {
      "cell_type": "markdown",
      "metadata": {
        "id": "SJ45-r7qsdvz"
      },
      "source": [
        "#**Load Model & Setting for Verify**\n"
      ]
    },
    {
      "cell_type": "code",
      "metadata": {
        "id": "dkNWWsOKN0Oq"
      },
      "source": [
        "from google.colab import drive\n",
        "drive.mount('/content/drive')"
      ],
      "execution_count": null,
      "outputs": []
    },
    {
      "cell_type": "code",
      "metadata": {
        "id": "aeaoNYVYQ45L"
      },
      "source": [
        "cd /content/drive/My Drive/Colab Notebooks/LSTM_models/"
      ],
      "execution_count": null,
      "outputs": []
    },
    {
      "cell_type": "code",
      "metadata": {
        "id": "cAHAfTNFqhCl"
      },
      "source": [
        "ls"
      ],
      "execution_count": null,
      "outputs": []
    },
    {
      "cell_type": "code",
      "metadata": {
        "id": "TvsCTnx4BzFX",
        "cellView": "both"
      },
      "source": [
        "##Verify\n",
        "from keras.models import load_model\n",
        "model_name = '원익IPS: [2012-01-01 ~ 2020-09-22] 128cell 100win 1bat 10000ep 0.2drop True 0.0001lr.h5'\n",
        "model = load_model(model_name)"
      ],
      "execution_count": null,
      "outputs": []
    },
    {
      "cell_type": "code",
      "metadata": {
        "id": "ycrd62GP6Cw-"
      },
      "source": [
        "!pip install jamotools"
      ],
      "execution_count": null,
      "outputs": []
    },
    {
      "cell_type": "code",
      "metadata": {
        "id": "uqc-hljk5nyc"
      },
      "source": [
        "import jamotools #hangul_utils은 설치안되며 보다 나은 패키지\n",
        "it = model_name.split(':') #이방법으로하면 모음,자음별로 삼성전자가 11자리. 데이터프레임에서 찾으려면 4글자로 자음모음 합쳐주기\n",
        "item_name = jamotools.join_jamos(it[0])"
      ],
      "execution_count": null,
      "outputs": []
    },
    {
      "cell_type": "code",
      "metadata": {
        "id": "fvhveE1_B4Xi"
      },
      "source": [
        "#1. price 개수를 검증하려는 일자에 맞춤.\n",
        "\n",
        "train_start = model_name.split()[1].split('-')\n",
        "s_y = train_start[0][1:]\n",
        "s_m = train_start[1]\n",
        "s_d = train_start[2]\n",
        "start_date = datetime(int(s_y), int(s_m), int(s_d))\n",
        "\n",
        "train_end = model_name.split()[3].split('-')\n",
        "y = train_end[0]\n",
        "m = train_end[1]\n",
        "d = train_end[2][:-1]\n",
        "\n",
        "verif_gap = datetime.date(datetime.today()) - datetime.date(datetime(int(y), int(m), int(d)))\n",
        "verif_gap = verif_gap.days\n",
        "  \n",
        "predict_day = 10\n",
        "n_epoch = model_name.split(' ')[7][:-2]\n",
        "window_size = int(model_name.split(' ')[5][:-3])\n",
        "n_batch = int(model_name.split(' ')[6][:-3])\n",
        "Title = model_name + ' [' + str(datetime.date(datetime.today())) + ' Verified]'\n",
        "print(Title,verif_gap,window_size,n_batch, sep='\\n')"
      ],
      "execution_count": null,
      "outputs": []
    },
    {
      "cell_type": "markdown",
      "metadata": {
        "id": "qoLdrTqN2oDe"
      },
      "source": [
        "#Request API"
      ]
    },
    {
      "cell_type": "code",
      "metadata": {
        "id": "Le8U4-yxTmhM"
      },
      "source": [
        "#1405699200 2014.7.18 01:00(GMT+9)부터 24시간 주기\n",
        "#milliseconds 단위로 변환시켜주는 timestamp()\n",
        "#start_date = datetime(2017,5,1)\n",
        "start = int(start_date.timestamp()) \n",
        "ret = requests.get('https://poloniex.com/public?command=returnChartData&currencyPair=USDT_BTC&start={}&end=9999999999&period=86400'.format(start))\n",
        "print(ret)"
      ],
      "execution_count": null,
      "outputs": []
    },
    {
      "cell_type": "code",
      "metadata": {
        "id": "XDYbzmO6TxKH"
      },
      "source": [
        "js = ret.json()\n",
        "print(js[-1])\n",
        "df = pd.DataFrame(js)"
      ],
      "execution_count": null,
      "outputs": []
    },
    {
      "cell_type": "code",
      "metadata": {
        "id": "1jBcMIjHTzy-"
      },
      "source": [
        "scaler = MinMaxScaler()\n",
        "real_price = df['close'].tolist()\n",
        "price = scaler.fit_transform(df[['close']]).reshape(-1).tolist()  \n",
        "\n",
        "print('오늘은',datetime.today(), real_price[-1], len(real_price), '개') # GMT +0 기준"
      ],
      "execution_count": null,
      "outputs": []
    },
    {
      "cell_type": "code",
      "metadata": {
        "id": "V6c1iGRsOkyG"
      },
      "source": [
        "stock_url = pd.read_html('http://kind.krx.co.kr/corpgeneral/corpList.do?method=download&searchType=13', header=0)[0] \n",
        "stock_url.종목코드 = stock_url.종목코드.map('{:06d}'.format)\n",
        "stock_url = stock_url[['회사명', '종목코드']]\n",
        "stock_url = stock_url.rename(columns={'회사명':'name', '종목코드':'code'})"
      ],
      "execution_count": null,
      "outputs": []
    },
    {
      "cell_type": "code",
      "metadata": {
        "id": "95WvR5uuBesa"
      },
      "source": [
        "code = stock_url.query(\"name=='{}'\".format(item_name))['code'].to_string(index=False).strip()\n",
        "dr_code = code + '.KQ' \n",
        "print(item_name, dr_code)"
      ],
      "execution_count": null,
      "outputs": []
    },
    {
      "cell_type": "markdown",
      "metadata": {
        "id": "OH47RX38VUaU"
      },
      "source": [
        "#DataReader crawling"
      ]
    },
    {
      "cell_type": "code",
      "metadata": {
        "id": "XT6j_bsmVSIF"
      },
      "source": [
        "start = (2014, 1, 1)\n",
        "start = datetime(*start)\n",
        "end = datetime.today()\n",
        "df = pdr.DataReader(dr_code, 'yahoo', start, end) "
      ],
      "execution_count": null,
      "outputs": []
    },
    {
      "cell_type": "code",
      "metadata": {
        "id": "DMAeAAAPiQWv"
      },
      "source": [
        "scaler = MinMaxScaler()\n",
        "real_price = df['Close'].tolist()\n",
        "price = scaler.fit_transform(df[['Close']]).reshape(-1).tolist()\n",
        "print('오늘은',datetime.today(), real_price[-1], len(real_price), '개')"
      ],
      "execution_count": null,
      "outputs": []
    },
    {
      "cell_type": "markdown",
      "metadata": {
        "id": "X0bp0asNyMTP"
      },
      "source": [
        "#make DataSet"
      ]
    },
    {
      "cell_type": "code",
      "metadata": {
        "id": "tgaxeqAnT5tg"
      },
      "source": [
        "x = []  \n",
        "y = []  \n",
        "\n",
        "for i in range(len(price) - window_size):   \n",
        "  x.append([price[i+j] for j in range(window_size)])\n",
        "  y.append(price[window_size + i])\n",
        "\n",
        "x = np.asarray(x)\n",
        "y = np.asarray(y)\n",
        "print(x.shape) \n",
        "print(type(y)) "
      ],
      "execution_count": null,
      "outputs": []
    },
    {
      "cell_type": "code",
      "metadata": {
        "id": "uQhHdimbT96e"
      },
      "source": [
        "train_test_split = int(len(x)*0.7) \n",
        "split_pt = train_test_split + window_size\n",
        "\n",
        "x_train = x[:train_test_split, :]\n",
        "y_train = y[:train_test_split]\n",
        "\n",
        "x_test = x[train_test_split:, :]\n",
        "y_test = y[train_test_split:]\n",
        "\n",
        "xtrain = x_train.reshape((x_train.shape[0], x_train.shape[1], 1)) \n",
        "xtest =  np.reshape(x_test, (x_test.shape[0], x_test.shape[1], 1)) \n",
        "\n",
        "print(xtrain.shape) \n",
        "print(x_test.shape) "
      ],
      "execution_count": null,
      "outputs": []
    },
    {
      "cell_type": "markdown",
      "metadata": {
        "id": "1q_QgQenJIoX"
      },
      "source": [
        "#**Prediction**"
      ]
    },
    {
      "cell_type": "code",
      "metadata": {
        "id": "2Sav6GQL2kPs"
      },
      "source": [
        "#train, test prediction\n",
        "train_pred = model.predict(xtrain,batch_size=n_batch) # x[0~window_size-1] 만큼의 특징벡터를 학습해서 학습데이터 수 \n",
        "model.reset_states()\n",
        "test_pred = model.predict(xtest,batch_size=n_batch)\n",
        "model.reset_states()\n",
        "real_train_pred = scaler.inverse_transform(train_pred)\n",
        "real_test_pred = scaler.inverse_transform(test_pred)"
      ],
      "execution_count": null,
      "outputs": []
    },
    {
      "cell_type": "markdown",
      "metadata": {
        "id": "USxgiMWIV1CT"
      },
      "source": [
        "#(t+n)일 예측하기 "
      ]
    },
    {
      "cell_type": "code",
      "metadata": {
        "id": "0qUwG-0vzwj-"
      },
      "source": [
        "#(t+n)일 예측 시뮬레이션 (순수 predict)\n",
        "def predict_future():\n",
        "  if (verif_gap != 0):\n",
        "    today = xtest[-verif_gap-1]\n",
        "    today = np.vstack((today[1:], price[-verif_gap]))\n",
        "    seq_in = today \n",
        "    fut = np.zeros((verif_gap+predict_day,1))\n",
        "\n",
        "    i = 0\n",
        "    for i in range(verif_gap): #과거 예측결과 평가를 위한\n",
        "      sample_in = seq_in.reshape(1,window_size,1)\n",
        "      after = model.predict(sample_in, batch_size=n_batch)\n",
        "      model.reset_states() #없으면 예측값 계속 바뀜\n",
        "      seq_in = np.vstack((seq_in[1:], after))\n",
        "      fut[i] = after\n",
        "    \n",
        "    #검증 후 예측\n",
        "    today = xtest[-1]\n",
        "    today = np.vstack((today[1:], price[-1]))\n",
        "    seq_in = today\n",
        "\n",
        "    i+=1 #배열 다음위치부터\n",
        "    for i in range(i,i+predict_day,1):\n",
        "      sample_in = seq_in.reshape(1,window_size,1)\n",
        "      after = model.predict(sample_in, batch_size=n_batch)\n",
        "      model.reset_states() \n",
        "      seq_in = np.vstack((seq_in[1:], after))\n",
        "      fut[i] = after\n",
        "\n",
        "  else: #그날 바로 검증일때\n",
        "    today = xtest[-1]\n",
        "    today = np.vstack((today[1:], price[-1]))\n",
        "    seq_in = today \n",
        "    fut = np.zeros((predict_day,1))\n",
        "\n",
        "    for i in range(predict_day): \n",
        "      sample_in = seq_in.reshape(1,window_size,1)\n",
        "      after = model.predict(sample_in, batch_size=n_batch)\n",
        "      model.reset_states() \n",
        "      seq_in = np.vstack((seq_in[1:], after))\n",
        "      fut[i] = after\n",
        "  \n",
        "\n",
        "  real_fut = scaler.inverse_transform(fut)\n",
        "  return real_fut, fut"
      ],
      "execution_count": null,
      "outputs": []
    },
    {
      "cell_type": "code",
      "metadata": {
        "id": "5o6etOgbtQE7"
      },
      "source": [
        "############Verify or Modify Simulation\n",
        "\n",
        "#하루마다 갱신하는 예측 오늘치는 갱신하고 그 다음날거랑 마지막 거 새로예측\n",
        "#하루늦게 추종하니까 안좋은 결과\n",
        "verif_price = price\n",
        "real_verif_price = real_price\n",
        "\n",
        "today = xtest[-verif_gap]\n",
        "today = np.vstack((today[1:], price[-verif_gap]))\n",
        "seq_in = today #오늘꺼 까지 넣고 \n",
        "after_pred = np.zeros((predict_day+verif_gap,1)) #15일치\n",
        "sample_in = seq_in.reshape(1,window_size,1)\n",
        "after = model.predict(sample_in, batch_size=n_batch)\n",
        "model.reset_states() #없으면 예측값 계속 바뀜\n",
        "after_pred[0] = after #첫번째꺼는 이미지났으니까 유지하고\n",
        "\n",
        "#seq_in[window_size-predict_day-1] = verif_price[-verif_gap] # 7월 10일 기준. 11일 예측치를, 11일 actual data로 갱신\n",
        "j = 1\n",
        "for i in range(verif_gap, 0, -1): #\n",
        "  seq_in = np.vstack((seq_in[1:], verif_price[-i])) #11일 acutual 추가\n",
        "  sample_in = seq_in.reshape(1, window_size, 1)\n",
        "  after = model.predict(sample_in, batch_size=n_batch) #갱신된 11일치로 12일치 다시 예측\n",
        "  model.reset_states()\n",
        "  #seq_in = np.vstack((seq_in[1:], after))    #12일 예측치를 after에만 추가 seq_in에는 actual만 들어가야하므로\n",
        "  #after_pred = np.vstack((after_pred, after)) #전부다 갱신해줘야함 새로운 배열\n",
        "  after_pred[j] = after\n",
        "  j+=1\n",
        "\n",
        "seq_in = np.vstack((seq_in[1:], after_pred[j-1])) # 17일을 위한 16일은 넣어주고\n",
        "for i in range(j,predict_day+verif_gap):\n",
        "  sample_in = seq_in.reshape(1, window_size, 1)\n",
        "  after = model.predict(sample_in, batch_size=n_batch)\n",
        "  model.reset_states()\n",
        "  seq_in = np.vstack((seq_in[1:], after))\n",
        "  after_pred[i] = after\n",
        "\n",
        "real_after_pred = scaler.inverse_transform(after_pred)"
      ],
      "execution_count": null,
      "outputs": []
    },
    {
      "cell_type": "code",
      "metadata": {
        "id": "wFpIfQUAy4wS"
      },
      "source": [
        "#MCC를 사용하는 이유\n",
        "TP = 5\n",
        "FN = 15 \n",
        "TN = 5\n",
        "FP = 0\n",
        "#ACC는 91%지만, MCC는 균형적이지 못해서 낮게 나온다!! 하락 5번중 한번밖에 못맞췄으므로\n",
        "MCC = (TP * TN - FP * FN) / np.sqrt((TP+FP)*(TP+FN)*(TN+FP)*(TN+FN))\n",
        "FM = np.sqrt((TP/(TP+FP) * (TN/(TP+FN))))\n",
        "#print('%.2f%%' %(100*(0.5 + MCC/2)))\n",
        "MCC"
      ],
      "execution_count": null,
      "outputs": []
    },
    {
      "cell_type": "markdown",
      "metadata": {
        "id": "9f0QrAnlp43V"
      },
      "source": [
        "# *Matthews correlation coefficient*"
      ]
    },
    {
      "cell_type": "code",
      "metadata": {
        "id": "ar5HxyO3g7gw"
      },
      "source": [
        "#F1 score는 지나치게 긍정적으로 평가되는 경향이 있다. 분류문제인 양수인지 음수인지를 판별할 때는 MCC를 사용한다\n",
        "#MCC는 -1 ~ +1 사이 값을 나타내며 0은 임의 예측과 같은성능\n",
        "#방향 정확성 평가, MCC는 상승하락에 대해 균형있게 예측했는지 평가\n",
        "#8/27 수많은 모델 검사결과 MCC가 ACC보다 오히려 과긍정으로 나타났다. TP*TN - FP*FN 의 한계 때문이였음\n",
        "def MCC(actual, target, t): \n",
        "  TP, TN, FP, FN = 0,0,0,0\n",
        "  ACC_List = [] \n",
        "  MCC_List = []\n",
        "\n",
        "  for i in range(len(target)):\n",
        "    if (actual[i+t] - actual[i+t-1] > 0): #상승\n",
        "      if (target[i] - actual[i+t-1] > 0): #상승예측\n",
        "        TP += 1\n",
        "      else:\n",
        "        FN += 1\n",
        "    elif (actual[i+t] - actual[i+t-1] < 0): # 하락\n",
        "      if (target[i] - actual[i+t-1] < 0):\n",
        "        TN += 1\n",
        "      else:\n",
        "        FP += 1\n",
        "    else: #그대로\n",
        "      if (target[i] == actual[i+t-1]):\n",
        "        TP += 1\n",
        "      elif (target[i] - actual[i+t-1] > 0):\n",
        "        FP += 1\n",
        "      else:\n",
        "        FN += 1\n",
        "    N = TP + TN + FP + FN\n",
        "    S = (TP + FN) / N\n",
        "    P = (TP + FP) / N\n",
        "    ACC = (TP + TN) / N\n",
        "    MCC = (TP / N - S * P) / np.sqrt(P*S*(1-S)*(1-P))\n",
        "    ACC_List.append(ACC)\n",
        "    MCC_List.append(MCC)\n",
        "\n",
        "  N = TP + TN + FP + FN\n",
        "  S = (TP + FN) / N\n",
        "  P = (TP + FP) / N\n",
        "  ACC = (TP + TN) / N\n",
        "  MCC = (TP / N - S * P) / np.sqrt(P*S*(1-S)*(1-P))\n",
        "  #MCC = (TP * TN - FP * FN) / np.sqrt((TP+FP)*(TP+FN)*(TN+FP)*(TN+FN))\n",
        "  #두개가 0이되면 측정 안된다\n",
        "  print(TP,FN,TN,FP)\n",
        "  print('방향정확도: %.3f%%\\nMCC: %.2f\\n' %(ACC*100,MCC))"
      ],
      "execution_count": null,
      "outputs": []
    },
    {
      "cell_type": "code",
      "metadata": {
        "id": "m6y9_VYZ0GU2"
      },
      "source": [
        "#keras 라이브러리 내에서 mape 평가는 값이 너무 큼 mae,mse 전부다\n",
        "def MAPE(actual, target, t): #Mean absolute percentage error\n",
        "  scores = []\n",
        "  for i in range(len(target)):\n",
        "    scores.append(np.abs((actual[i+t] - target[i]) / actual[i+t]))\n",
        "  print('값 오차율: %.2f%%' %(np.average(scores)*100))\n",
        "  #return scores"
      ],
      "execution_count": null,
      "outputs": []
    },
    {
      "cell_type": "code",
      "metadata": {
        "id": "vcKLT45sqXwn"
      },
      "source": [
        "real_after_pred, after_pred = predict_future()"
      ],
      "execution_count": null,
      "outputs": []
    },
    {
      "cell_type": "code",
      "metadata": {
        "id": "1WTykdX909Yz"
      },
      "source": [
        "#정규화상태로 하면 0에 가까워질때 값이 너무커지는 함정\n",
        "MAPE(real_price, real_train_pred, window_size) #list,dic,set 같은 mutable object는 call by reference임\n",
        "MCC(real_price, real_train_pred, window_size) \n",
        "MAPE(real_price, real_test_pred, split_pt)\n",
        "MCC(real_price, real_test_pred, split_pt)\n",
        "if (verif_gap != 0 ):\n",
        "  MAPE(real_price, real_after_pred[:verif_gap], split_pt + len(test_pred)-verif_gap)\n",
        "  MCC(real_price, real_after_pred[:verif_gap], split_pt + len(test_pred)-verif_gap)\n",
        "else :\n",
        "  verif_date = 21\n",
        "  MAPE(real_price, real_test_pred[:verif_date], split_pt + len(test_pred)-verif_date)\n",
        "  MCC(real_price, real_test_pred[:verif_date], split_pt + len(test_pred)-verif_date)"
      ],
      "execution_count": null,
      "outputs": []
    },
    {
      "cell_type": "code",
      "metadata": {
        "id": "XgU5lekpUbqa"
      },
      "source": [
        "#완전적합부분 검사\n",
        "MAPE(price, train_pred[190-window_size:562-window_size], 190)\n",
        "MCC(price, train_pred[190-window_size:562-window_size], 190)"
      ],
      "execution_count": null,
      "outputs": []
    },
    {
      "cell_type": "code",
      "metadata": {
        "id": "BQLdrQPurOhR"
      },
      "source": [
        "trainScore = model.evaluate(xtrain, y_train, batch_size=n_batch, verbose=0)\n",
        "testScore = model.evaluate(xtest, y_test, batch_size=n_batch, verbose=0)\n",
        "print(\"mae: (%.5f, %.5f)\" %(trainScore[1], testScore[1]))"
      ],
      "execution_count": null,
      "outputs": []
    },
    {
      "cell_type": "markdown",
      "metadata": {
        "id": "SPPu1ENgGM2h"
      },
      "source": [
        "#**Result**"
      ]
    },
    {
      "cell_type": "code",
      "metadata": {
        "id": "oQSstMBtGCpA"
      },
      "source": [
        "trace = go.Scatter(x=np.arange(0,len(price),1), y=price, #0~1915까지 해야함 재정규화로 matrix되면 reshape해주어 1차행렬로 만들어야함\n",
        "mode = 'lines', name='actual')\n",
        "trace2 = go.Scatter(x=np.arange(window_size,split_pt,1), y=train_pred.reshape(train_test_split), #(5,1205,1) 이지만, 5~1204까지 적용 다 마찬가지\n",
        "mode = 'lines', name='train')\n",
        "trace3 = go.Scatter(x=np.arange(split_pt,split_pt + len(test_pred),1), y=test_pred.reshape(len(test_pred)),  #1205~1915\n",
        "mode = 'lines', name='prediction')\n",
        "trace4 = go.Scatter(x=np.arange(split_pt +len(test_pred)-verif_gap, split_pt + len(test_pred) + len(after_pred), 1), y =after_pred.reshape(len(after_pred)),\n",
        "mode = 'lines', name= 'after_pred')\n",
        "\n",
        "data = [trace, trace2, trace3, trace4]\n",
        "layout = go.Layout(title=Title)\n",
        "fig = go.Figure(data=data, layout=layout)\n",
        "py.offline.iplot(fig) \n",
        "\n",
        "from google.colab import files\n",
        "import os"
      ],
      "execution_count": null,
      "outputs": []
    },
    {
      "cell_type": "code",
      "metadata": {
        "id": "l_KB4u1SUBSl"
      },
      "source": [
        "#알고리즘\n",
        "#골든 포인트와 데드 포인트 찾기\n",
        "#첫번째 GP: 0일 얼마 DP: 3일 얼마 수익률 5%\n",
        "af = after_pred\n",
        "#1번. 보유중인가요?\n",
        "holding = False\n",
        "\n",
        "#2. 매수 시작\n",
        "today = 0\n",
        "GPs = [] #포인트들의 날짜를 저장할 예정\n",
        "DPs = []\n",
        "Points = []\n",
        "print(af)\n",
        "def DP_check(io):\n",
        "  #다음날 부터 DP check\n",
        "  DP_can = io\n",
        "  while io < len(af)-1:\n",
        "    print('io: %d' %io)\n",
        "    today_profit = (af[io+1] - af[DP_can]) / af[DP_can] # 고점 기준 누적 손익률\n",
        "    print(today_profit)\n",
        "    if today_profit > 0: #새로운 고점 = DP 후보\n",
        "      DP_can = io+1\n",
        "      io+=1\n",
        "\n",
        "    elif (af[io+1] - af[io]) / af[io] <= -0.02: #한번에 2%하락하면\n",
        "      Points.append(DP_can)\n",
        "      break;\n",
        "    elif today_profit <= -0.03: #고점 대비 3%하락하면\n",
        "      Points.append(DP_can) # DP on\n",
        "      break;\n",
        "    else:\n",
        "      io+=1\n",
        "  return DP_can+1 # GP, DP 추가후 새로운 기준  \n",
        "\n",
        "\n",
        "\n",
        "if holding: #팔고 사는 데드포인트\n",
        "  point_check()\n",
        "\n",
        "else:#4. 그럼 골든포인트 찾기\n",
        "  GP_can = 0\n",
        "  t = 0\n",
        "  while t < len(af)-1:\n",
        "    \n",
        "    today_profit = (af[t+1] - af[GP_can]) / af[GP_can] # 저점 기준 누적 손익률\n",
        "    if today_profit < 0:\n",
        "      GP_can = t+1 #새로운 저점 = GP 후보\n",
        "      t+=1\n",
        "    elif (af[t+1] - af[t]) / af[t] >= 0.03: #한번에 3% 상승시\n",
        "      Points.append(GP_can)\n",
        "      t = DP_check(GP_can+1)\n",
        "      GP_can = t\n",
        "      \n",
        "    elif today_profit >= 0.05: #고점 대비 5% 상승하면\n",
        "      Points.append(GP_can) #GP on, 매매 순서대로 넣기 \n",
        "      t = DP_check(GP_can+1)\n",
        "      GP_can = t\n",
        "\n",
        "    else:\n",
        "      t+=1\n",
        "\n",
        "#결과 출력\n",
        "from datetime import timedelta\n",
        "buy = 0 #사는게 먼저일떄\n",
        "print('최적 매매 타이밍은 아래와 같습니다.\\n')\n",
        "\n",
        "for i in Points:\n",
        "  v = datetime.date(datetime(int(y), int(m), int(d))) + timedelta(days=i)\n",
        "  p = real_after_pred.astype(int)[i]\n",
        "\n",
        "  if buy == 0: \n",
        "    print('buy: %s -' %v.strftime('%Y-%m-%d'), \"{:,}원\".format(p[0])) #p는 array형식이라 안됨\n",
        "    buy = 1\n",
        "  else:\n",
        "    print('sell: %s -' %v.strftime('%Y-%m-%d'), \"{:,}원\".format(p[0]))\n",
        "    buy = 0\n",
        "    \n"
      ],
      "execution_count": null,
      "outputs": []
    },
    {
      "cell_type": "code",
      "metadata": {
        "id": "H1YlHtZUGIj8"
      },
      "source": [
        "plt.figure(figsize=(5,5))\n",
        "plt.plot(np.arange(0,verif_gap,1), real_verif_price[split_pt+len(test_pred)-verif_gap:], color ='blue',label = 'actual')\n",
        "plt.plot(np.arange(0,len(real_after_pred), 1), real_after_pred, color='red', label='predict')\n",
        "plt.legend()"
      ],
      "execution_count": null,
      "outputs": []
    }
  ]
}